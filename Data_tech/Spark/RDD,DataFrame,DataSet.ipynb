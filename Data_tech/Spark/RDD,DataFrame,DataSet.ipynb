{
  "nbformat": 4,
  "nbformat_minor": 0,
  "metadata": {
    "colab": {
      "provenance": []
    },
    "kernelspec": {
      "name": "python3",
      "display_name": "Python 3"
    },
    "language_info": {
      "name": "python"
    }
  },
  "cells": [
    {
      "cell_type": "markdown",
      "source": [
        "# **RDD / DataFrame / DataSet**"
      ],
      "metadata": {
        "id": "BUT37lVlDzbq"
      }
    },
    {
      "cell_type": "markdown",
      "source": [
        "**RDD**\n",
        "\n",
        "* 탄력적 분산 데이터 세트(resilient distribute datasets)\n",
        "* 레코드의 읽기 전용 파티션 모음\n",
        "* 내결함성 방식(fault-tolerant manner)으로 대규모 클러스터에서 메모리 내 계산.(속도 향상)\n",
        "\n",
        "**데이터 프레임**\n",
        "\n",
        "* RDD와 달리 명명된 열로 구성된 데이터(EX. 관계형 데이터베이스)\n",
        "* 불변 분산 데이터\n",
        "* 분산된 데이터 걸렉션에 구조를 부여해 더 높은 추상화를 허용\n",
        "\n",
        "**데이터 세트[python과 R은 지원하지 않음]**\n",
        "\n",
        "* dataframe api의 확장\n",
        "* type-safe와 객체 지향(object-oriented) 프로그래밍 인터페이스를 제공\n",
        "* 식 및 데이터 필드를 쿼리 플래너에 노출해 spark의 카탈리스트 옵티마이저를 활용\n"
      ],
      "metadata": {
        "id": "fxH_wWV6D5ol"
      }
    },
    {
      "cell_type": "markdown",
      "source": [
        "**Dataframe과 Dataset**"
      ],
      "metadata": {
        "id": "9_fPcwbuD5l5"
      }
    },
    {
      "cell_type": "markdown",
      "source": [
        "**DataFrame**\n",
        "\n",
        "* DataFrame은 set와 비교해 '비타입형'에 속함\n",
        "* 스키마에 명시된 데이터 타입 일치 여부를 런타임에 확인\n",
        "* 각 레코드가 Row타입으로 구성된 Dataset\n",
        "* row타입을 사용하면 JVM데이터 타입이 아닌 자체 데이터 포맷을 사용하므로 GC,객체 초기화에 더 효율적\n",
        "\n",
        "**DataSet**\n",
        "\n",
        "* DataSet는 frame과 비교해 '타입형'에 속함(type-safe)\n",
        "* 스키마에 명시된 데이터 타입 일치 여부를 컴파일타임에 확인\n",
        "* dataset의 데이터 타입을 정의하려면 scala에선 case class를, java에선 JavaBeam을 사용해야함\n",
        "* DataSet는 JVM기반 언어인 Scala와 Java에서만 사용이 가능함"
      ],
      "metadata": {
        "id": "MKBrCbElD5fj"
      }
    }
  ]
}