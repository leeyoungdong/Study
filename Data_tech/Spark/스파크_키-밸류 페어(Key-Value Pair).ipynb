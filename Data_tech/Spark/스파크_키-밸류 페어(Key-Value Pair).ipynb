{
  "nbformat": 4,
  "nbformat_minor": 0,
  "metadata": {
    "colab": {
      "provenance": [],
      "collapsed_sections": []
    },
    "kernelspec": {
      "name": "python3",
      "display_name": "Python 3"
    },
    "language_info": {
      "name": "python"
    }
  },
  "cells": [
    {
      "cell_type": "markdown",
      "source": [
        "# **스파크 colab에 환경 구현**"
      ],
      "metadata": {
        "id": "a_xbGA760V0u"
      }
    },
    {
      "cell_type": "code",
      "execution_count": 1,
      "metadata": {
        "id": "HwEL73ilw7oe"
      },
      "outputs": [],
      "source": [
        "# jdk 툴 설치\n",
        "!apt-get install openjdk-8-jdk-headless -qq > /dev/null\n",
        "# apache spark download - 하둡 버전에 따라 spakr 와 하둡 변경 (밑에 tgz 파일 설치 및 pip install)\n",
        "!wget -q http://archive.apache.org/dist/spark/spark-3.1.1/spark-3.1.1-bin-hadoop3.2.tgz\n",
        "# 명령어로 spark - hadoop 파일 압축 풀기\n",
        "!tar xf spark-3.1.1-bin-hadoop3.2.tgz\n",
        "# spark 설치\n",
        "!pip install -q findspark"
      ]
    },
    {
      "cell_type": "code",
      "source": [
        "import os\n",
        "# spark 환경변수 설정 - java(jdk) ,spark(spark) 2개다 설정해줘야함\n",
        "os.environ[\"JAVA_HOME\"] = \"/usr/lib/jvm/java-8-openjdk-amd64\"\n",
        "os.environ[\"SPARK_HOME\"] = \"/content/spark-3.1.1-bin-hadoop3.2\""
      ],
      "metadata": {
        "id": "wuSEjqETxB5E"
      },
      "execution_count": 2,
      "outputs": []
    },
    {
      "cell_type": "code",
      "source": [
        "#import spark 말고 findspark로 spark파일을 못찾는경우에 빠르게 설치 가능\n",
        "import findspark\n",
        "findspark.init()"
      ],
      "metadata": {
        "id": "tMxcs5cSxXAN"
      },
      "execution_count": 3,
      "outputs": []
    },
    {
      "cell_type": "code",
      "source": [
        "from pyspark.sql import SparkSession\n",
        "spark = SparkSession.builder.master(\"local[*]\").getOrCreate()\n",
        "spark.conf.set(\"spark.sql.repl.eagerEval.enabled\", True) # Property used to format output tables better\n",
        "spark"
      ],
      "metadata": {
        "id": "ovIHdzfFymu7",
        "colab": {
          "base_uri": "https://localhost:8080/",
          "height": 222
        },
        "outputId": "cc149125-115a-449b-81ad-5ebb38c9d7c1"
      },
      "execution_count": 4,
      "outputs": [
        {
          "output_type": "execute_result",
          "data": {
            "text/plain": [
              "<pyspark.sql.session.SparkSession at 0x7f4cb16511d0>"
            ],
            "text/html": [
              "\n",
              "            <div>\n",
              "                <p><b>SparkSession - in-memory</b></p>\n",
              "                \n",
              "        <div>\n",
              "            <p><b>SparkContext</b></p>\n",
              "\n",
              "            <p><a href=\"http://a792698e269d:4040\">Spark UI</a></p>\n",
              "\n",
              "            <dl>\n",
              "              <dt>Version</dt>\n",
              "                <dd><code>v3.1.1</code></dd>\n",
              "              <dt>Master</dt>\n",
              "                <dd><code>local[*]</code></dd>\n",
              "              <dt>AppName</dt>\n",
              "                <dd><code>pyspark-shell</code></dd>\n",
              "            </dl>\n",
              "        </div>\n",
              "        \n",
              "            </div>\n",
              "        "
            ]
          },
          "metadata": {},
          "execution_count": 4
        }
      ]
    },
    {
      "cell_type": "markdown",
      "source": [
        "# **키-밸류 페어(Key-Value Pair) RDD란**"
      ],
      "metadata": {
        "id": "EHbbxWSp1StD"
      }
    },
    {
      "cell_type": "markdown",
      "source": [
        "스트럭쳐(Structured) 데이터를 스파크와 연결하여 사용할 수 있게 해주는 키-밸류 RDD에 대해 알아볼 것이다.\n",
        "\n",
        "이름 그대로 키-밸류 쌍을 갖기 때문에 페어(Pairs) RDD로도 불린다.\n",
        "\n",
        "형태가 NoSQL처럼 생겼기 때문에 간단한 데이터 베이스처럼 다룰 수 있다.\n",
        "\n",
        "싱글 밸류(Sigle Value) RDD는 간단하게 갯수를 세거나 정형 데이터를 다루거나 1차원적인 연산이 가능 했다면, 키-밸류 RDD는 고차원적인 연산이 가능하다.(키를 기준으로 통계를 구하거나, 평균을 구한다는 등)\n",
        "\n",
        "싱글 밸류 RDD: 텍스트에 등장하는 단어 수 세기\n",
        "\n",
        "키-밸류 RDD: 넷플릭스 드라마가 받은 평균 별점"
      ],
      "metadata": {
        "id": "0_aVkSf71Xt7"
      }
    },
    {
      "cell_type": "markdown",
      "source": [
        "**기능**\n",
        "\n",
        "**Reduction**\n",
        "\n",
        "키 값을 기준으로 데이터를 묶어서 처리하거나 데이터를 줄이는데 쓰인다.\n",
        "\n",
        "reduceByKey(): 키값을 기준으로 테스크를 처리한다.\n",
        "\n",
        "groupByKey(): 키값을 기준으로 밸류를 묶는다.\n",
        "\n",
        "sortByKey(): 키값을 기준으로 정렬한다.\n",
        "\n",
        "keys(): 키 값을 추출한다.\n",
        "\n",
        "values(): 밸류 값을 추출한다."
      ],
      "metadata": {
        "id": "VSF6SB4Y1csS"
      }
    },
    {
      "cell_type": "markdown",
      "source": [
        "**Join**\n",
        "데이터 베이스와 많이 닮아있기 때문에 여러개의 RDD를 키 값을 기준으로 붙이는 Join도 가능하다.\n",
        "\n",
        "join\n",
        "\n",
        "rightOuterJoin\n",
        "\n",
        "leftOuterJoin\n",
        "\n",
        "subtractByKey"
      ],
      "metadata": {
        "id": "mSw-NRB4Dt0C"
      }
    },
    {
      "cell_type": "markdown",
      "source": [
        "**Mapping values**\n",
        "\n",
        "키 밸류 데이터에서 키를 바꾸지 않는 경우 map()대신 밸류만 다루는 mapValues() 함수를 써주는 것이 좋다.\n",
        "\n",
        "그 이유는 스파크 내부에서 파티션을 유지할 수 있어 더욱 효율적이기 때문이다.\n",
        "\n",
        "mapValues()\n",
        "\n",
        "flatMapValues()\n",
        "\n",
        "위 함수들은 밸류만 다루는 연산들이지만 RDD에서 키는 유지되기 때문에 더 좋은 성능을 기대할 수 있다."
      ],
      "metadata": {
        "id": "CnUuaiozD0gx"
      }
    },
    {
      "cell_type": "code",
      "source": [
        "from google.colab import files"
      ],
      "metadata": {
        "id": "HJYXBxY5EYDM"
      },
      "execution_count": 4,
      "outputs": []
    },
    {
      "cell_type": "code",
      "source": [
        "files = files.upload()"
      ],
      "metadata": {
        "colab": {
          "base_uri": "https://localhost:8080/",
          "height": 77
        },
        "id": "dimhQZa1FFdc",
        "outputId": "6d5a08c8-f6a2-41e1-e96e-7dca16be713e"
      },
      "execution_count": 5,
      "outputs": [
        {
          "output_type": "display_data",
          "data": {
            "text/plain": [
              "<IPython.core.display.HTML object>"
            ],
            "text/html": [
              "\n",
              "     <input type=\"file\" id=\"files-5b8a85fc-d737-42e5-8966-ca5f7d6e42a7\" name=\"files[]\" multiple disabled\n",
              "        style=\"border:none\" />\n",
              "     <output id=\"result-5b8a85fc-d737-42e5-8966-ca5f7d6e42a7\">\n",
              "      Upload widget is only available when the cell has been executed in the\n",
              "      current browser session. Please rerun this cell to enable.\n",
              "      </output>\n",
              "      <script>// Copyright 2017 Google LLC\n",
              "//\n",
              "// Licensed under the Apache License, Version 2.0 (the \"License\");\n",
              "// you may not use this file except in compliance with the License.\n",
              "// You may obtain a copy of the License at\n",
              "//\n",
              "//      http://www.apache.org/licenses/LICENSE-2.0\n",
              "//\n",
              "// Unless required by applicable law or agreed to in writing, software\n",
              "// distributed under the License is distributed on an \"AS IS\" BASIS,\n",
              "// WITHOUT WARRANTIES OR CONDITIONS OF ANY KIND, either express or implied.\n",
              "// See the License for the specific language governing permissions and\n",
              "// limitations under the License.\n",
              "\n",
              "/**\n",
              " * @fileoverview Helpers for google.colab Python module.\n",
              " */\n",
              "(function(scope) {\n",
              "function span(text, styleAttributes = {}) {\n",
              "  const element = document.createElement('span');\n",
              "  element.textContent = text;\n",
              "  for (const key of Object.keys(styleAttributes)) {\n",
              "    element.style[key] = styleAttributes[key];\n",
              "  }\n",
              "  return element;\n",
              "}\n",
              "\n",
              "// Max number of bytes which will be uploaded at a time.\n",
              "const MAX_PAYLOAD_SIZE = 100 * 1024;\n",
              "\n",
              "function _uploadFiles(inputId, outputId) {\n",
              "  const steps = uploadFilesStep(inputId, outputId);\n",
              "  const outputElement = document.getElementById(outputId);\n",
              "  // Cache steps on the outputElement to make it available for the next call\n",
              "  // to uploadFilesContinue from Python.\n",
              "  outputElement.steps = steps;\n",
              "\n",
              "  return _uploadFilesContinue(outputId);\n",
              "}\n",
              "\n",
              "// This is roughly an async generator (not supported in the browser yet),\n",
              "// where there are multiple asynchronous steps and the Python side is going\n",
              "// to poll for completion of each step.\n",
              "// This uses a Promise to block the python side on completion of each step,\n",
              "// then passes the result of the previous step as the input to the next step.\n",
              "function _uploadFilesContinue(outputId) {\n",
              "  const outputElement = document.getElementById(outputId);\n",
              "  const steps = outputElement.steps;\n",
              "\n",
              "  const next = steps.next(outputElement.lastPromiseValue);\n",
              "  return Promise.resolve(next.value.promise).then((value) => {\n",
              "    // Cache the last promise value to make it available to the next\n",
              "    // step of the generator.\n",
              "    outputElement.lastPromiseValue = value;\n",
              "    return next.value.response;\n",
              "  });\n",
              "}\n",
              "\n",
              "/**\n",
              " * Generator function which is called between each async step of the upload\n",
              " * process.\n",
              " * @param {string} inputId Element ID of the input file picker element.\n",
              " * @param {string} outputId Element ID of the output display.\n",
              " * @return {!Iterable<!Object>} Iterable of next steps.\n",
              " */\n",
              "function* uploadFilesStep(inputId, outputId) {\n",
              "  const inputElement = document.getElementById(inputId);\n",
              "  inputElement.disabled = false;\n",
              "\n",
              "  const outputElement = document.getElementById(outputId);\n",
              "  outputElement.innerHTML = '';\n",
              "\n",
              "  const pickedPromise = new Promise((resolve) => {\n",
              "    inputElement.addEventListener('change', (e) => {\n",
              "      resolve(e.target.files);\n",
              "    });\n",
              "  });\n",
              "\n",
              "  const cancel = document.createElement('button');\n",
              "  inputElement.parentElement.appendChild(cancel);\n",
              "  cancel.textContent = 'Cancel upload';\n",
              "  const cancelPromise = new Promise((resolve) => {\n",
              "    cancel.onclick = () => {\n",
              "      resolve(null);\n",
              "    };\n",
              "  });\n",
              "\n",
              "  // Wait for the user to pick the files.\n",
              "  const files = yield {\n",
              "    promise: Promise.race([pickedPromise, cancelPromise]),\n",
              "    response: {\n",
              "      action: 'starting',\n",
              "    }\n",
              "  };\n",
              "\n",
              "  cancel.remove();\n",
              "\n",
              "  // Disable the input element since further picks are not allowed.\n",
              "  inputElement.disabled = true;\n",
              "\n",
              "  if (!files) {\n",
              "    return {\n",
              "      response: {\n",
              "        action: 'complete',\n",
              "      }\n",
              "    };\n",
              "  }\n",
              "\n",
              "  for (const file of files) {\n",
              "    const li = document.createElement('li');\n",
              "    li.append(span(file.name, {fontWeight: 'bold'}));\n",
              "    li.append(span(\n",
              "        `(${file.type || 'n/a'}) - ${file.size} bytes, ` +\n",
              "        `last modified: ${\n",
              "            file.lastModifiedDate ? file.lastModifiedDate.toLocaleDateString() :\n",
              "                                    'n/a'} - `));\n",
              "    const percent = span('0% done');\n",
              "    li.appendChild(percent);\n",
              "\n",
              "    outputElement.appendChild(li);\n",
              "\n",
              "    const fileDataPromise = new Promise((resolve) => {\n",
              "      const reader = new FileReader();\n",
              "      reader.onload = (e) => {\n",
              "        resolve(e.target.result);\n",
              "      };\n",
              "      reader.readAsArrayBuffer(file);\n",
              "    });\n",
              "    // Wait for the data to be ready.\n",
              "    let fileData = yield {\n",
              "      promise: fileDataPromise,\n",
              "      response: {\n",
              "        action: 'continue',\n",
              "      }\n",
              "    };\n",
              "\n",
              "    // Use a chunked sending to avoid message size limits. See b/62115660.\n",
              "    let position = 0;\n",
              "    do {\n",
              "      const length = Math.min(fileData.byteLength - position, MAX_PAYLOAD_SIZE);\n",
              "      const chunk = new Uint8Array(fileData, position, length);\n",
              "      position += length;\n",
              "\n",
              "      const base64 = btoa(String.fromCharCode.apply(null, chunk));\n",
              "      yield {\n",
              "        response: {\n",
              "          action: 'append',\n",
              "          file: file.name,\n",
              "          data: base64,\n",
              "        },\n",
              "      };\n",
              "\n",
              "      let percentDone = fileData.byteLength === 0 ?\n",
              "          100 :\n",
              "          Math.round((position / fileData.byteLength) * 100);\n",
              "      percent.textContent = `${percentDone}% done`;\n",
              "\n",
              "    } while (position < fileData.byteLength);\n",
              "  }\n",
              "\n",
              "  // All done.\n",
              "  yield {\n",
              "    response: {\n",
              "      action: 'complete',\n",
              "    }\n",
              "  };\n",
              "}\n",
              "\n",
              "scope.google = scope.google || {};\n",
              "scope.google.colab = scope.google.colab || {};\n",
              "scope.google.colab._files = {\n",
              "  _uploadFiles,\n",
              "  _uploadFilesContinue,\n",
              "};\n",
              "})(self);\n",
              "</script> "
            ]
          },
          "metadata": {}
        },
        {
          "output_type": "stream",
          "name": "stdout",
          "text": [
            "Saving res.csv to res (1).csv\n"
          ]
        }
      ]
    },
    {
      "cell_type": "code",
      "source": [
        "from pyspark import SparkConf, SparkContext\n",
        "\n",
        "\n",
        "conf = SparkConf().setMaster(\"local\").setAppName(\"category-review-average\") # 로컬 환경과 앱 이름 지정\n",
        "sc = SparkContext(conf=conf) # 컨텍스트 초기화\n"
      ],
      "metadata": {
        "id": "RD0IhZwcFrG0"
      },
      "execution_count": 6,
      "outputs": []
    },
    {
      "cell_type": "code",
      "source": [
        "lines = sc.textFile(\"res.csv\")\n",
        "lines.collect() # 간단한 액션"
      ],
      "metadata": {
        "colab": {
          "base_uri": "https://localhost:8080/"
        },
        "id": "RrcWcwFMGirC",
        "outputId": "cb4ddf77-5270-4256-b4ba-0c879bc75708"
      },
      "execution_count": 7,
      "outputs": [
        {
          "output_type": "execute_result",
          "data": {
            "text/plain": [
              "['id,item,category,reviews',\n",
              " '0,짜장면,중식,125',\n",
              " '1,짬뽕,중식,235',\n",
              " '2,김밥,분식,32',\n",
              " '3,떡볶이,분식,534',\n",
              " '4,라멘,일식,223',\n",
              " '5,돈가스,일식,52',\n",
              " '6,우동,일식,12',\n",
              " '7,쌀국수,아시안,312',\n",
              " '8,햄버거,패스트푸드,12',\n",
              " '9,치킨,패스트푸드,23']"
            ]
          },
          "metadata": {},
          "execution_count": 7
        }
      ]
    },
    {
      "cell_type": "code",
      "source": [
        "header = lines.first() # 헤더 추출\n",
        "filtered_lines = lines.filter(lambda row: row != header)\n",
        "filtered_lines.collect()"
      ],
      "metadata": {
        "colab": {
          "base_uri": "https://localhost:8080/"
        },
        "id": "KqFsHVtsGlg-",
        "outputId": "c61aadb2-424e-449d-b284-6619f3dcb502"
      },
      "execution_count": 8,
      "outputs": [
        {
          "output_type": "execute_result",
          "data": {
            "text/plain": [
              "['0,짜장면,중식,125',\n",
              " '1,짬뽕,중식,235',\n",
              " '2,김밥,분식,32',\n",
              " '3,떡볶이,분식,534',\n",
              " '4,라멘,일식,223',\n",
              " '5,돈가스,일식,52',\n",
              " '6,우동,일식,12',\n",
              " '7,쌀국수,아시안,312',\n",
              " '8,햄버거,패스트푸드,12',\n",
              " '9,치킨,패스트푸드,23']"
            ]
          },
          "metadata": {},
          "execution_count": 8
        }
      ]
    },
    {
      "cell_type": "code",
      "source": [
        "def parse(row): # 카테고리와 리뷰 수 만을 파싱하는 함수\n",
        "    fields = row.split(\",\")\n",
        "    category = fields[2]\n",
        "    reviews = int(fields[3])\n",
        "    return (category, reviews) # KV RDD를 위해 튜플 형태로 두가지 리턴\n",
        "\n",
        "category_reviews = filtered_lines.map(parse) # KV RDD 생성\n",
        "category_reviews.collect()"
      ],
      "metadata": {
        "colab": {
          "base_uri": "https://localhost:8080/"
        },
        "id": "l87ev47HGnas",
        "outputId": "dd4f8220-c667-4286-ceab-cc3f17494316"
      },
      "execution_count": 9,
      "outputs": [
        {
          "output_type": "execute_result",
          "data": {
            "text/plain": [
              "[('중식', 125),\n",
              " ('중식', 235),\n",
              " ('분식', 32),\n",
              " ('분식', 534),\n",
              " ('일식', 223),\n",
              " ('일식', 52),\n",
              " ('일식', 12),\n",
              " ('아시안', 312),\n",
              " ('패스트푸드', 12),\n",
              " ('패스트푸드', 23)]"
            ]
          },
          "metadata": {},
          "execution_count": 9
        }
      ]
    },
    {
      "cell_type": "code",
      "source": [
        "category_reviews_count = category_reviews.mapValues(lambda x: (x, 1)) # 각 카테고리마다 값 하나를 추가\n",
        "category_reviews_count.collect()"
      ],
      "metadata": {
        "colab": {
          "base_uri": "https://localhost:8080/"
        },
        "id": "kxgIZT7pGzCE",
        "outputId": "4e92808f-768e-4c21-e4db-881a93a956dc"
      },
      "execution_count": 10,
      "outputs": [
        {
          "output_type": "execute_result",
          "data": {
            "text/plain": [
              "[('중식', (125, 1)),\n",
              " ('중식', (235, 1)),\n",
              " ('분식', (32, 1)),\n",
              " ('분식', (534, 1)),\n",
              " ('일식', (223, 1)),\n",
              " ('일식', (52, 1)),\n",
              " ('일식', (12, 1)),\n",
              " ('아시안', (312, 1)),\n",
              " ('패스트푸드', (12, 1)),\n",
              " ('패스트푸드', (23, 1))]"
            ]
          },
          "metadata": {},
          "execution_count": 10
        }
      ]
    },
    {
      "cell_type": "code",
      "source": [
        "reduced = category_reviews_count.reduceByKey(lambda x, y: (x[0] + y[0], x[1] + y[1])) # 카테고리의 수와 리뷰 수의 총 합\n",
        "reduced.collect()"
      ],
      "metadata": {
        "colab": {
          "base_uri": "https://localhost:8080/"
        },
        "id": "Y7p1kZ32GzwT",
        "outputId": "15fe2626-0c10-49e2-b74f-87c8f7f336ae"
      },
      "execution_count": 11,
      "outputs": [
        {
          "output_type": "execute_result",
          "data": {
            "text/plain": [
              "[('중식', (360, 2)),\n",
              " ('분식', (566, 2)),\n",
              " ('일식', (287, 3)),\n",
              " ('아시안', (312, 1)),\n",
              " ('패스트푸드', (35, 2))]"
            ]
          },
          "metadata": {},
          "execution_count": 11
        }
      ]
    },
    {
      "cell_type": "code",
      "source": [
        "averages = reduced.mapValues(lambda x: x[0] / x[1]) # 평균\n",
        "averages.collect()"
      ],
      "metadata": {
        "id": "ZVNjMkVSG2Z0",
        "outputId": "74ba41a1-da70-4bcb-81d2-38078ce1755a",
        "colab": {
          "base_uri": "https://localhost:8080/"
        }
      },
      "execution_count": 12,
      "outputs": [
        {
          "output_type": "execute_result",
          "data": {
            "text/plain": [
              "[('중식', 180.0),\n",
              " ('분식', 283.0),\n",
              " ('일식', 95.66666666666667),\n",
              " ('아시안', 312.0),\n",
              " ('패스트푸드', 17.5)]"
            ]
          },
          "metadata": {},
          "execution_count": 12
        }
      ]
    }
  ]
}