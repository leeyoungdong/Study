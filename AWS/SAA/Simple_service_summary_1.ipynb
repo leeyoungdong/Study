{
  "nbformat": 4,
  "nbformat_minor": 0,
  "metadata": {
    "colab": {
      "provenance": []
    },
    "kernelspec": {
      "name": "python3",
      "display_name": "Python 3"
    },
    "language_info": {
      "name": "python"
    }
  },
  "cells": [
    {
      "cell_type": "markdown",
      "source": [
        "# **컴퓨팅**"
      ],
      "metadata": {
        "id": "ol2uixfIlo-a"
      }
    },
    {
      "cell_type": "markdown",
      "source": [
        "**EC2 (Elastic Compute)**\n",
        "- 가상의 컴퓨터(서버)를 할당받아 사용할 수 있는 서비스로 클라우드 환경에서는 서버를 인스턴스라함.\n",
        " - 리저브드 - 약정 개념으로 할인 받아 사용하는 인스턴스\n",
        " - 온디맨드 - 필요 시 대여하여 사용하는 인스턴스\n",
        " - 스팟 - 최대 90% 할인된 금액으로 제공되는 경매형 인스턴스\n",
        "- AWS Auto Scaling - 필요에 따라 EC2의 규모가 자동으로 조절되는 서비스\n",
        "\n",
        "**AWS Lambda**\n",
        "\n",
        "- 서버 없이도 코드를 실행할 수 있게 해주는 서비스. 스케줄 등의 트리거를 이용하여 코드를 실행\n",
        "\n",
        "**AWS Batch**\n",
        "\n",
        "- 수많은 배치 컴퓨팅 작업을 효율적으로 손쉽게 실행할 수 있게 해주는 서비스로 배치용 클러스터를 따로 구축하거나 관리할 필요 없이 Pegasus WMS, Cromwell, Luigi 같은 주요 워크플로우 엔진을 지원하는 인스턴스가 동적으로 할당되고 실행.\n",
        "\n",
        "**AWS Lightsail**\n",
        "- 작은 비용으로 시작할 수 있는 가상서버(VPS) 서비스로 카페24 웹호스팅과 유사."
      ],
      "metadata": {
        "id": "LsAZRBc7lo8R"
      }
    },
    {
      "cell_type": "markdown",
      "source": [
        "# **컨테이너**"
      ],
      "metadata": {
        "id": "kFaCUV2ulo6K"
      }
    },
    {
      "cell_type": "markdown",
      "source": [
        "컨테이너란 개별 소프트웨어를 실행하는 데 필요한 실행 환경을 패키징(캡슐화)하여 격리된 공간에서 프로세스를 동작시키는 기술로, 컨테이너가 물리적 서버의 환경을 타지 않기 때문에 배포가 훨씬 수월.\n",
        "\n",
        "**ECR (Elastic Container Registry)**\n",
        "\n",
        "- Docker 컨테이너 이미지를 손쉽게 저장, 관리 및 배포할 수 있게 해주는 완전 관리형 Docker 컨테이너 레지스트리\n",
        "\n",
        "**ECS (Elastic Container Service)**\n",
        "\n",
        "- Docker 컨테이너를 손쉽게 실행, 중단 및 관리할 수 있게 해주는 고도로 확장 가능하고 빠른 컨테이너 관리 서비스\n",
        "\n",
        "**EKS (Elastic Kubernetes Service)**\n",
        "\n",
        "- Kubernetes 클러스터를 설치 및 운영할 필요 없이 AWS에서 Kubernetes를 쉽게 실행할 수 있도록 해주는 관리형 서비스\n",
        "\n",
        "**AWS Fargate**\n",
        "- 컨테이너에 적합한 서버리스 컴퓨팅 엔진으로 ECS 또는 EKS와 연동하여 사용할 수 있는 서비스. 기존에는 EC2 기반의 인스턴스에서 컨테이너를 실행했지만, Fargate를 사용하면 인스턴스 없이 컨테이너를 바로 실행할 수 있다.\n",
        "\n",
        "**AWS App2Container (A2C)**\n",
        "\n",
        "- 사내 데이터 센터 또는 가상 시스템에서 실행되는 애플리케이션을 리프트&쉬프트 방식으로 ECS 또는 EKS에서 관리하는 컨테이너에서 실행할 수 있도록 지원하는 커맨드라인 도구\n",
        "\n",
        "**AWS App Runner**\n",
        "\n",
        "- 컨테이너나 인프라 경험이 없어도 몇 번의 클릭으로 컨테이너식 웹 애플리케이션 및 API를 구축, 배포, 실행할 수 있도록 지원하는 완전 관리형 컨테이너 애플리케이션 서비스\n",
        "\n",
        "**AWS Copilot**\n",
        "- AWS 상의 컨테이너화된 애플리케이션을 빠르고 쉽게 시작 및 관리할 수 있는 명령줄 인터페이스\n"
      ],
      "metadata": {
        "id": "Ndoigkrplo33"
      }
    },
    {
      "cell_type": "markdown",
      "source": [
        "# **네트워크**"
      ],
      "metadata": {
        "id": "iw0HZs37lo1v"
      }
    },
    {
      "cell_type": "markdown",
      "source": [
        "**VPC (Virtual Private Cloud)**\n",
        "\n",
        "- 사용자의 AWS 계정 전용 가상(사설) 네트워크\n",
        "  - 서브넷 - VPC의 IP 주소 범위\n",
        "  - 라우팅 테이블 - 네트워크 트래픽을 전달할 위치가 기록된 테이블\n",
        "  - 인터넷 게이트웨이 - VPC의 리소스와 인터넷 간의 통신을 활성화하기 위해 VPC에 연결하는 게이트웨이\n",
        "  - VPC 엔드포인트 - EC2 인스턴스를 퍼블릭으로 노출하지 않고 VPC 외부(의 AWS) 서비스와 프라이빗하게 연결하기 위해서 사용. 즉 IGW, VPN, NAT, 프록시 등 사용할 필요가 없다.\n",
        "\n",
        "**Route 53**\n",
        "\n",
        "- DNS 서비스.\n",
        "\n",
        "**ELB (Elastic Load Balancing)**\n",
        "\n",
        "- 로드 밸런싱 서비스.\n",
        "  - ALB application LB\n",
        "  - NLB network\n",
        "  - CLB classic\n",
        "\n",
        "**AWS PrivateLink**\n",
        "\n",
        "- 퍼블릭 인터넷에 트래픽을 노출하지 않고도 VPC, AWS 서비스 및 온프레미스 네트워크 간에 안전한 비공개 연결을 제공하는 서비스로 PrivateLink를 사용하려면 VPC 내 연결하고자 하는 서비스에 대한 엔드포인트를 생성해야 한다.\n",
        "\n",
        "**Amazon API Gateway**\n",
        "\n",
        "- 개발자가 API를 손쉽게 생성, 게시, 유지 관리, 모니터링 및 보안 유지할 수 있도록 하는 완전 관리형 서비스. ELB로 대체할 수 있지만 관리할 것이 많아진다.\n",
        "\n",
        "**AWS Transit Gateway**\n",
        "\n",
        "- 중앙 허브를 통해 여러 VPC 및 온프레미스 네트워크를 연결해주는 서비스로 VPC 피어링의 복잡도를 해결할 수 있다.\n",
        "\n",
        "**Storage Gateway**\n",
        "- AWS의 스토리지와 로컬 스토리지를 연동해주는 서비스로 로컬에 있는 DAS, NAS, SAN 등의 장비와 S3를 연동해서 메인 데이터는 S3에 두고 접근빈도가 높은 데이터는 로컬 스토리지에 캐싱하거나, 모든 데이터는 로컬 스토리지에 두고 일정 시간에 따라 주기적으로 데이터의 스냅샷을 S3에 저장하는 등의 서비스를 구축할 수 있다.\n",
        "\n",
        "**DirectConnect (DX)**\n",
        "\n",
        "- 온프레미스와 AWS 간의 전용 네트워크 연결을 쉽게 설정할 수 있게 해주는 서비스\n",
        "\n",
        "**Direct Connect Gateway (DXGW, DGW)**\n",
        "\n",
        "- Direct Connect 고객이 AWS 리전에 있는 여러 VPC를 Direct Connect에 연결할 수 있도록 지원하는 서비스\n",
        "\n",
        "**CloudFront**\n",
        "\n",
        "- CDN 서비스로 EC2나 S3 같은 서비스에서 사용 시 콘텐츠 전송 속도를 높일 수 있는 서비스\n",
        "\n",
        "**AWS Global Accelerator (AGA)**\n",
        "\n",
        "- AWS의 글로벌 네트워크 인프라를 사용하여 사용자 트래픽의 성능을 최대 60% 개선하는 네트워킹 서비스\n",
        "\n",
        "**AWS Snow 패밀리**\n",
        "\n",
        "- 인터넷 연결이 열악한 엣지 환경에서도 데이터를 수집 및 처리할 수 있는 매우 안전한 휴대용 디바이스. Snowcone, Snowball, Snowmobile 등을 제공."
      ],
      "metadata": {
        "id": "6PeWBIB6lozd"
      }
    },
    {
      "cell_type": "markdown",
      "source": [
        "# **마이그레이션 및 전송**"
      ],
      "metadata": {
        "id": "6wYhuTnDloxN"
      }
    },
    {
      "cell_type": "markdown",
      "source": [
        "**AWS Application Migration Service (CloudEndure Migration, MGN)**\n",
        "\n",
        "- 자동화된 리프트 및 시프트 마이그레이션을 지원하는 서비스\n",
        "\n",
        "**AWS Database Migration Service (DMS)**\n",
        "\n",
        "- 최소한의 가동 중단으로 데이터베이스 마이그레이션을 지원하는 서비스\n",
        "\n",
        "**AWS Server Migration Service (SMS)**\n",
        "\n",
        "- 온프레미스 서버를 AWS로 마이그레이션할 수 있는 서비스\n",
        "\n",
        "**AWS Migration Hub**\n",
        "\n",
        "- 마이그레이션의 진행 상황을 중앙에서 추적하는 서비스\n",
        "\n",
        "**AWS Transfer Family**\n",
        "\n",
        "- Amazon S3 또는 Amazon EFS에서 파일을 직접 송수신할 수 있는 완전관리형 전송 서비스로 FTP, FTPS, SFTP 지원.\n",
        "\n",
        "**AWS DataSync**\n",
        "\n",
        "- 온프레미스 스토리지와 AWS 스토리지 간, 그리고 여러 AWS 스토리지 서비스 간의 데이터 이동을 간소화, 자동화 및 가속화하는 온라인 데이터 전송 서비스로 DirectConnect와 함께 사용할 수 있다.\n",
        "\n",
        "**Application Discovery Service**\n",
        "\n",
        "- 엔터프라이즈 고객이 온프레미스 데이터 센터에 대한 정보를 수집하여 마이그레이션 프로젝트를 계획하는 데 도움이 되는 서비스\n",
        "\n",
        "**AWS Schema Conversion Tool (AWS SCT)**\n",
        "\n",
        "- 기존 데이터베이스 스키마를 한 데이터베이스 엔진에서 다른 데이터베이스 엔진으로 변환해주는 서비스. 변환된 스키마는 Amazon EC2 인스턴스에서 데이터베이스와 함께 사용하거나 Amazon S3 버킷에 데이터로 저장할 수 있다."
      ],
      "metadata": {
        "id": "Mz-1ynTxloun"
      }
    }
  ]
}