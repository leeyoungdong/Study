{
  "nbformat": 4,
  "nbformat_minor": 0,
  "metadata": {
    "colab": {
      "provenance": []
    },
    "kernelspec": {
      "name": "python3",
      "display_name": "Python 3"
    },
    "language_info": {
      "name": "python"
    }
  },
  "cells": [
    {
      "cell_type": "markdown",
      "source": [
        "# **AWS Config**"
      ],
      "metadata": {
        "id": "PzIZ7JmGu1rt"
      }
    },
    {
      "cell_type": "markdown",
      "source": [
        "AWS 리소스 인벤토리, 구성 기록, 구성 변경 알림을 제공하여 보안 및 거버넌스를 실현하는 완벽한 관리형 서비스.\n",
        "\n",
        "AWS Config를 통해 기존 AWS 리소스를 찾을 수 있고, 모든 세부 구성 정보가 포함된 AWS 리소스의 완전한 인벤토리를 내보낼 수 있으며, 특정 시점에 따른 리소스의 구성 방법을 정할 수 있다. 이러한 기능을 바탕으로 규정 준수 감사, 보안 분석, 리소스 변경 추적, 문제 해결을 수행할 수 있다.\n",
        "\n",
        "AWS Config를 사용하면 리소스 구성 기록에 액세스할 수 있다. 구성 변경을 일으킨 AWS CloudTrail 이벤트와 구성 변경 사항을 연결할 수 있다.\n",
        "\n",
        " 이 정보를 통해 ‘변경한 사용자’, ‘변경한 IP 주소’ 등의 세부 정보에서 AWS 리소스와 관련 리소스에 대한 변경 결과에 이르기까지 전체적으로 파악할 수 있다. 이 정보를 사용하여 시간 경과에 따라 감사 및 규정 준수 평가에 도움이 되는 보고서를 생성할 수 있다.\n",
        "\n",
        "\n",
        "keyword - 감사 , 검토 , 변경이 없는지 확인\n",
        "\n",
        "\n",
        "Config 규칙\n",
        "\n",
        "특정 조건을 충족하는 이벤트가 발생하면 알림이나 Lambda 함수를 실행한다.\n",
        "\n"
      ],
      "metadata": {
        "id": "ZJVg7nD0u1qM"
      }
    },
    {
      "cell_type": "markdown",
      "source": [
        "# **Amazon S3 server access logging**\n",
        "\n"
      ],
      "metadata": {
        "id": "b7DclASyu1ny"
      }
    },
    {
      "cell_type": "markdown",
      "source": [
        "Amazon S3 버킷에 수행된 요청에 대한 상세 레코드를 제공한다. 서버 액세스 로그는 많은 애플리케이션에 있어 유용하다.\n",
        "\n",
        "예를 들어 액세스 로그 정보는 보안 및 액세스 감사에 유용할 수 있다. 또한 고객 기반을 이해하고 Amazon S3 청구 비용을 파악할 수 있다.\n",
        "\n"
      ],
      "metadata": {
        "id": "uM9KiT04u1le"
      }
    },
    {
      "cell_type": "markdown",
      "source": [
        "# **AWS Single Sign-On (AWS SSO) = AWS IAM Identity Center**"
      ],
      "metadata": {
        "id": "2RQHCS-Ku1jK"
      }
    },
    {
      "cell_type": "markdown",
      "source": [
        "직원 사용자를 한 번 생성하거나 연결하고 여러 AWS 계정 및 애플리케이션에 대한 직원 사용자 액세스를 중앙에서 관리한다.\n",
        "\n",
        "IAM Identity Center에서 직접 사용자 아이덴티티를 생성하거나 Microsoft Active Directory 및 Okta Universal Directory 또는 Azure AD와\n",
        "\n",
        "같은 표준 기반의 ID 제공업체를 비롯하여 기존의 아이덴티티 소스를 연결할 수 있다.\n",
        "\n"
      ],
      "metadata": {
        "id": "mbWZAFVIu1gy"
      }
    },
    {
      "cell_type": "markdown",
      "source": [
        "# **identity provider (IdP) 자격 증명 공급자**"
      ],
      "metadata": {
        "id": "9JxbvDHLu1eS"
      }
    },
    {
      "cell_type": "markdown",
      "source": [
        "자격 증명 공급자(IdP)를 사용하면 AWS 외부의 사용자 자격 증명을 관리할 수 있고 이 외부 사용자 자격 증명에 계정의 AWS 리소스에 대한 사용 권한을 부여할 수 있다. 기업 사용자 디렉터리처럼 조직 내에 이미 고유의 자격 증명 시스템이 있다면 이 방법이 유용하다.\n",
        "\n",
        "그 밖에 AWS 리소스에 액세스해야 하는 모바일 앱이나 웹 애플리케이션을 개발할 때도 효과적이다."
      ],
      "metadata": {
        "id": "WGjbUal3u1X6"
      }
    },
    {
      "cell_type": "markdown",
      "source": [
        "# **Amazon AppFlow**"
      ],
      "metadata": {
        "id": "66uD8QTewvn8"
      }
    },
    {
      "cell_type": "markdown",
      "source": [
        "Amazon AppFlow는 클릭 몇 번으로 Salesforce, SAP, Zendesk, Slack 및 ServiceNow와 같은 서비스형 소프트웨어(SaaS) 애플리케이션과 Amazon S3 및 Amazon Redshift와 같은 AWS 서비스 간에 데이터를 안전하게 전송할 수 있게 해 주는 완전관리형 통합 서비스이다.\n",
        "\n",
        "\n",
        "\n",
        "Amazon AppFlow 기능\n",
        "\n",
        "- AppFlow를 사용하면 엔터프라이즈급 규모에 원하는 빈도로 즉 일정에 따라, 비즈니스 이벤트에 대한 응답으로 또는 온디맨드로 데이터 플로우를 실행할 수 있다.\n",
        "\n",
        "- 필터링 및 검증과 같은 데이터 변환 기능을 구성하여 추가 단계 없이 플로우 자체의 일부로 바로 사용 가능한 풍부한 데이터를 생성할 수 있다.\n",
        "\n",
        "- AppFlow는 이동 중의 데이터를 자동으로 암호화하며 사용자가 AWS PrivateLink와 통합된 SaaS 애플리케이션을 위해 퍼블릭 인터넷상의 데이터 플로우를 제한할 수 있게 해 주므로 보안 위협에 대한 노출이 감소시킬 수 있다.\n",
        "\n",
        "\n",
        "\n",
        "keyword - SaaS"
      ],
      "metadata": {
        "id": "hHfLO0YAwvkY"
      }
    },
    {
      "cell_type": "markdown",
      "source": [
        "# **AWS Systems Manager**"
      ],
      "metadata": {
        "id": "fwXG6PQzwviK"
      }
    },
    {
      "cell_type": "markdown",
      "source": [
        "대규모 인프라 관리 작업을 단순화할 수 있는 플랫폼 서비스.\n",
        "\n",
        "keyword - 데이터베이스 암호 자동 교체\n",
        "\n",
        "<br>\n",
        "\n",
        "**​AWS Systems Manager Run Command**\n",
        "\n",
        "AWS Systems Manager의 기능인 Run Command를 사용하여 관리형 노드의 구성을 원격으로 안전하게 관리할 수 있다.\n",
        "\n",
        "Run Command를 사용하면 일반적인 관리 태스크를 자동화하고 대규모로 일회성 구성 변경을 수행할 수 있다. AWS Management Console, AWS Command Line Interface(AWS CLI), AWS Tools for Windows PowerShell 또는 AWS SDK에서 Run Command를 사용할 수 있다."
      ],
      "metadata": {
        "id": "q8vez880xNOe"
      }
    }
  ]
}