{
  "nbformat": 4,
  "nbformat_minor": 0,
  "metadata": {
    "colab": {
      "provenance": []
    },
    "kernelspec": {
      "name": "python3",
      "display_name": "Python 3"
    },
    "language_info": {
      "name": "python"
    }
  },
  "cells": [
    {
      "cell_type": "markdown",
      "source": [
        "# **AWS Certificate Manager(ACM)**"
      ],
      "metadata": {
        "id": "Cngk134lxgRU"
      }
    },
    {
      "cell_type": "markdown",
      "source": [
        "AmazonCertificate Manager는 Amazon Web Services 서비스 및 내부 연결된 리소스에 사용할 공개 SSL/TLS(Secure Sockets Layer/Transport Layer Security) 인증서를 쉽게 프로비저닝, 관리 및 배포할 수 있는 서비스.\n",
        "\n",
        "\n",
        "\n",
        "Amazon Certificate Manager(ACM)의 기능\n",
        "\n",
        "- SSL/TLS 인증서는 네트워크 통신을 보호하고 인터넷과 사설 네트워크의 리소스를 통해 웹사이트의 ID를 설정하는 데 사용.\n",
        "\n",
        "- SSL/TLS 인증서를 구매, 업로드 및 갱신하는 시간 소모적인 수동 프로세스를 제거\n",
        "\n",
        "- 인증서를 신속하게 요청하고 Elastic Load Balancer 및 API Gateway의 API와 같은 Amazon Web Services 리소스에 배포하고 Amazon Certificate Manager가 인증서 갱신을 처리\n",
        "\n",
        "<br>\n",
        "\n",
        "**SSL/TLS 인증서**\n",
        "\n",
        ": SSL/TLS 인증서를 사용하면 웹 브라우저가 SSL/TLS(Secure Sockets Layer/Transport Layer Security) 프로토콜을 사용하여 웹 사이트에\n",
        "\n",
        "  대한 암호화된 네트워크 연결을 식별하고 설정할 수 있다.\n",
        "\n",
        "\n",
        "\n",
        "keyword - SSL/TLS인증서 자동 교체 (외부 SSL/TLS인증서는 수동 교체)"
      ],
      "metadata": {
        "id": "wtQq2b8TxgPC"
      }
    },
    {
      "cell_type": "markdown",
      "source": [
        "# **네트워크 ACL (네트워크 액세스 제어 목록)**\n",
        "\n"
      ],
      "metadata": {
        "id": "GzEbU4GlxgNA"
      }
    },
    {
      "cell_type": "markdown",
      "source": [
        "서브넷 수준에서 특정 인바운드 또는 아웃바운드 트래픽을 허용하거나 거부한다. VPC에 대한 기본 네트워크 ACL을 사용하거나 보안 그룹에 대한 규칙과 유사한 규칙을 사용하여 VPC에 대한 사용자 지정 네트워크 ACL을 생성하여 VPC에 보안 계층을 추가할 수 있다.\n",
        "\n"
      ],
      "metadata": {
        "id": "cKT451mRxgKy"
      }
    },
    {
      "cell_type": "markdown",
      "source": [
        "# **Amazon Textract**\n",
        "\n"
      ],
      "metadata": {
        "id": "VzAEJ2EgxgIb"
      }
    },
    {
      "cell_type": "markdown",
      "source": [
        "스캔한 문서에서 텍스트, 필기 및 데이터를 자동으로 추출하는 기계 학습(ML) 서비스.\n",
        "\n",
        "단순한 광학 문자 인식(OCR) 이상으로 양식 및 표의 데이터를 식별하고 이해하며 추출한다\n",
        "\n",
        "<br>\n",
        "\n",
        "**Amazon Comprehend Medical**\n",
        "\n",
        "기계 학습을 사용하여 구조화되지 않은 텍스트에서 관련 의료 정보를 쉽게 추출할 수 있게 해주는 자연어 처리 서비스.\n",
        "\n",
        "의사의 소견서, 임상 시험 보고서, 환자 건강 기록과 같은 다양한 소스에서 건강 상태, 약물, 복용량, 강도 및 빈도와 같은 정보를 빠르고 정확하게\n",
        "\n",
        "수집할 수 있다.\n",
        "\n",
        "\n",
        "keyword - 병원 의료 보고서 건강정보 (PHI)\n",
        "\n"
      ],
      "metadata": {
        "id": "k7WrN56pxgGa"
      }
    },
    {
      "cell_type": "markdown",
      "source": [
        "# **CostExplorer**"
      ],
      "metadata": {
        "id": "GmAMVTwcxgEZ"
      }
    },
    {
      "cell_type": "markdown",
      "source": [
        "비용 및 사용량을 보고 분석할 수 있는 도구입니다. 기본 그래프, 비용 탐색기 비용 및 사용 보고서 또는 비용 탐색기 RI 보고서를 사용하여\n",
        "\n",
        "사용량 및 비용을 탐색할 수 있다.\n",
        "\n",
        "최대 지난 12개월 동안의 데이터를 보고 향후 12개월 동안 지출할 가능성이 있는 금액을 예측하고 구매할 예약 인스턴스에 대한 권장 사항을\n",
        "\n",
        "얻을 수 있다. 비용 탐색기를 사용하여 추가 조회가 필요한 영역을 식별하고 비용을 이해하는 데 사용할 수 있는 추세를 확인할 수 있다.\n",
        "\n",
        "\n",
        "\n",
        "keyword - ~개월간의 비용 비교 그래프 생성 및 분석"
      ],
      "metadata": {
        "id": "nwar6J5_xgB-"
      }
    },
    {
      "cell_type": "markdown",
      "source": [
        "# **Amazon FSx 파일 게이트웨이**"
      ],
      "metadata": {
        "id": "3yLGUIZ9xf90"
      }
    },
    {
      "cell_type": "markdown",
      "source": [
        "Amazon FSx 파일 게이트웨이 (FSx 파일) 는 온프레미스 시설에서 Windows 파일 서버용 클라우드 인 FSx 파일 공유에 대한 지연 시간이 짧고\n",
        "\n",
        "효율적인 액세스를 제공하는 새로운 파일 게이트웨이 유형이다.대기 시간이나 대역폭 요구 사항으로 인해 온-프레미스 파일 스토리지를 유지 관리하는\n",
        "\n",
        "경우 FSx File을 사용하여 완전히 관리되고 안정적이며 사실상 무제한의 Windows 파일 공유에 원활하게 액세스할 수 있다\n",
        "\n",
        "\n",
        "\n",
        "Amazon FSx 파일 게이트웨이 이점\n",
        "\n",
        "- 온프레미스 파일 서버를 제거하고 모든 데이터를 통합AWS클라우드 스토리지의 규모와 경제성을 활용\n",
        "\n",
        "- 클라우드 데이터에 대한 온프레미스 액세스가 필요한 작업을 포함하여 모든 파일 워크로드에 사용할 수 있는 옵션을 제공\n",
        "\n",
        "- 온프레미스를 유지해야 하는 애플리케이션은 이제 동일한 짧은 지연 시간과 높은 성능을 경험할 수 있다.\n",
        "\n",
        "- AWS네트워크에 부담을 주지 않고 가장 까다로운 애플리케이션이 겪는 지연 시간에 영향을 주지 않는다.\n",
        "\n",
        "\n",
        "\n",
        "keyword - Windows\n",
        "\n"
      ],
      "metadata": {
        "id": "5YvsLDn3yzdw"
      }
    },
    {
      "cell_type": "markdown",
      "source": [
        "# **AWS Shield Advanced**"
      ],
      "metadata": {
        "id": "0oUq9tiuyzbv"
      }
    },
    {
      "cell_type": "markdown",
      "source": [
        "AWS Shield Advanced는 Amazon EC2 인스턴스, Elastic Load Balancing 로드 밸런서, CloudFront 배포, Route 53 호스팅 영역 및 AWS Global Accelerator 표준 액셀러레이터에 대한 확장된 DDoS 공격 보호 기능을 제공한다.\n",
        "\n",
        "keyword - 대규모 DDos 공격"
      ],
      "metadata": {
        "id": "-hgeM3xMyzZw"
      }
    },
    {
      "cell_type": "markdown",
      "source": [
        "# **Amazon CloudFront**\n",
        "\n"
      ],
      "metadata": {
        "id": "SXm_9E_ayzXb"
      }
    },
    {
      "cell_type": "markdown",
      "source": [
        ".html, .css, .js 및 이미지 파일과 같은 정적 및 동적 웹 콘텐츠를 사용자에게 더 빨리 배포하도록 지원하는 웹 서비스. CloudFront는 엣지 로케이션이라고 하는 데이터 센터의 전 세계 네트워크를 통해 콘텐츠를 제공한다. CloudFront를 통해 서비스하는 콘텐츠를 사용자가 요청하면 지연 시간이 가장 낮은 엣지 로케이션으로 요청이 라우팅되므로 가능한 최고의 성능으로 콘텐츠가 제공된다.\n",
        "\n",
        "\n",
        "\n",
        "keyword - 정적, 동적 웹사이트 , 대기시간 성능 개선, 데이터 캐싱\n",
        "\n",
        "\n",
        "\n",
        "CloudFront의 캐시 관련 문제\n",
        "\n",
        " - Cache-Control의 max-age 디렉티브 설정\n",
        "\n",
        " - 배포할 때의 캐시 설정\n",
        "\n",
        "    -  전혀 캐시가 되지 않는다 : max-age 디렉티브 또는 캐시 설정이 0 또는 작은 값으로 설정 되어있어서.\n",
        "\n",
        "    -  오리진에서 갱신한 데이터가 Hit하지 않는다 : max-age 디렉티브 또는 캐시 설정이 큰값으로 설정되어 있어서.\n",
        "\n",
        "\n",
        "\n",
        "최종 사용자와 CloudFront간의 통신에 HTTPS 요구\n",
        "\n",
        ": CloudFront 배포에 하나 이상의 캐시 동작을 구성하여 최종 사용자와 CloudFront 간의 통신에 HTTPS를 요구할 수 있다.\n",
        "\n",
        "  클라이언트에서 HTTPS를 요구하도록 CloudFront를 구성함으로 보안을 강화시킬 수 있다.\n",
        "\n"
      ],
      "metadata": {
        "id": "XumpfyGqyzVY"
      }
    },
    {
      "cell_type": "markdown",
      "source": [
        "# **Keyword_relative_summary**"
      ],
      "metadata": {
        "id": "jTx5rPOk0Dlo"
      }
    },
    {
      "cell_type": "markdown",
      "source": [
        "Amazon FSx - Windows , Lustre\n",
        "<br>\n",
        "\n",
        "Amazon ECS + AWS Fargate - 컨테이너화 , 운영 오버헤드 , 관리에 대한 책임X\n",
        "<br>\n",
        "\n",
        "Amazon Rekognition - 부적절한 콘텐츠 감지\n",
        "<br>\n",
        "\n",
        "Amazon Macie - 개인 식별 정보(PII), 민감한 데이터\n",
        "<br>\n",
        "\n",
        "S3 버킷 버전관리 / MFA 삭제 -S3 버킷 삭제 방지, 안전한 보안 솔루션\n",
        "<br>\n",
        "\n",
        "Amazon S3 - 정적 웹사이트, 고가용성 스토리지\n",
        "<br>\n",
        "\n",
        "S3 + CloudFront / DynamoDB / Lambda - 확장성\n",
        "<br>\n",
        "\n",
        "S3수명주기 + S3 Glacier Deep Archive - ~동안은 자주 액세스. 단 ~이후에는 거의 액세스 안함/무기한 보관\n",
        "<br>\n",
        "\n",
        "Amazon S3 Intelligent Tiering - 액세스 패턴을 알 수 없거나 예측할 수 없는.\n",
        "<br>\n",
        "\n",
        "NLB -  TCP , UDP, 4계층, 전송계층\n",
        "<br>\n",
        "\n",
        "ALB - HTTP, HTTPS, 7계층\n"
      ],
      "metadata": {
        "id": "DQCWP1jJyzTB"
      }
    }
  ]
}