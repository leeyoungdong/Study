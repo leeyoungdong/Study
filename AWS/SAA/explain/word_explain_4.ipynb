{
  "nbformat": 4,
  "nbformat_minor": 0,
  "metadata": {
    "colab": {
      "provenance": []
    },
    "kernelspec": {
      "name": "python3",
      "display_name": "Python 3"
    },
    "language_info": {
      "name": "python"
    }
  },
  "cells": [
    {
      "cell_type": "markdown",
      "source": [
        "# **AWS Batch**"
      ],
      "metadata": {
        "id": "oa_21OLGFpL3"
      }
    },
    {
      "cell_type": "markdown",
      "source": [
        "개발자, 과학자 및 엔지니어가 AWS에서 수많은 배치 컴퓨팅 작업을 효율적으로 손쉽게 실행할 수 있게 해주는 배치 관리 기능 세트이다. 제출된 배치 작업의 볼륨 및 특정 리소스 요구 사항에 따라 최적의 수량 및 컴퓨팅 리소스의 유형(예: CPU 또는 메모리 최적화 컴퓨터 리소스)을 동적으로 프로비저닝한다. 작업 실행을 위한 배치 컴퓨팅 소프트웨어나 서버 클러스터를 설치하여 관리할 필요가 없으므로 결과 분석과 문제 해결에 집중할 수 있다.\n",
        "\n",
        "Amazon ECS, Amazon EKS 및 AWS Fargate를 사용하여 배치 컴퓨팅 워크로드를 계획, 예약 및 실행하며 스팟 인스턴스를\n",
        "\n",
        "활용할 수 있는 옵션을 제공한다"
      ],
      "metadata": {
        "id": "rTICj6sfFpKQ"
      }
    },
    {
      "cell_type": "markdown",
      "source": [
        "# **Amazon QuickSight**"
      ],
      "metadata": {
        "id": "cF4KBOHdFpIs"
      }
    },
    {
      "cell_type": "markdown",
      "source": [
        "조직 내 모든 구성원에게 통찰력을 손쉽게 제공할 수 있는 빠른 클라우드 기반 데이터 시각화 도구이다.\n",
        "\n",
        "어떠한 데이터를 사용할지에 대해 데이터셋을 설정해주면 간단히 데이터를 통해서 차트나 그래프 형태로 데이터를 시각화하고 분석한다.\n",
        "\n",
        "비용 측면에서 세션별 지불 결제 모델을 사용하여 사용량에 대해서만 요금을 지불하면 된다.\n",
        "\n",
        "\n",
        "\n",
        "- QuickSight 특징\n",
        "\n",
        "- 다양한 데이터 지원\n",
        "\n",
        "- 신속한 결과 제공\n",
        "\n",
        "- 빠르고 직관적인 시각화\n",
        "\n",
        "- 임베디드 분석\n",
        "\n",
        "\n",
        "\n",
        "개별 Amazon QuickSight 사용자 및 그룹에게 Amazon QuickSight의 대시보드에 대한 액세스 권한 부여 방법\n",
        "\n",
        "1. 게시된 대시보드의 오른쪽 상단에서 대시보드 공유를 선택한다.\n",
        "\n",
        "2. 사용자 및 그룹 초대의 경우 검색 상자에 사용자 이메일 또는 그룹 이름을 입력한다.\n",
        "\n",
        "3. 대시보드에 대한 액세스 권한을 부여하려는 사용자 또는 그룹에 대한 추가를 선택하고, 권한 수준을 선택한다\n",
        "\n"
      ],
      "metadata": {
        "id": "0-G7sDYYFpBr"
      }
    },
    {
      "cell_type": "markdown",
      "source": [
        "# **Amazon SWF**"
      ],
      "metadata": {
        "id": "8czHhN8NFo_x"
      }
    },
    {
      "cell_type": "markdown",
      "source": [
        "분산 애플리케이션 구성 요소에서 작업을 쉽게 조정할 수 있도록 해주는 웹 서비스.\n",
        "\n",
        "Amazon SWF를 사용하면 진행 상황 추적 및 상태 유지와 같은 근본적인 복잡성에 대한 걱정 없이 작업 구현 및 조정을 완벽하게 제어할 수 있다. Amazon SWF는 작업을 저장하고 준비가 되면 작업자에게 할당하고 진행 상황을 추적하며 완료 세부 정보를 포함하여 상태를 유지한다.\n",
        "\n",
        "작업을 조정하려면 Amazon SWF에서 각 작업의 최신 상태를 가져오고 이를 사용하여 후속 작업을 시작하는 프로그램을 작성한다.\n",
        "\n",
        "Amazon SWF는 애플리케이션이 개별 구성 요소의 장애에 대해 복원력이 있도록 애플리케이션의 실행 상태를 지속적으로 유지한다.\n",
        "\n"
      ],
      "metadata": {
        "id": "Sb85HLtCFo9V"
      }
    },
    {
      "cell_type": "markdown",
      "source": [
        "# **S3 Select**"
      ],
      "metadata": {
        "id": "Y7IdTCqOFo7c"
      }
    },
    {
      "cell_type": "markdown",
      "source": [
        "간단한 SQL 식을 사용하여 애플리케이션이 객체에서 일부 데이터만 가져올 수 있도록 하는 서비스.  \n",
        "\n",
        "S3 Select를 사용하여 애플리케이션에서 필요한 데이터만 가져옴으로써, 상당한 성능 향상을 이룰 수 있다.\n",
        "\n",
        "대부분의 경우 이러한 성능 향상은 최대 400%에 이르며 비용 또한 절감할 수 있다.\n"
      ],
      "metadata": {
        "id": "GLcPScHpGEqq"
      }
    },
    {
      "cell_type": "markdown",
      "source": [
        "# **Amazon EKS (Amazon Elastic Kubernetes Service)**"
      ],
      "metadata": {
        "id": "yM8BG34uGOay"
      }
    },
    {
      "cell_type": "markdown",
      "source": [
        "자체 Kubernetes 컨트롤 플레인 또는 노드를 설치, 운영 및 유지 관리할 필요 없이 AWS의 Kubernetes 실행에 사용할 수 있는 관리형 서비스. Kubernetes는 컨테이너화된 애플리케이션의 배포, 확장, 관리를 자동화하기 위한 오픈 소스 시스템.\n",
        "\n",
        "- 고가용성을 보장하기 위해 여러 AWS 가용 영역에서 Kubernetes 제어 플레인을 실행하고 확장한다.\n",
        "\n",
        "- 로드를 기반으로 컨트롤 플레인 인스턴스를 자동으로 확장하고 비정상 컨트롤 플레인 인스턴스를 감지 및 교체하며 자동화된 버전 업데이트 및 패치를 제공한다.\n",
        "\n",
        "- 다음 기능을 포함하여 애플리케이션에 대한 확장성과 보안을 제공하기 위해 많은 AWS 서비스와 통합된다\n",
        "\n",
        " - 컨테이너 이미지용 Amazon ECR\n",
        "\n",
        " - 부하 분산을 위한 Elastic Load Balancing\n",
        "\n",
        " - 인증을 위한 IAM\n",
        "\n",
        " - 격리를 위한 Amazon VPC\n",
        "\n"
      ],
      "metadata": {
        "id": "xoCmJvIgGP-D"
      }
    }
  ]
}