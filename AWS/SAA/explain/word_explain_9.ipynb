{
  "nbformat": 4,
  "nbformat_minor": 0,
  "metadata": {
    "colab": {
      "provenance": []
    },
    "kernelspec": {
      "name": "python3",
      "display_name": "Python 3"
    },
    "language_info": {
      "name": "python"
    }
  },
  "cells": [
    {
      "cell_type": "markdown",
      "source": [
        "# **Amazon CloudWatch 복합 경보**"
      ],
      "metadata": {
        "id": "W5fLRKwGrDom"
      }
    },
    {
      "cell_type": "markdown",
      "source": [
        "복합 경보는 다른 경보의 상태를 모니터링하여 상태를 확인한다. 복합 경보를 사용하면 경보 노이즈를 줄일 수 있다.\n",
        "\n",
        "예를 들어 기본 지표 경보가 특정 조건을 충족하면 ALARM 상태로 전환되는 복합 경보를 만들 수 있다.\n",
        "\n",
        "\n",
        "- SNS 주제에 알림\n",
        "\n",
        "- AWS Systems Manager Ops Center에 OpsItem 생성\n",
        "\n",
        "- AWS Systems Manager Incident Manager에 인시던트 생성\n",
        "\n",
        "\n",
        "keyword - 오정보 축소"
      ],
      "metadata": {
        "id": "fecmc2GyrIps"
      }
    },
    {
      "cell_type": "markdown",
      "source": [
        "# **Amazon CloudWatch Synthetics**"
      ],
      "metadata": {
        "id": "7HlT_UfarInO"
      }
    },
    {
      "cell_type": "markdown",
      "source": [
        "경량 모듈식 카나리(Canary) 테스트를 사용하여 웹 애플리케이션 모니터링 서비스이다.\n",
        "\n",
        "전체 트랜잭션에서 끊어진 링크나 작동하지 않는 링크, 단계별 작업 완료, 페이지 로드 오류, UI 자산의 로드 지연 시간, 복잡한 마법사 흐름 또는 체크아웃 흐름을 모니터할 수 있다. 애플리케이션에 고객 트래픽이 없더라도 지속적으로 고객 경험을 확인하고, 고객보다 먼저 문제를 발견할 수 있다.\n",
        "\n"
      ],
      "metadata": {
        "id": "78cGyQbkrIlE"
      }
    },
    {
      "cell_type": "markdown",
      "source": [
        "# **AWS Control Tower**"
      ],
      "metadata": {
        "id": "KDYaFKdRrIix"
      }
    },
    {
      "cell_type": "markdown",
      "source": [
        "AWS Control Tower는 안전한 다중 계정 AWS 환경을 설정하고 관리하는 가장 쉬운 방법을 제공한다.잘 설계된 새로운 다중 계정 환경을 쉽게 설정하고 보안, 운영 및 내부 규정 준수를 위한 규칙으로 AWS 워크로드를 관리할 수 있는 단일 위치를 제공한다.\n",
        "\n",
        "\n",
        "데이터 상주 가드레일\n",
        "\n",
        "데이터 상주를 지원하는 일련의 예방 및 탐지 가드레일을 제공한다. 데이터 상주를 통해 고객 콘텐츠를 호스팅하는 위치를 제어할 수 있다.\n",
        "\n",
        "이를 통해 여러 지역에서 호스팅할지 또는 정의된 지역에서 제자리에 보관할지 선택할 수 있다.\n",
        "\n",
        "\n",
        "keyword - 규정 준수 요구사항, ~ 지역만\n",
        "\n"
      ],
      "metadata": {
        "id": "eDiMeQ3xrIgy"
      }
    },
    {
      "cell_type": "markdown",
      "source": [
        "# **AWS DataSync**\n",
        "\n"
      ],
      "metadata": {
        "id": "pYr71ha0rIbA"
      }
    },
    {
      "cell_type": "markdown",
      "source": [
        "AWS로의 데이터 마이그레이션과 온프레미스 스토리지, 엣지 로케이션, 다른 클라우드 및 AWS 스토리지 간의 데이터 이동을 간소화 및 가속화하는\n",
        "\n",
        "온라인 데이터 이동 및 검색 서비스이다.\n",
        "\n",
        "\n",
        "\n",
        "- 온라인 데이터 전송의 복잡성을 줄이고 비용을 절감\n",
        "\n",
        "- 온프레미스, 엣지 또는 기타 클라우드 스토리지와 AWS 스토리지 서비스 간, 그리고 AWS 스토리지 서비스 간 데이터 세트 전송을 간소화\n",
        "\n",
        "- 표준 스토리지 프로토콜(NFS, SMB)을 사용하거나 HDFS 클라이언트로 또는 Amazon S3 API를 사용하여 기존 스토리지 시스템 및 데이터 소스에 연결\n",
        "\n",
        "- 특별히 구축된 네트워크 프로토콜과 확장 아키텍처를 사용하여 스토리지 시스템 및 AWS 간 데이터 전송을 가속화\n",
        "\n",
        "- 자동으로 확장하여 파일 및 객체 이동, 데이터 전송 일정 예약, 전송 진행 상황 모니터링, 암호화, 데이터 전송 확인 및 문제에 대한 고객 알림을 처리\n",
        "\n",
        "- 최소 약정 또는 선결제 금액 없이 복사된 데이터만큼만 지불\n",
        "\n"
      ],
      "metadata": {
        "id": "Mbs5RGS5rIZA"
      }
    },
    {
      "cell_type": "markdown",
      "source": [
        "# **AWS Direct Connect**\n",
        "\n",
        "인터넷이 아닌 다른 방법으로 AWS에 연결할 수 있는 네트워킹 서비스. 인터넷을 통해 전송해야 했던 데이터를 이제는 고객 시설과 AWS 간의 프라이빗 네트워크 연결을 통해 전달할 수 있다. 많은 상황에서 프라이빗 네트워크 연결은 인터넷 기반 연결보다 비용이 적게 들고 대역폭이 늘어나며 좀 더 일관된 네트워크 경험을 제공할 수 있다.  Amazon Elastic Compute Cloud(EC2), Amazon Virtual Private Cloud(VPC), Amazon Simple Storage Service(S3), Amazon DynamoDB를 비롯한 모든 AWS 서비스를 AWS Direct Connect와 함께 사용할 수 있다.\n",
        "\n",
        "​\n",
        "\n",
        "**AWS Direct Connect 암호화**\n",
        "\n",
        "AWS Direct Connect는 기본적으로 전송 중인 트래픽을 암호화하지 않는다.\n",
        "\n",
        "AWS Direct Connect를 통과하는 전송 중 데이터를 암호화하려면 해당 서비스에 대한 전송 암호화 옵션을 사용해야 한다."
      ],
      "metadata": {
        "id": "ZgCebDo5rIW0"
      }
    },
    {
      "cell_type": "markdown",
      "source": [
        "# **Amazon API Gateway**"
      ],
      "metadata": {
        "id": "q_r9GN5drIU3"
      }
    },
    {
      "cell_type": "markdown",
      "source": [
        "어떤 규모에서든 개발자가 API를 손쉽게 게시, 유지 관리, 모니터링 및 보호할 수 있도록 지원하는 완전관리형 서비스.\n",
        "\n",
        "트래픽 관리, 권한 부여 및 액세스 제어, 모니터링, API 버전 관리를 비롯해 최대 수십만 건의 동시 API 호출을 수락 및 처리하는 데 관련된\n",
        "\n",
        "모든 작업을 처리합니다. Amazon API Gateway에는 최소 요금이나 시작 비용이 없습니다.\n",
        "\n",
        "​\n",
        "\n",
        "keyword - RESTful API , REST API"
      ],
      "metadata": {
        "id": "ArdfYPfArISk"
      }
    },
    {
      "cell_type": "markdown",
      "source": [
        "# **AWS Database Migration Service (AWS DMS)**"
      ],
      "metadata": {
        "id": "gYAjQRqorH_x"
      }
    },
    {
      "cell_type": "markdown",
      "source": [
        "데이터베이스 및 분석 워크로드를 AWS로 빠르고 안전하게 이동하여 가동 중단 시간 및 데이터 손실을 최소화하는 데 도움이 되는 관리형 마이그레이션 및 복제 서비스.\n",
        "\n",
        "DMS를 사용하면 일회성 마이그레이션을 수행하고 지속적인 변경 사항을 복제하여 소스와 대상을 동기화 상태로 유지할 수 있다.\n",
        "\n",
        "AWS Database Migration Service를 사용하면 지원되는 소스에서 지원되는 대상으로 짧은 지연 시간으로 데이터를 지속적으로 복제할 수도 있다.\n",
        "\n",
        "예를 들어 여러 소스에서 Amazon Simple Storage Service(Amazon S3)로 복제하여 가용성과 확장성이 뛰어난 데이터 레이크 솔루션을 구축할 수 있다.\n",
        "\n",
        "\n",
        "keyword - 마이그레이션, 동기화된 상태 유지\n",
        "\n"
      ],
      "metadata": {
        "id": "O8YwAaU_rkXx"
      }
    },
    {
      "cell_type": "markdown",
      "source": [
        "# **AWS Glue**"
      ],
      "metadata": {
        "id": "6iuQXPMXrkVR"
      }
    },
    {
      "cell_type": "markdown",
      "source": [
        "분석, 기계 학습 및 애플리케이션 개발을 위해 데이터를 쉽게 탐색, 준비, 그리고 조합할 수 있도록 지원하는 서버리스 데이터 통합 서비스.\n",
        "\n",
        "AWS Glue 데이터 카탈로그를 사용하여 데이터를 쉽게 찾고 액세스할 수 있다.\n",
        "\n",
        "데이터 엔지니어와 ETL (추출, 변형 및 로드) 개발자는 AWS Glue Studio에서 몇 번의 클릭으로 ETL 워크플로를 시각적으로 생성, 실행 및 모니터링할 수 있다.\n",
        "\n",
        "<br>\n",
        "\n",
        "**AWS Glue 처리된 데이터를 작업 북마크로 추적**\n",
        "\n",
        ": AWS Glue는 작업 실행의 상태 정보를 유지하여 이전에 ETL 작업을 실행할 때 이미 처리된 데이터를 추적한다. 이와 같은 지속 상태 정보를 작업 북마크라고 합니다. AWS Glue는 작업 북마크로 상태 정보를 유지하고 이전 데이터의 재처리를 방지한다.\n",
        "\n",
        "작업 북마크를 사용하면 예약된 간격으로 재실행 중인 새 데이터를 처리할 수 있다. 작업 북마크는 원본, 변환 및 대상과 같은 다양한 작업 요소의 상태로 구성된다. 예를 들어, ETL 작업에서 Amazon S3 파일의 새 파티션을 읽어야 할 수 있다.\n",
        "\n",
        "AWS Glue는 그 작업에서 처리한 파티션을 추적하여 중복 실행을 방지하고 작업 대상인 데이터 스토어에 데이터를 복제한다."
      ],
      "metadata": {
        "id": "nGydD78krkSz"
      }
    },
    {
      "cell_type": "markdown",
      "source": [
        "# **AWS Backup**"
      ],
      "metadata": {
        "id": "ft3jDPGzrkP0"
      }
    },
    {
      "cell_type": "markdown",
      "source": [
        "데이터 보호를 쉽게 중앙 집중화하고 자동화할 수 있는 종합 관리형 서비스.\n",
        "\n",
        "- 대규모 데이터 보호를 더욱 간소화하는 비용 효율적인 완전 관리형 정책 기반 서비스를 제공\n",
        "\n",
        "- 정기적 또는 향후 백업을 예약할 수 있음.\n",
        "\n",
        "- 백업 계획에는 리소스에 대한 일정 및 보존 정책이 포함되며, AWS Backup은 보존 일정에 따라 백업을 생성하고 이전 백업을 삭제한다.\n",
        "\n",
        "- 예약 및 삭제를 자동화하여 수동으로 온디맨드 백업을 만들고 삭제하는 획일적인 무거운 작업을 제거\n",
        "\n",
        "\n",
        "**AWS Backup을 사용하여 Amazon DynamoDB에 대한 예약 백업 설정**\n",
        "\n",
        "**AWS DynamoDB**\n",
        "\n",
        ": 지정 시간 복구(PITR) 및 온디맨드 백업의 두 가지 백업 유형을 제공한다. PITR은 롤링 35일 창의 특정 시점으로 테이블을 복구하는 데 사용되며,\n",
        "\n",
        "고객이 잘못된 코드, 악의적인 액세스 또는 사용자 오류로부터 실수로 테이블을 삭제하거나 쓰는 것을 완화하는 데 사용된다.\n",
        "\n",
        "온 디맨드 백업은 일반적으로 고객이 규정 준수 및 규정 요구 사항을 충족하도록 지원하는 데 사용되는 장기 보관 및 보존을 위해 설계되었다."
      ],
      "metadata": {
        "id": "waGGS0Ibrvp8"
      }
    }
  ]
}