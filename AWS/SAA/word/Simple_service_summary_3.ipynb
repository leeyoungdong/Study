{
  "nbformat": 4,
  "nbformat_minor": 0,
  "metadata": {
    "colab": {
      "provenance": []
    },
    "kernelspec": {
      "name": "python3",
      "display_name": "Python 3"
    },
    "language_info": {
      "name": "python"
    }
  },
  "cells": [
    {
      "cell_type": "markdown",
      "source": [
        "# **인프라 운영 및 관리**\n"
      ],
      "metadata": {
        "id": "LPLhtWRm93SY"
      }
    },
    {
      "cell_type": "markdown",
      "source": [
        "**AWS CloudFormation**\n",
        "\n",
        "- Infrastructure as Code 방식으로 리소스 및 전체 인프라 구성을 코드로 생성 및 관리하는 서비스\n",
        "\n",
        "**AWS Managed Services (AMS)**\n",
        "\n",
        "- 엔터프라이즈 고객 및 파트너를 대신하여 AWS 인프라 운영할 수 있도록 해주는 AWS 인프라 운영 위임 서비스\n",
        "\n",
        "**AWS OpsWorks**\n",
        "\n",
        "- Chef 및 Puppet의 관리형 인스턴스를 제공하는 구성 관리 서비스\n",
        "\n",
        "**AWS Health**\n",
        "\n",
        "- 사용자의 AWS 리소스 및 계정에 영향을 미치는 문제를 신속하게 해결할 수 있게 해주는 서비스\n",
        "\n",
        "**AWS Personal Health Dashboard**\n",
        "\n",
        "- 고객이 사용 중인 AWS 리소스에 영향을 줄 수 있는 변경 사항을 미리 알려주고 대응 방법을 제공하는 서비스\n",
        "\n",
        "**AWS Systems Manager**\n",
        "\n",
        "- AWS의 운영 허브. AWS 애플리케이션 및 리소스의 운영 문제를 중앙 위치에서 추적하고 해결할 수 있는 통합 사용자 인터페이스를 제공.\n",
        "\n",
        "**AWS Config**\n",
        "\n",
        "- AWS 리소스 구성을 측정, 감사 및 평가할 수 있는 서비스\n",
        "\n",
        "**AWS Compute Optimizer**\n",
        "\n",
        "- 비용을 줄이고 성능을 향상시킬 수 있도록 사용률 기록 지표에 대한 기계 학습을 통해 워크로드에 대한 최적의 AWS 리소스를 제안하는 서비스.\n",
        "\n",
        "**AWS Trusted Advisor**\n",
        "\n",
        "- 사용자의 AWS 환경을 분석하여 성능 및 보안 관련 모범 사례를 제안하는 서비스.\n",
        "\n",
        "**AWS Well-Architected Tool**\n",
        "\n",
        "- 사용자의 아키텍처를 검토하고 모범 사례를 제안하는 서비스.\n",
        "\n",
        "**AWS License Manager**\n",
        "\n",
        "- Oracle 등의 타사 솔루션 라이선스를 클라우드에 적용하는 프로세스를 간소화하는 서비스\n",
        "\n",
        "**AWS Certificate Manager (ACM)**\n",
        "\n",
        "- SSL / TLS 인증서를 손쉽게 프로비저닝 및 관리하고 AWS 관리형 리소스에 배포할 수 있는 서비스\n"
      ],
      "metadata": {
        "id": "EPYdovmG93Qp"
      }
    },
    {
      "cell_type": "markdown",
      "source": [
        "# **계정 및 라이센스 관리**"
      ],
      "metadata": {
        "id": "GPBiP9gs93OU"
      }
    },
    {
      "cell_type": "markdown",
      "source": [
        "**AWS IAM (Identity and Access Management)**\n",
        "\n",
        "- AWS 리소스에 대한 액세스를 안전하게 제어할 수 있는 서비스.\n",
        "\n",
        "**AWS Organizations**\n",
        "\n",
        "- 여러 AWS 계정을 중앙에서 관리할 수 있는 계정 관리 서비스.\n",
        "\n",
        "**AWS RAM (Resource Access Manager)**\n",
        "\n",
        "- 하나의 계정에서 생성된 AWS 리소스를 다른 계정, 다른 OU, 같은 조직 내 다른 계정 등과 공유할 수 있도록 관리할 수 있는 서비스.\n",
        "\n",
        "**AWS Control Tower**\n",
        "\n",
        "- 여러 AWS 계정이 포함된 AWS 인프라 환경의 대시보드(landing zone)를 커스텀할 수 있는 서비스.\n"
      ],
      "metadata": {
        "id": "rlojsxlH93KU"
      }
    },
    {
      "cell_type": "markdown",
      "source": [
        "# **보안 자격증명**"
      ],
      "metadata": {
        "id": "aH0Pv1VF93IV"
      }
    },
    {
      "cell_type": "markdown",
      "source": [
        "**AWS Security Hub**\n",
        "\n",
        "- AWS 계정 전반에 걸쳐 우선순위가 높은 보안 경고 및 규정 준수 상태를 종합적으로 확인할 수 있는 서비스.\n",
        "\n",
        "**AWS WAF**\n",
        "\n",
        "- 일반적인 웹 공격으로부터 웹 애플리케이션이나 API를 보호하는 데 도움이 되는 웹 애플리케이션 방화벽\n",
        "\n",
        "**AWS Shield**\n",
        "\n",
        "- DDoS 공격으로부터 보호하는 서비스\n",
        "\n",
        "**AWS Firewall Manager**\n",
        "\n",
        "- 여러 계정과 리소스 전체에 걸쳐 AWS WAF 관리 및 유지 보수 작업을 간소화하는 서비스\n",
        "\n",
        "**AWS KMS (Key Management Service)**\n",
        "\n",
        "- 암호화 키를 사용하고 관리할 수 있는 멀티 테넌트 관리형 서비스\n",
        "\n",
        "**AWS CloudHSM (Cloud Hardware Security Module)**\n",
        "\n",
        "- 고객에게 암호화된 안전한 키 스토리지를 제공하는 하드웨어 보안 모듈. 온프레미스 환경에 있는 HSM 장비와 연계하여 하이브리드 아키텍처를 구성할 수 있다.\n",
        "\n",
        "**AWS Secrets Manager**\n",
        "\n",
        "- 데이터베이스와 다른 서비스의 자격 증명을 안전하게 암호화, 저장 및 검색할 수 있는 서비스\n",
        "\n",
        "**Amazon Macie**\n",
        "\n",
        "- 기계 학습을 사용하여 AWS에 저장된 민감한 데이터를 자동으로 검색, 분류 및 보호하는 보안 서비스.\n",
        "\n",
        "**AWS Single Sign-On**\n",
        "\n",
        "- 여러 AWS 계정 또는 애플리케이션에 대한 액세스를 중앙에서 관리하는 자격 증명 서비스\n",
        "\n",
        "**Amazon Inspector**\n",
        "\n",
        "- AWS 리소스의 보안 및 규정 준수를 개선하는 데 도움이 되는 보안 취약성 평가 서비스\n",
        "\n",
        "**AWS Artifact**\n",
        "\n",
        "- AWS의 규정 준수 보고서에 온디맨드 방식으로 액세스할 수 있도록 무료로 제공되는 셀프서비스 포털\n"
      ],
      "metadata": {
        "id": "9wUfEKpo93GN"
      }
    }
  ]
}