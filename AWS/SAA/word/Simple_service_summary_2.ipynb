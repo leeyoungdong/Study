{
  "nbformat": 4,
  "nbformat_minor": 0,
  "metadata": {
    "colab": {
      "provenance": []
    },
    "kernelspec": {
      "name": "python3",
      "display_name": "Python 3"
    },
    "language_info": {
      "name": "python"
    }
  },
  "cells": [
    {
      "cell_type": "markdown",
      "source": [
        "# **스토리지**"
      ],
      "metadata": {
        "id": "xDkDlVM_oCN5"
      }
    },
    {
      "cell_type": "markdown",
      "source": [
        "**S3 (Simple Storage Service)**\n",
        "\n",
        "- 인터넷 스토리지 서비스로 웹에서 바로 접근할 수도 있고, EC2에 마운트해서 사용가능.\n",
        "\n",
        "**S3 Glacier**\n",
        "\n",
        "- 저비용 데이터 보관 및 백업 서비스. 자주 사용되지 않는 데이터를 보관 및 백업하는 데 유용한 서비스\n",
        "\n",
        "**S3 Intelligent-Tiering**\n",
        "\n",
        "- 데이터 액세스 패턴이 변경될 때 성능에 대한 영향이나 운영 오버헤드 없이 스토리지 비용을 자동으로 최적화하는 서비스. 사용하지 않는 객체를 직접 아카이빙 하는 방식의 S3 Glacier와는 다른 방식으로 비용 절감을 지원.\n",
        "\n",
        "**EBS (Elastic Block Storage)**\n",
        "\n",
        "- EC2 인스턴스에서 하드디스크처럼 사용하는 블록 스토리지\n",
        "\n",
        "**EFS (Elastic File System)**\n",
        "\n",
        "- EC2 인스턴스에서 공유 가능한 EC2 인스턴스용 파일 스토리지(NAS)\n",
        "\n",
        "**Amazon FSx**\n",
        "\n",
        "- 업계 표준 SMB(서버 메시지 블록) 프로토콜을 통해 액세스 가능한 고도로 안정적이고 확장 가능한 완전관리형 파일 스토리로 Windows용, Lustre용이 지원.\n",
        "\n",
        "**AWS Backup**\n",
        "\n",
        "- 데이터 백업을 중앙 집중화하고 자동화하는데 필요한 완전 관리형 백업 서비스. Storage Gateway를 통해 온프레미스 스토리지도 백업 가능.\n",
        "\n",
        "**Amazon DLM (Data Lifecycle Manager)**\n",
        "\n",
        "- EBS 볼륨에 저장된 데이터의 백업 자동화 서비스\n",
        "\n",
        "**CloudEndure Disaster Recovery**\n",
        "\n",
        "- 자동화된 재해 복구 서비스. 물리적 서버, 가상 서버 및 클라우드 기반 서버를 AWS 클라우드로 빠르고 안정적으로 복구함으로써 가동 중단 시간 및 데이터 손실을 최소화."
      ],
      "metadata": {
        "id": "9rj74gcXoCLt"
      }
    },
    {
      "cell_type": "markdown",
      "source": [
        "# **데이터베이스**"
      ],
      "metadata": {
        "id": "0CcMAvnmoCJt"
      }
    },
    {
      "cell_type": "markdown",
      "source": [
        "데이터베이스는 SQL DB와 NoSQL DB로 구분한다. SQL DB는 관계형 데이터베이스라고도 불리며 MySQL, PostgreSQL 등이 있다. NoSQL DB는 SQL DB를 제외한 모든 DB가 포함되며, 문서형 MongoDB, 컬럼형 Cassandra, 키-밸류형 Redis 등이 있다.\n",
        "\n",
        "**RDS (Relational Database Service)**\n",
        "\n",
        "- MySQL, PostgreSQL, Oracle, SQL Server를 지원하는 관계형 DB 서비스\n",
        "\n",
        "**Amazon Aurora**\n",
        "\n",
        "- MySQL 및 PostgreSQL과 호환되는 고성능 관계형 데이터베이스\n",
        "\n",
        "**DynamoDB**\n",
        "\n",
        "- AWS에서 서비스하는 키-밸류형 데이터 베이스. MongoDB와 같은 계열이다.\n",
        "\n",
        "**DocumentDB**\n",
        "\n",
        "- MongoDB와 호환되는 데이터베이스\n",
        "\n",
        "**Neptune**\n",
        "\n",
        "- 빠르고 안정적인 그래프 데이터베이스 서비스. 수십억 개의 관계를 저장하고 몇 밀리초의 지연 시간으로 그래프를 쿼리하는 데 최적화.\n",
        "\n",
        "**Keyspaces**\n",
        "\n",
        "- 컬럼형 NoSQL 데이터베이스인 Cassandra와 호환되는 관리형 데이터베이스\n",
        "\n",
        "**SDB (Simple DB)**\n",
        "\n",
        "- 데이터베이스 관리 작업의 부담을 덜어주는 고가용성의 NoSQL 데이터베이스 스토리지\n",
        "\n",
        "**ElastiCache**\n",
        "\n",
        "- 인메모리 캐싱 서비스로 Memcached 및 Redis를 지원.\n",
        "\n",
        "**MemoryDB for Redis**\n",
        "\n",
        "- Redis와 호환되는 인메모리 데이터베이스\n",
        "\n",
        "**Amazon Timestream**\n",
        "\n",
        "- 완전관리형 시계열 데이터베이스\n",
        "\n",
        "**Redshift**\n",
        "\n",
        "- 데이터 병렬 처리를 지원하는 완전관리형 데이터 웨어하우스"
      ],
      "metadata": {
        "id": "buMCBhLkoCHN"
      }
    },
    {
      "cell_type": "markdown",
      "source": [
        "# **데이터 처리 & 분석**"
      ],
      "metadata": {
        "id": "5vcajRfGoCE_"
      }
    },
    {
      "cell_type": "markdown",
      "source": [
        "**Amazon Athena**\n",
        "\n",
        "- 표준 SQL을 사용해 Amazon S3에 있는 데이터를 간편하게 분석할 수 있는 대화형 쿼리 서비스\n",
        "\n",
        "**AWS Glue**\n",
        "\n",
        "- 손쉽게 데이터를 준비하고 로드할 수 있게 지원하는 완전관리형 ETL(추출, 변환 및 로드) 서비스\n",
        "\n",
        "**Amazon EMR (Elastic MapReduce)**\n",
        "\n",
        "- AWS 상에서 서비스되고 있는 Hadoop 프레임워크 위에서 사용할 수 있는 MapReduce 서비스로 동적으로 확장 가능한 EC2 인스턴스 전체에서 대량의 데이터를 쉽고 빠르게 처리할 수 있다.\n",
        "\n",
        "**Amazon CloudSearch**\n",
        "\n",
        "- 완전 관리형 검색 엔진\n",
        "\n",
        "**Amazon Elasticsearch**\n",
        "\n",
        "- API 커스텀이 가능한 오픈소스 검색 엔진\n",
        "\n",
        "**AWS 메시지 큐 서비스**\n",
        "\n",
        "- 대용량 데이터를 처리하기 위한 배치 작업이나, 채팅 서비스, 비동기 데이터를 처리할 때 사용하는 메시지 큐 서비스\n",
        "\n",
        "  - SQS (Simple Queue Service) - 간단한 관리형 메시지 큐. message routing, fanouts, distribution lists 등이 지원되지 않음\n",
        "\n",
        "  - Amazon MQ - 관리형 ActiveMQ 서비스\n",
        "\n",
        "  - Amazon MSK (Managed Streaming for Kafka) - 관리형 Kafka 서비스. Apache Kafka를 사용하여 스트리밍 데이터 처리\n",
        "\n",
        "  - Amazon Kinesis - 관리형 데이터 스트리밍 서비스. 실시간 스트리밍 데이터를 손쉽게 수집, 처리 및 분석할 수 있으며, MSK(Kafka)와 유사함\n",
        "\n",
        "  - SNS (Simple Notification Service) - 완전관리형 pub/sub 메시징, SMS, 이메일 및 모바일 푸시 알림 서비스\n",
        "\n",
        "**Amazon Kinesis Data Firehose**\n",
        "\n",
        "- Kinesis 스트림의 레코드를 읽고 처리하는 스트리밍 데이터 파이프라인\n",
        "\n",
        "**Amazon Data Pipeline**\n",
        "\n",
        "- 서버 또는 스토리지 간 주기적인 데이터 이동을 지원하는 관리형 ETL 서비스\n",
        "\n",
        "**Amazon EventBridge (구 Amazon CloudWatch events)**\n",
        "\n",
        "- 서버리스 이벤트 버스 서비스. 실시간 스트림 데이터를 Lambda 등 AWS 서비스에 연결할 수 있다.\n",
        "\n",
        "**AWS Lake Formation**\n",
        "\n",
        "- 안전한 데이터 레이크를 며칠 만에 손쉽게 설정할 수 있도록 지원하는 서비스\n",
        "\n",
        "**Amazon QuickSight**\n",
        "\n",
        "- 클라우드용 구축형 확장 가능한 서버리스 기계 학습 기반 비즈니스 인텔리전스(BI) 서비스\n",
        "\n",
        "**AWS Data Exchange**\n",
        "\n",
        "- 로이터, IBM 등 다양한 데이터 공급자들의 데이터를 검색, 구독, 분석할 수 있는 서비스"
      ],
      "metadata": {
        "id": "lPjgEa6qoCCn"
      }
    },
    {
      "cell_type": "markdown",
      "source": [
        "# **모니터링**"
      ],
      "metadata": {
        "id": "jBQcZfO7oCAj"
      }
    },
    {
      "cell_type": "markdown",
      "source": [
        "**VPC Traffic Mirroring**\n",
        "\n",
        "- 대규모 네트워크 트래픽을 캡처할 수 있는 서비스. 미러링한 데이터를 별도로 저장하여 분석에 사용할 수 있다.\n",
        "**Amazon GuardDuty**\n",
        "\n",
        "- 지속적 보안 모니터링 서비스. 예상치 못한 활동이나 악의적 활동 등을 식별.\n",
        "\n",
        "**CloudWatch**\n",
        "\n",
        "- AWS 리소스 및 애플리케이션에 대한 모니터링 서비스(“AWS에서 무슨 일이 발생했는가?”). 특정 서비스나 애플리케이션에 대한 모든 이벤트를 로그.\n",
        "\n",
        "**Cloud Trail**\n",
        "\n",
        "- AWS 계정에서 API 활동을 기록하는 모니터링 서비스(“AWS에서 누가 무엇을 했는가?”). AWS 계정의 거버넌스, 규정 준수, 운영 감사 및 위험 감사를 지원.\n",
        "\n",
        "**Amazon Managed Service for Grafana**\n",
        "\n",
        "- Grafana 모니터링 데이터 시각화 서비스.\n",
        "\n",
        "**Amazon Managed Service for Prometheus**\n",
        "\n",
        "- 컨테이너화된 애플리케이션에 대한 Prometheus 모니터링 서비스"
      ],
      "metadata": {
        "id": "lzyBOGYloB-S"
      }
    },
    {
      "cell_type": "markdown",
      "source": [
        "# **개발자 도구 및 개발 편의**\n"
      ],
      "metadata": {
        "id": "NSbS83N9oB76"
      }
    },
    {
      "cell_type": "markdown",
      "source": [
        "**AWS CICD 솔루션**\n",
        "\n",
        "- CodeCommit: 관리형 코드 리포. 깃허브의 코드를 이곳으로 마이그레이션해서 사용.\n",
        "\n",
        "- CodeBuild: 소스 코드를 컴파일하고 단위 테스트를 실행하며 배포할 준비가 완료된 아티팩트를 생성하는 완전관리형 빌드 서비스로 Jenkins, CircleCI, SolanoCI 등 대체된다.\n",
        "\n",
        "- CodeDeploy: 개발자가 인스턴스에 대한 애플리케이션 배포를 자동화하고 필요에 따라 애플리케이션을 업데이트할 수 있는 배포 서비스로 Octopus Deploy 등 대체된다.\n",
        "\n",
        "- CodePipeline: 소프트웨어를 출시하는데 필요한 단계를 모델링, 시각화 및 자동화 할 수 있게 해주는 CD 도구\n",
        "\n",
        "**AWS CodeStar**\n",
        "\n",
        "- 데브옵스 프로젝트를 만들 수 있도록 하는 프로젝트 운영 도구. CodePipeline을 통한 개발 및 배포 관리를 지원하며, CloudWatch를 연동할 수도 있다.\n",
        "\n",
        "**Elastic Beanstalk**\n",
        "\n",
        "- 웹 어플리케이션(php, Node.js, Python, Ruby 등)을 쉽게 배포할 수 있도록 도와주는 서비스\n",
        "\n",
        "**AWS SWF (Simple Workflow)**\n",
        "\n",
        "- 분산 애플리케이션 구성 요소에서 작업을 쉽게 조정할 수 있도록 해주는 웹 서비스\n",
        "\n",
        "**AWS Step Functions**\n",
        "\n",
        "- 서버리스 마이크로서비스 오케스트레이션. 그래픽 콘솔을 통해 응용 프로그램의 워크플로우를 일련의 이벤트 기반 단계로 볼 수 있다.\n",
        "\n",
        "**AWS X-Ray**\n",
        "\n",
        "- 사용자 요청이 애플리케이션을 통과하는 전체 과정을 추적함으로써 애플리케이션 분석 및 디버그를 지원해주는 서비스로Zipkin과 유사.\n",
        "\n",
        "**AWS Fault Injection Simulator**\n",
        "\n",
        "- 완전관리형 오류 주입 실험 서비스로, 애플리케이션의 성능, 관측성, 복원력을 더욱 쉽게 개선한다.\n",
        "\n",
        "**AWS Amplify**\n",
        "\n",
        "- 웹/모바일 앱을 쉽게 개발할 수 있도록 도와주는 개발 도구. Firebase와 유사하다.\n",
        "\n",
        "**AWS AppSync**\n",
        "\n",
        "- 서버리스의 형태로 GraphQL 백엔드를 개발할 수 있는 서비스\n",
        "\n",
        "**Amazon Cognito**\n",
        "\n",
        "- 로그인을 중심으로 여러 기능을 제공하는 사용자 관리 서비스\n",
        "\n",
        "**AWS Device Farm**\n",
        "\n",
        "- 데스크톱 브라우저 및 실제 모바일 디바이스에서 애플리케이션을 테스트할 수 있는 서비스\n",
        "\n",
        "**SES (Simple Email Server)**\n",
        "\n",
        "- 대용량 인바운드 및 아웃바운드 클라우드 이메일 서비스\n"
      ],
      "metadata": {
        "id": "tWyFz8LIoB5s"
      }
    }
  ]
}