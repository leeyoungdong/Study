{
  "nbformat": 4,
  "nbformat_minor": 0,
  "metadata": {
    "colab": {
      "provenance": []
    },
    "kernelspec": {
      "name": "python3",
      "display_name": "Python 3"
    },
    "language_info": {
      "name": "python"
    }
  },
  "cells": [
    {
      "cell_type": "markdown",
      "source": [
        "# **yaml 내용 정리**\n",
        "\n",
        "1. **metadata** : 리소스의 라벨, 이름 등을 지정함\n",
        "\n",
        "2. **specificaion** : 각 컴포넌트에 대한 상세 설명. 어떤 오브젝트 종류인지에 따라 다른 내용을 담는다.\n",
        "\n",
        "3. **status** : 쿠버네티스가 자동으로 생성, 자신의 원하는 상태가 되도록 현재 상태를 기술\n",
        "\n",
        "## **apiVersion 설명**\n",
        "\n",
        "- 스크립트를 실행하기 위한 쿠버네티스 API 버젼\n",
        "\n",
        "### v1\n",
        "\n",
        "쿠버네티스에서 발행한 첫 stable release API(대부분의 api가 포함되어 있음)\n",
        "\n",
        "### apps/v1\n",
        "\n",
        "쿠버네티스의 common API 모음, Deployment, RollingUpdate, ReplicaSet을 포함\n",
        "\n",
        "### autoscaling/v1\n",
        "\n",
        "pod의 autoscale 기능을 포함하는 API, 현재는 CPU metric을 사용한 scaling만 가능(추후에 alpha, beta version에서 memory, custom metric으로 scaling 기능 추가예정)\n",
        "\n",
        "### batch/v1\n",
        "\n",
        "배치 프로세스, job-like task를 위한 배포 api\n",
        "\n",
        "### batch/v1beta1\n",
        "\n",
        "batch/v1에서 cronJob으로 job을 돌리는 api가 추가\n",
        "\n",
        "### certivicates.k8s.io/v1 beta\n",
        "\n",
        "클러스터의 secure network function들이 추가된 API(TLS 등의 기능 추가)\n",
        "\n",
        "### extensions/v1beta\n",
        "\n",
        "Deployments, DaemonSets, ReplicatSets, Ingress 등 상당수 feature들이 새롭게 정의된 API\n",
        "\n",
        "그러나 상당수의 api들이 apps/v1과 같은 그룹으로 이동되어서, 쿠버네티스 1.6버젼 이후부터는 deprecated 됨\n",
        "\n",
        "### policy/v1beta1\n",
        "\n",
        "pod에 대한 security rule이 정의된 API\n",
        "\n",
        "### rbac.authorization.k8s.io/v1\n",
        "\n",
        "쿠버네티스의 role-based access control이 가능한 function이 정의됨\n",
        "\n",
        "## **kind 설명**\n",
        "\n",
        "- 리소스의 종류 정의\n",
        "\n",
        "### Pod\n",
        "\n",
        "pod을 정의하여 쿠버네티스 선언(아직 배포되지 않은 상태)\n",
        "\n",
        "### ReplicationController(or ReplicaSet)\n",
        "\n",
        "쿠버네티스에 선언된 pod을 배포하기 위한 선언(replicas 갯수, readiness probe 등 선언)\n",
        "\n",
        "### Service\n",
        "\n",
        "동적으로 생성된 pod(각각 다른 ip)을 라벨(label)과 라벨 셀렉터(label selector)을 사용하여 하나의 서비스로 묶어주는 역할.\n",
        "\n",
        "(ex. pod에 라벨이 \"wonyoung\"이 선언되어 있으면, service는 \"wonyoung\" label이 붙은 서비스만 골라내서 그 pod간에만 로드벨런싱을 동해 서비스를 외부에 제공)\n"
      ],
      "metadata": {
        "id": "rUcxd1cKxCNG"
      }
    }
  ]
}