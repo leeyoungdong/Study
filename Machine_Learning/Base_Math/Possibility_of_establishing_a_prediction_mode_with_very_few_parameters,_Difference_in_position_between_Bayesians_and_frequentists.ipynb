{
  "nbformat": 4,
  "nbformat_minor": 0,
  "metadata": {
    "colab": {
      "provenance": []
    },
    "kernelspec": {
      "name": "python3",
      "display_name": "Python 3"
    },
    "language_info": {
      "name": "python"
    }
  },
  "cells": [
    {
      "cell_type": "markdown",
      "source": [
        "# **모수가 매우 적은 (수십개 이하) 케이스의 경우 어떤 방식으로 예측 모델을 수립가능성**"
      ],
      "metadata": {
        "id": "DKZg2TLKUGsf"
      }
    },
    {
      "cell_type": "markdown",
      "source": [
        "- 모수는 모집단의 수가 아닌, 평균, 표준편차 등의 모집단의 특징을 말합니다.\n",
        "- 모집단의 수로 잘못 쓰인 것으로 보이며, 데이터가 적은 경우라 가정하고 답변을 작성.\n",
        " - 표본이 매우 작은 경우 표본평균의 분포가 정규분포를 따른다고 가정할 수 없으므로 비모수적 방법을 채택하여 예측 모델을 수립할 수 있다.\n",
        " - 중심극한정리에 의해 표본의 크기가 30보다 클 경우 표본평균이 정규분포를 따른다고 가정할 수 있으므로, 이 경우에는 모수적 방법을 사용한다."
      ],
      "metadata": {
        "id": "qq7QTbtPUGqs"
      }
    },
    {
      "cell_type": "markdown",
      "source": [
        "# **베이지안과 프리퀀티스트 간의 입장차이**"
      ],
      "metadata": {
        "id": "0dp-yTsZUGl8"
      }
    },
    {
      "cell_type": "markdown",
      "source": [
        "- 베이지안은 사건의 확률을 바라볼 때, 사전 확률을 미리 염두해두고 사건의 발생에 따라 베이즈 정리로 사후 확률을 구해 다시 사전 확률을 업데이트시킨다.\n",
        "- 베이지안은 과거의 사건이 현재 사건에 영향을 끼친다는 입장을 가지고 있다.\n",
        "- 프리퀀티스트는 확률을 무한번 실험한 결과, 객관적으로 발생하는 현상의 빈도수로 바라본다.\n",
        "- 프리퀀티스트는 현재의 객관적인 확률에 의해서만 사건이 발생한다는 입장을 가지고 있다."
      ],
      "metadata": {
        "id": "Gypa_iUGUGi9"
      }
    }
  ]
}