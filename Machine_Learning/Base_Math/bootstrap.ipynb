{
  "nbformat": 4,
  "nbformat_minor": 0,
  "metadata": {
    "colab": {
      "provenance": []
    },
    "kernelspec": {
      "name": "python3",
      "display_name": "Python 3"
    },
    "language_info": {
      "name": "python"
    }
  },
  "cells": [
    {
      "cell_type": "markdown",
      "source": [
        "# **bootstrap**"
      ],
      "metadata": {
        "id": "bF60IKoCfZNW"
      }
    },
    {
      "cell_type": "markdown",
      "source": [
        "- 부트스트랩(Bootstrap) 은 가설검증을 하거나 metric을 계산하기 전에 random sampling을 적용하는 방법.\n",
        "- 모수의 분포를 추정하는 방법 중 하나는, 현재 가진 표본에서 추가적으로 표본을 복원추출하고 각 표본에 대한 통계량을 다시 계산하는 것.\n",
        "- 부트스트랩이 여기에 해당하며, 여러번의 무작위 추출을 통해, 평균의 신뢰구간을 구할 수 있다.\n",
        "\n",
        "- 200개로만 통계량을 구하는 것이 아니라 200개를 기준으로 복원 추출하여 새로운 통계량을 구하는 것을 예시로 들 수 있다."
      ],
      "metadata": {
        "id": "m9iRxJHFfaRg"
      }
    },
    {
      "cell_type": "markdown",
      "source": [
        "**머신러닝에서 부트스트램의 의미**"
      ],
      "metadata": {
        "id": "s4sNv2ktfaPx"
      }
    },
    {
      "cell_type": "markdown",
      "source": [
        "- 랜덤 샘플링을 통해 학습 데이터를 늘리는 방법\n",
        "- 여러 모델을 학습시켜 추론 결과의 평균을 사용하는 방법(=앙상블)"
      ],
      "metadata": {
        "id": "AhDIHU8wfaOK"
      }
    },
    {
      "cell_type": "markdown",
      "source": [
        "**복원추출이란?**"
      ],
      "metadata": {
        "id": "XmCWQbLpfaL4"
      }
    },
    {
      "cell_type": "markdown",
      "source": [
        "- 복원추출(Sampling with replacement)이란 확률을 구할 때, 추출했던 것을 원래대로 돌려놓고 다시 추출하는 방법."
      ],
      "metadata": {
        "id": "Lvo3XUZkfaJn"
      }
    }
  ]
}