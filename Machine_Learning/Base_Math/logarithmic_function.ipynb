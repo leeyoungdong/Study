{
  "nbformat": 4,
  "nbformat_minor": 0,
  "metadata": {
    "colab": {
      "provenance": []
    },
    "kernelspec": {
      "name": "python3",
      "display_name": "Python 3"
    },
    "language_info": {
      "name": "python"
    }
  },
  "cells": [
    {
      "cell_type": "markdown",
      "source": [
        "# **로그 함수(logarithmic function)**"
      ],
      "metadata": {
        "id": "fTdghP_-H8e7"
      }
    },
    {
      "cell_type": "markdown",
      "source": [
        "- 단위 수가 너무 큰 값들을 바로 회귀분석 할 경우 결과를 왜곡할 우려가 있으므로 이를 방지하기 위해 사용.\n",
        " - 나이와 재산보유액의 관계를 회귀분석으로 푼다고 했을 때, 재산보유액의 숫자가 굉장히 클 수 있다.\n",
        " - 재산보유액에 로그를 취할 경우, 데이터의 왜도와 첨도를 줄일 수 있어 정규성이 높아지는 효과를 얻는다.\n",
        "\n",
        "- 비선형관계의 데이터를 선형으로 만들기 위해 사용된다.\n",
        " - 기하급수적으로 늘어나는 제곱 형식의 그래프에 자연로그를 취하면 그 관계가 직선(선형)이 된다."
      ],
      "metadata": {
        "id": "I2vGvkl0H8c2"
      }
    },
    {
      "cell_type": "markdown",
      "source": [
        "**로그함수 주의사항**"
      ],
      "metadata": {
        "id": "ucg1s0lMH8YQ"
      }
    },
    {
      "cell_type": "markdown",
      "source": [
        "로그 함수는 0~1 사이에서는 음수값을 가지므로, $log(1+x)$와 같은 방법으로 처리해주어야한다."
      ],
      "metadata": {
        "id": "yuOlFRtUH8WK"
      }
    },
    {
      "cell_type": "markdown",
      "source": [
        "**왜도는 데이터가 한쪽으로 치우친 정도이다.**"
      ],
      "metadata": {
        "id": "ZWSBhyBhH8Ts"
      }
    },
    {
      "cell_type": "markdown",
      "source": [
        "- 왜도는 데이터가 한쪽으로 치우친 정도.\n",
        "- 첨도는 분포가 얼마나 뾰족한지를 나타내는 정도."
      ],
      "metadata": {
        "id": "X9qh6XnMIF_6"
      }
    }
  ]
}