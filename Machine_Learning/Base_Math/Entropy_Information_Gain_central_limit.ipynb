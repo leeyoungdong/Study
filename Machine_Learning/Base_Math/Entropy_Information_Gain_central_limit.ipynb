{
  "nbformat": 4,
  "nbformat_minor": 0,
  "metadata": {
    "colab": {
      "provenance": []
    },
    "kernelspec": {
      "name": "python3",
      "display_name": "Python 3"
    },
    "language_info": {
      "name": "python"
    }
  },
  "cells": [
    {
      "cell_type": "markdown",
      "source": [
        "# **중심극한정리**"
      ],
      "metadata": {
        "id": "x396ggbr5Sxv"
      }
    },
    {
      "cell_type": "markdown",
      "source": [
        "- 크기가 n인 표본추출(30개 이상)이 무수히 많이 수행되면(최소 100회 이상을 의미), 표본 평균의 분포가 정규분포에 수렴한다는 것.\n",
        "- 중심극한정리가 유용한 이유는 모집단의 형태가 어떻든지 간에 상관없이 표본 평균의 분포가 정규분포를 따르기 때문이"
      ],
      "metadata": {
        "id": "p3xfE9wg5Pss"
      }
    },
    {
      "cell_type": "markdown",
      "source": [
        "# **엔트로피(Entropy),정보이득(Information Gain)**"
      ],
      "metadata": {
        "id": "uyclPMU05Pn7"
      }
    },
    {
      "cell_type": "markdown",
      "source": [
        "엔트로피는 주어진 데이터의 혼잡도를 의미하며, 엔트로피는 다음과 같이 데이터가 어떤 클래스에 속할 확률에 대한 기댓값으로 표현할 수 있다."
      ],
      "metadata": {
        "id": "OBoaxajT5XVN"
      }
    },
    {
      "cell_type": "markdown",
      "source": [
        "![image.png](data:image/png;base64,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)"
      ],
      "metadata": {
        "id": "iN0T2l1F5W_X"
      }
    },
    {
      "cell_type": "markdown",
      "source": [
        "- 엔트로피는 데이터가 서로 다른 클래스에 속하면 높고, 같은 클래스에 속하면 낮다.\n",
        "- 각각의 데이터가 특정 클래스에 속할 확률이 높고 나머지 클래스에 속할 확률이 낮다면 엔트로피가 낮고, 모든 각각의 클래스에 속할 확률이 비슷하다면 엔트로피는 높다.\n"
      ],
      "metadata": {
        "id": "sjSiycy15akI"
      }
    },
    {
      "cell_type": "markdown",
      "source": [
        "정보이득은 데이터가 어떤 클래스에 속할 확률이 커짐에 따라 정보를 잘 얻게되는 것을 말하며, 감소되는 엔트로피 양을 의미.\n",
        "\n",
        "\n",
        "- 수식으로는 기존 시스템의 엔트로피에서 현재 엔트로피를 뺀 값으로 표현된다.\n",
        "- 의사결정트리는 가지를 칠 때 이 값을 사용하여 가지를 친다.\n",
        "- 이 때 어떤 데이터를 두 집합으로 나누었을 때 두 집합의 정보이득이 크도록, 엔트로피는 작아지도록 분할을 한다."
      ],
      "metadata": {
        "id": "8dxb8ql45adY"
      }
    }
  ]
}