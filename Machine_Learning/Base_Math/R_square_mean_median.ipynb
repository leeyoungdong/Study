{
  "nbformat": 4,
  "nbformat_minor": 0,
  "metadata": {
    "colab": {
      "provenance": []
    },
    "kernelspec": {
      "name": "python3",
      "display_name": "Python 3"
    },
    "language_info": {
      "name": "python"
    }
  },
  "cells": [
    {
      "cell_type": "markdown",
      "source": [
        "# **R square**"
      ],
      "metadata": {
        "id": "f27TosrLTL3i"
      }
    },
    {
      "cell_type": "markdown",
      "source": [
        "**결정계수(R square)**\n",
        "- 선형 회귀 모델에서 데이터에 대해 회귀선이 얼마나 잘 설명하는지에 대한 설명력을 의미.\n",
        "0 결정계수는 0~1 의 값을 가질 수 있고, 만약 값이 1 이라면 회귀선으로 모든 데이터를 다 설명할 수 있다고 이해할 수 있다."
      ],
      "metadata": {
        "id": "nOJcCD_0TL11"
      }
    },
    {
      "cell_type": "markdown",
      "source": [
        "![image.png](data:image/png;base64,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)"
      ],
      "metadata": {
        "id": "lvfOdwAQTLzh"
      }
    },
    {
      "cell_type": "markdown",
      "source": [
        "- SSE = sum((추정값-관측값 평균)$^2$),\n",
        "- SST = sum((관측값-관측값 평균)$^2$),\n",
        "- SSR = sum((관측값-추정값)$^2$)\n",
        "- 관측값은 실제 데이터의 값을 말하며, 추정값은 회귀 모델을 통해 나온 값을 말힘.\n",
        "- 회귀 모델의 성능을 평가하는 방법은 결정계수 외에도 MAE, MSE, RMSE 가 있다."
      ],
      "metadata": {
        "id": "VTgZeBvDTLxP"
      }
    },
    {
      "cell_type": "markdown",
      "source": [
        "# **평균(mean)과 중앙값(median)**"
      ],
      "metadata": {
        "id": "0PAFGP3_TLu8"
      }
    },
    {
      "cell_type": "markdown",
      "source": [
        "-  평균(mean): 모든 관측값의 합을 자료의 개수로 나눈 것\n",
        "- 중앙값(median): 전체 관측값을 크기 순서로 배열했을 때 가운데 위치하는 값"
      ],
      "metadata": {
        "id": "LC_HHzjSTLsp"
      }
    },
    {
      "cell_type": "markdown",
      "source": [
        "- 평균은 전체 관측값이 골고루 반영되므로 대표값으로서 가치가 있다.\n",
        "- 평균 근처에 표본이 몰려 있는 상황에서 대표값으로 유용하지만 극단적인 값에 영향을 많이 받는다.\n"
      ],
      "metadata": {
        "id": "cq7mDS3BTLqw"
      }
    },
    {
      "cell_type": "markdown",
      "source": [
        "- 중앙값에서는 관측값을 크기 순서로 배열할 때 관측값의 위치가 중요하고, 가운데 위치한 관측값 이외의 관측값들의 크기는 중요하지 않다.\n",
        "-  평균과는 달리 중앙값은 관측값들의 변화에 민감하지 않고 특히 아주 큰 관측값이나 아주 작은 관측값(즉, outlier)에 영향을 받지 않는다.\n",
        "- 중앙값이 유용한 경우는 표본의 편차, 혹은 왜곡이 심하게 나타나는 경우이다."
      ],
      "metadata": {
        "id": "x1_zCHqhTLo9"
      }
    }
  ]
}