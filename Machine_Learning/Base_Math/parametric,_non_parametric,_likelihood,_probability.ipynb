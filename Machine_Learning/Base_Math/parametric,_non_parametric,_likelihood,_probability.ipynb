{
  "nbformat": 4,
  "nbformat_minor": 0,
  "metadata": {
    "colab": {
      "provenance": []
    },
    "kernelspec": {
      "name": "python3",
      "display_name": "Python 3"
    },
    "language_info": {
      "name": "python"
    }
  },
  "cells": [
    {
      "cell_type": "markdown",
      "source": [
        "# **모수적 방법론, 비모수적 방법론**"
      ],
      "metadata": {
        "id": "ziR7h-b8ZZnk"
      }
    },
    {
      "cell_type": "markdown",
      "source": [
        "- 표본의 통계량(평균, 표준편차 등)을 통해 모집단의 모수(모평균, 모표준편차 등)를 추정하는 방법을 통계적 추론이라고 한다.\n",
        "- 모집단이 어떤 분포를 따른다는 가정 하에 통계적 추론을 하는 방법을 모수적 방법이라 하는데, 표본의 수가 30개 이상일 때 중심극한 정리에 의해 정규분포를 따르므로 모수적 방법론을 사용.\n",
        "-  모집단의 분포를 가정하지 않는 비모수적 방법은, 표본의 수가 30개 미만이거나 정규성 검정에서 정규 분포를 따르지 않는다고 증명되는 경우 비모수적 방법론을 사용."
      ],
      "metadata": {
        "id": "agW23V7CZZlr"
      }
    },
    {
      "cell_type": "markdown",
      "source": [
        "# **“likelihood”, “probability”**"
      ],
      "metadata": {
        "id": "jWJnsOGwZZj0"
      }
    },
    {
      "cell_type": "markdown",
      "source": [
        "- 확률(Probability)은 어떤 시행(trial)에서 특정 결과(sample)가 나올 가능성을 말한다. 즉, 시행 전 모든 경우의 수의 가능성은 정해져 있으며 그 총합은 1(100%)이다.\n",
        "- 가능도(Likelihood)은 어떤 시행(trial)을 충분히 수행한 뒤 그 결과(sample)를 토대로 경우의 수의 가능성을 도출하는 것을 말한다. 아무리 충분히 수행해도 어디까지나 추론(inference)이기 때문에 가능성의 합이 1이 되지 않을수도 있다.\n",
        "- PDF(probability density function)에서는 확률변수를 변수로 보기 때문에 총합이 1이지만, likelihood function에서는 분포의 모수를 변수로 보기 때문에 총합이 1이 되지 않을수도 있다."
      ],
      "metadata": {
        "id": "TwNioNPnZZhP"
      }
    }
  ]
}