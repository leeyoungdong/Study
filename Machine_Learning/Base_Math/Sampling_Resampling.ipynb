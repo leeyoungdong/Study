{
  "nbformat": 4,
  "nbformat_minor": 0,
  "metadata": {
    "colab": {
      "provenance": []
    },
    "kernelspec": {
      "name": "python3",
      "display_name": "Python 3"
    },
    "language_info": {
      "name": "python"
    }
  },
  "cells": [
    {
      "cell_type": "markdown",
      "source": [
        "# **샘플링(Sampling)과 리샘플링(Resampling)**"
      ],
      "metadata": {
        "id": "vEiE2D-K2Voq"
      }
    },
    {
      "cell_type": "markdown",
      "source": [
        "**샘플링(Sampling)**"
      ],
      "metadata": {
        "id": "soonhRdc21y1"
      }
    },
    {
      "cell_type": "markdown",
      "source": [
        "- 샘플링이란 표본추출을 의미\n",
        "- 모집단 전체에 대한 추정치(estimate)를 얻기 위해 임의의 sample을 뽑아내는 것.\n",
        "- 모집단 전체에 대한 조사는 불가능하기 때문에 sample을 이용하여 모집단에 대한 추론(inference)을 하게되는 것이다.\n",
        "- 표본은 모집단을 닮은 모집단의 mirror image 같은 존재이지만, 모집단 그 자체일수는 없다.\n",
        "- 따라서 표본에는 반드시 모집단의 원래 패턴에서 놓친 부분, noise가 존재할 수 밖에 없다."
      ],
      "metadata": {
        "id": "iLU53_Ji2Vmb"
      }
    },
    {
      "cell_type": "markdown",
      "source": [
        "**리샘플링(Resampling)**"
      ],
      "metadata": {
        "id": "jIlXATU_26R-"
      }
    },
    {
      "cell_type": "markdown",
      "source": [
        "- 리샘플링은 모집단의 분포 형태를 알 수 없을 때 주로 사용하는 방법.\n",
        "- 모분포를 알 수 없으므로 일반적인 통계적 공식들을 사용하기 힘들 때, 현재 갖고 있는 데이터를 이용하여 모분포와 비슷할 것으로 추정되는 분포를 만드는 것.\n",
        "- 리샘플링은 가지고 있는 샘플에서 다시 샘플 부분집합을 뽑아서 통계량의 변동성(variability of statistics)을 확인하는 것.\n",
        "- 같은 샘플을 여러 번 사용해서 성능을 측정하는 방식이다.\n",
        "- 가장 많이 사용되는 방법이며 종류로는 K-fold 교차 검증, 부트스트래핑이 있다.\n",
        "-  리샘플링은 표본을 추출하면서 원래 데이터 셋을 복원하기 때문에 이를 통해서 모집단의 분포에 어떤 가정도 필요 없이 표본만으로 추론이 가능하다는 장점이 있음."
      ],
      "metadata": {
        "id": "7_fBtxXf2VkN"
      }
    }
  ]
}