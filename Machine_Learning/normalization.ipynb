{
  "nbformat": 4,
  "nbformat_minor": 0,
  "metadata": {
    "colab": {
      "provenance": []
    },
    "kernelspec": {
      "name": "python3",
      "display_name": "Python 3"
    },
    "language_info": {
      "name": "python"
    }
  },
  "cells": [
    {
      "cell_type": "markdown",
      "source": [
        "# **정규화**"
      ],
      "metadata": {
        "id": "IxFIfKPyTicz"
      }
    },
    {
      "cell_type": "markdown",
      "source": [
        "- 개별 피처의 크기를 모두 똑같은 단위로 변경하는 것을 말함.\n",
        "- 정규화를 하는 이유는 피처의 스케일이 심하게 차이가 나는 경우 값이 큰 피처가 더 중요하게 여겨질 수 있기 때문이다.\n",
        "- 이를 막기 위해 피처 모두 동일한 스케일로 반영되도록 하는 것이 정규화이다."
      ],
      "metadata": {
        "id": "CJPJODsMTkcA"
      }
    },
    {
      "cell_type": "markdown",
      "source": [
        "**최소-최대 정규화(min-max normalization)**"
      ],
      "metadata": {
        "id": "EuYQbzCDTkaW"
      }
    },
    {
      "cell_type": "markdown",
      "source": [
        "각 피처의 최소값을 0, 최대값을 1로 두고 변환하는 방법이다. 값을 $x$로, 최소값을 $min$, 최대값을 $max$로 둘 때, 정규화된 값은 $\\frac{x - min}{max - min}$으로 계산"
      ],
      "metadata": {
        "id": "4pky1pmyTshT"
      }
    },
    {
      "cell_type": "markdown",
      "source": [
        "**Z-점수 정규화(z-score normalization)**"
      ],
      "metadata": {
        "id": "MhmGFKjLTkD8"
      }
    },
    {
      "cell_type": "markdown",
      "source": [
        "각 피처의 표준편차와 평균으로 값을 정규화시킨다. 정규화된 값은 $\\frac{x - mean}{std}$로 계산"
      ],
      "metadata": {
        "id": "3WrxFoy_TkYm"
      }
    }
  ]
}