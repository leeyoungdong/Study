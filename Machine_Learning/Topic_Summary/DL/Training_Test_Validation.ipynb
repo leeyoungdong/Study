{
  "nbformat": 4,
  "nbformat_minor": 0,
  "metadata": {
    "colab": {
      "provenance": []
    },
    "kernelspec": {
      "name": "python3",
      "display_name": "Python 3"
    },
    "language_info": {
      "name": "python"
    }
  },
  "cells": [
    {
      "cell_type": "markdown",
      "source": [
        "# **Training 세트와 Test 세트를 분리하는 이유**"
      ],
      "metadata": {
        "id": "t4pOr28pMRZF"
      }
    },
    {
      "cell_type": "markdown",
      "source": [
        "- 모델은 데이터에 대해 예측값을 만들고 정답과 비교하며 업데이트되면서 학습.\n",
        "- 학습 데이터에 대해서는 좋은 성능을 낸다 하더라도 본 적 없는 데이터에 대해서는 잘 대응하지 못하는 오버피팅 문제가 생긴다면 좋은 모델이 아니다.\n",
        "- 이를 막기 위해 학습된 모델이 처음 보는 데이터에도 강건하게 성능을 내는지 판단하기 위한 수단으로 test 세트를 따로 만든다."
      ],
      "metadata": {
        "id": "n6scn4jNMN7o"
      }
    },
    {
      "cell_type": "markdown",
      "source": [
        "# **Validation 세트가 따로 있는 이유**"
      ],
      "metadata": {
        "id": "kY6Y-dSBMN91"
      }
    },
    {
      "cell_type": "markdown",
      "source": [
        "- 모델을 학습시키고 test 데이터를 통해 모델의 일반화 성능을 파악하고, 다시 모델에 새로운 시도를 하고 test 데이터를 통해 모델의 성능을 파악한다고 생각.\n",
        " - 모델은 결국 test 데이터에도 오버피팅이 되어 다시 처음 보는 데이터를 주면 좋은 성능을 보장할 수 없게 됨.\n",
        " - 이 문제를 막기 위해 validation 세트를 사용한다.\n",
        " - validation 세트를 통해 모델의 성능을 평가하고 하이퍼파라미터 등을 수정하는 것이다.\n",
        "- train 데이터로 모델을 학습시키고 valid 데이터로 학습된 모델의 성능 평가를 하고 더 좋은 방향으로 모델을 수정.\n",
        "- 최종적으로 만들어진 모델로 test 데이터를 통해 최종 성능을 평가."
      ],
      "metadata": {
        "id": "A89J9ijGMOA6"
      }
    },
    {
      "cell_type": "markdown",
      "source": [
        "# **Test 세트가 오염되었다는 말의 뜻**"
      ],
      "metadata": {
        "id": "hUWOyx7lMOC_"
      }
    },
    {
      "cell_type": "markdown",
      "source": [
        "- test 데이터는 한 번도 학습에서 본 적 없는 데이터여야 한다.\n",
        "- train 데이터가 test 데이터와 흡사하거나 포함되기까지한다면 test 데이터는 더이상 학습된 모델의 성능 평가를 객관적으로 하지 못한다.\n",
        "- test 데이터가 train 데이터와 유사하거나 포함된 경우에 test 세트가 오염되었다고 말함"
      ],
      "metadata": {
        "id": "1uETZ3mPMOFm"
      }
    }
  ]
}