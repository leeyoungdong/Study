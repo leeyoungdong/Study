{
  "nbformat": 4,
  "nbformat_minor": 0,
  "metadata": {
    "colab": {
      "provenance": []
    },
    "kernelspec": {
      "name": "python3",
      "display_name": "Python 3"
    },
    "language_info": {
      "name": "python"
    }
  },
  "cells": [
    {
      "cell_type": "markdown",
      "source": [
        "# **TF, PyTorch 디버깅**"
      ],
      "metadata": {
        "id": "P_JhXr_4_EEN"
      }
    },
    {
      "cell_type": "markdown",
      "source": [
        "- 오류가 발생하는 곳, 중요한 데이터가 바뀌는 지점을 디버깅 포인트로 두고, 확인하는 방법이 있음.\n",
        "- IDE에서 다양한 디버깅 extension을 지원하기 때문에 이를 잘 활용하면 좋은 인사이트를 얻을 수 있음.\n",
        " - vs code의 jupyter extension을 사용하면 데이터 프레임, 변수값등을 보기 쉽게 정렬하여 확인할 수 있다."
      ],
      "metadata": {
        "id": "2WVt9pjH_GhS"
      }
    },
    {
      "cell_type": "markdown",
      "source": [
        "- 디버깅 노하우도 중요하지만, 오류에 대한 대처방식을 익히면 좋음.\n",
        "- 디버깅 하지 않고 오류에 대처할 수 있으므로, 디버깅 시간을 아껴줌.\n",
        " - 예를들어, 딥러닝 학습을 위한 코드를 작성할 때, 가장 많이 발생하는 오류는 CUDA out of memory와 shape 오류.\n",
        " - out of memory와 같은 오류는 배치 사이즈를 줄인다거나, 입력 데이터의 사이즈를 줄이는 방식으로 해결할 수 있음.\n",
        " - shape 오류는 디버깅을 통해서 현재 입력 데이터의 shape, type등을 확인하고, 함수의 파라미터가 요구하는 shape, type에 맞게 변형하는 과정이 필요."
      ],
      "metadata": {
        "id": "bSU6gDif_GfM"
      }
    },
    {
      "cell_type": "markdown",
      "source": [
        "- logging tool로서 **tensorboard, wandb** 등이 매우 유용하게 사용될 수 있다."
      ],
      "metadata": {
        "id": "MKzuSj9s_GdR"
      }
    }
  ]
}