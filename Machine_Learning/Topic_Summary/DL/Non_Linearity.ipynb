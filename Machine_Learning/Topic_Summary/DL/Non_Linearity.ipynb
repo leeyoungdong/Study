{
  "nbformat": 4,
  "nbformat_minor": 0,
  "metadata": {
    "colab": {
      "provenance": []
    },
    "kernelspec": {
      "name": "python3",
      "display_name": "Python 3"
    },
    "language_info": {
      "name": "python"
    }
  },
  "cells": [
    {
      "cell_type": "markdown",
      "source": [
        "# **Non-Linearity**"
      ],
      "metadata": {
        "id": "YbnDVmQhNqcJ"
      }
    },
    {
      "cell_type": "markdown",
      "source": [
        "- 비선형(non-linearity)의 뜻을 알기 위해서는 우선 선형(linearity)가 무엇인지 알아야 함.\n",
        "- 어떤 모델이 선형적(linearity)라고 한다면 그 모델은 변수 $x_1, x_2, ... , x_n$과 가중치 $w_1, w_2, ... , w_n$으로 $y = w_1x_1 + w_2x_2 + ... + w_n*x_n$으로 표현할 수 있으며, 가산성(Additreivityly)과 동차성(Homogeneity)을 만족해야 한다."
      ],
      "metadata": {
        "id": "egkUQ6dkNqZZ"
      }
    },
    {
      "cell_type": "markdown",
      "source": [
        "- 가산성: 임의의 수 $x, y$에 대해 $f(x+y) = f(x) + f(y)$가 성립\n",
        "- 동차성: 임의의 수 $x, \\alpha$에 대해 $f(\\alpha x) = \\alpha f(x)$가 성립\n",
        "\n",
        "만족하지 못하는 모델을 비선형 관계에 있는 모델이라고 함."
      ],
      "metadata": {
        "id": "d3aTcbewNqUx"
      }
    },
    {
      "cell_type": "markdown",
      "source": [
        "- 딥러닝에서 이런 비선형 관계는 활성화 함수(activation function)을 도입함으로써 표현.\n",
        "- 활성화 함수를 사용해 여러 층을 쌓아서 더 복잡한 표현을 하기 위해서 비선형 관계, 활성화 함수가 필요.\n",
        " - 활성화 함수가 $h(x) = cx$인 선형 함수라고 생각.\n",
        " - $n$개의 층을 쌓았다고 할 때, 모델은 $y = h^n(x) = c^nx$로 나타낼 수 있다.\n",
        " - $c^n=k$라는 상수로 치환하면 결국 1층을 가진 신경망과 동일.\n",
        " - 그렇기 때문에 비선형인 활성화 함수가 필요."
      ],
      "metadata": {
        "id": "dKL1Tm_rNqSR"
      }
    }
  ]
}