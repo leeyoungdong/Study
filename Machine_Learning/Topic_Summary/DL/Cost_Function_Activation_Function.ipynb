{
  "nbformat": 4,
  "nbformat_minor": 0,
  "metadata": {
    "colab": {
      "provenance": []
    },
    "kernelspec": {
      "name": "python3",
      "display_name": "Python 3"
    },
    "language_info": {
      "name": "python"
    }
  },
  "cells": [
    {
      "cell_type": "markdown",
      "source": [
        "# **Cost Function과 Activation Function**"
      ],
      "metadata": {
        "id": "5JILZteIDn47"
      }
    },
    {
      "cell_type": "markdown",
      "source": [
        "**cost function**"
      ],
      "metadata": {
        "id": "vERXIObaDn3C"
      }
    },
    {
      "cell_type": "markdown",
      "source": [
        "- 모델은 데이터에 대해 현재 예측을 얼마나 잘하고 있는지 알아야 학습 방향을 어느 방향으로, 얼마나 개선할지 판단할 수 있다.\n",
        "- 예측 값과 데이터 값의 차이에 대한 함수를 cost function(MSE, CrossEntropy 등) 이라고 한다.\n",
        "- cost function 을 최소화함으로써 모델을 적절한 표현력을 갖추도록 학습시킬 수 있다"
      ],
      "metadata": {
        "id": "3paoqCEnDn08"
      }
    },
    {
      "cell_type": "markdown",
      "source": [
        "**activation function**"
      ],
      "metadata": {
        "id": "O6io7gQfDnyo"
      }
    },
    {
      "cell_type": "markdown",
      "source": [
        "\n",
        "- 데이터를 예측하기 위해 선형 모델을 사용할 수 있다.\n",
        "- 하지만 선형 모델의 경우 복잡한 데이터에 대해서는 적절한 예측을 못한다.\n",
        "- 이를 처리하기 위해 비선형 모델이 필요하다.\n",
        "\n",
        "**선형 모델을 비선형 모델로 만들어주는 역할을 하는 함수가 바로 활성화 함수 activation function(Sigmoid, ReLU 등) 이다.**\n"
      ],
      "metadata": {
        "id": "dnnY3h4uDnwr"
      }
    },
    {
      "cell_type": "markdown",
      "source": [
        "**비선형 함수인 활성화 함수가 선형 함수와 결합됨으로써 선형 모델은 비선형 모델이 된다.**\n",
        "- 선형 모델은 깊게 쌓을 수 없다.\n",
        " - 깊게 쌓아도 하나의 층을 잘 튜닝한 것과 다르지 않기 때문이다.\n",
        "- 비선형 모델은 깊게 쌓을 수 있다.\n",
        " - 선형으로 만들었다가 비선형으로 만드는 작업을 계속 반복할 수 있기 때문이다.\n",
        " - 모델은 복잡한 데이터에 대해 더 표현력이 좋아질 수 있다.\n",
        "\n",
        "- 활성화 함수는 입력 값에 대해 더 높게 혹은 더 낮게 만들 수 있기 때문에 활성화 함수라고 불린다."
      ],
      "metadata": {
        "id": "KHT-rBfAHjwj"
      }
    }
  ]
}