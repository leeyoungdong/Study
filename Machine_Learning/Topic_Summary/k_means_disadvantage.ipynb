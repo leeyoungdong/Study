{
  "nbformat": 4,
  "nbformat_minor": 0,
  "metadata": {
    "colab": {
      "provenance": []
    },
    "kernelspec": {
      "name": "python3",
      "display_name": "Python 3"
    },
    "language_info": {
      "name": "python"
    }
  },
  "cells": [
    {
      "cell_type": "markdown",
      "source": [
        "# **K-means의 대표적 의미론적 단점**"
      ],
      "metadata": {
        "id": "bHbISzPQ0KR7"
      }
    },
    {
      "cell_type": "markdown",
      "source": [
        "K-means 는 특성이 비슷한 데이터를 같은 그룹으로 묶어주는 클러스터링 알고리즘으로, k 개의 군집 개수를 정하고 군집의 중심점을 예측하여 각 데이터와 거리를 비교한 후 군집을 결정"
      ],
      "metadata": {
        "id": "tugd5RjW0KUU"
      }
    },
    {
      "cell_type": "markdown",
      "source": [
        "**K-means 알고리즘의 단점은 다음과 같다.**\n",
        "\n",
        "- K 를 몇 개로 설정하냐에 따라 성능이 달라진다.\n",
        "- K 개 군집의 중심점을 예측하여야 하는데, 어디를 중심점으로 두냐에 따라 성능이 달라진다.\n",
        "- 데이터가 잘 모여있는 경우에 효과적이지, 노이즈가 많은 경우 효과적이지 않다."
      ],
      "metadata": {
        "id": "ooK7nfK40KWv"
      }
    }
  ]
}