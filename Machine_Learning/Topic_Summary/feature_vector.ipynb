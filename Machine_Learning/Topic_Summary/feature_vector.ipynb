{
  "nbformat": 4,
  "nbformat_minor": 0,
  "metadata": {
    "colab": {
      "provenance": []
    },
    "kernelspec": {
      "name": "python3",
      "display_name": "Python 3"
    },
    "language_info": {
      "name": "python"
    }
  },
  "cells": [
    {
      "cell_type": "markdown",
      "source": [
        "# **feature vector**"
      ],
      "metadata": {
        "id": "QYbQifGkejgy"
      }
    },
    {
      "cell_type": "markdown",
      "source": [
        "**특징(feature) 이란**\n",
        "- 샘플(데이터)을 잘 설명하는 측정가능한 속성.\n",
        "- 특징을 통해 특정 샘플을 수치화하여 나타낼 수 있다.\n",
        "\n",
        "**특징벡터(feature vector) 란**\n",
        "- 피쳐(feature)들의 집합.\n",
        "- 벡터로 표시하는 이유는 수학적으로 다루기 편하기 때문.\n",
        "\n",
        "\n",
        "데이터별로 어떤 특징을 가지고 있는지 찾아내고, 그것을 토대로 데이터를 벡터로 변환하는 작업을 특징추출(feature extraction) 이라고 한다."
      ],
      "metadata": {
        "id": "f_qdeX4jejeA"
      }
    },
    {
      "cell_type": "markdown",
      "source": [
        "- 특징 공간(feature space) 이란 관측값들이 있는 공간을 의미.\n",
        "- 특징 공간은 여러 차원으로 구성될 수 있다.\n",
        "- 어떤 데이터를 특징공간의 하나의 벡터로 표현하는 경우, 여러 특징 변수가 특징벡터에 영향을 줄 수 있다.\n",
        "- 예를들어, 특징 변수가 하나인 데이터는 1차원 특징 공간에 나타나고, 특징 변수가 N개라면 N차원의 특징 공간에 나타낼 수 있다."
      ],
      "metadata": {
        "id": "OF8R4kUxejZO"
      }
    },
    {
      "cell_type": "markdown",
      "source": [
        "d-차원 데이터의 특징 벡터는 다음과 같이 표시."
      ],
      "metadata": {
        "id": "yUd3khrVe-k_"
      }
    },
    {
      "cell_type": "markdown",
      "source": [
        "![image.png](data:image/png;base64,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)"
      ],
      "metadata": {
        "id": "wpN6YdgSejWa"
      }
    },
    {
      "cell_type": "markdown",
      "source": [
        "**분야에 따른 피처벡터의 의미**\n",
        "\n",
        "- 컴퓨터비전(이미지)에서의 특징은 edge, corner 등을 의미한다.\n",
        " -  픽셀 값이 급격히 변화하는 곳, 밝기의 변화, 색상의 변화, 그래디언트의 방향 등의 매칭 정보등을 특징으로 삼는다.\n",
        " - SIFT, SURF 등의 방법이 존재.\n",
        "- 자연어처리(텍스트) 에서의 특징은 단어, 형태소, 서브워드, 토큰 등으로 표현될 수 있으며, BOW(Bag-of-Words)는 문서에서 단어의 발생을 설명하는 텍스트의 벡터 표현이다.\n",
        " -  만약 8개의 단어로 이루어진 문장을 BoW로 만들면, 8차원(dimension)의 vector로서 하나의 단어를 표현할 수 있다.\n",
        "- 정형데이터에서의 특징은 각 attribute(열)를 의미한다.\n",
        " -  키, 나이, 국적 등이 특징으로 사용될 수 있다."
      ],
      "metadata": {
        "id": "GMVnNP7HejUk"
      }
    }
  ]
}