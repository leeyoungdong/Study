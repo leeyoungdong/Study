{
  "nbformat": 4,
  "nbformat_minor": 0,
  "metadata": {
    "colab": {
      "provenance": []
    },
    "kernelspec": {
      "name": "python3",
      "display_name": "Python 3"
    },
    "language_info": {
      "name": "python"
    }
  },
  "cells": [
    {
      "cell_type": "markdown",
      "source": [
        "# **텍스트 더미에서 주제를 추출 방법**"
      ],
      "metadata": {
        "id": "u7gILXviYKjM"
      }
    },
    {
      "cell_type": "markdown",
      "source": [
        "**잠재 디리클레 할당(Latent Dirichlet Allocation, LDA)**"
      ],
      "metadata": {
        "id": "CFFvEkoEYKgt"
      }
    },
    {
      "cell_type": "markdown",
      "source": [
        "- 문서의 집합에서 토픽을 찾아내는 프로세스를 뜻하는 토픽 모델링의 대표적인 알고리즘을 말한다.\n",
        "- LDA는 \"문서들은 토픽들의 혼합으로 구성되어져 있으며, 토픽들은 확률 분포에 기반하여 단어들을 생성한다\"고 가정하며, 데이터가 주어지면 LDA는 토픽을 문서가 생성되던 과정을 역추적한다."
      ],
      "metadata": {
        "id": "m09xePMVYKeP"
      }
    },
    {
      "cell_type": "markdown",
      "source": [
        "예를 들어, 다음과 같은 예시 문장 3개가 있다고 가정"
      ],
      "metadata": {
        "id": "syaR_GSDYKaL"
      }
    },
    {
      "cell_type": "markdown",
      "source": [
        "\n",
        "\n",
        "```\n",
        "문서1 : 저는 사과랑 바나나를 먹어요\n",
        "문서2 : 우리는 귀여운 강아지가 좋아요\n",
        "문서3 : 저의 깜찍하고 귀여운 강아지가 바나나를 먹어요\n",
        "```\n",
        "\n"
      ],
      "metadata": {
        "id": "0RQ5VAwsYKXl"
      }
    },
    {
      "cell_type": "markdown",
      "source": [
        "LDA를 통해 각 문서의 토픽 분포와 각 토픽 내의 단어 분포를 추정할 수 있다.\n",
        "\n",
        "**각 문서의 토픽 분포**\n",
        "\n",
        "- 문서1 : 토픽 A 100%\n",
        "- 문서2 : 토픽 B 100%\n",
        "- 문서3 : 토픽 B 60%, 토픽 A 40%\n",
        "\n",
        "**각 토픽의 단어 분포**\n",
        "\n",
        "- 토픽A : 사과 20%, 바나나 40%, 먹어요 40%, 귀여운 0%, 강아지 0%, 깜찍하고 0%, 좋아요 0%\n",
        "- 토픽B : 사과 0%, 바나나 0%, 먹어요 0%, 귀여운 33%, 강아지 33%, 깜찍하고 16%, 좋아요 16%"
      ],
      "metadata": {
        "id": "RFMoH6vPYKVP"
      }
    },
    {
      "cell_type": "markdown",
      "source": [
        "**LDA는 토픽의 제목을 정해주지 않지만, 이 시점에서 알고리즘의 사용자는 위 결과로부터 두 토픽이 각각 과일에 대한 토픽과 강아지에 대한 토픽이라고 판단**"
      ],
      "metadata": {
        "id": "iOZqMwFBcB_Z"
      }
    }
  ]
}