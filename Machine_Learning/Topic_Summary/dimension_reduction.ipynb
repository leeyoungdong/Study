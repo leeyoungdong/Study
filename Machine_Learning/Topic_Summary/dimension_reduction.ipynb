{
  "nbformat": 4,
  "nbformat_minor": 0,
  "metadata": {
    "colab": {
      "provenance": []
    },
    "kernelspec": {
      "name": "python3",
      "display_name": "Python 3"
    },
    "language_info": {
      "name": "python"
    }
  },
  "cells": [
    {
      "cell_type": "markdown",
      "source": [
        "# **dimension reduction 기법**\n",
        "\n",
        "- 차원 축소는 피처 선택(feature selection)과 피처 추출(feature extraction)으로 나눌 수 있다.\n",
        "- 피처 선택은 특정 피처에 종속성이 강한 불필요한 피처는 제거하고 데이터의 특징을 잘 표현하는 주요 피처만 선택하는 것을 말함.\n",
        "- 피처 추출은 기존 피처를 저차원의 피처로 압축하여, 피처를 함축적으로 잘 설명할 수 있도록 저차원으로 매핑하는 것을 말한다. 대표적인 피처 추출 알고리즘으로 PCA, SVD, NMF, LDA등 존재"
      ],
      "metadata": {
        "id": "Ko0bYbnvX0lZ"
      }
    }
  ]
}