{
  "nbformat": 4,
  "nbformat_minor": 0,
  "metadata": {
    "colab": {
      "provenance": []
    },
    "kernelspec": {
      "name": "python3",
      "display_name": "Python 3"
    },
    "language_info": {
      "name": "python"
    }
  },
  "cells": [
    {
      "cell_type": "markdown",
      "source": [
        "# **XGBoost**"
      ],
      "metadata": {
        "id": "HMtN_bpn51cG"
      }
    },
    {
      "cell_type": "markdown",
      "source": [
        "- XGBoost(eXtreme Gradient Boosting) 이란, 트리 기반의 앙상블 학습에서 가장 각광받고 있는 알고리즘 중 하나.\n",
        "- Kaggle 경연대회에서 상위를 차지한 많은 과학자들이 XGBoost를 이용하면서 널리 알려졌다.\n",
        "- GBM에 기반하고 있지만, GBM의 단점인 느린 수행시간 및 과적합 규제(Regularization) 부재 등의 문제를 해결해서 각광받고 있다."
      ],
      "metadata": {
        "id": "9rf3n4oI51Z_"
      }
    },
    {
      "cell_type": "markdown",
      "source": [
        "**XGBoost의 장점**"
      ],
      "metadata": {
        "id": "NSY8EQPH51VB"
      }
    },
    {
      "cell_type": "markdown",
      "source": [
        "- 분류와 회귀영역에서 뛰어난 예측 성능을 발휘.\n",
        "- XGBoost는 병렬처리를 사용하여, GBM 대비 빠른 수행시간을 보임.\n",
        "- Regularization, Early Stopping 기능을 통해 오버피팅을 방지할 수 있다.\n",
        "- Tree Pruning(가지치기) 제공.\n",
        "- 미리 정해둔 max_depth까지만 split하고 pruning을 하고, 거꾸로 올라가면서 positive gain이 없는 노드를 삭제.\n",
        "- 자체적으로 결측치를 처리해준다.\n",
        "- 매 iteration마다 교차검증을 수행한다."
      ],
      "metadata": {
        "id": "8UImY5tN51TI"
      }
    },
    {
      "cell_type": "markdown",
      "source": [
        "**GBM(Gradient Boosting Algorithm)**"
      ],
      "metadata": {
        "id": "_ESsWmhI6QWv"
      }
    },
    {
      "cell_type": "markdown",
      "source": [
        "- 회귀분석 또는 분류 분석을 수행할 수 있는 예측모형이며 예측모형의 앙상블 방법론 중 부스팅 계열에 속하는 알고리즘이다.\n",
        "- LightGBM, CatBoost, XGBoost는 모두 GBM을 기반으로 만들어졌다."
      ],
      "metadata": {
        "id": "r4QZHtlI51Q_"
      }
    },
    {
      "cell_type": "markdown",
      "source": [
        "**boosting 이라는 테크닉 자체가 sequential 한데 어떻게 병렬처리를 할까?**\n",
        "\n",
        "세가지 가능성이 제기\n",
        "\n",
        "- 나뉜 분기마다 각각 병렬처리하거나\n",
        "- 분기가 나뉘는 지점 계산을 병렬처리 하거나\n",
        "- 처음부터 feature별 정렬을 통해 병렬처리를 할 수 있음"
      ],
      "metadata": {
        "id": "mrMiMIY351OX"
      }
    }
  ]
}