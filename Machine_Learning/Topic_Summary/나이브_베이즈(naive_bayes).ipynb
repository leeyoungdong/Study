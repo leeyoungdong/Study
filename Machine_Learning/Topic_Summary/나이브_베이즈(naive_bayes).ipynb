{
  "nbformat": 4,
  "nbformat_minor": 0,
  "metadata": {
    "colab": {
      "provenance": []
    },
    "kernelspec": {
      "name": "python3",
      "display_name": "Python 3"
    },
    "language_info": {
      "name": "python"
    }
  },
  "cells": [
    {
      "cell_type": "markdown",
      "source": [
        "# **나이브 베이즈(naive bayes)**"
      ],
      "metadata": {
        "id": "ell5mroGeLQX"
      }
    },
    {
      "cell_type": "markdown",
      "source": [
        "- 데이터에서 변수들에 대한 조건부 독립을 가정하는 알고리즘\n",
        "- 클래스에 대한 사전 정보와 데이터로부터 추출된 정보를 결합하고, 베이즈 정리(Bayes Theorem)를 이용하여 어떤 데이터가 특정 클래스에 속하는지 분류하는 알고리즘."
      ],
      "metadata": {
        "id": "DhY8QhBTeLKD"
      }
    },
    {
      "cell_type": "markdown",
      "source": [
        "**장점**"
      ],
      "metadata": {
        "id": "qAz4bbIcePLM"
      }
    },
    {
      "cell_type": "markdown",
      "source": [
        "- 단순하고 빠르며 매우 효과적이다\n",
        "- 노이즈와 결측 데이터가 있어도 잘 수행한다\n",
        "- 훈련에 대한 상대적으로 적은 예제가 필요하지만 매우 많은 예제도 잘 수행한다\n",
        "- 예측에 대한 추정된 확률을 얻기 쉽다"
      ],
      "metadata": {
        "id": "ZaIZ52oTePWq"
      }
    },
    {
      "cell_type": "markdown",
      "source": [
        "**단점**"
      ],
      "metadata": {
        "id": "3WNDdEPmeegt"
      }
    },
    {
      "cell_type": "markdown",
      "source": [
        "- 모든 속성은 동등하게 중요하고 독립적이라는 알려진 결함 가정에 의존한다\n",
        "- 수치 속성으로 구성된 많은 데이터셋에 대해 이상적이지 않다\n",
        "- 추정된 확률은 예측된 범주보다 덜 신뢰적이다"
      ],
      "metadata": {
        "id": "s7cTRMIWefne"
      }
    }
  ]
}