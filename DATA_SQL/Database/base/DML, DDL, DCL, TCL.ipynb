{
  "nbformat": 4,
  "nbformat_minor": 0,
  "metadata": {
    "colab": {
      "provenance": []
    },
    "kernelspec": {
      "name": "python3",
      "display_name": "Python 3"
    },
    "language_info": {
      "name": "python"
    }
  },
  "cells": [
    {
      "cell_type": "markdown",
      "source": [
        "# **DML (Data Manipulation Language)**"
      ],
      "metadata": {
        "id": "Fpqu_cZz4ZMV"
      }
    },
    {
      "cell_type": "markdown",
      "source": [
        "데이터 조작어\n",
        "\n",
        "* SELECT : DB에 들어있는 데이터를 조회/검색하기 위한 명령어. RETRIEVE라고도 함\n",
        "* INSERT : DB 테이블에 들어있는 데이터에 변형을 가하는 명령어 (삽입)\n",
        "* UPDATE : DB 테이블에 들어있는 데이터에 변형을 가하는 명령어 (수정)\n",
        "* DELETE : DB 테이블에 들어있는 데이터에 변형을 가하는 명령어 (삭제)"
      ],
      "metadata": {
        "id": "PS5fVJ434ZJz"
      }
    },
    {
      "cell_type": "markdown",
      "source": [
        "# **DDL (Data Definition Language)**\n"
      ],
      "metadata": {
        "id": "IT6YGqyP4ZHU"
      }
    },
    {
      "cell_type": "markdown",
      "source": [
        "데이터 정의어\n",
        "\n",
        "* CREATE : 테이블과 같은 데이터 구조를 정의하는데 사용되는 명령어 (생성)\n",
        "* ALTER : 테이블과 같은 데이터 구조를 정의하는데 사용되는 명령어 (변경)\n",
        "* DROP : 테이블과 같은 데이터 구조를 정의하는데 사용되는 명령어 (삭제)\n",
        "* RENAME : 테이블과 같은 데이터 구조를 정의하는데 사용되는 명령어 (이름변경)\n",
        "* TRUNCATE : 테이블과 같은 데이터 구조를 정의하는데 사용되는 명령어 (삭제)"
      ],
      "metadata": {
        "id": "W5EMYzdU4ZE9"
      }
    },
    {
      "cell_type": "markdown",
      "source": [
        "# **DCL (Data Control Language)**"
      ],
      "metadata": {
        "id": "-8934kXK4ZCU"
      }
    },
    {
      "cell_type": "markdown",
      "source": [
        "데이터 제어어\n",
        "\n",
        "* GRANT : DB에 접근하고 객체들을 사용하도록 권한을 주는 명령어\n",
        "* REVOKE : 권한을 회수하는 명령어"
      ],
      "metadata": {
        "id": "vagxPZNW4s98"
      }
    },
    {
      "cell_type": "markdown",
      "source": [
        "# **TCL (Transaction Control Language)**"
      ],
      "metadata": {
        "id": "yH0WSejH4tT7"
      }
    },
    {
      "cell_type": "markdown",
      "source": [
        "트랜잭션 제어어\n",
        "\n",
        "* COMMIT : 하나의 트랜잭션인 여러 DML 명령어를 데이터베이스에 반영하겠다는 의미의 명령어 (하나의 트랜잭션 과정이 정상적으로 종료)\n",
        "* ROLLBACK : ROLLBACK은 잘못된 명령이나 잘못된 데이터를 입력하는 등 문제가 발생하였을 때 하나의 트랜잭션을 취소하는 명령어\n",
        "* SAVEPOINT : 하나의 트랜잭션을 작게 분할하여 저장하기 위한 명령어"
      ],
      "metadata": {
        "id": "KZjLF7nU4tqL"
      }
    }
  ]
}