{
  "nbformat": 4,
  "nbformat_minor": 0,
  "metadata": {
    "colab": {
      "provenance": []
    },
    "kernelspec": {
      "name": "python3",
      "display_name": "Python 3"
    },
    "language_info": {
      "name": "python"
    }
  },
  "cells": [
    {
      "cell_type": "markdown",
      "source": [
        "# **Table Copy**"
      ],
      "metadata": {
        "id": "mas5hlHJfzZz"
      }
    },
    {
      "cell_type": "markdown",
      "source": [
        "**테이블 구조 및 데이터 복사**\n",
        "\n",
        "\n",
        "\n",
        "```sql\n",
        "create table sample_schema.copy_table\n",
        "\tas select * from sample_schema.random_point;\n",
        "```\n",
        "\n"
      ],
      "metadata": {
        "id": "ouozsfW3f3WX"
      }
    },
    {
      "cell_type": "markdown",
      "source": [
        "**테이블 구조만 복사**\n",
        "\n",
        "\n",
        "\n",
        "```sql\n",
        "create table sample_schema.copy_table\n",
        "\t(like sample_schema.random_point)\n",
        "```\n",
        "\n"
      ],
      "metadata": {
        "id": "_IXeHDDuf3UZ"
      }
    },
    {
      "cell_type": "markdown",
      "source": [
        "**구조, 인덱스, 제약조건, 데이터 모두 복사**\n",
        "\n",
        "\n",
        "\n",
        "```sql\n",
        "-- 테이블 구조 + 인덱스 + constraint 등 모두 복사하여 테이블 새로 생성\n",
        "create table\n",
        "\tsample_schema.copy_table\n",
        "    \t(like sample_schema.random_point including all);\n",
        "\n",
        "-- 데이터 복사\n",
        "insert into\n",
        "\tsample_schema.copy_table\n",
        "    \t(select * from sample_schema.random_point);\n",
        "```\n",
        "\n"
      ],
      "metadata": {
        "id": "Z7rKX85Bf3SK"
      }
    },
    {
      "cell_type": "markdown",
      "source": [
        "- 만약에 데이터 구조를 복사하는 테이블에 serial 컬럼이 있으면, 복사본 테이블의 컬럼에서 사용하는 serial 의 sequence 는 오리지날 테이블의 serial sequence 를 사용\n",
        "\n",
        "\n",
        "\n",
        "```sql\n",
        "create table\n",
        "    manage_user\n",
        "        (like plan_auth_user including all);\n",
        "\n",
        "\n",
        "\n",
        "select nextval(pg_get_serial_sequence('plan_auth_user', 'id')); commit;\n",
        "-- 여기서 읽힌 숫자보다 큰 숫자가 사용됨.\n",
        "```\n"
      ],
      "metadata": {
        "id": "cEGNCxncf3GA"
      }
    }
  ]
}