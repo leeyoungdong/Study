{
  "nbformat": 4,
  "nbformat_minor": 0,
  "metadata": {
    "colab": {
      "provenance": []
    },
    "kernelspec": {
      "name": "python3",
      "display_name": "Python 3"
    },
    "language_info": {
      "name": "python"
    }
  },
  "cells": [
    {
      "cell_type": "markdown",
      "source": [
        "- 거대한 테이블을 읽거나 쓸 때 PostgreSQL은 버퍼 풀 대신 링 버퍼를 사용.\n",
        "\n",
        "- 링 버퍼는 작고 임시적인 버퍼 영역.\n",
        "  - 다음 조건 중 하나라도 충족되면 링 버퍼가 공유 메모리에 할당됨.\n",
        "\n",
        "**대량 읽기:**\n",
        "\n",
        "- 크기가 버퍼 풀 크기의 1/4을 초과하는 관계( 공유_버퍼 / 4  )이 스캔 되는 경우 링 버퍼 크기는 256KB.\n",
        "\n",
        "**대량 쓰기:**\n",
        "\n",
        "- 아래 나열된 SQL 명령이 실행되는 경우 링 버퍼 크기는 16MB.\n",
        "  - COPY FROM 명령.\n",
        "  - CREATE TABLE AS 명령.\n",
        "  - CREATE MATERIALIZED VIEW 또는 REFRESH MATERIALIZED VIEW 명령.\n",
        "  - ALTER TABLE 명령.\n",
        "\n",
        "**진공 처리:**\n",
        "\n",
        "- 자동 진공이 진공 처리를 수행하는 경우 링 버퍼 크기는 256KB.\n",
        "\n",
        "- 할당된 링버퍼는 사용 후 즉시 해제ㄷ함.\n",
        "\n",
        "- 링 버퍼의 이점\n",
        "\n",
        "  - 백엔드 프로세스가 링 버퍼를 사용하지 않고 대용량 테이블을 읽는 경우 버퍼 풀에 저장된 모든 페이지가 제거되므로 캐시 적중률이 감소.\n",
        "  - 링 버퍼는 거대한 테이블에 임시 버퍼 영역을 제공하여 이 문제를 방지."
      ],
      "metadata": {
        "id": "ToaIXH6xpJk6"
      }
    },
    {
      "cell_type": "markdown",
      "source": [
        "**Why the default ring buffer size for bulk-reading and vacuum processing is 256 KB?**"
      ],
      "metadata": {
        "id": "ZB6yw8OGpJid"
      }
    },
    {
      "cell_type": "markdown",
      "source": [
        "- 순차 스캔의 경우 256KB 링이 사용됨.\n",
        "- 이는 L2 캐시에 들어갈 만큼 작기 때문에 OS 캐시에서 공유 버퍼 캐시로 페이지를 효율적으로 전송할 수 있음\n",
        "- 더 적은 경우에도 충분하지만 링은 동시에 고정된 스캔의 모든 페이지를 수용할 수 있을 만큼 충분히 커야함. (snip)"
      ],
      "metadata": {
        "id": "ZapTIgwopJhC"
      }
    }
  ]
}