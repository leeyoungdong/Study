{
  "nbformat": 4,
  "nbformat_minor": 0,
  "metadata": {
    "colab": {
      "provenance": []
    },
    "kernelspec": {
      "name": "python3",
      "display_name": "Python 3"
    },
    "language_info": {
      "name": "python"
    }
  },
  "cells": [
    {
      "cell_type": "markdown",
      "source": [
        "- 피해자 페이지를 교체하는 것 외에도 체크포인터와 백그라운드 작성기 프로세스는 더티 페이지를 저장소로 플러시\n",
        "- 두 프로세스 모두 더티 페이지를 플러시하는 동일한 기능을 갖고 있지만 역할과 동작이 다\n",
        "\n",
        "- 체크포인터 프로세스는 체크포인트 레코드를 WAL 세그먼트 파일에 기록하고 체크포인트가 시작될 때마다 더티 페이지를 플러시\n",
        "- 체크포인팅과 시작 시기를 설명\n",
        "\n",
        "- Background Writer의 역할은 체크포인트 집중 글쓰기의 영향을 줄이는 것.\n",
        "- 백그라운드 기록기는 데이터베이스 활동에 최소한의 영향을 미치면서 계속해서 더티 페이지를 조금씩 플러시.\n",
        "- 기본적으로 백그라운드 기록기는 200밀리초( bgwriter_delay 로 정의됨 ) 마다 깨어나 bgwriter_lru_maxpages (기본값은 최대 100페이지)를 플러시."
      ],
      "metadata": {
        "id": "_RUGpFli--es"
      }
    },
    {
      "cell_type": "markdown",
      "source": [
        "**Why the checkpointer was separated from the background writer?**"
      ],
      "metadata": {
        "id": "P2KTBBMG--Y9"
      }
    },
    {
      "cell_type": "markdown",
      "source": [
        "- 버전 9.1 이하에서는 백그라운드 작성자가 정기적으로 체크포인트 처리를 수행.\n",
        "\n",
        "- 버전 9.2에서는 체크포인터 프로세스가 백그라운드 기록기 프로세스에서 분리.\n",
        "- 그 이유는 \" Bgwriter와 Checkpointer 분리 \" 라는 제목의 제안에 설명되어 있으므로 , 그 문장은 다음과 같음\n",
        "\n",
        ">- bgwriter 프로세스는 백그라운드 쓰기, 체크포인트 및 기타 작업을 모두 수행.\n",
        ">- 즉, 백그라운드 쓰기를 중지하지 않고는 최종 체크포인트 fsync를 수행할 수 없으므로 한 프로세스에서 두 작업을 모두 수행하면 성능이 저하됨.\n",
        ">- 9.2의 목표는 전력 감소를 위해 폴링 루프를 래치로 교체하는 것\n",
        ">- bgwriter 루프의 복잡성이 높으며 래치를 사용하는 깔끔한 접근 방식이 나올 것 같지 않음"
      ],
      "metadata": {
        "id": "UUJ8kbuX--Xd"
      }
    }
  ]
}