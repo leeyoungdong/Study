{
  "nbformat": 4,
  "nbformat_minor": 0,
  "metadata": {
    "colab": {
      "provenance": []
    },
    "kernelspec": {
      "name": "python3",
      "display_name": "Python 3"
    },
    "language_info": {
      "name": "python"
    }
  },
  "cells": [
    {
      "cell_type": "markdown",
      "source": [
        "# **PostgreSQL 백업 방법**"
      ],
      "metadata": {
        "id": "Aorq8Ya7ZbGI"
      }
    },
    {
      "cell_type": "markdown",
      "source": [
        "- PostgreSQL 은 장애시 복구를 위해 3가지 백업방법이 존재\n",
        "\n",
        "- 3가지 방법은 SQL 덤프 / 파일 시스템 기반 백업 / 아카이브 모드 백업"
      ],
      "metadata": {
        "id": "TdMOX9eMZbEB"
      }
    },
    {
      "cell_type": "markdown",
      "source": [
        "**파일시스템 백업 방법**"
      ],
      "metadata": {
        "id": "C3WQ3xljZbCO"
      }
    },
    {
      "cell_type": "markdown",
      "source": [
        "- 데이터파일을 압축해서 백업하는 방식\n",
        "\n",
        "- 백업 전 PostgreSQL 을 중지해야 함\n",
        "\n",
        "\n",
        "\n",
        "```bash\n",
        "tar -cvzf PostgreSQL.tar.gz /var/lib/postgresql/10/main\n",
        "```\n",
        "\n"
      ],
      "metadata": {
        "id": "M7nYXTCBZa8Z"
      }
    },
    {
      "cell_type": "markdown",
      "source": [
        "**파일시스템 복원 방법**"
      ],
      "metadata": {
        "id": "0odOgJkvZa6W"
      }
    },
    {
      "cell_type": "markdown",
      "source": [
        "- 압축한 파일을 PostgreSQL 데이터경로에 풀어줌\n",
        "  - 이 후 DB 를 재구동.\n",
        "- 버전과 아키텍처에 영향을 받음.\n",
        "\n",
        "- 만약 복원경로가 변경되는 경우에는 pg_ctl 명령어를 사용하여 기본 디렉터리를 변경\n",
        "\n",
        "\n",
        "```bash\n",
        "tar -xvzf PostgreSQL.tar.gz -C /var/lib/postgresql/10/main\n",
        "```\n",
        "\n"
      ],
      "metadata": {
        "id": "K058Ve9VZa4e"
      }
    },
    {
      "cell_type": "markdown",
      "source": [
        "**파일시스템 백업 방식의 단점**"
      ],
      "metadata": {
        "id": "WmOMPqUqZa2f"
      }
    },
    {
      "cell_type": "markdown",
      "source": [
        "- 파일시스템을 정상적으로 백업받기 위해서는, 반드시 데이터베이스 서버를 중지해야 함.\n",
        "  - 모든 클라이언트 접속을 막더라도, tar 명령이 파일 시스템의 단위적 스냅샷을 지원하지 않으며 서버에서 사용하는 버퍼에 대한 정보도 정확하게 반영할 수 없기 때문.\n",
        "\n",
        "\n",
        "- 특정 데이터베이스에 사용하는 파일만 백업을 받고 싶어도, 트랜잭션 커밋과 같이 공통파일로 관리되고 있는 파일때문에 부분 백업이 불가능. (무조건 전체백업)"
      ],
      "metadata": {
        "id": "Oi87rwGoZa0j"
      }
    },
    {
      "cell_type": "markdown",
      "source": [
        "**파일시스템 백업 방식의 주의점**"
      ],
      "metadata": {
        "id": "24u5Jm1ZZayV"
      }
    },
    {
      "cell_type": "markdown",
      "source": [
        "- 만약 파일시스템에서 스냅샷 기능을 완벽하게 제공한다면, (tar압축 하는 순간 시점을 기억) 데이터베이스 서버가 운영 중일 때도 백업이 가능합니다.\n",
        "  - 이 경우에는 운영 중 상태에서 백업되었기 때문에, 백업시점은 운영시점의 이전시점이 됨.\n",
        "\n",
        "- 따라서 백업본으로 서버를 실행하려는 경우 현재 구성된 파일들을 정리해야 함.\n",
        "\n",
        "- 백업 시작 전에 CHECKPOINT 명령을 실행했고, 백업 작업 중간에 생긴 wal 로그파일을 보관하고 있다면 이 wal 로그파일을 사용하여 최신시점으로 복구가 가능. ( wal 복구를 하지 않을수도 있음 )\n"
      ],
      "metadata": {
        "id": "DWwV4-h0fEE5"
      }
    }
  ]
}