{
  "nbformat": 4,
  "nbformat_minor": 0,
  "metadata": {
    "colab": {
      "provenance": []
    },
    "kernelspec": {
      "name": "python3",
      "display_name": "Python 3"
    },
    "language_info": {
      "name": "python"
    }
  },
  "cells": [
    {
      "cell_type": "markdown",
      "source": [
        "- WAL 기록기는 주기적으로 WAL 버퍼를 확인하고 작성되지 않은 모든 XLOG 레코드를 WAL 세그먼트에 쓰는 백그라운드 프로세스.\n",
        "  - 이 프로세스는 XLOG 레코드 쓰기의 급증을 방지하는 데 도움이 됨.\n",
        "  - WAL Writer가 활성화되어 있지 않으면 한 번에 많은 양의 데이터를 커밋할 때 XLOG 레코드 쓰기에 병목 현상이 발생할 수 있음.\n",
        "\n",
        "- WAL 작성자는 기본적으로 활성화되어 있으며 비활성화할 수 없음\n",
        "  - 확인 간격은 구성 매개변수 wal_writer_delay 로 설정되며 기본값은 200밀리초."
      ],
      "metadata": {
        "id": "aTgquJEX2pDS"
      }
    }
  ]
}