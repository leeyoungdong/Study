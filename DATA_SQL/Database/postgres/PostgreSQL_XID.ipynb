{
  "nbformat": 4,
  "nbformat_minor": 0,
  "metadata": {
    "colab": {
      "provenance": []
    },
    "kernelspec": {
      "name": "python3",
      "display_name": "Python 3"
    },
    "language_info": {
      "name": "python"
    }
  },
  "cells": [
    {
      "cell_type": "markdown",
      "source": [
        "# **PostgreSQL XID**"
      ],
      "metadata": {
        "id": "CDB8aEkh75aE"
      }
    },
    {
      "cell_type": "markdown",
      "source": [
        "\n",
        "- PostgreSQL 에서 하나의 튜플은 xmin, xmax 의 2개의 트랜잭션 ID 를 가짐.\n",
        "\n",
        "  - xmin: 튜플이 Insert 될 때 이후 트랜잭션이볼 수 있도록 가지는 Id[Tuple 이 생성된 시점]\n",
        "  - xmax: Update, Delete 가 될 때 해당 시점 Id[Tuple 이 삭제되는 (이전의 값) 인 경우]\n",
        "\n",
        "\n",
        "- 이때 다른 세션에서 해당 데이터를 조회 시 사용되는 트랜잭션ID 가 xmin 과 xmax 사이라면 보여지고, 그렇지 않다면 보여지지 않도록 함\n",
        "\n",
        "- min ~ max 사이의 트랜잭션 ID 를 가진 친구만, 데이터를 볼 수 있고, 그 이외의 상황에선 데이터를 볼 수 없음."
      ],
      "metadata": {
        "id": "_mH8z_qi75WA"
      }
    },
    {
      "cell_type": "markdown",
      "source": [
        "\n",
        "\n",
        "**PostgreSQL 의 XID 제약조건**\n",
        "\n",
        "- TID 는 40억개를 사용할 수 있으며 20억개는 older , 20억개는 newer 로 사용.\n",
        "- 다 쓰면 ID 가 1이 됨.\n",
        "  - 이렇게 될 경우, Id 가 1인 친구는, xmin 40억인 친구가 자신보다 크기에, 조회할 수가 없다.\n",
        "  \n",
        "\n",
        "- 이런 경우를 방지하기 위해 해당 tuple 에 freeze 표기해 무조건 older 로 볼 수 있도록 변경\n",
        " - 이렇게 표기된 tuple 은 항상 어떤 트랜잭션에서도 표기되도록 설정해 줌.\n"
      ],
      "metadata": {
        "id": "5EFVgmNB75Tu"
      }
    },
    {
      "cell_type": "markdown",
      "source": [
        "\n",
        "**XID 측면에서의 vaccum**\n",
        "\n",
        "\n",
        "```\n",
        "autovacuum_freeze_max_age = 1000\n",
        "\n",
        "vacuum_freeze_min_age = 100\n",
        "```\n",
        "\n",
        "- 만약 특정 테이블의 age 가 1000 에 도달하게 된다면, (xid 가 1 증가할때마다 age 도 1 씩 증가) 최근 100 개의 xid 로그를 남겨두고, 나머지는 삭제.[이후 age 는 100 이 됨]\n",
        "  → 100 개 이전의 xid 에서 생성된 table 처럼 됨\n",
        "\n",
        "- **relfrozenxid: vacuum 작업을 수행한 xid (실제 수행된 시점의 xid - vacuum_freeze_min_age 값을 가짐)\n",
        "\n"
      ],
      "metadata": {
        "id": "7uCJYxY575Rn"
      }
    }
  ]
}