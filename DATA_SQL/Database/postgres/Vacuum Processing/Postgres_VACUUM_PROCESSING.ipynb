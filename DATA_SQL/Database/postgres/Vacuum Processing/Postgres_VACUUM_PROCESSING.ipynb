{
  "nbformat": 4,
  "nbformat_minor": 0,
  "metadata": {
    "colab": {
      "provenance": []
    },
    "kernelspec": {
      "name": "python3",
      "display_name": "Python 3"
    },
    "language_info": {
      "name": "python"
    }
  },
  "cells": [
    {
      "cell_type": "markdown",
      "source": [
        "- Vacuum processing는 PostgreSQL의 지속적인 작동을 용이하게 하는 유지 관리 프로세스.\n",
        "- 두 가지 주요 작업은 데드 튜플 과 동결 트랜잭션 ID를 제거하는 것\n",
        "\n",
        "- 데드 튜플을 제거하기 위해 Vacuum processing는 Concurrent VACUUM 및 Full VACUUM 이라는 두 가지 모드를 제공 .\n",
        "- 간단히 VACUUM이라고도 불리는 동시 VACUUM은 테이블 파일의 각 페이지에 대해 데드 튜플을 제거하며, 이 프로세스가 실행되는 동안 다른 트랜잭션이 테이블을 읽을 수 있음.\n",
        "- 이와 대조적으로 Full VACUUM은 데드 튜플을 제거하고 전체 파일의 라이브 튜플 조각 모음을 수행하며 Full VACUUM이 실행되는 동안 다른 트랜잭션은 테이블에 액세스할 수 없음.\n",
        "\n",
        "- PostgreSQL은 Vacuum processing가 필수적임에도 불구하고 다른 기능에 비해 기능 개선이 더디었음.\n",
        "  - 예를 들어 버전 8.0까지는 이 프로세스를 수동으로 실행해야 했음(psql 유틸리티 또는 cron 데몬 사용).\n",
        "  - 이는 2005년에 autovacuum 데몬이 구현되면서 자동화되었음.\n",
        "\n",
        "- Vacuum processing에는 전체 테이블을 스캔하는 작업이 포함되므로 비용이 많이 드는 프로세스. 버전 8.4(2009)에서는 데드 튜플 제거 효율성을 향상시키기 위해 VM(Visibility Map)이 도입.\n",
        "- 버전 9.6(2016)에서는 VM을 강화하여 동결 프로세스가 개선."
      ],
      "metadata": {
        "id": "J0_jD1AlXtrt"
      }
    }
  ]
}