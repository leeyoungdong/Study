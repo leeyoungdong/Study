{
  "nbformat": 4,
  "nbformat_minor": 0,
  "metadata": {
    "colab": {
      "provenance": []
    },
    "kernelspec": {
      "name": "python3",
      "display_name": "Python 3"
    },
    "language_info": {
      "name": "python"
    }
  },
  "cells": [
    {
      "cell_type": "markdown",
      "source": [
        "- MySQL 은 타 DBMS 와 다르게, 하나의 Instance 에 다수개의 Engine 을 등록할 수 있음.\n",
        "\n",
        "- 엔진은 Plug In 방식으로, 아래 명령어로 현재 Plug In 된 엔진을 확인할 수 있음.\n",
        "\n",
        "\n",
        "\n",
        "```sql\n",
        "mysql> SHOW ENGINES;\n",
        "+--------------------+---------+----------------------------------------------------------------+--------------+------+------------+\n",
        "| Engine             | Support | Comment                                                        | Transactions | XA   | Savepoints |\n",
        "+--------------------+---------+----------------------------------------------------------------+--------------+------+------------+\n",
        "| MyISAM             | YES     | MyISAM storage engine                                          | NO           | NO   | NO         |\n",
        "| MRG_MYISAM         | YES     | Collection of identical MyISAM tables                          | NO           | NO   | NO         |\n",
        "| InnoDB             | DEFAULT | Supports transactions, row-level locking, and foreign keys     | YES          | YES  | YES        |\n",
        "| BLACKHOLE          | YES     | /dev/null storage engine (anything you write to it disappears) | NO           | NO   | NO         |\n",
        "| PERFORMANCE_SCHEMA | YES     | Performance Schema                                             | NO           | NO   | NO         |\n",
        "| MEMORY             | YES     | Hash based, stored in memory, useful for temporary tables      | NO           | NO   | NO         |\n",
        "| ARCHIVE            | YES     | Archive storage engine                                         | NO           | NO   | NO         |\n",
        "| CSV                | YES     | CSV storage engine                                             | NO           | NO   | NO         |\n",
        "| FEDERATED          | NO      | Federated MySQL storage engine                                 | NULL         | NULL | NULL       |\n",
        "+--------------------+---------+----------------------------------------------------------------+--------------+------+------------+\n",
        "9 rows in set (0.00 sec)\n",
        "\n",
        "```\n",
        "\n"
      ],
      "metadata": {
        "id": "3J3C4-gBA2KF"
      }
    },
    {
      "cell_type": "markdown",
      "source": [
        "- 주로, InnoDB, MyISAM, Archive 엔진이 사용\n",
        "\n",
        "\n",
        "\n",
        "**InnoDB**\n",
        "\n",
        "- MySQL 에서 기본으로 설정되는 엔진.\n",
        "\n",
        "- 일반적인 DBMS 기능을 지원.\n",
        "\n",
        "\n",
        "\n",
        "**MyISAM**\n",
        "\n",
        "- 트랜잭션을 지원하지 않고, Table 단위의 Locking.\n",
        "\n",
        "- 다수개의 세션이 동시에 작업하는 경우 성능이 저하될 수 있음.\n",
        "\n",
        "\n",
        "\n",
        "**ARCHIVE**\n",
        "\n",
        "- 로그 수집에 적합한 엔진.\n",
        "\n",
        "- 데이터가 메모리상에서 압축된 후, 압축된 상태로 디스크에 저장.\n",
        "\n",
        "- 한번 INSERT 된 데이터는 UPDATE 나 DELETE 를 할 수 없으며, 인덱스를 지원하지 않음.\n",
        "\n",
        "\n",
        "\n"
      ],
      "metadata": {
        "id": "l-CPyIorA2Hk"
      }
    },
    {
      "cell_type": "markdown",
      "source": [
        "**3가지의 엔진에 대한 지원되는 기능.**"
      ],
      "metadata": {
        "id": "RHMA3UjaA2Fd"
      }
    },
    {
      "cell_type": "markdown",
      "source": [
        "| |InnoDB|MyISAM|ARCHIVE|\n",
        "|--|--|--|--|\n",
        "|Storage Limits|64 TB |256 TB |unlimit|\n",
        "|Transactions |YES |NO |NO |\n",
        "|Locking Granularity |Row Level |Table Level |Table Level |\n",
        "|MVCC |YES |NO |NO |\n",
        "|Geospatial Data Type Support |YES |YES |YES |\n",
        "|Geospatial Indexing Support |YES |YES |NO |\n",
        "|B-Tree Indexes |YES |YES |NO |\n",
        "|T-tree Indexes |NO |NO |NO |\n",
        "|Hash Indexes |NO |NO |NO |\n",
        "|Full-Text Search Indexes\t|YES| YES\t|NO |\n",
        "|Clustered Indexes| YES| NO| NO |\n",
        "|Data Caches|YES| NO| NO |\n",
        "|Index Caches\t |YES\t |YES\t NO |\n",
        "|Compressed Data\t| YES\t| YES\t| YES |\n",
        "|Encrypted Data |YES| YES| YES |\n",
        "|Cluster Database Support\t |NO\t| NO\t| NO |\n",
        "|Replication Support| YES| YES| YES |\n",
        "|Foreign Key Support| YES |NO |NO |\n",
        "|Backup Recovery| YES| YES| YES |\n",
        "|Query Cache Support| YES| YES |YES |\n",
        "|Update Statistics For Data Dictionary |YES\t |YES\t| YES|"
      ],
      "metadata": {
        "id": "ehM2H20BA2DW"
      }
    },
    {
      "cell_type": "markdown",
      "source": [
        "- 이외에도 아래의 다양한 스토리지 엔진을 지원"
      ],
      "metadata": {
        "id": "T1GtWxLYA2BQ"
      }
    },
    {
      "cell_type": "markdown",
      "source": [
        "- InnoDB: MySQL의 기본 엔진으로, 트랜잭션, 행 수준 잠금, 외래 키를 지원합니다.\n",
        "- MyISAM: 빠른 읽기 작업에 유리하지만 트랜잭션을 지원하지 않습니다.\n",
        "- MEMORY: 데이터를 RAM에 저장하여 빠른 접근을 가능하게 하며, 임시 데이터에 적합합니다.\n",
        "- CSV: 콤마로 구분된 값이 포함된 텍스트 파일을 사용하며, CSV 형식으로 데이터를 가져오거나 내보낼 때 이상적입니다.\n",
        "- ARCHIVE: 대량의 보관 데이터를 저장하는 데 최적화되어 있습니다.\n",
        "- BLACKHOLE: 데이터를 받지만 저장하지 않으며, 복제 설정에서 유용합니다.\n",
        "- MERGE: 여러 개의 동일한 MyISAM 테이블을 하나로 그룹화합니다.\n",
        "- FEDERATED: 다른 서버에 있는 테이블에 액세스할 수 있습니다.\n",
        "- EXAMPLE: 개발자가 새로운 스토리지 엔진을 만드는 데 사용하는 템플릿입니다.\n",
        "- Aria: MyISAM의 충돌 방지 대안으로 MariaDB에서 사용됩니다.\n",
        "- NDB (NDBCLUSTER): 클러스터 환경을 위한 고가용성 스토리지 엔진입니다.\n",
        "- MyRocks: Facebook에서 개발한 대규모 데이터셋을 효율적으로 저장하기 위한 엔진입니다.\n",
        "- TokuDB: 높은 압축률과 성능 효율성으로 알려져 있습니다.\n",
        "- SPIDER: 여러 서버에 걸쳐 데이터를 연결하고 관리합니다.\n",
        "- Berkeley DB: 트랜잭션을 지원하는 내장형 데이터베이스 시스템입니다.\n",
        "- S3: Amazon S3 서비스와 통합하는 데 사용됩니다.\n",
        "- SEQUENCE: 시퀀스 객체를 생성하기 위해 MariaDB에서 사용됩니다.\n",
        "- SphinxSE: Sphinx 전문 검색과 통합합니다.\n",
        "- Falcon (중단됨): 고성능 엔진을 목표로 했었습니다.\n",
        "- ColumnStore: 실시간 분석 및 열 기반 저장을 위한 엔진입니다.\n",
        "- RocksDB: 키-값 데이터를 위한 고성능 내장형 데이터베이스입니다.\n"
      ],
      "metadata": {
        "id": "AsbJtj68A1_B"
      }
    }
  ]
}