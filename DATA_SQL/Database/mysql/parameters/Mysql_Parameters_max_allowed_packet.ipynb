{
  "nbformat": 4,
  "nbformat_minor": 0,
  "metadata": {
    "colab": {
      "provenance": []
    },
    "kernelspec": {
      "name": "python3",
      "display_name": "Python 3"
    },
    "language_info": {
      "name": "python"
    }
  },
  "cells": [
    {
      "cell_type": "markdown",
      "source": [
        "- max_allowed_packet은 서버에서 읽거나 생성할 수 있는 MySQL 네트워크 패킷의 최대 크기.\n",
        "  - 즉, mysql이 클라이언트와 통신할 때 핸들링할 수있는 데이터 양을 의\n",
        "- 매개변수에는 요구사항에 따라 변경할 수 있는 기본값, 최소값, 최대값이 함께 제공\n",
        "\n",
        "- 여기서 packet 은 TCP/IP의 패킷이 아닌, MySQL Server to Server, Server to client가 주고받는 SQL구문 또는 single row 또는 복제를 위한 binlog event"
      ],
      "metadata": {
        "id": "qg4K_lQoOZC5"
      }
    },
    {
      "cell_type": "markdown",
      "source": [
        "**max_allowed_packet의 설정값**\n",
        "\n",
        "- Client 와 Server는 각각 max_allowed_packet을 가지고 있음\n",
        "  - Client와 Server의 max_allowed_packet을 모두 바꿔 주어야 함\n",
        "  \n",
        "```\n",
        "-- max_allowed_packet 사이즈 확인\n",
        "SHOW VARIABLES WHERE variable_name = 'maxallowed_packet';\n",
        "\n",
        "-- 'max'로 시작ㅈ하는 모든 값들의 사이즈 확인\n",
        "SHOW VARIABLES WHERE variable_name LIKE 'max%';\n",
        "```\n",
        "\n",
        "\n",
        "- my.ini을 통한 설정\n",
        "\n",
        "1. 서버상의 MySQL 환경 파일 열기 - my.ini파일\n",
        "2. Text 찾기에서  max_allowed_packet을 검색\n",
        "3. 기본 default값M  > xxM 변경\n",
        "4. 서비스에서 MySQL 재실행\n",
        "\n",
        "- MySQL명령어를 통한 max_allowed_packet사이즈 설정\n",
        "\n",
        "```\n",
        "SET GLOBAL max_allowed_packet = 1024 * 1024 * 32;\n",
        "SET SESSION max_allowed_packet = 1024 * 1024 * 32;\n",
        "```"
      ],
      "metadata": {
        "id": "tS7kbPNBOZA5"
      }
    }
  ]
}