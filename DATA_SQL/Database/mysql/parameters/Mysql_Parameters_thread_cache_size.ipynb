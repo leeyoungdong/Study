{
  "nbformat": 4,
  "nbformat_minor": 0,
  "metadata": {
    "colab": {
      "provenance": []
    },
    "kernelspec": {
      "name": "python3",
      "display_name": "Python 3"
    },
    "language_info": {
      "name": "python"
    }
  },
  "cells": [
    {
      "cell_type": "markdown",
      "source": [
        "# **thread_cache_size란?**"
      ],
      "metadata": {
        "id": "FcF3JyKq-E7G"
      }
    },
    {
      "cell_type": "markdown",
      "source": [
        "- mysql은 Thread방식의 아키텍처로 설계되어 있으며, Clinet가 접속하게 되면 Thread를 할당해주고 접속이 종료되면 할당했던 Thread를 제거\n",
        "- Client가 접속할 때마다 Thread를 할당하고 제거하는 작업은 Mysql 서버에서는 리소스 낭비 및 성능 저하를 발생시켜 주기적인 모니터링이 필요\n",
        "- 즉, 스레드를 생성하고 해제할 때 메모리를 할당하고 캐시할 메모리를 미리 생성해놓고 적절하게 관리하는 용도\n",
        "  - 커넥션이 종료되었을 때 thread를 바로 반납하지 않고 cache 영역에 keep해두고 나중에 신규 커넥션이 들어오면 thread를 바로 할당.\n",
        "  - 순간 커넥션이 급증하는 시스템에서는 thread를 신규로 생성하지 않고 재사용 하므로 자원을 효율적으로 사용할.\n"
      ],
      "metadata": {
        "id": "QTDLbxXv-Ecz"
      }
    },
    {
      "cell_type": "markdown",
      "source": [
        "**thread_cache_size의 기본값 공식**\n",
        "\n",
        "- 8 + (max_connections / 100)\n",
        "\n",
        "**status를 보고 cache 히트율을 판단해 보는 것이 좋음.**\n",
        "\n",
        "-  select (1 - (@Threads_created / @Connections )) * 100 as \"Threads_created % of Connections\"\\G\n",
        "\n",
        ""
      ],
      "metadata": {
        "id": "c3JOESR6-mLa"
      }
    },
    {
      "cell_type": "markdown",
      "source": [
        "**my.cnf thread_cache_size 확인**\n",
        "\n",
        "\n",
        "```\n",
        "cd /etc/mysql/mysql.conf.d #ubuntu 기준\n",
        "vim mysqld.cnf\n",
        "```\n",
        "\n",
        "### **thread_cache_size가 -1 로 설정된 이유?**\n",
        "- thread_cache_size를 -1로 설정하면 MySQL에서는 자동으로 thread_cache_size를 결정하는 것으로 설정\n",
        "- 이는 현재의 작업 부하, 시스템 자원 상태를 고려하여 최적의 thread_cache_size를 결정하려 할 때 사용\n",
        "- 단, 특정 상황이나 세부 조정이 필요한 경우에는 조절 필요\n",
        "\n",
        "\n",
        "\n",
        "**global status 확인**\n",
        "\n",
        "\n",
        "```\n",
        "show global status like \"%threads_%\";\n",
        "```\n",
        "\n"
      ],
      "metadata": {
        "id": "SUj9Z8Md-EbT"
      }
    },
    {
      "cell_type": "markdown",
      "source": [
        "![image.png](data:image/png;base64,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)"
      ],
      "metadata": {
        "id": "9wgElAZC-EZy"
      }
    },
    {
      "cell_type": "markdown",
      "source": [
        "- Threads_cached : 스레드 캐시에 있는 스레드 수\n",
        "- Threads_connected : 현재 오픈된 스레드 수\n",
        "- Threads_created : 연결을 다루기 위해 생성된 스레드 수\n",
        "- Threads_runnging : sleep상태가 아닌 실행되고 있는 Thread 수\n",
        "\n",
        "\n",
        "> ex. 현재 Threads_created =4 / Threads_connected =4 이다. 이상태에서 Thread_connected =2로 줄게되면 Threads_created=4 / Threads_connected=2 / Threads_cached =2 가 됨.\n",
        ">\n",
        "> - 생성되고 남은 Thread는 Cache로 반납."
      ],
      "metadata": {
        "id": "YCXSm3lm-EYF"
      }
    },
    {
      "cell_type": "markdown",
      "source": [
        "**튜닝 방법**\n",
        "\n",
        "**1. Threads_cache_size 변경**\n",
        "\n",
        "- Thread_created 변수가 증가하는 경우 Thread_cache_size값을 증가 필요\n",
        "- connection을 미리 만들어 Client가 접속할 시 Thread를 만들지 않고 cache의 Thread를 사용자에게 할당\n",
        "- cache의 Thread를 사용하게 되면서 만드는 부하를 감소시키는 장점 보유\n",
        "\n",
        "**2. cache miss ratio**\n",
        "\n",
        "- 캐시 메모리의 성능을 평가하고 최적화하기 위한 지표로 cache에서 요청한 데이터가 cache에 존재하지 않고 주 메모리나 다른 하위 수준의 cache로부터 가져와야 할 때 발생하는 빈도\n",
        "- cache miss ratio는 Threads_created / Connections * 100으로 계산하며 이 때 cache miss ratio가 낮은것이 좋음\n",
        "- 이 비율을 낮추려면 thread_cache_size를 늘려야 하지만 이 값을 늘리면 시스템에 메모리를 많이 사용\n",
        "- 반대로 너무 낮으면 thread를 계속 생성하여 시스템 추가 부하 발생\n",
        "- 일반적으로 Threads_connected Paek-time시 보다 약간 낮은 수치로 설정하는것이 좋음\n",
        "- Threads_connected의 수 100 ~ 120 : 캐시 크기 : 약 20\n",
        "- Threads_connected의 수 500 ~ 700 : 캐시 크기 : 약 200"
      ],
      "metadata": {
        "id": "fVZxuUrY-EW-"
      }
    },
    {
      "cell_type": "markdown",
      "source": [
        "\n",
        "**Threads_튜닝시 성능 확인 지표**\n",
        "\n",
        "```sql\n",
        "\n",
        "show variables like '%thread_cache_size%';\n",
        "\n",
        "show status like 'connections';\n",
        "\n",
        "show status like '%threads_%';\n",
        "```"
      ],
      "metadata": {
        "id": "fqMpEVVQ-EVY"
      }
    },
    {
      "cell_type": "markdown",
      "source": [
        "**고려사항**\n",
        "\n",
        "\n",
        "**성능 영향**\n",
        "- 스레드 캐시 크기와 메모리 사용량의 균형을 맞추는 것.\n",
        "- 캐시가 너무 작으면 스레드가 자주 생성되고, 캐시가 너무 크면 비례적인 이점 없이 더 많은 메모리를 소비.\n",
        "\n",
        "**Threads_created 변수**\n",
        "- MySQL/MariaDB의 이 지표는 서버가 시작된 이후 생성된 스레드 수를 나타냄.\n",
        "- 값이 높으면 서버가 새 스레드를 자주 생성한다는 의미이며, 이는 thread_cache_size가 너무 낮다는 신호일 수 있음.\n",
        "\n",
        "**시스템 리소스**\n",
        "- 메모리 및 CPU와 같은 특정 시스템 리소스를 고려하십시오. 캐시가 클수록 더 많은 메모리가 필요.\n",
        "\n",
        "**서버 로드**\n",
        "- 트래픽이 많은 서버는 캐시 크기가 클수록 이점을 얻을 수 있음.\n",
        "\n",
        "**일반 지침**\n",
        "- 일반적인 경험 법칙은 thread_cache_size를 일반적인 동시 연결 수를 처리할 수 있는 값으로 설정하는 것.\n",
        " - 예를 들어 서버에 일반적으로 약 100개의 동시 연결이 있는 경우 thread_cache_size를 100 이상으로 설정하는 것이 좋은 시작점이 될 수 있음.\n",
        "\n",
        "- 효율적인 결과를 보장하려면 Connections와 Threads_created 간의 차이점을 검사해야 함.\n",
        "- 이러한 상태 변수는 thread_cache_size 값이 정확한지 여부를 보여줌."
      ],
      "metadata": {
        "id": "-pqyibEkArVH"
      }
    }
  ]
}