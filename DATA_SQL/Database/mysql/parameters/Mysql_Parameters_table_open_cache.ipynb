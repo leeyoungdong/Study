{
  "nbformat": 4,
  "nbformat_minor": 0,
  "metadata": {
    "colab": {
      "provenance": []
    },
    "kernelspec": {
      "name": "python3",
      "display_name": "Python 3"
    },
    "language_info": {
      "name": "python"
    }
  },
  "cells": [
    {
      "cell_type": "markdown",
      "source": [
        "# **table_open_cache란?**"
      ],
      "metadata": {
        "id": "VG3gxbQGCWk4"
      }
    },
    {
      "cell_type": "markdown",
      "source": [
        "\n",
        "\n",
        "- 전체 thread에 대해 오픈된 테이블들의 개수를 제한하는 설정. (Open_tables, Opened_tables)\n",
        "  - Default : 2000 (5.7) / 4000 (8.0)\n",
        "\n",
        "- MySQL에서는 테이블을 동시에 쿼리할 수 있음.\n",
        "  -  테이블은 각 쿼리에 대해 독립적으로 열림.\n",
        "  - 이렇게 하면 메모리 사용량이 증가하지만 서버 성능이 향상.\n",
        "\n",
        "- 테이블 오픈된 개수는 OS 파일 디스크립터 개수와 관련이 있는데 MySQL에서는 동일 테이블이라도 여러 thread에서 open했다면 각각에 대해 파일 디스크립터를 할당.\n",
        "\n",
        "\n",
        "- table_open_cache 변수를 구성하면 동일한 클라이언트가 자주 쿼리하는 테이블을 다시 열 필요가 없음.\n",
        "- Table_open_cache는 서버 시작 시 자동으로 크기가 조정.\n",
        "- 캐시가 용량에 도달하고 다른 테이블을 열어야 하는 경우 MySQL은 가장 최근에 사용된 테이블을 제거하여 시작.\n",
        "-  열려 있고 사용 중인 테이블이 현재 모든 공간을 사용하고 있는 경우 새 테이블은 계속 열리지만 테이블이 유휴 상태가 되면 설정된 table_open_cache 값에 도달할 때까지 캐시에서 제거.\n",
        "\n",
        "- 플러시 테이블 명령을 사용하면 캐시에 열려 있는 모든 테이블을 비울 수 있음.\n",
        "\n",
        "\n",
        "- MyISAM 이라면 인덱스 파일 디스크립터와 데이터 파일 디스크립터가 각각 최소 2개 할당될 것이고 이중 인덱스 파일 디스크립터는 thread에 의해 공유되지만 데이터 파일 디스크립터는 각각 할당.\n",
        "\n",
        "- 결과적으로 아래 설정들을 볼 필요가 있음.\n",
        "\n",
        "**varialbes**\n",
        "\n",
        "- ulimit : OS의 오픈가능 파일 디스크립트 제한\n",
        "\n",
        "- open_files_limit : MySQL에서 오픈가능한 테이블 개수\n",
        "\n",
        "- max_connections : MySQL의 커넥션 개수 제한이다. 접속된 커넥션이 많을수록 파일디스크립터를 할당받는 개수가 늘어나므로 확인이 필요.\n",
        "\n",
        "**status**\n",
        "\n",
        "- Open_tables : 현재 오픈된 테이블 수\n",
        "\n",
        "- Opened_tables : 오픈 되었던 테이블 개수\n",
        "\n",
        "\n"
      ],
      "metadata": {
        "id": "XcR5t6nvCWi4"
      }
    },
    {
      "cell_type": "markdown",
      "source": [
        "**MySQL에서 테이블 열고 닫는 방법**\n",
        "\n",
        "- 언제 캐시에 있는 테이블을 닫고 새로운 테이블을 캐시에 저장하는지\n",
        "  - 캐시에 공간이 없을떄 새로운 테이블을 열려는 경우,\n",
        "  - 캐시에 table_open_cache 이상의 항목이 존재하고 사용되지 않을 경우\n",
        "  - 관리자 FLUSH TABLES 작업을 한 경우\n",
        "\n",
        "- 캐쉬가 꽉 차면 서버는 다음과 같이 사용하는 캐시 항목을 찾음\n",
        "\n",
        "  - 사용하지 않고 오래된 테이블\n",
        "  - 새로운 테이블을 열어야하지만 캐시가 가득 해방있는 테이블이없는 경우,필요에 따라서 캐쉬가 일시적으로 확장.\n",
        "  - 캐시가 일시적으로 확장 된 상황에서 테이블이 사용 중 사용하지 않는 상태가 된 때에는 그 테이블이 닫히고 캐시에서 해방"
      ],
      "metadata": {
        "id": "FGmCrQs5KWzb"
      }
    },
    {
      "cell_type": "markdown",
      "source": [
        "\n",
        "**튜닝**\n",
        "\n",
        "- flush tables 명령을 하지 않았는데도 Opened_tables 수치만 계속 증가하면 table_open_cache를 늘릴 필요가 있음.\n",
        "\n",
        "- flush tables 명령으로 특정 병목현상이 해결되는 경우가 있음.\n",
        "\n"
      ],
      "metadata": {
        "id": "h-2ywW-QCWhA"
      }
    },
    {
      "cell_type": "markdown",
      "source": [
        "**table_open_cache 값 결정**\n",
        "\n",
        "- table_open_cache를 조정해야 하는지 평가할 때 Open_tables 변수를 서버 가동 시간 변수와 비교.\n",
        "  -  테이블이 매우 빠르게 증가하면 안 됨.\n",
        "  - 그렇다면 열린 테이블 값이 상당히 느려질 때까지 table_open_cache 값을 늘림.\n",
        "  - 캐시 값을 결정할 때 데이터베이스의 스레드 수와 테이블 수를 고려.\n",
        "\n",
        "- 최대 동시 연결 수(max_connections)에 조인당 최대 테이블 수를 곱함.\n",
        "  -  운영 체제 메모리 제한에 유의.\n",
        "  - table_open_cache를 너무 높게 설정하면 쿼리 및 연결이 실패할 가능성이 높음.\n",
        "  - table_open_cache 변수를 늘릴 수 없는 경우 open_files_limit를 늘려야함 ."
      ],
      "metadata": {
        "id": "6zC6otMaJhA2"
      }
    },
    {
      "cell_type": "markdown",
      "source": [
        "■ Opening Tables?\n",
        "Trying to open a table. Usually very quick unless the limit set by table_open_cache  has been reached, or an ALTER TABLE  or LOCK TABLE  is in progress.\n",
        "테이블을 열려고 합니다. table_open_cache에 의해 설정된 한계에 도달하거나 ALTER TABLE 또는 LOCK TABLE이 진행 중이 아니라면 일반적으로 매우 빠릅니다.\n",
        "■ 결론\n",
        "Opening Table State의 경우 Table_open_cache < open_tables 상태이며 새로운 Table이 open될떄 발생하게된다.\n",
        "해결방안\n",
        "show global status where variable_name in ('Open_tables','Opened_tables'); 명령어로 open_tables가 늘어나고있는지 확인 ⇒ open_tables 만큼 Table_open_cache를 늘려주면서 모니터링\n",
        "■ 관련 Variables\n",
        "1. Table_open_cache\n",
        "\n",
        "캐시 인스턴스에서 열린 상태로 유지할 수 있는 최대 테이블의 수를 나타낸다.\n",
        "Default : 2000 (5.7) / 4000 (8.0)\n",
        "tabe open cache 파라미터의 용도\n",
        "MySQL은 다중 스레드방식으로 운영되는 DBMS입니다. 여러 클라이언트가 붙고 그 안에서 여러 쿼리를 날리는데 그 쿼리 안에는 여러 테이블이 사용될 수 있습니다. 이때 요청되는 테이블이 각 클라이언트에서 공유적으로 열리는것이 아니라 각각의 클라이언트별로 테이블이 열립니다. 이렇게 하면 추가적인 메모리는 사용되지만 각각의 클라이언트에서 독립적으로 사용되는것이기 때문에 속도가 높아지는 효과가 발생하게 됩니다. 이것이 바로 table open cache 파라미터의 용도입니다.\n",
        "\n",
        "\n",
        "mysql> show variables like '%table_open_cache%';\n",
        "+----------------------------+-------+\n",
        "| Variable_name              | Value |\n",
        "+----------------------------+-------+\n",
        "| table_open_cache           | 4000  |\n",
        "| table_open_cache_instances | 16    |\n",
        "+----------------------------+-------+\n",
        "2 rows in set (0.00 sec)\n",
        "MySQL에서 테이블 열고 닫는 방\n",
        "언제 캐시에 있는 테이블을 닫고 새로운 테이블을 캐시에 저장할까 ?\n",
        "캐시에 공간이 없을떄 새로운 테이블을 열려는 경우,\n",
        "캐시에 table_open_cache 이상의 항목이 존재하고 사용되지 않을 경우\n",
        "관리자 FLUSH TABLES 작업을 한 경우\n",
        "캐쉬가 꽉 차면 서버는 다음과 같이 사용하는 캐시 항목을 찾습니다.\n",
        "사용하지 않고 오래된 테이블\n",
        "새로운 테이블을 열어야하지만 캐시가 가득 해방있는 테이블이없는 경우,필요에 따라서 캐쉬가 일시적으로 확장됩니다. 캐시가 일시적으로 확장 된 상황에서 테이블이 사용 중 사용하지 않는 상태가 된 때에는 그 테이블이 닫히고 캐시에서 해방됩니다\n",
        "■ Opening Tables 상태 테스트\n",
        "- 테스트 Table을 넣은후 여러 Table에 여러 Session이 붙었을떄 Opening Table Status가 발생하는것을 확인하고 table_open_cache값을 늘려줌으로써 해당 현상이 해소되는 것을 확인해 볼 예정이다.\n",
        "\n",
        "\n",
        "\n",
        "1. Table_open_cache 설정\n",
        "\n",
        "\n",
        "# 서버 재기동\n",
        "service mysql restart\n",
        "\n",
        "# Table_open_cache를 1024로 설정\n",
        "mysql> set global table_open_cache=1024;\n",
        "Query OK, 0 rows affected (0.00 sec)\n",
        "\n",
        "# 현재 Open Table\n",
        "mysql> SELECT * FROM performance_schema.global_status WHERE variable_name LIKE 'Open%table%';\n",
        "+--------------------------+----------------+\n",
        "| VARIABLE_NAME            | VARIABLE_VALUE |\n",
        "+--------------------------+----------------+\n",
        "| Open_table_definitions   | 43             |\n",
        "| Open_tables              | 54             |\n",
        "| Opened_table_definitions | 70             |\n",
        "| Opened_tables            | 133            |\n",
        "+--------------------------+----------------+\n",
        "4 rows in set (0.00 sec)\n",
        "\n",
        "\n",
        "2. 여러 Table을 여러 Session에서 Select\n",
        "\n",
        "\n",
        "## 50개의 Session이 500개의 Table을 Select 100초 동\n",
        "[root@pmm-client scripts]# mysqlslap -uroot -p --create-schema=many_tables --query=query_many_tables.sql --concurrency=50 --iterations=100\n",
        "\n",
        "\n",
        "\n",
        "\n",
        "3. processlist & Open_tables 모니터링\n",
        "\n",
        "Table_open_cache 변경전: Session들의 Opening tables state가 발생하게되며 Open_tables가 Table_open_cache값에서 멈춰있다.\n",
        "Table_open_cache 변경후 Session들의 Opening tables state가 없어지고 Open_tables값이 증가한것을 확인할 수 있다.\n",
        "결론적으로 table_open_cache Size의 부족으로 인해 opening table state와 서비스에 이상이 생겼고 이를 늘림으로써 해당 Issue가 해결되었다.\n",
        "\n",
        "[root@pmm-client ~]# mysqladmin -uroot -poracle -i 1 processlist > lee.log\n",
        "\n",
        "mysql> SELECT * FROM performance_schema.global_status WHERE variable_name LIKE 'Open%table%';\n",
        "+--------------------------+----------------+\n",
        "| VARIABLE_NAME            | VARIABLE_VALUE |\n",
        "+--------------------------+----------------+\n",
        "| Open_table_definitions   | 545            |\n",
        "| Open_tables              | 1024           |\n",
        "| Opened_table_definitions | 572            |\n",
        "| Opened_tables            | 289619         |\n",
        "+--------------------------+----------------+\n",
        "4 rows in set (0.00 sec)\n",
        "\n",
        "#### TABLE_OPEN_CACHE 변경전\n",
        "+------+-----------------+-----------+-------------+---------+------+------------------------+-----------------------------------+\n",
        "| Id   | User            | Host      | db          | Command | Time | State                  | Info                              |\n",
        "+------+-----------------+-----------+-------------+---------+------+------------------------+-----------------------------------+\n",
        "| 5    | event_scheduler | localhost |             | Daemon  | 319  | Waiting on empty queue |                                   |\n",
        "| 8    | root            | localhost |             | Sleep   | 4    |                        |                                   |\n",
        "| 15   | root            | localhost |             | Query   | 0    | init                   | show processlist                  |\n",
        "| 16   | root            | localhost |             | Sleep   | 59   |                        |                                   |\n",
        "| 1967 | root            | localhost | many_tables | Query   | 0    | closing tables         | SELECT * FROM many_tables.tbl_165 |\n",
        "| 1968 | root            | localhost | many_tables | Query   | 0    | Opening tables         | SELECT * FROM many_tables.tbl_170 |\n",
        "| 1969 | root            | localhost | many_tables | Sleep   | 0    |                        |                                   |\n",
        "| 1970 | root            | localhost | many_tables | Sleep   | 0    |                        |                                   |\n",
        "| 1971 | root            | localhost | many_tables | Query   | 0    | Opening tables         | SELECT * FROM many_tables.tbl_170 |\n",
        "| 1972 | root            | localhost | many_tables | Sleep   | 0    |                        |                                   |\n",
        "| 1973 | root            | localhost | many_tables | Sleep   | 0    |                        |                                   |\n",
        "| 1974 | root            | localhost | many_tables | Query   | 0    | Opening tables         | SELECT * FROM many_tables.tbl_170 |\n",
        "| 1975 | root            | localhost | many_tables | Query   | 0    | closing tables         | SELECT * FROM many_tables.tbl_75  |\n",
        "| 1976 | root            | localhost | many_tables | Query   | 0    | Opening tables         | SELECT * FROM many_tables.tbl_170 |\n",
        "| 1977 | root            | localhost | many_tables | Sleep   | 0    |                        |                                   |\n",
        "| 1978 | root            | localhost | many_tables | Sleep   | 0    |                        |                                   |\n",
        "| 1979 | root            | localhost | many_tables | Sleep   | 0    |                        |                                   |\n",
        "| 1980 | root            | localhost | many_tables | Sleep   | 0    |                        |                                   |\n",
        "| 1981 | root            | localhost | many_tables | Query   | 0    | Opening tables         | SELECT * FROM many_tables.tbl_170 |\n",
        "| 1982 | root            | localhost | many_tables | Sleep   | 0    |                        |                                   |\n",
        "| 1983 | root            | localhost | many_tables | Query   | 0    | executing              | SELECT * FROM many_tables.tbl_143 |\n",
        "| 1984 | root            | localhost | many_tables | Sleep   | 0    |                        |                                   |\n",
        "| 1985 | root            | localhost | many_tables | Sleep   | 0    |                        |                                   |\n",
        "| 1986 | root            | localhost | many_tables | Sleep   | 0    |                        |                                   |\n",
        "| 1987 | root            | localhost | many_tables | Query   | 0    | executing              | SELECT * FROM many_tables.tbl_169 |\n",
        "| 1988 | root            | localhost | many_tables | Sleep   | 0    |                        |                                   |\n",
        "| 1989 | root            | localhost | many_tables | Sleep   | 0    |                        |                                   |\n",
        "| 1990 | root            | localhost | many_tables | Query   | 0    | Opening tables         | SELECT * FROM many_tables.tbl_170 |\n",
        "| 1991 | root            | localhost | many_tables | Query   | 0    | Opening tables         | SELECT * FROM many_tables.tbl_170 |\n",
        "| 1992 | root            | localhost | many_tables | Sleep   | 0    |                        |                                   |\n",
        "| 1993 | root            | localhost | many_tables | Sleep   | 0    |                        |                                   |\n",
        "| 1994 | root            | localhost | many_tables | Sleep   | 0    |                        |                                   |\n",
        "| 1995 | root            | localhost | many_tables | Query   | 0    | Sending to client      | SELECT * FROM many_tables.tbl_105 |\n",
        "| 1996 | root            | localhost | many_tables | Query   | 0    | Opening tables         | SELECT * FROM many_tables.tbl_170 |\n",
        "| 1997 | root            | localhost | many_tables | Query   | 0    | Opening tables         | SELECT * FROM many_tables.tbl_157 |\n",
        "| 1998 | root            | localhost | many_tables | Sleep   | 0    |                        |                                   |\n",
        "| 1999 | root            | localhost | many_tables | Query   | 0    | Opening tables         | SELECT * FROM many_tables.tbl_170 |\n",
        "\n",
        "#### Table_open_cache 변경\n",
        "mysql>  set global table_open_cache=10000;\n",
        "Query OK, 0 rows affected (0.00 sec)\n",
        "\n",
        "mysql> SELECT * FROM performance_schema.global_status WHERE variable_name LIKE 'Open%table%';\n",
        "+--------------------------+----------------+\n",
        "| VARIABLE_NAME            | VARIABLE_VALUE |\n",
        "+--------------------------+----------------+\n",
        "| Open_table_definitions   | 545            |\n",
        "| Open_tables              | 8666           |\n",
        "| Opened_table_definitions | 572            |\n",
        "| Opened_tables            | 594801         |\n",
        "+--------------------------+----------------+\n",
        "4 rows in set (0.00 sec)\n",
        "\n",
        "+------+-----------------+-----------+-------------+---------+------+------------------------+-----------------------------------+\n",
        "| Id   | User            | Host      | db          | Command | Time | State                  | Info                              |\n",
        "+------+-----------------+-----------+-------------+---------+------+------------------------+-----------------------------------+\n",
        "| 5    | event_scheduler | localhost |             | Daemon  | 328  | Waiting on empty queue |                                   |\n",
        "| 8    | root            | localhost |             | Sleep   | 1    |                        |                                   |\n",
        "| 15   | root            | localhost |             | Query   | 0    | init                   | show processlist                  |\n",
        "| 16   | root            | localhost |             | Sleep   | 68   |                        |                                   |\n",
        "| 2517 | root            | localhost | many_tables | Sleep   | 0    |                        |                                   |\n",
        "| 2518 | root            | localhost | many_tables | Sleep   | 0    |                        |                                   |\n",
        "| 2519 | root            | localhost | many_tables | Sleep   | 0    |                        |                                   |\n",
        "| 2520 | root            | localhost | many_tables | Sleep   | 0    |                        |                                   |\n",
        "| 2521 | root            | localhost | many_tables | Sleep   | 0    |                        |                                   |\n",
        "| 2522 | root            | localhost | many_tables | Sleep   | 0    |                        |                                   |\n",
        "| 2523 | root            | localhost | many_tables | Sleep   | 0    |                        |                                   |\n",
        "| 2524 | root            | localhost | many_tables | Sleep   | 0    |                        |                                   |\n",
        "| 2525 | root            | localhost | many_tables | Sleep   | 0    |                        |                                   |\n",
        "| 2526 | root            | localhost | many_tables | Sleep   | 0    |                        |                                   |\n",
        "| 2527 | root            | localhost | many_tables | Sleep   | 0    |                        |                                   |\n",
        "| 2528 | root            | localhost | many_tables | Sleep   | 0    |                        |                                   |\n",
        "| 2529 | root            | localhost | many_tables | Sleep   | 0    |                        |                                   |\n",
        "| 2530 | root            | localhost | many_tables | Query   | 0    | starting               | SELECT * FROM many_tables.tbl_284 |\n",
        "| 2531 | root            | localhost | many_tables | Sleep   | 0    |                        |                                   |\n",
        "| 2532 | root            | localhost | many_tables | Sleep   | 0    |                        |                                   |\n",
        "| 2533 | root            | localhost | many_tables | Sleep   | 0    |                        |                                   |\n",
        "| 2534 | root            | localhost | many_tables | Sleep   | 0    |                        |                                   |\n",
        "| 2535 | root            | localhost | many_tables | Sleep   | 0    |                        |                                   |\n",
        "| 2536 | root            | localhost | many_tables | Sleep   | 0    |                        |                                   |\n",
        "| 2537 | root            | localhost | many_tables | Sleep   | 0    |                        |                                   |\n",
        "| 2538 | root            | localhost | many_tables | Sleep   | 0    |                        |                                   |\n",
        "| 2539 | root            | localhost | many_tables | Sleep   | 0    |                        |                                   |\n",
        "| 2540 | root            | localhost | many_tables | Sleep   | 0    |                        |                                   |\n",
        "| 2541 | root            | localhost | many_tables | Sleep   | 0    |                        |                                   |\n",
        "| 2542 | root            | localhost | many_tables | Sleep   | 0    |                        |                                   |\n",
        "| 2543 | root            | localhost | many_tables | Sleep   | 0    |                        |                                   |\n",
        "| 2544 | root            | localhost | many_tables | Sleep   | 0    |                        |                                   |\n",
        "| 2545 | root            | localhost | many_tables | Sleep   | 0    |                        |                                   |\n",
        "| 2546 | root            | localhost | many_tables | Sleep   | 0    |                        |                                   |\n",
        "| 2547 | root            | localhost | many_tables | Sleep   | 0    |                        |                                   |\n",
        "| 2548 | root            | localhost | many_tables | Sleep   | 0    |                        |                                   |\n",
        "| 2549 | root            | localhost | many_tables | Sleep   | 0    |                        |                                   |\n",
        "| 2550 | root            | localhost | many_tables | Sleep   | 0    |                        |                                   |\n",
        "| 2551 | root            | localhost | many_tables | Sleep   | 0    |                        |                                   |\n",
        "| 2552 | root            | localhost | many_tables | Sleep   | 0    |                        |                                   |\n",
        "| 2553 | root            | localhost | many_tables | Sleep   | 0    |                        |                                   |\n"
      ],
      "metadata": {
        "id": "CFW2tRk5CWcW"
      }
    },
    {
      "cell_type": "markdown",
      "source": [],
      "metadata": {
        "id": "dfDG9zwSCWZZ"
      }
    },
    {
      "cell_type": "markdown",
      "source": [],
      "metadata": {
        "id": "c9bk9XRECWWm"
      }
    },
    {
      "cell_type": "markdown",
      "source": [],
      "metadata": {
        "id": "_dvnAO_JCWUX"
      }
    },
    {
      "cell_type": "markdown",
      "source": [],
      "metadata": {
        "id": "LwBl1YoTCWSH"
      }
    },
    {
      "cell_type": "markdown",
      "source": [],
      "metadata": {
        "id": "RMY3IByOCWQe"
      }
    },
    {
      "cell_type": "markdown",
      "source": [],
      "metadata": {
        "id": "1O9WjnRGCWNO"
      }
    },
    {
      "cell_type": "markdown",
      "source": [],
      "metadata": {
        "id": "0nCKPMC6CVcO"
      }
    },
    {
      "cell_type": "markdown",
      "source": [],
      "metadata": {
        "id": "PG2or5Q3CVaH"
      }
    }
  ]
}