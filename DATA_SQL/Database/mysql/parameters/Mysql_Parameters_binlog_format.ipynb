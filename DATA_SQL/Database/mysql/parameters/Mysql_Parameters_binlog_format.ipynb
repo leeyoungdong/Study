{
  "nbformat": 4,
  "nbformat_minor": 0,
  "metadata": {
    "colab": {
      "provenance": []
    },
    "kernelspec": {
      "name": "python3",
      "display_name": "Python 3"
    },
    "language_info": {
      "name": "python"
    }
  },
  "cells": [
    {
      "cell_type": "markdown",
      "source": [
        "- MySQL 로 Replication(복제)을 구성 시 Binlog타입을 Statement/Row/Mixed로 설정할 수 있음.\n",
        "\n",
        "- Binlog(Binary Log)는 데이터 변경 시, 변경 내역들을 쭉 저정해놓은 로그들로,\n",
        "특정 시점 데이터가 있다면, 그 이후부터 Binlog를 적용한다면, 시점 복구까지 가능.\n",
        "\n",
        "- Statement Format : 가장 오래된 Format으로 데이터 변경에서 사용되는 모든 쿼리를 쿼리대로 저장하는 방식을 말함(5.7까지 기본 Format)\n",
        "\n",
        "- Row Format : 변경 작업으로 변경된 모든 Row의 정보를 기록하는 방식\n",
        "\n",
        "- Mixed Format : Statement 방식과 Row 방식을 혼합한 방식으로 기본은 Statement 방식이고, 몇몇의 경우에는 Row방식으로 동작하는 방식\n",
        "\n",
        "\n",
        "\n"
      ],
      "metadata": {
        "id": "tq-wzg4llo6e"
      }
    },
    {
      "cell_type": "markdown",
      "source": [
        "**Row 와 Statement**\n",
        "\n",
        "- 데이터베이스에 작은 변경을 많이 발생 시키는 쓰레드는 열 기반 로깅을 선호.\n",
        "  - WHERE 구문에 있는 많은 열과 매치가 되는 업데이트를 실행하는 쓰레드는 명령문 기반 로깅을 선호하는데, 그 이유는 많은 열을 로깅하는 것 보다는 적은 명령문 로깅이 효과적이기 때문.\n",
        "- 마스터에서 오랜 실행 시간 동안 실행되지만 비교적 적은 수의 열만을 수정하는 명령문들이 있음.\n",
        "  - 이러한 명령문들은 열 기반 로깅을 사용해서 복제하는 것이 보다 효과적"
      ],
      "metadata": {
        "id": "0nDvzMDMjtUn"
      }
    },
    {
      "cell_type": "markdown",
      "source": [
        "# **Statement 기반 바이너리 로그 포맷**\n",
        "\n",
        "- 다수의 데이터가 수정된 경우에도 단순히 쿼리만 기록되기에 적은 용량의 로그파일을 관리할 수 있다는 장점\n",
        "\n",
        "**제한사항**\n",
        "\n",
        "**REPEATABLE-READ 이상의 트랜잭션 격리 수준 사용**\n",
        "\n",
        "- MySQL의 기본 격리 수준인 REPEATABLE-READ 이상을 사용해야만 함.\n",
        "- READ-COMMITTED 방식의 경우 하나의 트랜잭션에서 실행 시점에 따라 스냅샷이 달라지기 때문에 데이터가 불일치하는 문제가 발생할 수 있음.\n",
        "\n",
        "\n",
        "\n",
        "**비 확정적으로 처리되는 쿼리문 사용 불가**\n",
        "\n",
        "- 아래의 쿼리문과 같이 정확한 결과 값을 추론할 수 없는 경우. 소스와 레플리카의 데이터가 일치하지 않을 수 있음.\n",
        "\n",
        "\n",
        "- 동일한 파라미터 값을 입력하더라도 결과가 달라질 수 있는 사용자 정의 함수나 프로시저를 사용하는 쿼리\n",
        "\n",
        "\n",
        "\n",
        "```\n",
        "DELETE/UPDATE 쿼리에서 ORDER BY 없이 사용\n",
        "\n",
        "SELECT ... FOR UPDATE 및 SELECT ... FOR SHARE쿼리에서 NOWAIT이나 SKIP LOCKED 사용\n",
        "\n",
        "LOAD_FILE(), UUID(), UUID_SHORT(), USER(), FOUND_ROWS(), RAND(), VERSION() 등과 같은 함수를 사용하는 쿼리\n",
        "```\n",
        "\n",
        "- 간단한 예시로 uuid() 함수를 통해 데이터를 생성할 경우 데이터 값이 달라 질 수 있으며 이후 해당 데이터를 uuid() 기준으로 삭제할 때 레플리카의 데이터만 남게되는 문제가 발생하게 됨\n",
        "\n",
        "\n",
        "```\n",
        "INSERT INTO test.tb_person(name,age,uuid) values ('Omty',20,uuid())\n",
        "```\n",
        "\n",
        "**Row 포맷보다 더 많은 Lock을 사용**\n",
        "\n",
        "- 데이터가 복사되는 Row 포맷과 달리 쿼리문을 호출하는 방식이기에 조건에 따라 더 많은 Lock을 걸어 복제 지연이 발생할 수 있음.\n",
        "\n",
        "\n",
        "\n"
      ],
      "metadata": {
        "id": "U6H6LjPLjV_G"
      }
    },
    {
      "cell_type": "markdown",
      "source": [
        "# **Row 기반 바이너리 로그 포맷**\n",
        "\n",
        "- Row 방식의 경우 데이터를 로깅하는 방식이기에 복제 시 소스와 레플리카 서버의 데이터 일관성을 유지하는 안전한 방식\n",
        "\n",
        "\n",
        "**Statement 방식과 차이점**\n",
        "\n",
        "- 변경된 데이터가 바로 적용되기에 더 적은 Lock을 점유\n",
        "- 모든 트랜잭션에서 사용이 가능\n",
        "- 쿼리 결과에 의한 값을 전달하기에 변경된 데이터가 많을 수록 바이너리 로그 파일 크기가 커짐\n",
        "- 다만 사용자 계정 생성 및 구한 또는 CREATE , ALTER, DROP 등 DDL 문의 경우 STATEMENT 형태로 로깅.\n",
        "\n",
        "\n",
        "**Row 포맷 Binary 파일 확인 방법**\n",
        "\n",
        "- Row 포맷의 경우 실행된 쿼리를 확인하기 어렵기 때문에 mysqlbinlog 사용 시 옵션을 통해 쿼리 형태로 확인할 수 있는 기능을 제공.\n",
        "\n",
        "> -v : 변경된 데이터를 유사 SQL 형태로 변환\n",
        ">\n",
        "> -vv : -v 옵션의 변경된 데이터에 타입을 추가로 표시함\n",
        ">\n",
        "> --base64-output=DECODE-ROWS : Base64 문자열로 인코딩된 변경 데이터를 표시하지 않음\n",
        "\n",
        "\n",
        "\n",
        "```\n",
        "$ mysqlbinlog -uroot -p -v --base64-output=DECODE-ROWS binlog.000011 > binlog.sql\n",
        "```"
      ],
      "metadata": {
        "id": "Y3oc1-g4jV9P"
      }
    },
    {
      "cell_type": "markdown",
      "source": [
        "# **Mixed 포맷**\n",
        "\n",
        "- Mixed 포맷의 경우 Statement방식과 Row방식을 혼합하여 사용\n",
        "- 기본적으로는 Statement 방식을 사용하며 실행된 쿼리와 스토리지 엔진의 종류에 따라 필요시 자동으로 Row포맷으로 전환 후 로그에 기록.\n",
        "  - 예시로 Statement 에서 비 확정적으로 처리되는 쿼리문의 경우 Row 포맷으로 전환되어 기록.\n",
        "  - 장점만 합쳐놨다면 Mixed 포맷이 가장 좋다고 생각될 수 있지만 간혹 예상치 못한 방식으로 로깅될 가능성 또한 존재.\n",
        "\n",
        "\n",
        "\n",
        "**복제 포맷 적용**\n",
        "\n",
        "```\n",
        "[mysqld]\n",
        "\n",
        "--binlog-format=formt\n",
        "\n",
        "-- 전역\n",
        "mysql> SET GLOBAL binlog_format = 'STATEMENT';\n",
        "mysql> SET GLOBAL binlog_format = 'ROW';\n",
        "mysql> SET GLOBAL binlog_format = 'MIXED';\n",
        "\n",
        "-- 세션\n",
        "mysql> SET SESSION binlog_format = 'STATEMENT';\n",
        "mysql> SET SESSION binlog_format = 'ROW';\n",
        "mysql> SET SESSION binlog_format = 'MIXED';\n",
        "```\n",
        "\n",
        "- binlog_format은 동적으로 수정이 가능하며 Session 단위 적용이 가능.\n",
        "- ROW 방식을 사용 중일 때 대량의 변경 사항 적용이 필요할 경우 해당 내용만 SESSION으로 Statement 포맷을 적용하게 되면 파일이 커지는 것을 방지 할 수 있음.\n",
        "\n",
        "- 반대로 Statement 방식일 때 쿼리 실행 시간에 비해 변경되는 데이터가 적을 경우 Row 방식을 사용하면 처리 시간 및 Lock 점유를 줄일 수 있음.\n",
        "\n",
        "\n",
        "\n",
        "**예외**\n",
        "\n",
        "- 임시 테이블을 사용하는 경우 Statement 포맷은 기록이 되나 ROW 포맷의 경우 기록되지 않음.\n",
        "\n",
        "\n"
      ],
      "metadata": {
        "id": "9IvHwTXOjV6S"
      }
    },
    {
      "cell_type": "markdown",
      "source": [
        "**Format 변경시 문제 발생하는 시점**\n",
        "\n",
        "- Trigger나 Stored Function을 사용하고 있는 경우\n",
        "- NDB Cluster Storage Engine을 사용하고 있는 경우\n",
        "- 현재 Temporary Table을 사용하고 있는 세션이 있는 경우(세션이 행 기반 복제 모드이고 열린 임시테이블이 존재할 경우)\n",
        "\n"
      ],
      "metadata": {
        "id": "uD1c4Sc8jV44"
      }
    },
    {
      "cell_type": "markdown",
      "source": [
        "**Storage Engine별로 지원하는 포멧**"
      ],
      "metadata": {
        "id": "SiEFLnMdjV2T"
      }
    },
    {
      "cell_type": "markdown",
      "source": [
        "![image.png](data:image/png;base64,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)"
      ],
      "metadata": {
        "id": "xSm_aSFJk0Cw"
      }
    },
    {
      "cell_type": "markdown",
      "source": [
        "**Storage Engine별 지원하는 logging 형태에 따라 2가지로 분류**\n",
        "- SLC (Statement-Logging Capable) - Statement Logging Storage\n",
        "Engine.\n",
        "- RLC (Row-Logging Capable) - Row Logging 방식을 지원하는 Storage Engine\n",
        "\n",
        "**Binary Log에 작성되는 3가지 종류**\n",
        "\n",
        "- Safe : Statement 방식으로 작성 시 Replication 이나 복구 시에 문제가 되지 않는 쿼리 형태\n",
        "- UnSafe : Statement 방식으로 작성 시 Replication 이나 복구 시에 문제가 되는 쿼리 형태\n",
        "- Row/Binary Injection : Row Event로 Row Based 방식으로 실행하기 위해 저장되는 Event형태 (Row format 으로 로깅해야 지만, 변경 내역이 저장되는 것을 의미)\n",
        "\n",
        "**MySQL은 Grant 작업은 직접적인 DML로 진행될 수도 있으나 간접적인 DDL 구문으로 실 행가능**\n",
        "\n",
        "- 직접적으로 실행되는 DML 는 Binlog_format에 따라 작성되는 방법이 다름 (Insert / Update / Delete / Replace / Do/ Load Data Infile / Select / Truncate table)\n",
        "- 간접적으로 실행되는 DDL 문은 Binlog_format과 상관없이 무조건 Statement방식으로 저장(Grant / Revoke / Set Password / Rename User / Create / Alter Drop)\n",
        "- Create table .. Select 경우 Create Table 은 Statement 방식으로 저장되고 Select 부분 은 Binlog_format 설정값에 따라 달라짐"
      ],
      "metadata": {
        "id": "208hbld0l8RO"
      }
    },
    {
      "cell_type": "markdown",
      "source": [
        "**주의 사항**\n",
        "\n",
        "- InnoDB 테이블을 사용 중이고 트랜잭션 격리 수준이 READ COMMITTED 또는 READ UNCOMMITTED인 경우 STATEMENT format은 사용할 수 없고, ROW format만 사용할 수 있음.\n",
        "  - 하지만 READ-COMMITED 환경에서는 다른세션에서 commit 발생시 트랜잭션에서 조회하는 데이터가 달라지기 때문에 원본 DB와 동일한 결과값을 보장할 수 없음.\n",
        "-  REPEATABLE READ 환경에서는 트랜잭션 내에서 읽기 일관성을 보장하기 때문에, statement 단위로 로깅해도 원본 DB와 동일한 결과를 보장.\n",
        "- source 서버의 binlog format변경은 replica에 반영되지 않음\n",
        "- replica는 row format binlog를 statment format으로 변환해서 사용할수 없음.\n",
        "  - 따라서 source서버가 row format을 사용하면 replica도 row format을 사용해야함."
      ],
      "metadata": {
        "id": "fRN0gooujfKS"
      }
    }
  ]
}