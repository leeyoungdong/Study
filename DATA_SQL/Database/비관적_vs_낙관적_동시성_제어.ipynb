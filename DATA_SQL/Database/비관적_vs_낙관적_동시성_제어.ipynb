{
  "nbformat": 4,
  "nbformat_minor": 0,
  "metadata": {
    "colab": {
      "provenance": []
    },
    "kernelspec": {
      "name": "python3",
      "display_name": "Python 3"
    },
    "language_info": {
      "name": "python"
    }
  },
  "cells": [
    {
      "cell_type": "markdown",
      "source": [
        "# **비관적 동시성 제어**"
      ],
      "metadata": {
        "id": "PiyNros-XEwU"
      }
    },
    {
      "cell_type": "markdown",
      "source": [
        "- 비관적 동시성 제어는 사용자들이 같은 데이터를 동시에 수정 할 것이라고 가정.\n",
        "- 한사용자가 데이터를 읽는 시점에 Lock을 걸고 조회 또는 갱신 처리가 완료될 때 까지 유지.\n",
        "- 그러므로 첫번째 사용자가 트랜잭션을 완료하기 전까지 다른 사용자들이 데이터를 수정할수 없기때문에 제어를 잘못하면 동시성을 저해 받게 된다."
      ],
      "metadata": {
        "id": "0BVbQWkGXEus"
      }
    },
    {
      "cell_type": "markdown",
      "source": [
        "# **낙관적 동시성 제어**"
      ],
      "metadata": {
        "id": "o9rzn2WSXEpg"
      }
    },
    {
      "cell_type": "markdown",
      "source": [
        "- 낙관적 동시성 제어는 사용자들이 동시에 데이터를 수정하지 않을 것이라고 가정.\n",
        "- 데이터를 읽을때는 Lock을 설정하지 않는다.\n",
        "- 그러므로 데이터를 수정하고자 하는 시점에 앞서 반드시 읽은데이터가 다른 사용자에 의해 변경 되었는지를 검사해야 한다.\n",
        "\n"
      ],
      "metadata": {
        "id": "KYhIcqEWXEnW"
      }
    },
    {
      "cell_type": "markdown",
      "source": [
        "**어떠할때 사용 할까?**\n"
      ],
      "metadata": {
        "id": "RzCzoLXvXElf"
      }
    },
    {
      "cell_type": "markdown",
      "source": [
        "- 비관적 동시성 제어는 동시성이 저하 되지만 데이터를 일일이 검사하지 않아도 된다.\n",
        "  -  만약 데이터 정합성이 중요한 업무(금융) 라면 비관적 동시성 제어로 동시성이 저하 되더라도 for update 문으로 예외처리를 하여 오히여 동시성을 높이면서 좋은 데이터 정합성을 가질 수 있다.\n",
        "\n",
        "- 낙관적 동시성 제어는 크게 경합이 벌어지지 않는 업무 ( 쇼핑몰) 등에서 사용하고, Lock이 짧아져 동시성을 높이는것이 좋다.\n",
        "  - 상품 조회시점과 결제 시점에 가격이 다를 수 있으므로 반드시 데이터 수정시 일관성 검사를 거쳐야만 한다."
      ],
      "metadata": {
        "id": "1JyohIApXEjX"
      }
    }
  ]
}