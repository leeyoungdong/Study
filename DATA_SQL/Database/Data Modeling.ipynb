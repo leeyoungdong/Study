{
  "nbformat": 4,
  "nbformat_minor": 0,
  "metadata": {
    "colab": {
      "provenance": []
    },
    "kernelspec": {
      "name": "python3",
      "display_name": "Python 3"
    },
    "language_info": {
      "name": "python"
    }
  },
  "cells": [
    {
      "cell_type": "markdown",
      "source": [
        "# **Data Modeling이란?**"
      ],
      "metadata": {
        "id": "AKF92JcW52X0"
      }
    },
    {
      "cell_type": "markdown",
      "source": [
        "주어진 개념으로부터 논리적인 데이터 모델을 구성하는 작업을 말하며,  물리적인 데이터베이스 모델로 환원하여 특정 정보 시스템의 데이터베이스에 반영하는 작업"
      ],
      "metadata": {
        "id": "FMOyFBDT6YJ8"
      }
    },
    {
      "cell_type": "markdown",
      "source": [
        "**규칙**\n",
        "* 추상화: 현실세계를 일정한 형식에 맞추어 표현\n",
        "* 단순화: 현실세계를 약속된 규약이나 제한된 표기법과 언어로 표현\n",
        "* 명확화: 누구나 이해하기 쉽게 애매모호함을 제거하고 정확하게 현상을 기술"
      ],
      "metadata": {
        "id": "ssYP-Zd752Tl"
      }
    },
    {
      "cell_type": "markdown",
      "source": [
        "**3가지의 모델링 과정**"
      ],
      "metadata": {
        "id": "kgf4kvva52SM"
      }
    },
    {
      "cell_type": "markdown",
      "source": [
        "* **개념적 모델링**\n",
        "\n",
        "현실 세계의 데이터를 추상화하여 개념 세계의 데이터로 표현하는 과정.\n",
        "추상화 수준이 높으며 업무 중심적이고, 포괄적인 수준의 모델링을 진행\n",
        "\n",
        "[개념적 모델은 사용자와 시스템 개발자가 데이터 요구사항을 발견할 수 있도록 지원, 개념적 모델은 현 시스템이 어떻게 변형되어야 하는가를 이해하는데 유용]"
      ],
      "metadata": {
        "id": "RLtXxLZN52Pl"
      }
    },
    {
      "cell_type": "markdown",
      "source": [
        "* **논리적 모델링**\n",
        "\n",
        "개념 세계의 개체 타입을 DB가 지원하는 논리적 데이터 모델로 변환시키는 과정. 시스템으로 구축하고자 하는 업무에 대해 KEY,속성, 관계등 정확하게 표현하는 단계의 모델링\n",
        "\n",
        "[재사용성이 높은 특징을 갖음]"
      ],
      "metadata": {
        "id": "b5ycp0z552OM"
      }
    },
    {
      "cell_type": "markdown",
      "source": [
        "* **물리적 모델링**\n",
        "\n",
        "디스크에 데이터가 저장될 수 있도록 논리적 데이터 모델을 물리적 데이터 구조로 변환시키는 과정. 실제 DB에 이식할 수 있도록 성능, 저장 등 물리적인 성격을 고려하여 설계하는 단계의 모델링"
      ],
      "metadata": {
        "id": "Vpv02ead52M0"
      }
    },
    {
      "cell_type": "markdown",
      "source": [
        "**데이터 모델링 종류**"
      ],
      "metadata": {
        "id": "Kve-hTQH52Lb"
      }
    },
    {
      "cell_type": "markdown",
      "source": [
        "계층 / 그래프 / 관계형 / 엔터티(ER) / 객체 지향 / 차원(Dimension)"
      ],
      "metadata": {
        "id": "siVsUkkC52KV"
      }
    }
  ]
}