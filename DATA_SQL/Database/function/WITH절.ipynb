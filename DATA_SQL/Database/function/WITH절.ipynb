{
  "cells": [
    {
      "cell_type": "markdown",
      "metadata": {
        "id": "nbWFrzWAHmg-"
      },
      "source": [
        "# **WITH절**"
      ]
    },
    {
      "cell_type": "markdown",
      "metadata": {
        "id": "3oksptwrHme_"
      },
      "source": [
        "\n",
        "\n",
        "- WITH 절은 서브 쿼리의 단점을 해결하기 위해 서브 쿼리를 마치 함수처럼 이름을 가지도록 사용하는 방법이다.\n",
        "\n",
        "- VIEW와 쓰임새가 비슷해보이지만 차이점은 WITH 절은 VIEW처럼 DBMS에 저장하여 사용하는 것이 아닌 실행할 쿼리문 내에 정의되어 있어, 해당 쿼리가 실행될 때마다 파싱 되고 실행계획을 세운다."
      ]
    },
    {
      "cell_type": "markdown",
      "metadata": {
        "id": "NtxZD1weHmc6"
      },
      "source": [
        "# **WITH절 기본**\n"
      ]
    },
    {
      "cell_type": "markdown",
      "metadata": {
        "id": "7GLYc7DsHmbI"
      },
      "source": [
        "WITH절의 기본 구조 예제.\n",
        "\n",
        "\n",
        "\n",
        "```sql\n",
        "WITH\n",
        "WITH_SUB AS (\n",
        "\t... -- 서브쿼리 작성\n",
        ")\n",
        "SELECT * FROM WITH_SUB; -- WITH절을 사용한 메인 쿼리 예시\n",
        "```\n",
        "\n",
        "\n",
        "- WITH절은 여러 개 선언할 수 있으며, WITH절에서 다른 WITH 절을 사용할 수 있다.\n",
        "\n",
        "```sql\n",
        "WITH\n",
        "WITH_SUB1 AS (\n",
        "\t... -- 서브쿼리 작성\n",
        "),\n",
        "WITH_SUB2 AS (\n",
        "\tSELECT * FROM WITH_SUB1 -- 다른 WITH절을 사용한 WITH절\n",
        ")\n",
        "SELECT * FROM WITH_SUB2;\n",
        "```"
      ]
    },
    {
      "cell_type": "markdown",
      "metadata": {
        "id": "VA645f6SHmY_"
      },
      "source": [
        "# **Recursive WITH절**"
      ]
    },
    {
      "cell_type": "markdown",
      "metadata": {
        "id": "ejAmn9Y7Hvoy"
      },
      "source": [
        "- WITH절을 가지고 자신이 자신을 호출하는 Recursive 한 방식을 사용할 수 있다. 이를 Recursive WITH절이라고 한다.\n",
        "\n",
        "\n",
        "\n",
        "- Recursive WITH 절을 사용하려면 UNION ALL을 가지고 초기값을 정해주는 초기 서브 쿼리와, 이후에 행위를 작성하는 Recurisive 서브 쿼리로 나뉜다.\n",
        "- 항상 재귀함수에서 그랬듯이 무한루프에 빠지지 않도록 종료조건을 조건절로 표현을 해야한다.\n",
        "\n",
        "\n",
        "\n",
        "- 아래는 1~9까지의 합을 구하는 예제.\n",
        "\n",
        "```sql\n",
        "WITH\n",
        "SUM(NUM, RESULT) AS(\n",
        "\t-- 초기값을 설정해주는 초기 서브쿼리이다. 즉 NUM=1, RESULT=1 이다.\n",
        "\tSELECT 1,1 FROM DUAL\n",
        "\tUNION ALL\n",
        "\t-- 이후 행위를 정의한 Recurisive 서브쿼리이다. NUM의 값은 1씩 증가시키며, RESULT 값에는 계속 (NUM + 1)을 더한다.\n",
        "\tSELECT NUM+1, (NUM+1) + RESULT FROM SUM WHERE NUM < 9-- 종료조건으로 NUM < 9를 작성했다.\n",
        ")\n",
        "SELECT NUM ,RESULT FROM SUM;\n",
        "```"
      ]
    },
    {
      "cell_type": "markdown",
      "metadata": {
        "id": "SIbeIgQIHvm5"
      },
      "source": [
        "# **계층형 WITH절**"
      ]
    },
    {
      "cell_type": "markdown",
      "metadata": {
        "id": "ojdoyivZHvkz"
      },
      "source": [
        "- 오라클에서는 계층형 쿼리를 위해 CONNECT BY문을 지원.\n",
        "- 오라클에서만 사용 가능.\n",
        "- WITH절은 ANSI SQL에 포함되어 있기 때문에 여러 DBMS에서 지원.\n",
        "- WITH절은 DBMS가 변경되어도 쿼리를 변경할 필요가 없다는 장점이 있기때문에 계층형 쿼리를 작성할 때는 CONNECT BY보다는 WITH절을 사용하자.\n",
        "\n",
        "\n",
        "<br>\n",
        "- WITH절을 이용한 계층형 쿼리 예제.\n",
        "\n",
        "```sql\n",
        "WITH\n",
        "WITH_TAB (LVL, NAME, EMP_ID, MGR_ID) AS\n",
        "(\n",
        "  -- 초기값을 설정해주는 초기 서브쿼리이다. 즉 LVL=1이고, MGR_ID가 NULL인 값이 최초 값이다.\n",
        "  SELECT 1, NAME, EMP_ID, MGR_ID\n",
        "  FROM HR.EMPLOYEES\n",
        "  WHERE MGR_ID IS NULL -- 오라클의 START_WITH와 동일한 조건\n",
        "  UNION ALL\n",
        "  -- 이후 행위를 정의한 Recurisive 서브쿼리이다. 초기값의 EMP_ID의 값이 MGR_ID와 같은 행을 찾아 LVEL + 1을 해준다.\n",
        "  SELECT B.LVL + 1 AS LVL, A.NAME, A.EMP_ID, A.MGR_ID\n",
        "  FROM HR.EMPLOYEES A, WITH_TAB B\n",
        "  WHERE A.MGR_ID = B.EMP_ID -- 오라클의 CONNECT BY PRIOR와 동일한 조건\n",
        ")\n",
        "SELECT LVL, NAME, EMP_ID, MGR_ID FROM WITH_TAB;\n",
        "```\n",
        "\n",
        "- 같은 결과를 나타내는 오라클의 계층형 쿼리.\n",
        "\n",
        "```sql\n",
        "SELECT LEVEL, NAME, EMP_ID, MGR_ID\n",
        "FROM HR.EMPLOYEES\n",
        "START WITH MGR_ID IS NULL\n",
        "CONNECT BY PRIOR EMP_ID = MGR_ID;\n",
        "```"
      ]
    }
  ],
  "metadata": {
    "colab": {
      "provenance": []
    },
    "kernelspec": {
      "display_name": "Python 3",
      "name": "python3"
    },
    "language_info": {
      "name": "python"
    }
  },
  "nbformat": 4,
  "nbformat_minor": 0
}
