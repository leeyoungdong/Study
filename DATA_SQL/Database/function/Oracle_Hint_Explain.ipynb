{
  "nbformat": 4,
  "nbformat_minor": 0,
  "metadata": {
    "colab": {
      "provenance": []
    },
    "kernelspec": {
      "name": "python3",
      "display_name": "Python 3"
    },
    "language_info": {
      "name": "python"
    }
  },
  "cells": [
    {
      "cell_type": "markdown",
      "source": [
        "# **EXPLAIN PLAN**"
      ],
      "metadata": {
        "id": "m3fdng0Lovtu"
      }
    },
    {
      "cell_type": "markdown",
      "source": [
        "- EXPLAIN PLAN이란 SQL문의 액세스 경로를 확인하고 튜닝할 수 있도록 SQL문을 분석, 해석해 실행계획을 수립한 후 PLAN_TABLE에 저장하는 명령.\n",
        "\n",
        "- SQL문이 어떻게 실행되고 작동하는지를 점검하기 위해 사용"
      ],
      "metadata": {
        "id": "nXQtApLsovrm"
      }
    },
    {
      "cell_type": "markdown",
      "source": [
        "**사용방법**"
      ],
      "metadata": {
        "id": "H_DZs6W5ovng"
      }
    },
    {
      "cell_type": "markdown",
      "source": [
        "\n",
        "\n",
        "```sql\n",
        "EXPLAIN PLAN[set statement_id ='1~30자 실행문 제목']\n",
        "FOR sql statement\n",
        "```\n",
        "\n",
        "여기서 sql은 SELECT, INSERT, DELETE, UPDATE 등의 SQL 쿼리문을 말한다.\n",
        "\n",
        "아래와 같이 EXPLAIN PLAN을 생성하고 나면\n",
        "\n",
        "```sql\n",
        "EXPLAIN PLAN FOR\n",
        "SELECT e.EMPNO, d.DEPTNO\n",
        "FROM EMP e, DEPT d\n",
        "WHERE e.DEPTNO = d.DEPTNO;\n",
        "```\n",
        "\n",
        "다음과 같이 실행 계획을 확인할 수 있다.\n",
        "\n",
        "```sql\n",
        "SELECT *\n",
        "FROM TABLE(dbms_xplan.display); cs\n",
        "\n",
        "\n",
        "```\n",
        "\n"
      ],
      "metadata": {
        "id": "tJBaQkK5ovje"
      }
    },
    {
      "cell_type": "markdown",
      "source": [
        "# **Hint**"
      ],
      "metadata": {
        "id": "eJ0WxsMjovhZ"
      }
    },
    {
      "cell_type": "markdown",
      "source": [
        "- Hint란 SQL 튜닝의 핵심 부분으로 일종의 지시 구문.\n",
        "\n",
        "- 오라클 Optimizer에게 SQL문 실행을 위한 데이터를 스캐닝하는 경로, 조인 방법 등을 알려주기 위해 SQL사용자가 SQL 구문에 작성하는 것을 뜻한다.\n",
        "\n",
        "- 오라클이 항상 최적의 실행 경로를 만들어 내기는 불가능하기 때문에 직접 최적의 실행 경로를 작성해 주는 것.\n",
        "\n",
        "- 사용자가 특정 SQL 문장에서 어떤 인덱스가 선택도가 높은지 알고 있는 경우 Optimizer에 의존한 실행 계획보다 훨씬 효율적인 실행 계획을 구사할 수 있다.\n",
        "\n",
        "- Hint를 사용하면 액세스 경로, 조인 순서, 병렬 및 직렬 처리, Optimizer의 목표(Goal) 변경이 가능.\n",
        "\n",
        "- 데이터 값을 정렬해야 하는 경우, 드라이빙 테이블을 원하는 대로 선정하고자 할 때도 Hint가 사용된다.\n",
        "\n",
        "- 모든 Hint의 기본 사용법은 쿼리 서두에 힌트를 명시하는 것.\n",
        "\n",
        "- 예를 들어 아래 Hint는 인덱스 영역에서 순방향으로 스캔 하라는 뜻.\n",
        "\n",
        "\n",
        "```\n",
        "SELECT /*+ index_asc(e idx_myemp1_ename)  */\n",
        "      EMPNO, ENAME, SAL FROM MYEMP1 e\n",
        "WHERE ENAME >= '갑'\n",
        "```\n",
        "\n"
      ],
      "metadata": {
        "id": "UffxNxsEovfX"
      }
    },
    {
      "cell_type": "markdown",
      "source": [
        "**OPTIMIZER_MODE 지정가능 값**"
      ],
      "metadata": {
        "id": "caq9HnlVovdd"
      }
    },
    {
      "cell_type": "markdown",
      "source": [
        "`/*+ ALL_ROWS */`\n",
        "\n",
        "목적 : Best Throughput\n",
        "\n",
        "용도 : 전체 RESOURCE 소비를 최소화시키기 위한 힌트.\n",
        "\n",
        "특징 : Cost-Based 접근방식으로 ALL_ROWS는 Full Table Scan을 선호하며 CBO(Cost Based Optimization)는 default로 ALL_ROWS를 선택.\n",
        "\n",
        "`/*+ FIRST_ROWS */`\n",
        "\n",
        "목적 : Best Response Time\n",
        "\n",
        "용도 : 조건에 맞는 첫 번째 row를 리턴하기 위한 Resource 소비를 최소화시키기 위한 힌트이며 Cost-Based 접근방식을 사용.\n",
        "\n",
        "특징\n",
        "\n",
        "- Index Scan 이 가능하다면 Optimizer가 Full Table Scan 대신 Index Scan을 선택.\n",
        "- Index Scan 이 가능하다면 Optimizer가 Sort-Merge 보다 Nested Loop을 선택.\n",
        "- Order By절에 의해 Index Scan이 가능하면, Sort과정을 피하기 위해 Index Scan을 선택.\n",
        "- Delete/Update Block에서는 무시된다.\n",
        "\n",
        "다음을 포함한 Select 문에서도 제외된다.\n",
        "\n",
        "\n",
        "```sql\n",
        "집합 연산자 (UNION, INTERSECT, MINUS, UNION ALL)\n",
        "Group By\n",
        "For UpDate\n",
        "Group 함수\n",
        "Distinct\n",
        "```\n",
        "\n",
        "- Full Table Scan보다는 index scan을 선호하며 Interactive Application인 경우 best response time을 제공\n",
        "- sort merge join보다는 nested loop join을 선호.\n",
        "\n",
        "`/*+ CHOOSE */`\n",
        "\n",
        "목적 : access 되는 테이블에 통계치 존재 여부에 따라 Optimizer로 하여금 Rule-Based Approach와 Cost-Based Approach 중 하나를 선택할 수 있게 한다.\n",
        "\n",
        "용도  \n",
        "\n",
        "- Data Dictionary가 해당 테이블에 대해 통계정보를 가지고 있다면 Optimizer는 Cost-Based Approach를 선택하고, 그렇지 않다면 Rule-Based Approach를 선택한다.\n",
        "- Hint Level의 CHOOSE는 RBO(Rule Based Optimization)인지 CBO(Cost Based Optimization) 인지를 선택한다.\n",
        "- 만약 주어진 table의 통계 정보가 없다면 Rule Based 접근 방식을 사용한다.\n",
        "\n",
        "`/*+ RULE */`\n",
        "\n",
        "Rule Based 접근 방식을 사용하도록 지정한다.\n",
        "\n"
      ],
      "metadata": {
        "id": "zYyv1xO0ovbT"
      }
    },
    {
      "cell_type": "markdown",
      "source": [
        "**Access Methods - 접근 방법**\n"
      ],
      "metadata": {
        "id": "KlLvfxQZovZT"
      }
    },
    {
      "cell_type": "markdown",
      "source": [
        "`/*+ FULL(table_name) */`\n",
        "\n",
        "Table을 Full Scan 하길 원할 때 사용\n",
        "\n",
        "`/*+ HASH(table) */`\n",
        "\n",
        "Hash scan을 선택하도록 지정 (HASHKEYS Parameter로 만들어진 Cluster내에 저장된 Table에만 적용)\n",
        "\n",
        "`/*+ CLUSTER(table_name) */`\n",
        "\n",
        "- Cluster Scan을 선택하도록 지정.\n",
        "- 따라서 Clustered Object만 적용\n",
        "\n",
        "`/*+ HASH_AJ */`\n",
        "\n",
        "NOT IN SubQuery를 HASH Anti-join으로 변형\n",
        "\n",
        "`/*+ HASH_SJ */`\n",
        "\n",
        "Correlated Exists Subquery를 Hash Semi-join으로 변형\n",
        "\n",
        "`/*+ INDEX(table_name index_name) */`\n",
        "\n",
        "- 지정된 index를 강제적으로 쓰게끔 지정.\n",
        "- in list predicat에 대해서도 가능.\n",
        "- Multi-column inlists는 index를 사용할 수 없다.\n",
        "\n",
        "`/*+ INDEX_COMBINE(table_name index_name) */`\n",
        "Index명이 주어지지 않으면 Optimizer는 해당 테이블의 Best Cost로 선택된 Boolean Combination Index를 사용하며, Index 명이 주어지면 주어진 특정 Bitmap Index의 Boolean Combination의 사용.\n",
        "\n",
        "`/*+ INDEX_ASC(table_name index_name) */`\n",
        "지정된 index를 오름차순으로 쓰게끔 지정.(기본은 오름차순)\n",
        "\n",
        "`/*+ INDEX_DESC(table_name index_name) */`\n",
        "지정된 index를 내림차순으로 쓰게끔 지정.\n",
        "\n",
        "\n",
        "\n",
        "```sql\n",
        "SQL> SELECT /*+ index_desc(emp pk_emp) */ empno\n",
        "            FROM emp\n",
        "           WHERE rownum = 1 ;\n",
        "```\n",
        "위 실행은 제일 큰 것 하나가 조회되므로, max function의 기능을 대신할 수 있다.\n",
        "\n",
        "`/*+ INDEX_FFS(table index) */`\n",
        "\n",
        "Full table scan보다 빠른 Full index scan을 유도.\n",
        "\n",
        "`/*+ ROWID(table) */`\n",
        "\n",
        "Rowid로 Table Scan을 하도록 지정.\n",
        "\n",
        "`/*+MERGE_AJ*/`\n",
        "\n",
        "NOT IN Subquery를 Merge Anti-join으로 변형.\n",
        "\n",
        "`/*+MERGE_SJ*/`\n",
        "\n",
        "Correalted EXISTS Subquery를 Merge Semi-join으로 변형.\n",
        "\n",
        "`/*+AND_EQUAL(Table Index1, Index 2...) */`\n",
        "\n",
        "- Single-Column Index의 Merge를 이용한 Access Path 선택.\n",
        "- 적어도 두 개 이상의 Index가 지정되어야 한다. Max로 5개까지 지정 가능.\n",
        "\n",
        "`/*+USE_CONCAT*/`\n",
        "\n",
        "조건절의 OR를 UNION ALL 형식으로 변형한다. 일반적으로 변형은 비용 측면에서 효율적일 때만 일어난다.\n",
        "\n",
        "**Join Orders**\n",
        "\n",
        "`/*+ ORDERED */`\n",
        "\n",
        "From절에 기술된 테이블 순서대로 join이 일어나도록 유도.\n",
        "\n",
        "`/*+ STAR*/`\n",
        "\n",
        "- Star Query Plan이 사용 가능하다면 이를 이용하기 위한 Hint.\n",
        "- Star Plan은 규모가 가장 큰 테이블이 Query에서 Join Order상 마지막으로 위치하게 하고 Nested Loop으로 Join이 일어나도록 유도.\n",
        "- 적어도 3개 테이블 이상이 조인에 참여해야 하며 Large Table의 Concatenated Index는 최소 3 칼럼 이상을 Index에 포함해야 한다.\n",
        "- 테이블이 Analyze 되어 있다면 Optimizer가 가장 효율적인 Star Plan을 선택.\n",
        "\n",
        "**Join Operations**\n",
        "`/*+ USE_NL(table1 table 2...) */`\n",
        "\n",
        "- 테이블의 Join 시 테이블의 각 Row가 Inner 테이블을 Nested Loop 형식으로 Join 한다. 지정된 table이 inner table이 된다.\n",
        "( inner table <-> driving(outer) table )\n",
        "- ORDERED Hint와 함께 쓴다.\n",
        "\n",
        "`/*+ USE_HASH (table_name) */`\n",
        "\n",
        "각 테이블 간 HASH JOIN이 일어나도록 유도.\n",
        "\n",
        "`/*+ USE_MERGE (table_name) */`\n",
        "\n",
        "지정된 테이블들의 조인이 SORT-MERGE형식으로 일어나도록 유도.\n",
        "\n",
        "`/*+ DRIVING_SITE(table_name) */`\n",
        "\n",
        "QUERY의 실행이 ORACLE에 의해 선택된 SITE가 아닌 다른 SITE에서 일어나도록 유도.\n"
      ],
      "metadata": {
        "id": "PS9-3X4movXP"
      }
    },
    {
      "cell_type": "markdown",
      "source": [
        "**Parallel Execution**\n"
      ],
      "metadata": {
        "id": "SBeUmBGJovU3"
      }
    },
    {
      "cell_type": "markdown",
      "source": [
        "`/*+ NOPARALLEL(table_name) */`\n",
        "\n",
        "Parallel Query Option을 사용하지 않도록 할 수 있다.\n",
        "\n",
        "`/*+ PARALLEL(table_name, degree) */`\n",
        "\n",
        "- PARALLEL hint를 사용하면 query에 포함된 table의 degree를 설정할 수 있다.\n",
        " - 예를 들어, 다음과 같이 hint를 적어 degree 4로 parallel query option을 실행하도록 할 수 있다.\n",
        " - 이때 parallel이란 글자와 괄호( '(' ) 사이에 blank를 넣지 않도록 주의.\n",
        "\n",
        "**DEGREE의 의미 및 결정**\n",
        "\n",
        "- Parallel Query에서 degree란 하나의 operation 수행에 대한 server process의 개수를 의미하며 이러한 degree 결정에 영향을 주는 요인들에는 다음과 같은 것들이 있다.\n",
        "\n",
        " - system의 CPU 개수\n",
        " - system의 maximum process 개수\n",
        " - table이 striping 되어 있는 경우, 그 table이 걸쳐있는 disk의 개수\n",
        " - data의 위치 (즉, memory에 cache 되어 있는지, disk에 있는지)\n",
        " - query의 형태 (예를 들어 sorts 혹은 full table scan)\n",
        "\n",
        "\n",
        "\n",
        "```sql\n",
        " SQL> SELECT /*+ PARALLEL(emp, 4) */ * FROM emp;\n",
        "```\n",
        "\n"
      ],
      "metadata": {
        "id": "LyRSj82FovSm"
      }
    },
    {
      "cell_type": "markdown",
      "source": [
        "**Additional Hints**"
      ],
      "metadata": {
        "id": "RsYXbCSTrfl6"
      }
    },
    {
      "cell_type": "markdown",
      "source": [
        "`/*+ CACHE(table) */`\n",
        "\n",
        "- full table scan시 retrieve 된 block을 LRU list에서 most recently used end에 놓는다.\n",
        "- memory에 오래 존재하게 한다.\n",
        "\n",
        "`/*+ NOCACHE(table) */`\n",
        "\n",
        "- full table scan시 retrieve된 block을 LRU list에서 least recently used end에 놓는다.\n",
        "- memory에서 금방 내려가게 한다.\n",
        "\n",
        "`/*+ MERGE(view) */`\n",
        "\n",
        "COMPLEX_VIEW_MERGING = FALSE로 되어 있을 때 view 또는 subquery의 내용을 merge가능하다.\n",
        "\n",
        "`/*+ NOMERGE(view) */`\n",
        "\n",
        "- COMPLEX_VIEW_MERGING = TRUE로 되어 있을 때 사용\n",
        "- view 또는 subquery의 내용을 merge가 불가능.\n",
        "- view 또는 subquery자체의 query문에 의한 영향을 많이 받는다.\n",
        "\n",
        "`/*+ PUSH_SUBQ */`\n",
        "\n",
        "- nomerged subqueries가 execution plan에서 가능한 가장 빠른 위치에서 evaluation 되도록 한다.\n",
        "- 일반적으로, merge 되지 않은 subqueries는 execution plan에서 마지막 step으로써 수행.\n",
        "- subqueries가 상대적으로 inexpensive 하고 rows의 수를 줄일 수 있다면, subqueries를 더 일찍 evaluation 하는 것이 performance를 향상할 것이다.\n",
        "- subquery가 remote table에 적용되거나, merge join을 사용하는 join 된 table에 적용된다면 이 hint는 적용되지 않는다.\n",
        "\n"
      ],
      "metadata": {
        "id": "jvs6U2Udre-3"
      }
    }
  ]
}