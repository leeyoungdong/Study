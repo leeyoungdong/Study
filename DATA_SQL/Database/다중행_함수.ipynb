{
  "nbformat": 4,
  "nbformat_minor": 0,
  "metadata": {
    "colab": {
      "provenance": []
    },
    "kernelspec": {
      "name": "python3",
      "display_name": "Python 3"
    },
    "language_info": {
      "name": "python"
    }
  },
  "cells": [
    {
      "cell_type": "markdown",
      "source": [
        "# **다중행 함수**"
      ],
      "metadata": {
        "id": "Ia5JcM5dfmUS"
      }
    },
    {
      "cell_type": "markdown",
      "source": [
        "- 다중행 함수는 여러 행(로우)를 입력으로 하여 처리하는 함수이며, 단일 값을 반환한다.\n",
        "- 다중행 함수에는 그룹함수, 집계함수, 윈도우 함수 등이 있다."
      ],
      "metadata": {
        "id": "QbP4Mxs7fmRy"
      }
    },
    {
      "cell_type": "markdown",
      "source": [
        "# **그룹 함수**"
      ],
      "metadata": {
        "id": "QJDEBnfrfmPb"
      }
    },
    {
      "cell_type": "markdown",
      "source": [
        "- 여러 로우의 데이터를 가지고 한 번에 처리하여 결과 값 1건을 반환하는 함수이다.\n",
        "- 1건으로 만들기 때문에 복수행 함수 또는 집계 함수라고도 표현한다.\n",
        "- 그룹 함수는 일반적으로 NULL 값을 제외하여 처리한다.\n",
        "- 그룹 함수는 WHERE절에 사용할 수 없다."
      ],
      "metadata": {
        "id": "8NFzLdYRfmNU"
      }
    },
    {
      "cell_type": "markdown",
      "source": [
        "# **기본 함수**"
      ],
      "metadata": {
        "id": "cR_DNzwVfmLM"
      }
    },
    {
      "cell_type": "markdown",
      "source": [
        "**COUNT(*)**\n",
        "\n",
        "- NULL 값을 포함한 행의 수를 출력한다.\n",
        "\n",
        "**COUNT(표현식)**\n",
        "\n",
        "- NULL 값을 제외한 행의 수를 출력한다.\n",
        "\n",
        "**SUM(표현식)**\n",
        "\n",
        "- 표현식의 NULL 값을 제외한 합계를 출력한다.\n",
        "\n",
        "**AVG(표현식)**\n",
        "\n",
        "- 표현식의 NULL 값을 제외한 평균을 출력한다.\n",
        "- NULL값을 0으로 하여 전체 평균을 구하고 싶다면 NVL 함수를 사용한다. 예시는 다음과 같다.\n",
        "- AVG(NVL(score, 0))\n",
        "\n",
        "**MAX(표현식) / MIN(표현식)**\n",
        "\n",
        "- 표현식의 최대값, 최솟값을 출력한다.\n",
        "- 문자, 날짜 타입도 사용 가능하다.\n",
        "- 날짜의 최대값은 현재랑 가장 가까운 날이다.\n",
        "\n",
        "**STDDEV(표현식) / VARIAN(표현식)**\n",
        "\n",
        "- 표현식의 표준편차, 분산을 출력한다."
      ],
      "metadata": {
        "id": "Vi80GSvTfmJN"
      }
    },
    {
      "cell_type": "markdown",
      "source": [
        "# **GROUP BY**"
      ],
      "metadata": {
        "id": "EbMjGZoZfmHG"
      }
    },
    {
      "cell_type": "markdown",
      "source": [
        "\n",
        "\n",
        "\n",
        "```sql\n",
        "SELECT 칼럼명 FROM 테이블명 [WHERE 조건식] GROUP BY 칼럼\n",
        "```\n",
        "\n",
        "- GROUP BY는 SELECT에 그룹 함수(= 복수행 함수 = 집계 함수)을 사용할 때, 특정 조건으로 그룹을 만들어 그룹별로 함수를 사용하여 결과를 출력한다.\n",
        "- GROUP BY을 통해 소그룹별 기준을 정한 후, SELECT 절에 집계 함수를 사용한다.\n",
        "- GROUP BY는 SELECT와 달리 ALIAS를 사용할 수 없다."
      ],
      "metadata": {
        "id": "E40B_fQYfmFG"
      }
    },
    {
      "cell_type": "markdown",
      "source": [
        "# **HAVING**"
      ],
      "metadata": {
        "id": "b0UoBt2-fmDP"
      }
    },
    {
      "cell_type": "markdown",
      "source": [
        "\n",
        "\n",
        "\n",
        "```sql\n",
        "SELECT 칼럼명 FROM 테이블명 [WHERE 조건식] [GROUP BY 칼럼] HAVING 그룹조건식\n",
        "```\n",
        "\n",
        "- 그룹 함수는 WHERE절에 사용할 수 없다. WHERE절 대신 HAVING 절을 사용한다.\n",
        "- HAVING은 일반적으로 GROUP BY 뒤에 표현하지만, 앞에 표현해도 된다.\n",
        "- GROUP BY가 없어도 HAVING은 사용할 수 있다.\n"
      ],
      "metadata": {
        "id": "eJ8uWh3KfmAg"
      }
    },
    {
      "cell_type": "markdown",
      "source": [
        "# **집계함수 : ROLLUP, CUBE, GROUPING SETS**"
      ],
      "metadata": {
        "id": "_w-HI9cMfl-L"
      }
    },
    {
      "cell_type": "markdown",
      "source": [
        "\n",
        "\n",
        "```sql\n",
        "\n",
        "SELECT 칼럼명 FROM 테이블명 [WHERE 조건식] GROUP BY ROLLUP(칼럼1, 칼럼2)\n",
        "\n",
        "-- ROLLUP을 UNION ALL로 표현하면 아래와 같음\n",
        "GROUP BY (칼럼1, 칼럼2)\n",
        "UNION ALL\n",
        "GROUP BY (칼럼1)\n",
        "UNIN ALL\n",
        "모든 집합 그룹 결과\n",
        "\n",
        "\n",
        "SELECT 칼럼명 FROM 테이블명 [WHERE 조건식] GROUP BY CUBE(칼럼1, 칼럼2)\n",
        "\n",
        "-- CUBE를 UNION ALL로 표현하면 아래와 같음\n",
        "GROUP BY (칼럼1, 칼럼2)\n",
        "UNION ALL\n",
        "GROUP BY (칼럼1)\n",
        "UNION ALL\n",
        "GROUP BY (칼럼2)\n",
        "UNIN ALL\n",
        "모든 집합 그룹 결과\n",
        "\n",
        "\n",
        "SELECT 칼럼명 FROM 테이블명 [WHERE 조건식] GROUP BY GROUPING SETS(칼럼1, 칼럼2)\n",
        "\n",
        "-- GROUPING SETS을 UNION ALL로 표현하면 아래와 같음\n",
        "GROUP BY (칼럼1)\n",
        "UNION ALL\n",
        "GROUP BY (칼럼2)\n",
        "```\n",
        "\n",
        "- ROLLUP은 주어진 그룹핑의 소계를 표현한다.\n",
        "- CUBE는 소계 + 총계를 표현한다. 즉 ROLLUP 결과에 총계가 추가된다.\n"
      ],
      "metadata": {
        "id": "bo_uwPZD8ZY8"
      }
    },
    {
      "cell_type": "markdown",
      "source": [
        "\n",
        "\n",
        "**GROUPING**\n",
        "\n",
        "- GROUPING은 해당 로우 데이터가 ROLLUP, CUBE 또는 GROUPING SETS을 이용할 때 만들어진 로우인지, 아니면 일반 로우의 데이터인지를 판별할 수 있는 함수이다.\n",
        "\n",
        "- 즉, 해당 컬럼의 데이터가 Null인 경우에는 특수하게 생성된 로우이므로 1을 반환하고, 해당 컬럼의 데이터가 Null이 아닌 경우에는 기존 로우의 데이터를 이용한 것이므로 0을 반환한다.\n",
        "\n",
        "\n",
        "\n",
        "```\n",
        "SELECT CASE WHEN GROUPING(부서) = 0 THEN 부서 ELSE '합계' END AS 부서, 직급, COUNT(*) FROM 직원 GROUP BY CUBE(부서, 직급)\n",
        "```"
      ],
      "metadata": {
        "id": "YQ1eP9Dm8ZW1"
      }
    }
  ]
}