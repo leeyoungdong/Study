{
  "nbformat": 4,
  "nbformat_minor": 0,
  "metadata": {
    "colab": {
      "provenance": []
    },
    "kernelspec": {
      "name": "python3",
      "display_name": "Python 3"
    },
    "language_info": {
      "name": "python"
    }
  },
  "cells": [
    {
      "cell_type": "markdown",
      "source": [
        "**Call이 어디서 발생하느냐에 따라 user Call과 Recursive Call로 구분.**"
      ],
      "metadata": {
        "id": "HXheC9sl6uok"
      }
    },
    {
      "cell_type": "markdown",
      "source": [
        "# **포맷팅**\n",
        "\n",
        "- SQL 트레이스 파일을 TKProf 유틸리티로 포맷팅하면 OVERALL Total 통계가 나옴.\n",
        "- NON-RECURSIVE 통계가 User Call에 해당.\n",
        "- 아래쪽 RECURSIVE 통계가 Recursive Call에 해당.\n",
        "\n",
        "\n",
        "\n",
        "```sql\n",
        "================================================================================\n",
        "OVERALL TOTALS FOR ALL NON-RECURSIVE STATEMENTS\n",
        "\n",
        "call     count       cpu    elapsed       disk      query    current        rows\n",
        "------- ------  -------- ---------- ---------- ---------- ----------  ----------\n",
        "Parse        4      0.02       0.03          0        121          0           0\n",
        "Execute      4      0.03       0.03          4         95       2915           0\n",
        "Fetch       30      0.04       0.02          0        122          0        2859\n",
        "------- ------  -------- ---------- ---------- ---------- ----------  ----------\n",
        "total       38      0.09       0.09          4        338       2915        2859\n",
        "\n",
        "Misses in library cache during parse: 2\n",
        "================================================================================\n",
        "================================================================================\n",
        " OVERALL TOTALS FOR ALL RECURSIVE STATEMENTS\n",
        "\n",
        " call     count       cpu    elapsed       disk      query    current        rows\n",
        " ------- ------  -------- ---------- ---------- ---------- ----------  ----------\n",
        " Parse        4      0.00       0.00          0          0          0           0\n",
        " Execute     53      0.00       0.00          0          0          0           0\n",
        " Fetch       53      0.00       0.00         80        277          0           3\n",
        " ------- ------  -------- ---------- ---------- ---------- ----------  ----------\n",
        " total      110      0.00       0.00         80        277          0           3\n",
        " ================================================================================\n",
        " ```\n"
      ],
      "metadata": {
        "id": "kwjF4j_B6ukJ"
      }
    },
    {
      "cell_type": "markdown",
      "source": [
        "# **user Call**\n",
        "\n",
        "- OCI(Oracle Call Interface)를 통해 오라클 외부로부터 들어오는 Call.\n",
        "- Peak 시간대에 시스템 장애를 발생시키는 가장 큰 주범은 User Call.\n",
        "- User Call이 많이 발생되도록 개발된 애플리케이션은 결코 좋은 성능을 낼 수 없음.\n",
        "- DBMS 성능과 확장성(Scalability)를 높이려면 User Call을 최소화 하려는 노력이 무엇보다 중요.\n",
        "\n",
        "**User Call 최소화를 위한 노력**\n",
        "\n",
        "- User Call 최소화를 위해 아래와 같은 기능과 기술을 적극적으로 활용.\n",
        "  - Loop 쿼리를 해소하고 집합적 사고를 통해 One-SQL로 구현\n",
        "  - Array 단위로 Fetch하는 Array Processing을 활용.\n",
        "    - 또는 Bulk Insert/Update/Delete 가 있음.\n",
        "  - 부분범위처리 원리를 활용.\n",
        "  - 효과적인 화면 페이지 처리를 구현."
      ],
      "metadata": {
        "id": "A60tmzaN6ui3"
      }
    },
    {
      "cell_type": "markdown",
      "source": [
        "# **Recursive Call**\n",
        "- 오라클 내부에서 발생하는 Call.\n",
        "- Recursive Call의 종류\n",
        "  - SQL 파싱과 최적화 과정에서 발생하는 Data Dictionary 조회\n",
        "  - PL/SQL로 작성된 사용자 정의 함수/프로시저/트리거 내에서의 SQL 수행 등\n",
        "\n",
        "**Recursive Call 최소화를 위한 노력**\n",
        "\n",
        "- 바인드변수를 적극적으로 사용해 하드파싱 횟수를 줄임.\n",
        "- PL/SQL로 작성한 프로그램을 이해하고 시기 적절하게 사용.\n",
        "\n",
        "\n",
        "\n",
        "```sql\n",
        "[PL/SQL 예시]\n",
        "================================================================================\n",
        "call     count       cpu    elapsed       disk      query    current        rows\n",
        "------- ------  -------- ---------- ---------- ---------- ----------  ----------\n",
        "Parse        0      0.00       0.00          0          0          0           0\n",
        "Execute    493      0.01       0.00          0          0          0           0\n",
        "Fetch      493      0.03       0.02          0       3451          0         493\n",
        "------- ------  -------- ---------- ---------- ---------- ----------  ----------\n",
        "total      986      0.04       0.02          0       3451          0         493\n",
        "\n",
        "Misses in library cache during parse: 0\n",
        "Optimizer mode: ALL_ROWS\n",
        "Parsing user id: 41     (recursive depth: 1)\n",
        "================================================================================\n",
        "```\n",
        "\n",
        "- recursive depth는 PL/SQL실행시에 나오는 결과에서 프로시저의 호출 횟수를 나타냄.\n",
        "- recursive depth가 2이상이면 특정 프로시저에서 또 다른 프로시져를 호출한 경우\n",
        "- 이 때 트레이스 결과는 마지막 프로시저에서 사용된 SQL에 대한 수행 결과를 보임.\n",
        "- PL/SQL은 가상머신(Virtual Machine)상에서 수행되는 인터프리터(Interpreter)언어이므로 빈번한 호출 시 컨텍스트 스위칭(Context Switching)때문에 성능이 매우 나빠짐.\n",
        "- 성능을 위해서라면 PL/SQL에 대한 지나친 모듈화는 지양.\n",
        "- 대용량 데이터 조회시에 함수를 잘못 사용하면 건건이 함수 호출이 발생되어 성능이 극도로 제한될 수 있는 등의 문제가 생김.\n",
        "  - 조인 또는 스칼라 서브쿼리 형태로 변환하려는 노력이 필요.\n"
      ],
      "metadata": {
        "id": "-76qqIHc6uh0"
      }
    }
  ]
}