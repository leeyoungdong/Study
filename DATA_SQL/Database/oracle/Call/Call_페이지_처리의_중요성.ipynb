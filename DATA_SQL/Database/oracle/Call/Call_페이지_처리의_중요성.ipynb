{
  "nbformat": 4,
  "nbformat_minor": 0,
  "metadata": {
    "colab": {
      "provenance": []
    },
    "kernelspec": {
      "name": "python3",
      "display_name": "Python 3"
    },
    "language_info": {
      "name": "python"
    }
  },
  "cells": [
    {
      "cell_type": "markdown",
      "source": [
        "# **페이지 처리의 중요성**"
      ],
      "metadata": {
        "id": "cyTJjpWWFCj5"
      }
    },
    {
      "cell_type": "markdown",
      "source": [
        "- 대용량 데이터를 조회할때 페이지 처리를 하지 않으면 쿼리 자체 성능도 문제지만\n",
        "시스템에 전반적인 불필요한 리소스가 낭비됨."
      ],
      "metadata": {
        "id": "RByfsA7VFCh5"
      }
    },
    {
      "cell_type": "markdown",
      "source": [
        "# **페이지 처리를 하지 않으면 발생하는 부하 요인**"
      ],
      "metadata": {
        "id": "tIMexlfUFCgI"
      }
    },
    {
      "cell_type": "markdown",
      "source": [
        "- 다량의 Fetch Call 발생\n",
        "- 대량의 결과 집합을 클라이언트로 전송하면서 발생하는 네트워크 부하\n",
        "- 대량의 데이터 블록을 읽으면서 발생하는 I/O부하\n",
        "- AP 서버 및 웹 서버 리소스 사용량 증가"
      ],
      "metadata": {
        "id": "x8g69bAZFCeD"
      }
    },
    {
      "cell_type": "markdown",
      "source": [
        "# **부하요인 방지법**"
      ],
      "metadata": {
        "id": "svzytUKqFCb9"
      }
    },
    {
      "cell_type": "markdown",
      "source": [
        "- 페이지 단위로 화면에서 필요한 만큼만 Fetch Call.\n",
        "- 페이지 단위로, 화면에서 필요한 만큼씩 네트워크를 통해 전송.\n",
        "- 인덱스와 부분범위처리 원리를 이용해 각 페이지에 필요한 최소량만 I/O 처리.\n",
        "- 데이터를 소량씩 나누어 전송하므로 AP 웹서버 리소스 사용량을 최소화."
      ],
      "metadata": {
        "id": "pbmuGg-kFCZk"
      }
    }
  ]
}