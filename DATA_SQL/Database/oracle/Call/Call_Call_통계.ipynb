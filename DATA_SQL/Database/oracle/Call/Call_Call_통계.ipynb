{
  "nbformat": 4,
  "nbformat_minor": 0,
  "metadata": {
    "colab": {
      "provenance": []
    },
    "kernelspec": {
      "name": "python3",
      "display_name": "Python 3"
    },
    "language_info": {
      "name": "python"
    }
  },
  "cells": [
    {
      "cell_type": "markdown",
      "source": [
        "# **Call 통계**\n",
        "\n",
        "- 커서의 활동상태를 Parse, Execute, Fetch 세 단계로 나누어 각각에 대한 수행통계를 보여줌."
      ],
      "metadata": {
        "id": "vfhAIi6spAPu"
      }
    },
    {
      "cell_type": "markdown",
      "source": [
        "**Call 종류**\n",
        "\n",
        "- **Parse Call**\n",
        "  - 커서를 파싱하는 과정에 대한 통계.\n",
        "  - 실행계획을 생성하거나 찾는 과정에 관한 정보를 포함.\n",
        "- **Execute Call**\n",
        "  - 커서를 실행하는 단계에 대한 통계.\n",
        "- **Fetch Call**\n",
        "  - select문에서 실제 레코드를 읽어 사용자가 요구한 결과집합을 반환하는 과정에 대한 통계.\n",
        "  - insert, update, delete, merge 등 DML문은 Execute Call 시점에 모든 처리과정을 서버내에서 완료하고 처리결과만 리턴하므로 Fetch Call이 전혀 발생하지 않음."
      ],
      "metadata": {
        "id": "Cc6_hXcspAMM"
      }
    },
    {
      "cell_type": "markdown",
      "source": [
        "**DML에 따른 Call 통계 예시**\n",
        "\n",
        "**ex.1 delete**\n",
        "- Parse Call : 1\n",
        "- Execute Call : 1\n",
        "\n",
        "```sql\n",
        "call     count       cpu    elapsed       disk      query    current        rows\n",
        "------- ------  -------- ---------- ---------- ---------- ----------  ----------\n",
        "Parse        1      0.00       0.00          0         61          0           0\n",
        "Execute      1      0.00       0.00          0          4          3           1\n",
        "Fetch        0      0.00       0.00          0          0          0           0\n",
        "------- ------  -------- ---------- ---------- ---------- ----------  ----------\n",
        "total        2      0.00       0.00          0         65          3           1\n",
        "```\n",
        "\n",
        "**ex.2 insert... select 문**\n",
        "\n",
        "- 클라이언트로부터 명시적인 Fetch Call을 받지 않으며 서버 내에서 묵시적으로 Fetch\n",
        "\n",
        "<br>\n",
        "\n",
        "- Parse Call : 1\n",
        "- Execute Call : 1\n",
        "\n",
        "```sql\n",
        "create table big_table as\n",
        "select * from all_tables where rownum <= 10000 ;\n",
        "\n",
        "call     count       cpu    elapsed       disk      query    current        rows\n",
        "------- ------  -------- ---------- ---------- ---------- ----------  ----------\n",
        "Parse        1      0.18       0.22          0          0          0           0\n",
        "Execute      1      0.43       0.63         24       7659        401        2759\n",
        "Fetch        0      0.00       0.00          0          0          0           0\n",
        "------- ------  -------- ---------- ---------- ---------- ----------  ----------\n",
        "total        2      0.61       0.86         24       7659        401        2759\n",
        "```\n",
        "\n",
        "**ex.3 Select문**\n",
        "\n",
        "- Select문 실행시 Excetue Call 단계에서는 커서만 오픈.\n",
        "- Select문 실행시 실제 데이터를 처리하는 과정은 모두 Fetch 단계.\n",
        "- sort group by는 Execute 단계에서 처리할 것으로 예상되지만 실제로는 Fetch 시점에 처리.\n",
        "- 실제 데이터를 액세스하면서 일을 시작하는 시점은 첫 번째 Fetch Call 인 것을 짐작.\n",
        "\n",
        "<br>\n",
        "\n",
        "- Parse Call : 1\n",
        "- Execute Call : 1\n",
        "- Fetch Call : 1\n",
        "\n",
        "```sql\n",
        "select owner, count(*) from big_table group by owner ;\n",
        "\n",
        "call     count       cpu    elapsed       disk      query    current        rows\n",
        "------- ------  -------- ---------- ---------- ---------- ----------  ----------\n",
        "Parse        1      0.00       0.00          0          1          0           0\n",
        "Execute      1      0.00       0.00          0          0          0           0\n",
        "Fetch        1      0.01       0.00          0         88          0          18\n",
        "------- ------  -------- ---------- ---------- ---------- ----------  ----------\n",
        "total        3      0.01       0.00          0         89          0          18\n",
        "```\n",
        "\n",
        "\n",
        "**ex.4 for update 구문**\n",
        "\n",
        "- Execute Call 단계에서 모든 레코드를 읽어 Lock을 설정.\n",
        "- 10,000건의 레코드가 있는 테이블을 for update 구문을 사용하여 실행시켰을때 Execute 단계에서 이미 Current모드로 읽어 10,000개 레코드 전체에 대해 Lock을 설정.\n",
        "\n",
        "<br>\n",
        "- Parse Call : 1\n",
        "- Execute Call : 1\n",
        "- Fetch Call : 11\n",
        "\n",
        "```sql\n",
        "select * from big_table for update ;\n",
        "\n",
        "call     count       cpu    elapsed       disk      query    current        rows\n",
        "------- ------  -------- ---------- ---------- ---------- ----------  ----------\n",
        "Parse        1      0.02       0.00          0          1          0           0\n",
        "Execute      1      0.03       0.03          4         88      10178           0\n",
        "Fetch       11      0.03       0.02          0        115          0         101\n",
        "------- ------  -------- ---------- ---------- ---------- ----------  ----------\n",
        "total       13      0.08       0.06          4        204      10178         101\n",
        "```"
      ],
      "metadata": {
        "id": "KujsVgszpAKA"
      }
    }
  ]
}