{
  "nbformat": 4,
  "nbformat_minor": 0,
  "metadata": {
    "colab": {
      "provenance": []
    },
    "kernelspec": {
      "name": "python3",
      "display_name": "Python 3"
    },
    "language_info": {
      "name": "python"
    }
  },
  "cells": [
    {
      "cell_type": "markdown",
      "source": [
        "# **PL/SQL 함수의 특징**"
      ],
      "metadata": {
        "id": "fDfbIn2IOXPP"
      }
    },
    {
      "cell_type": "markdown",
      "source": [
        "- PL/SQL로 작성한 함수와 프로시저를 컴파일 하면 JAVA처럼 BYTECODE가 생성.\n",
        "- PL/SQL 엔진만 있다면 어디서든 실행이 가능.\n",
        "- BYTECODE 는 데이터 딕셔너리에 저장되었다가 런타임시 해석.\n",
        "- 인터프리터 언어이므로 Native 코드로 완전 컴파일된 내장 함수에 비해 느림.\n",
        "- 함수 실행시 매번 SQL 실행엔진과 PL/SQL 가상버신 사이에 컨텍스트 스위칭이 일어남."
      ],
      "metadata": {
        "id": "Z8ZR-qIQOXNP"
      }
    },
    {
      "cell_type": "markdown",
      "source": [
        "# **Recursive Call를 포함하지 않는 함수의 성능 부하**"
      ],
      "metadata": {
        "id": "qMZHJGOyOXJJ"
      }
    },
    {
      "cell_type": "markdown",
      "source": [
        "- Recursive Call 없이 컨텍스트 스위칭 효과만으로 보통 5~10 배 정도 느려짐"
      ],
      "metadata": {
        "id": "jeA6qXLMOXG5"
      }
    },
    {
      "cell_type": "markdown",
      "source": [
        "# **Recursive Call를 포함하는 함수의 성능 부하**"
      ],
      "metadata": {
        "id": "Xh84OnKjOXFC"
      }
    },
    {
      "cell_type": "markdown",
      "source": [
        "- 사용자 정의 함수에는 Recursive Call을 포함하고, User Call에 비하면 비용이 훨씬 적지만 매번 Execute Call 과 Fetch Call을 발생시킴.\n",
        "- 대량의 데이터 조회시 레코드 단위로 함수를 호출하면 성능이 극도로 나빠짐.\n",
        "- I/O가 전혀 발생하지 않는 가벼운 쿼리 (10g 이후 DUAL테이블을 쿼리하면 FAST DUAL방식으로 수행되므로 I/O가 전혀 발생하지 않음)를 삽입함에도 23배 가량 더  느려짐.\n",
        "- 함수에서 발생하는 Recursive Call은 대부분 I/O를 수반함으로 훨씬 큰 성능저하를 가져옴."
      ],
      "metadata": {
        "id": "-F7QgkPhOXDR"
      }
    },
    {
      "cell_type": "markdown",
      "source": [
        "# **함수를 필터 조건으로 사용할 때 주의 사항**"
      ],
      "metadata": {
        "id": "tED0E4kLOW_p"
      }
    },
    {
      "cell_type": "markdown",
      "source": [
        "- Where절에서 필터 조건으로 사용할때도 조건절과 인덱스 상황에 따라 함수 호출 횟수가 달라짐"
      ],
      "metadata": {
        "id": "LhS89IwtQTCA"
      }
    },
    {
      "cell_type": "markdown",
      "source": [
        "# **함수와 읽기 일관성**"
      ],
      "metadata": {
        "id": "pKu1TyKgQS_V"
      }
    },
    {
      "cell_type": "markdown",
      "source": [
        "- 다른 세션에서 특정한 테이블의 값을 변경하면 쿼리 수행중 중간부터 함수 실행시 다른 결과 값을 리턴.\n",
        "- 함수 내에서 수행되는 Recursive 쿼리는 메인쿼리의 시작 시점과 무관하게 그 쿼리가 수행되는 시점을 기준으로 블록을 읽기 때문.\n",
        "- 즉, 가장 기본적인 문장 수준 읽기(Statement-level consistency) 일관성이 보장이 되지 않음.\n",
        "- Deterministic 함수로 선언하거나 스칼라 서브쿼리를 덧씌우더라도 이 문제는 완전히 해결되지 않음.\n",
        "- 프로시저, 패키지, 트리거를 사용할 때도 공통적으로 나타나는 현상."
      ],
      "metadata": {
        "id": "AxaBO3iKQS17"
      }
    },
    {
      "cell_type": "markdown",
      "source": [
        "# **함수의 올바른 사용기준**"
      ],
      "metadata": {
        "id": "jN5UqZTwQShU"
      }
    },
    {
      "cell_type": "markdown",
      "source": [
        "- 채번 함수를 이용하여 성능을 향상시킬 수 있으며, 함수/프로시저를 사용하지 않았을 때 결국 User Call이 발생시키도록 구현한다면 오히려 오라클 함수/프로시저를 사용하는 것이 더 나음.\n",
        "- Dependency 체인에 의한 라이브러리 캐시 부하를 최소화 하려면 가급적 함수/프로시저 보다 패키지를 사용하는 것이 유리.\n",
        "- 역할을 분담하여 연산위주의 작업은 AP서버단에서 주로 처리하고 SQL 수행을 많이 요하는 작업은 오라클 함수/프로시저를 이용하도록 설계할 필요가 있음."
      ],
      "metadata": {
        "id": "AxKSyoNsOW9c"
      }
    }
  ]
}