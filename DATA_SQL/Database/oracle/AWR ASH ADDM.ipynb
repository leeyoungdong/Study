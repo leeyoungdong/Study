{
  "nbformat": 4,
  "nbformat_minor": 0,
  "metadata": {
    "colab": {
      "provenance": []
    },
    "kernelspec": {
      "name": "python3",
      "display_name": "Python 3"
    },
    "language_info": {
      "name": "python"
    }
  },
  "cells": [
    {
      "cell_type": "markdown",
      "source": [
        "# **AWR**\n",
        "\n",
        "**(Automatic Workload Repository)**\n"
      ],
      "metadata": {
        "id": "yY-QmwhmGn6g"
      }
    },
    {
      "cell_type": "markdown",
      "source": [
        "- performance statistics가 MMON에 의해 자동으로 수집되는 저장소.[AWR과 관련한 작업을 도와주는 Background Process가 MMON.]\n",
        "\n",
        "- 자동으로 DB에 대한 통계 및 성능 자료를 수집해 스냅샷으로 만들어 일정 기간동안 보관하고, 이를 활용할 수 있게 해주는 기능.\n",
        "\n",
        "- sys소유의 sysaux tablespace를 사용하는 table들의 덩어리\n",
        "\n",
        "- 성능자료의 간단한 예로는 Buffer/CPU/Pin/Latch/Library 등의 히트율, 자원 사용률, Soft/Hard Parse 정도, 가장 느리게 돌았던 쿼리(Slow Query) 등이 있다.\n",
        "\n",
        "- 수집되는 주기는 60분에 한번씩이며, 7일동안 수집.[200M ~ 300M 정도의 공간을 사용]\n",
        "\n",
        "- 느린 쿼리를 튜닝한다든지, SGA의 값을 AWR이 추천하는 값으로 변경해 효용성을 높인다든지 하는 방법으로 활용할 수 있음.\n"
      ],
      "metadata": {
        "id": "TOVnRgKfGn4p"
      }
    },
    {
      "cell_type": "markdown",
      "source": [
        "# **ASH**\n",
        "**(Active Session History)**"
      ],
      "metadata": {
        "id": "1I5DMvIqGn2k"
      }
    },
    {
      "cell_type": "markdown",
      "source": [
        "- Ratio 기반 분석방법론과 wait event 기반 분석방법론의 한계점은 문제가 있다고 진단했을때 그 원인을 찾아 실제 문제를 해결하는 데까지 많은 시간이 걸리는 데 있다고 함.\n",
        "\n",
        "- v$session 이용하여 실시간 세션에 대한 모니터링을 할 수 있지만 이는 해당 시점에서의 걸리는 쿼리만을 볼 수 있다는 점 때문에 한계가 있다.\n",
        "\n",
        "- 10g부터 릴리즈 된 ASH.\n",
        "\n",
        "- ASH는 실시간 세션(Actvie Session)의 활동 정보, SQL 수행 빈도 등의 정보를 1초 간격으로 수집해 SGA -> Shared Pool -> ASH Buffer 영역에 보관해뒀다가 가득 차게 되면 AWR로 내려씀.\n",
        "\n",
        "- ASH 정보를 디스크로 내려 쓰는 역할을 담당하는 Background Process는 MMNL.[MMNL(Manageability monitor light): 66%가 차면 ASH buffer의 내용을 Workload Repository 로 내려씀]\n",
        "\n",
        "- MMON은 자동적으로 60분에 한번씩 Workload repository로 ASH buffer에 있는 내용을 내려씀[현재 접속해서 활동 중인 Active 세션 정보를 1초에 한번씩 샘플링해서 ASH 버퍼에 저장]\n",
        " - shared pool안에 있는 메모리.cpu당 2m, v$active_session_history(실제로 일을 하고 있는 session의 정보)의 데이터를 1초에 한번씩 옮겨진다.\n",
        "\n"
      ],
      "metadata": {
        "id": "_kQmWhMpGn0j"
      }
    },
    {
      "cell_type": "markdown",
      "source": [
        ": 현재 접속해서 활동 중인 Active 세션 정보를 1초에 한번씩 샘플링해서 ASH 버퍼에 저장한다.\n",
        "  shared pool안에 있는 메모리.cpu당 2m,\n",
        "   v$active_session_history(실제로 일을 하고 있는 session의 정보)의 데이터를 1초에 한번씩 옮겨진다.\n",
        "  10g new feature\n",
        "\n",
        "  MMON은 자동적으로 60분에 한번씩 Workload repository로 ASH buffer에 있는 내용을 내려씀\n",
        "  MMNL(Manageability monitor light): 66%가 차면 ASH buffer의 내용을 Workload Repository 로 내려씀\n"
      ],
      "metadata": {
        "id": "2yWYIKIpHVvR"
      }
    },
    {
      "cell_type": "markdown",
      "source": [
        "# **ADDM**\n",
        "**(Automatic Database Diagnostic Monitor)**"
      ],
      "metadata": {
        "id": "k22hKaBMGnyg"
      }
    },
    {
      "cell_type": "markdown",
      "source": [
        "- MMON에 의해 수집된 데이타베이스 성능 통계에 대한 철저한 분석을 통해 성능 병목을 확인하고, SQL 구문에 대한 분석을 통해 성능 향상을 위한 권고안을 제공.\n",
        "- SQL Tuning Advisor와 연동된 기능을 제공.\n",
        " - EM page 의 addm finding : 숫자 -> 가장 최근의 수집된 snapshot에서의 문제 갯수\n",
        " - statistics_level 파라미터의 값이 typical이상이어야 ADDM이 실행."
      ],
      "metadata": {
        "id": "sN92aEGVGnwV"
      }
    }
  ]
}