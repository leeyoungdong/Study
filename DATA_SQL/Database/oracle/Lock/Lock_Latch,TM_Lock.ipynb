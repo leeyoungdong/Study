{
  "nbformat": 4,
  "nbformat_minor": 0,
  "metadata": {
    "colab": {
      "provenance": []
    },
    "kernelspec": {
      "name": "python3",
      "display_name": "Python 3"
    },
    "language_info": {
      "name": "python"
    }
  },
  "cells": [
    {
      "cell_type": "markdown",
      "source": [
        "# **대표적인 오라클 Lock의 종류**"
      ],
      "metadata": {
        "id": "VHRnH8S0rKK9"
      }
    },
    {
      "cell_type": "markdown",
      "source": [
        "- **래치(Latch)**\n",
        "  - SGA에 공유되어 있는 갖가지 자료구조를 보호할 목적으로 사용되는 가벼운 Lock.\n",
        "  - 큐(Queue) 구조가 아님\n",
        "- **버퍼 Lock**\n",
        "  - 버퍼 블록에 대한 액세스를 직렬화.\n",
        "- **라이브러리 캐시 Lock**\n",
        "  - 라이브러리 캐시 오브젝트에 대한 핸들을 보호.\n",
        "- **라이브러리 캐시 Pin**\n",
        "  - 라이브러리 캐시 오브젝트의 실제 내용이 담긴 힙(HeaP)을 보호.\n",
        "- **DML 테이블 Lock**\n",
        "  - Enqueue Lock으로 구현.\n",
        "- **DML 로우 Lock**\n",
        "  - 로우 단위 Lock과 트랜잭션 Lock을 조합해서 구현."
      ],
      "metadata": {
        "id": "Mrdov15yrKDH"
      }
    },
    {
      "cell_type": "markdown",
      "source": [
        "# **래치(Latch)**"
      ],
      "metadata": {
        "id": "G0wjWoz0rKBV"
      }
    },
    {
      "cell_type": "markdown",
      "source": [
        "- cache buffers chains latch라고도 하며 버퍼 캐시 헤더 체인이 연결된 해시 버킷들을 하나의 래치가 관리"
      ],
      "metadata": {
        "id": "0dLrqO86rJ82"
      }
    },
    {
      "cell_type": "markdown",
      "source": [
        "**래치 위치**"
      ],
      "metadata": {
        "id": "0ks616QJrJ6E"
      }
    },
    {
      "cell_type": "markdown",
      "source": [
        "![image.png](data:image/png;base64,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)"
      ],
      "metadata": {
        "id": "5aSUdE46rJ4b"
      }
    },
    {
      "cell_type": "markdown",
      "source": [
        "- Data Blocks는 버퍼 캐시 블록.\n",
        "- Buffer Header는 버퍼 캐시 블록에 대한 메타 정보와 버퍼 메모리 영역의 실제 버퍼에 대한 포인터 값을 가짐.\n",
        "- Hash Bucket은 블록의 주소(블록클래스)를 해시함수에 적용하여 같은 해시 값을 갖는 버퍼 헤더들이 체인 형태로 구성되어 있는 곳.\n",
        "- 래치는 여러 사용자가 동시에 버퍼 블록에 접근 할 경우 정합성 문제 발생을 방지하기 위해 접근을 직렬화하기 위한 간단한 Lock을 의미하며 하나의 래치는 여러 해시 체인을 보호."
      ],
      "metadata": {
        "id": "Pd-zBkddrJ2V"
      }
    },
    {
      "cell_type": "markdown",
      "source": [
        "# **DML 테이블 Lock**"
      ],
      "metadata": {
        "id": "vs1aa5IQrJ0V"
      }
    },
    {
      "cell_type": "markdown",
      "source": [
        "**Enqueue Lock**\n",
        "\n",
        "- 테이블, 트랜잭션, 테이블스페이스, 시퀀스, Temp 세그먼트 등의 공유 리소스에 대한 액세스를 관리하는 Lock 메커니즘.\n",
        "- DML 테이블 Lock은 래치와 달리 큐 구조를 사용하기 때문에 락의 대기 순서가 보장.\n",
        "  - 대기자 큐에 가장 먼저 Lock 요청을 등록한 세션이 가장 먼저 Lock을 획득.\n",
        "- Enqueue Lock으로 관리되는 공유 리소스에 대해 Lock을 획득하려면 먼저 Enqueue 리소스를 할당받아야 함.\n",
        "  - 현재 할당된 Enqueue 리소스는 v$resource 뷰를 통해 확인할 수 있음.\n",
        "\n",
        "> **Enqueue 리소스**\n",
        ">\n",
        "> 소유자(Owner), 대기자(Waiter) 목록을 관리할 수 있는 구조체.\n",
        ">\n",
        "> 각 Enqueue 리소스에 고유한 식별자(Type-ID1-ID2)를 부여.\n",
        ">\n",
        "> 식별자에서 Type은 2개 문자열('TX', 'TM', 'TS' 등)로 구성.\n",
        ">\n",
        "> 식별자에서 ID1, ID2에는 Lock 종류에 따라 다른 정보를 가짐.\n",
        "\n",
        "**TM Lock**\n",
        "\n",
        "- DML 테이블 Lock 실행시 걸리는 락.\n",
        "\n",
        "- Enqueue로 구현.(TM Enqueue)\n",
        "  - Enqueue 리소스 식별자에서 Type은 TM , ID1은 오브젝트ID ,ID2는 0으로 표시.\n",
        "- enq: TM - contention 이벤트 발생\n",
        "  - 선행 트랜잭션이 TM Lock을 해제하기를 기다리는 트랜잭션에서 발생하는 대기 이벤트.\n",
        "- 현재 트랜잭션이 갱신 중인 테이블에 대한 테이블의 구조 변경을 방지.\n",
        "\n",
        "- 로우 Lock 획득시 해당 테이블에 대한 테이블 Lock도 동시에 획득.\n",
        "\n",
        "- 갱신중인 테이블에 대한 호환되지 않는 DDL 오퍼레이션을 방지.\n",
        "\n",
        "- DML문 간에도 테이블 Lock을 이용해 동시성을 제어하는 경우도 있음.\n",
        "\n",
        "- 병렬 DML 또는 Direct Path Insert 방식으로 작업을 수행하는 경우에도 TM Lock을 사용.\n",
        "\n",
        "- 로우 Lock은 항상 Exclusive 모드이지만, 테이블 Lock에는 여러 가지 Lock 모드가 가용.\n",
        "\n",
        "**명시적인 테이블 Lock 명령어 종류(Lock Table 명령어)**\n",
        "\n",
        "1. RS 모드 (Row Share Table Locks)\n",
        "\n",
        "```\n",
        "LOCK TABLE EMP IN ROW SHARE MODE;\n",
        "```\n",
        "\n",
        "- row를 lock 시키고 lock된 테이블을 UPDATE 하고자 하는 것을 가리킨다.\n",
        "- 모든 row를 SELECT 하려는 다른 트랜잭션을 허용.\n",
        "- 동일 테이블에서 lock 되지 않은 row를 INSERT, UPDATE, DELETE 하는 다른 트랜잭션을 허용.\n",
        "- 테이블에 대한 ROW SHARE, ROW EXCLUSIVE, SHARE, SHARE ROW EXCLUSIVE lock을 획득하려는 다른 트랜잭션을 허용.\n",
        "- EXCLUSIVE 모드에서의 테이블 locking으로부터 다른 트랜잭션을 예방.\n",
        "- select for update 명령에 의해 조건에 걸린 ROW 에 대해서는 TX LOCK이 걸려야하는데 이 때테이블 락으로 RS LOCK이 먼저 걸려야 함.\n",
        "\n",
        "```\n",
        "SELECT .. FROM .. WHERE .. FOR UPDATE OF .. ;\n",
        "```\n",
        "\n",
        "- 이 때 이 ROW 에 대해서 UPDATE, DELETE 를 실행할때는 에러는 나지 않지만 ,ROW 에 대해서는 TX LOCK 이 걸리므로 COMMIT 이나 ROLLBACK 할때까지 WAITING.\n",
        "\n",
        "2. RX 모드 (Row Exclusive Table Lock)\n",
        "\n",
        "```\n",
        "LOCK TABLE EMP IN ROW EXCLUSIVE MODE ;\n",
        "```\n",
        "\n",
        "- insert, update, delete, merge 문을 위해 로우 Lock을 설정하려면 먼저 획득해야 하는 테이블락.\n",
        "- ROW EXCLUSIVE LOCK lock이 걸린 transaction이 그 table에 있는 row들에 대해 하나 이상의 update를 수행하고자 하는 것을 가리킴.\n",
        "  - 즉, row를 lock 시키고 테이블에서 row를 update 하고자 하는 것.\n",
        "- 모든 row를 SELECT 하려는 다른 트랜잭션을 허용.\n",
        "- 동일 테이블에서 lock 되지 않은 row를 INSERT, UPDATE, DELETE 하는 다른 트랜잭션을 허용.\n",
        "- 테이블에 대한 ROW SHARE, ROW EXCLUSIVE lock을 획득하려는 다른 트랜잭션을 허용.\n",
        "- 테이블에 대한 SHARE(S), ROW EXCLUSIVE lock(SRX), EXCLUSIVE lock(X) 을 획득하려는 다른 트랜잭션을 불허.\n",
        "- 다음 명령어들에 의해 RX 모드 테이블 LOCK이 걸리기도 함.\n",
        "\n",
        "```\n",
        "UPDATE EMP SET ...;\n",
        "INSERT INTO  EMP...;\n",
        "DELETE FROM EMP ...;\n",
        "```\n",
        "\n",
        "> **RS, RX 간의 관계**\n",
        ">\n",
        "> - RS, RX 간에는 어떤 조합으로도 호환이 되므로 select for update나 DML문 수행시 이들간에 테이블 Lock에 의한 경합은 절대 발생하지 않음.\n",
        ">\n",
        "> - 다만, 같은 로우를 갱신하려 할 때 로우 Lock에 의한 경합은 발생.\n",
        "\n",
        "3. S 모드 (share table lock)\n",
        "\n",
        "```\n",
        "LOCK TABLE EMP IN SHARE MODE;\n",
        "```\n",
        "\n",
        "- S LOCK 은 같은 테이블에 대해서 RS, S LOCK 만 가능.\n",
        "  - 다른 트랜잭션들이 해당 table에 대한 query 수행 또는 SELECT … FOR UPDATE를 이용한 특정 row에 대한 lock을 거는 것을 허용.\n",
        "  - 다른 트랜잭션들이 해당 테이블에 LOCK TABLE … IN SHARE MODE문으로 S lock을 거는 것을 허용.\n",
        "- S LOCK 은 같은 테이블에 대해서 RX, SRX, X LOCK 을 걸 수 없음.\n",
        "  - 다른 트랜잭션이 row를 INSERT, UPDATE, DELETE 하기 위해 RX, SRX, X LOCK 따위의 락을 거는 것을 불허.\n",
        "\n",
        "4. SRX 모드(share row exclusive table lock)\n",
        "\n",
        "```\n",
        "LOCK TABLE EMP IN SHARE ROW EXCLUSIVE MODE;\n",
        "```\n",
        "\n",
        "- 테이블에 row를 INSERT, UPDATE, DELETE 하기 위해 걸린 테이블 Lock 모드.\n",
        "- 동일 테이블에서 지정된 row를 QUERY 또는 SELECT … FOR UPDATE로 특정 row를 LOCK 하려는 다른 트랜잭션을 허용.(즉, RS LOCK 만 가능하다.)\n",
        "  - 다른 트랜잭션의 table 갱신은 허용하지 않음.(즉 , RX, SRX, S, X LOCK 을 걸 수 없다.)\n",
        "- 주어진 table에 대해 하나의 share row exclusive table lock만이 걸릴 수 있음.\n",
        "\n",
        "5. X 모드(Exclusive Table Lock)\n",
        "\n",
        "```\n",
        "LOCK TABLE EMP IN EXCLUSIVE MODE;\n",
        "```\n",
        "\n",
        "- EXCLUSIVE lock을 건 트랜잭션이 table에 대한 access를 exclusive write로 허용하는 가장 제한적인 모드의 테이블 LOCK.\n",
        "- 테이블에 row를 INSERT, UPDATE, DELETE 하기 위해 걸리는 가장 제한적인 테이블 Lock 모드.\n",
        "- X LOCK 은 같은 테이블에서는 어떠한 LOCK 도 걸 수 없음.\n",
        "  - 선행 트랜잭션과 호환되지 않는 모드로 테이블 Lock을 설정하려는 후행 트랜잭션은 대기하거나 작업을 포기.\n",
        "- 동일 테이블에서 지정된 row를 QUERY하는 것에 대해서만 다른 트랜잭션을 허용.\n",
        "- 다음과 같은 DDL 명령어 따위에 생기는 table 락.\n",
        "\n",
        "```\n",
        "DROP TABLE EMP;\n",
        "ALTER TABLE EMP...;\n",
        "```"
      ],
      "metadata": {
        "id": "GPFRbJs1rJx6"
      }
    },
    {
      "cell_type": "markdown",
      "source": [
        "**테이블 Lock에 대한 오해.1**\n",
        "\n",
        "> FAQ 1) 테이블 전체에 Lock이 걸려서 다른 트랜잭션이 더는 레코드를 추가하거나 갱신하지 못하도록 막는 게 아닌가?\n",
        ">\n",
        "> 답변 ) update , insert , delete 등등 모든 DML 수행시 항상 Table Lock이 함께 설정.\n",
        "\n",
        "**테이블 Lock에 대한 오해.2**\n",
        "\n",
        "> FAQ 2) 테이블 Lock, Lock이라는 단어답게 진짜로 물리적으로 자물쇠처럼 잠그는 프로세스가 따로 있는거 아닌가?\n",
        ">  \n",
        ">  답변 ) 테이블락은 Lock을 획득한 선행 트랜젝션이 해당 테이블에서 현재 어떤 작업을 수행중인지 알리는 일종의 푯말(Flag)일 뿐.\n",
        "\n",
        "> 즉, 푯말에 기록된 Lock 모드와 후행 트랜젝션이 현재 하려는 작업 내용에 따라 진행 여부가 결정.\n",
        "> 여러 가지의 Lock 모드에 따라 후행 트랜잭션이 수행할 수 있는 작업의 범위가 결정되고 기다려야 한다면 TM Enqueue 리소스 대기자 목록에 Lock 요청을 등록하고 대기\n",
        "\n",
        "**[예시] DDL문을 이용해 테이블 구조를 변경하려는 세션**\n",
        "\n",
        "1. 해당 테이블에 TM Lock이 설정되어 있는지 먼저 확인.\n",
        "2. TM Lock을 Row Exclusive(=SX) 모드로 설정한 트랜젝션이 하나라도 있다면 현재 테이블을 갱신중인 트랜젝션이 있다는 신호이므로 ORA-00054 메시지를 던지고 작업을 멈춤.\n",
        "3. DDL문이 먼저 수행중일 경우는 DML문을 수행하려는 세션이 TX Lock을 얻으려고 대기.\n",
        "4. 이 때 enq: TM - contention 대기 이벤트가 발생.\n",
        "\n",
        "**대상 리소스가 사용중일 때 트랜잭션이 선택하는 진로의 종류**\n",
        "\n",
        "- Lock을 얻고자 하는 리소스가 사용중일 때, 프로세스는 3가지 방법 중 하나를 선택.\n",
        "- 보통은 진로가 결정되어 있지만 select for update 문 사용하여 사용자가 직접 선택하는 경우\n",
        "\n",
        "1. Lock이 해제될 때까지 기다림.\n",
        "\n",
        "```\n",
        "select * from EMP for update;\n",
        "```\n",
        "\n",
        "2. 일정 시간만 기다리다 포기.\n",
        "\n",
        "```\n",
        "select * from EMP for update wait 3;\n",
        "```\n",
        "\n",
        "- 포기할 때 ORA-30006: resource busy; acquire with WAIT timeout expired 메시지를 던짐.\n",
        "3. 기다리지 않고 작업을 포기.\n",
        "\n",
        "```\n",
        "select * from EMP for update nowait;\n",
        "```\n",
        "\n",
        "- 작업을 포기할 때 ORA-00054: resource busy and acquire with NOWAIT specified 메시지를 던짐."
      ],
      "metadata": {
        "id": "-Hgvy0wSrJv4"
      }
    }
  ]
}