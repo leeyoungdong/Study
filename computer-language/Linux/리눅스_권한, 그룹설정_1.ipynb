{
  "nbformat": 4,
  "nbformat_minor": 0,
  "metadata": {
    "colab": {
      "provenance": []
    },
    "kernelspec": {
      "name": "python3",
      "display_name": "Python 3"
    },
    "language_info": {
      "name": "python"
    }
  },
  "cells": [
    {
      "cell_type": "markdown",
      "source": [
        "# **리눅스_권한 및 그룹 설정**"
      ],
      "metadata": {
        "id": "vSdIWJx4CGIk"
      }
    },
    {
      "cell_type": "markdown",
      "source": [
        "# **파일 속성 조회(ls -l)**\n",
        "\n",
        "* 첫 번째 필드: 파일이나 디렉터리의 허가권 (chmod, umask로 설정 가능)\n",
        "\n",
        "* 세 번째 필드: 파일이나 디렉터리의 소유자 (chown로 설정 가능)\n",
        "\n",
        "* 네 번째 필드: 파일이나 디렉터리의 소유그룹 (chown, chgrp로 설정 가능)"
      ],
      "metadata": {
        "id": "UG0bUq62CGFs"
      }
    },
    {
      "cell_type": "markdown",
      "source": [
        "![image.png](data:image/png;base64,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)"
      ],
      "metadata": {
        "id": "Jd3Ddo-_Hlyb"
      }
    },
    {
      "cell_type": "markdown",
      "source": [
        "* 리눅스 ls 명령어 옵션\n",
        "\n",
        "-a: 숨겨진 파일도 출력\n",
        "\n",
        "-l: 자세하게 출력\n",
        "\n",
        "-s: 파일 크기 순 정렬 (-h와 함께 -sh로 자주 사용)\n",
        "\n",
        "-h: 파일크기 보기좋게 표시 (-s와 함께 -sh로 자주 사용)\n",
        "\n",
        "-r: 역순 정렬 (기본은 알파벳순 정렬)\n",
        "\n",
        "-R: 하위 디렉토리도 출력\n",
        "\n",
        "-lu: atime(접근 access 시간) 출력 - 기본은 수정시간 mtime 표시\n",
        "\n",
        "-lc: ctime(파일 저보 변경 change 시간) 출력 - 기본은 수정시간 mtime 표시"
      ],
      "metadata": {
        "id": "zWCJJBAQCGDU"
      }
    },
    {
      "cell_type": "markdown",
      "source": [
        "# **소유권 관련 명령어 (chown, chgrp)**\n",
        "\n",
        "**chown**\n",
        "\n",
        "* 파일과 디렉터리의 사용자 소유권과 소유그룹 변경\n",
        "\n",
        "* 소유권 변경 시 참조하는 파일 /etc/passwd\n",
        "\n",
        "* 기본 변경 → chown 변경할사용자명 파일/디렉토리명 (예: chown host a.txt)\n",
        "\n",
        "* 소유그룹 변경 → chown 변경할사용자명:변경할그룹명 파일/디렉토리명 (예: chown host:grp a.txt)\n",
        "\n",
        " \n",
        "\n",
        "**chgrp**\n",
        "\n",
        "* 파일이나 디렉터리의 그룹 소유권 변경\n",
        "\n"
      ],
      "metadata": {
        "id": "719xJ6SyCGBW"
      }
    },
    {
      "cell_type": "markdown",
      "source": [
        "# **허가권 관련 명령어 (chmod, umask)**"
      ],
      "metadata": {
        "id": "oyfYDbwWCF_D"
      }
    },
    {
      "cell_type": "markdown",
      "source": [
        "* 명령어 ls -l을 사용하여 파일 유형과 허가권을 알 수 있음\n",
        "\n",
        "* 파일 유형: d (디렉터리) / - (일반파일) / l (링크파일) / b (블록 디바이스) / c (문자 디바이스)\n",
        "\n",
        "* 파일 허가권: 읽기(read-4), 쓰기 (write-2), 실행(execute-1)으로 구성 / 접근 제한은 -"
      ],
      "metadata": {
        "id": "RjSUF_1RCF8k"
      }
    },
    {
      "cell_type": "markdown",
      "source": [
        "![image.png](data:image/png;base64,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)"
      ],
      "metadata": {
        "id": "VDH7_KpeH2-S"
      }
    },
    {
      "cell_type": "markdown",
      "source": [
        "위 내용을 예로 들면 bench.py 파일의 허가권은\n",
        "\n",
        "* (일반파일) , rw-(6 읽기 쓰기, 소유자 권한), r--(4 읽기, 소유그룹 권한), r--(4 읽기, 그 외 권한)\n",
        "\n",
        "**chmod**\n",
        "\n",
        "* 파일이나 디렉터리의 접근 허가권을 변경하는 명령어\n",
        "\n",
        "* chmod 소유자권한번호 소유그룹권한번호 그외권한번호 파일및디렉토리명 (예: chmod 744 a.txt) \n",
        "\n",
        " \n",
        "\n",
        "**umask**\n",
        "\n",
        "* 새로 생성되는 파일이나 디렉터리의 기본 허가권 값 지정\n",
        "\n",
        "* 파일 기본 권한 666, 디렉터리 기본 권한 777\n",
        "\n",
        "* 기본 권한 - umask value = defualt permission\n",
        "\n",
        "* umask 숫자값임. 기본 권한에서 umask 값을 빼야 default permission 값을 알 수 있음\n",
        "\n",
        "* umask -S 문자값임. 문자값 그대로 권한(default permission) 설정"
      ],
      "metadata": {
        "id": "EcSWXRhHH3jT"
      }
    }
  ]
}