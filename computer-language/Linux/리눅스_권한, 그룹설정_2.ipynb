{
  "nbformat": 4,
  "nbformat_minor": 0,
  "metadata": {
    "colab": {
      "provenance": []
    },
    "kernelspec": {
      "name": "python3",
      "display_name": "Python 3"
    },
    "language_info": {
      "name": "python"
    }
  },
  "cells": [
    {
      "cell_type": "markdown",
      "source": [
        "# **특수 권한 (SetUID, SetGID, Sticky Bit)**\n"
      ],
      "metadata": {
        "id": "QJUpRaUfyjly"
      }
    },
    {
      "cell_type": "markdown",
      "source": [
        "SetUID / SetGID\n",
        "\n",
        "* 프로세스가 실해되는 동안 해당 프로세스의 소유자(SetUID)/소유그룹(SetGID)의 권한을 임시로 가져오는 기능\n",
        "\n",
        "* 프로세스가 사용자보다 높은 수준의 접근을 요구할 때 파일 접근 제한 때문에 원활한 기능을 제공할 수 없기 때문에 이러한 문제 해결을 위한 방법\n",
        "\n",
        "* 사용의 용이성을 위해 부여하나, 보안에 위협적임\n",
        "\n",
        "* SetUID의 경우 소유자 권한으로 파일 실행시 u+s\n",
        "\n",
        "* SetGID의 경우 소유 그룹으로 파일 실행 시 g+s\n",
        "\n",
        "* 만약 유저/그룹 퍼미션 자리에 실행 권한이 있으면 s(정상), 없으면 권한이 비유효하므로 S(비정상)"
      ],
      "metadata": {
        "id": "6LEgCd5KyjhS"
      }
    },
    {
      "cell_type": "markdown",
      "source": [
        "Sticky Bit\n",
        "\n",
        "* 일반적으로 공용 디렉터리를 사용할 때 Sticky Bit (o+t) 설정\n",
        "\n",
        "* 유효시 소문자 t, 비유효시 대문자 T\n",
        "\n",
        "* 공용 디렉터리에는 누구든지 파일 생성이 가능하나, 수정 및 삭제는 root와 소유자만 가능\n",
        "\n",
        "* 대표적인 공용 디렉터리는 /tmp와 /var/tmp가 있음\n",
        "\n",
        " "
      ],
      "metadata": {
        "id": "JwTN9Bbsyjfe"
      }
    },
    {
      "cell_type": "markdown",
      "source": [
        "# **디스크 쿼터 (Quota)**"
      ],
      "metadata": {
        "id": "ZnHJEYd4yjeL"
      }
    },
    {
      "cell_type": "markdown",
      "source": [
        "* 파일 시스템마다 사용자나 그룹이 생성할 수 있는 파일의 용량(블록단위) 및 개수(inode 수)를 제한하는 것\n",
        "\n",
        "* 사용자별, 파일 시스템별로 동작! 관련 내용은 /etc/fstab에서 디스크 쿼터 관련 설정 확인 가능\n",
        "\n",
        "* 그룹 단위로도 용량 제한이 가능하여, 웹 호스팅 서비스 시 유용\n",
        "\n",
        " \n",
        "\n",
        "**순서: quotacheck → edquota → quotaon →requota**\n",
        "\n",
        "* quotacheck: 파일 시스템의 디스크 사용 상태를 검색. 쿼터 설정을 확인하여 쿼터가 존재할 경우에는 생성 (aquota.user, aquota.group: 사용자, 그룹의 쿼터 관련 정보 기록)\n",
        "\n",
        "* edquota: vi 편집기를 이용하여 사용자나 그룹에 디스크 사용량 할당\n",
        "\n",
        "* setquota: 편집기나 아닌 명령행에서 바로 사용자나 그룹에 디스크 사용량 할당\n",
        "\n",
        "* quotaon/off: 쿼터 서비스를 활성화/비활성화\n",
        "\n",
        "* requota: 파일 시스템 단위로 쿼터 설정 표기 확인\n",
        "\n",
        " "
      ],
      "metadata": {
        "id": "NW2MRJRbyjcj"
      }
    }
  ]
}