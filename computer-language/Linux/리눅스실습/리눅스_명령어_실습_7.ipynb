{
  "nbformat": 4,
  "nbformat_minor": 0,
  "metadata": {
    "colab": {
      "provenance": []
    },
    "kernelspec": {
      "name": "python3",
      "display_name": "Python 3"
    },
    "language_info": {
      "name": "python"
    }
  },
  "cells": [
    {
      "cell_type": "markdown",
      "source": [
        "# **Command실습**"
      ],
      "metadata": {
        "id": "Oi8fUL84Abix"
      }
    },
    {
      "cell_type": "markdown",
      "source": [
        "# grep\n",
        "입력된 파일에서 일치하는 패턴을 찾는 명령어\n",
        "\n",
        "## 사용법\n",
        "\n",
        "> grep [옵션] [패턴] [파일 ...]\n",
        "\n",
        "| 옵션         | 설명 |\n",
        "|:------------:|------|\n",
        "| -A 라인수 | 일치한 패턴 다음 내용을 라인수만큼 출력 |\n",
        "| -B 라인수 | 일치한 패턴 이전 내용을 라인수만큼 출력 |\n",
        "| -C 라인수 | 일치한 패턴 앞뒤 내용을 라인수만큼 출력(-A, -B 옵션이 모두 적용) |\n",
        "| -c | 파일별 검색된 라인수 출력 |\n",
        "| -n | 파일에서 검색된 라인넘버 출력 |\n",
        "| -H | 파일에서 검색된 라인에 파일명 출력 |\n",
        "| -v | 패턴과 일치하지 않는 라인만 출력 |\n",
        "| -i | 대/소문자 무시 |\n",
        "| -m | 검색된 라인 제한 |\n",
        "| -e | 여러 개의 패턴 중 일치하는 라인 출력 |\n",
        "\n",
        "------\n",
        "\n",
        "``` shell\n",
        "# search.txt\n",
        "Hello, World\n",
        "Hello\n",
        "World\n",
        "```\n",
        "\n",
        "search.txt 파일에서 `Hello` 가 포함된 라인 중 `World` 가 없는 라인만 출력\n",
        "\n",
        "``` shell\n",
        "$ grep \"Hello\" | grep -v \"World\"\n",
        "\n",
        "Hello\n",
        "```\n",
        "\n",
        "여러 개의 패턴 중 일치하는 라인 출력\n",
        "\n",
        "``` bash\n",
        "$ grep -e \"Hello\" -e \"World\" search.txt\n",
        "Hello, World\n",
        "Hello\n",
        "World\n",
        "```\n"
      ],
      "metadata": {
        "id": "T3ctxrfDAbar"
      }
    },
    {
      "cell_type": "markdown",
      "source": [
        "# pgrep\n",
        "\n",
        "실행 중인 프로세스 중 패턴과 일치하는 프로세스의 아이디(PID)를 찾는 명령어\n",
        "\n",
        "## 사용법\n",
        "\n",
        "``` shell\n",
        "pgrep [옵션] 패턴...\n",
        "```\n",
        "\n",
        "| 옵션 | 설명 |\n",
        "|:-----|------|\n",
        "| -f   | 프로세스명 뿐만 아니라 경로, 파라미터 등 전체 인수 목록에서 일치하는 프로세스 검색 |\n",
        "| -x   | 패턴과 정확히 일치하는 프로세스만 검색<br/>(-f 옵션을 같이 사용한 경우 경로 및 파라미터까지 정확히 일치해야함) |\n",
        "\n",
        "#### 특정 패턴과 일치하는 프로세스 찾기\n",
        "\n",
        "``` shell\n",
        "# \"PID가 1000인 /home/test/run.sh PARAM1\" 이라는 프로세스가 실행중 일때, PID 출력\n",
        "❯ pgrep run.sh\n",
        "1000\n",
        "```\n",
        "\n",
        "#### 인수 목록과 일치하는 프로세스 찾기\n",
        "\n",
        "``` shell\n",
        "# /home/test에서 실행된 프로세스 찾기\n",
        "❯ pgrep -f /home/test\n",
        "1000\n",
        "\n",
        "# PARAM1이라는 파라미터로 실행된 프로세스 찾기\n",
        "❯ pgrep -f PARAM1\n",
        "1000\n",
        "```\n"
      ],
      "metadata": {
        "id": "lS3fTP0zAbft"
      }
    },
    {
      "cell_type": "markdown",
      "source": [
        "# pkill\n",
        "\n",
        "패턴과 일치하는 이름을 가진 프로세스에게 신호를 보낼 수 있는 명령어\n",
        "\n",
        "## 사용법\n",
        "\n",
        "```\n",
        "pkill [-signal] [옵션] pattern ...\n",
        "```\n",
        "\n",
        "* 시그널 생략 시 `TERM(15)` 를 전송\n",
        "\n",
        "| 옵션 | 설명 |\n",
        "|:-----|------|\n",
        "| -f   | 프로세스명 뿐만 아니라 경로, 파라미터 등 전체 인수 목록에서 일치하는 프로세스 검색 |\n",
        "| -x   | 패턴과 정확히 일치하는 프로세스만 검색<br/>(-f 옵션을 같이 사용한 경우 경로 및 파라미터까지 정확히 일치해야함) |\n",
        "\n",
        "#### 특정 패턴과 일치하는 프로세스 종료\n",
        "\n",
        "``` shell\n",
        "# /home/test/run.sh PARAM1\" 이라는 프로세스 종료\n",
        "$ pkill -15 run\n",
        "```\n",
        "\n",
        "#### 인수 목록과 일치하는 프로세스 종료\n",
        "\n",
        "``` shell\n",
        "# /home/test에서 실행 중인 프로세스 종료\n",
        "$ pkill -15 -f /home/test\n",
        "\n",
        "# PARAM1이라는 파라미터로 실행된 프로세스 종료\n",
        "$ pkill -15 -f PARAM1\n",
        "```\n"
      ],
      "metadata": {
        "id": "X5BPMmNQAbdX"
      }
    }
  ]
}