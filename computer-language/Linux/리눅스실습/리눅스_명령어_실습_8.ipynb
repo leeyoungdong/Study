{
  "nbformat": 4,
  "nbformat_minor": 0,
  "metadata": {
    "colab": {
      "provenance": []
    },
    "kernelspec": {
      "name": "python3",
      "display_name": "Python 3"
    },
    "language_info": {
      "name": "python"
    }
  },
  "cells": [
    {
      "cell_type": "markdown",
      "source": [
        "# **Command 실습**"
      ],
      "metadata": {
        "id": "7COmXRqkNGy4"
      }
    },
    {
      "cell_type": "markdown",
      "source": [
        "# telnet\n",
        "\n",
        "네트워크 프로토콜로 원격 서버에 접속할 때 사용하는 명령어\n",
        "(보안 문제로 telnet 보다는 SSH를 사용하는 걸 추천)\n",
        "\n",
        "## 사용법\n",
        "\n",
        "```\n",
        "telnet Host [Port]\n",
        "```\n",
        "\n",
        "* `Host` : IP 또는 Domain\n",
        "* `Port` 를 생략하면 telnet 기본 포트(23)으로 접속\n",
        "\n",
        "``` shell\n",
        "telnet google.com 80\n",
        "```\n",
        "\n",
        "접속 성공 시 아래와 같이 표시\n",
        "\n",
        "``` shell\n",
        "Trying 172.217.25.238...\n",
        "Connected to google.com.\n",
        "Escape character is '^]'.\n",
        "```\n"
      ],
      "metadata": {
        "id": "CPb3Fe5RNGrB"
      }
    },
    {
      "cell_type": "markdown",
      "source": [
        "# curl\n",
        "\n",
        "서버로 데이터를 보내거나 받을 수 있는 명령\n",
        "\n",
        "## 옵션\n",
        "\n",
        "| 옵션명 | 설명        |\n",
        "|:-------|-------------| \n",
        "| -H     | Request Header 설정 |\n",
        "| -X     | Request Method 설정 [default : GET] (GET, POST, PUT..)  |\n",
        "| -d     | Request Body 설정 |\n",
        "| -i     | Response Header 출력 |\n",
        "\n",
        "## HTTP 요청\n",
        "\n",
        "### 다운로드\n",
        "\n",
        "응답을 콘솔에 출력\n",
        "\n",
        "``` shell\n",
        "curl https://www.google.com \n",
        "```\n",
        "\n",
        "`curl-desc.md` 라는 파일로 저장\n",
        "\n",
        "``` shell\n",
        "curl -o curl-desc.md https://raw.githubusercontent.com/hongsii/linux-command-wiki/master/tool/curl.md\n",
        "```\n",
        "\n",
        "### 요청 보내기\n",
        "\n",
        "GET 요청 보내기\n",
        "\n",
        "``` shell\n",
        "curl -X GET https://www.google.com\n",
        "curl -X GET https://www.google.com/search?q=google\n",
        "```\n",
        "\n",
        "POST 요청 보내기\n",
        "\n",
        "* `-H` : 요청 헤더를 설정\n",
        "* `-d` : 바디로 보낼 데이터를 설정\n",
        "* 여러 줄로 사용할 경우 `\\` 를 마지막에 붙여줘야 한다.\n",
        "\n",
        "``` shell\n",
        "curl -X POST 'https://www.test-url.co.kr' \\\n",
        "    -H 'AUthorization: test-token' \\\n",
        "    -d id=1 \\\n",
        "    -d type=test\n",
        "```\n"
      ],
      "metadata": {
        "id": "kuciOzXINGo0"
      }
    },
    {
      "cell_type": "markdown",
      "source": [
        "# zgrep\n",
        "\n",
        "grep과 기능이나 옵션은 동일하며 zgrep은 압축된 파일(.zip, .gz ...)을 대상으로 일치하는 패턴을 찾는 명령어\n",
        "\n",
        "## 사용법\n",
        "\n",
        "> zgrep [옵션] [패턴] [파일 ...]\n",
        "\n",
        "| 옵션         | 설명 |\n",
        "|:------------:|------|\n",
        "| -A 라인수 | 일치한 패턴 다음 내용을 라인수만큼 출력 |\n",
        "| -B 라인수 | 일치한 패턴 이전 내용을 라인수만큼 출력 |\n",
        "| -C 라인수 | 일치한 패턴 앞뒤 내용을 라인수만큼 출력(-A, -B 옵션이 모두 적용) |\n",
        "| -c | 파일에서 검색된 라인수 출력 |\n",
        "| -n | 파일에서 검색된 라인넘버 출력 |\n"
      ],
      "metadata": {
        "id": "CL7kmUWLNGml"
      }
    }
  ]
}