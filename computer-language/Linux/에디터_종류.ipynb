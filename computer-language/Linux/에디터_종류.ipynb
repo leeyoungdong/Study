{
  "nbformat": 4,
  "nbformat_minor": 0,
  "metadata": {
    "colab": {
      "provenance": []
    },
    "kernelspec": {
      "name": "python3",
      "display_name": "Python 3"
    },
    "language_info": {
      "name": "python"
    }
  },
  "cells": [
    {
      "cell_type": "markdown",
      "source": [
        "# **에디터 종류**"
      ],
      "metadata": {
        "id": "6mc-Bya0_FZS"
      }
    },
    {
      "cell_type": "markdown",
      "source": [
        "* 리눅스에서 지원하는 편집기로는 vi, emacs, nano, pico, gedit, xedit 등이 있음\n",
        "\n",
        "* 리눅스 편집기는 편집기를 통해 파일을 수정"
      ],
      "metadata": {
        "id": "X37iBMgb_FXa"
      }
    },
    {
      "cell_type": "markdown",
      "source": [
        "# **종류**\n",
        "\n",
        "**pico**\n",
        "\n",
        "* 워싱턴 대학의 Aboil Kasar가 개발한 유닉스 기반의 텍스트 에디터\n",
        "\n",
        "* 메뉴 선택 방식의 텍스트 편집기로 기본 인터페이스가 윈도우의 메모장(notepad)과 유사\n",
        "\n",
        "* 자유 소프트웨어 라이선스가 아니기 때문에 소스 수정이 불가능\n",
        "\n",
        "* 다른 편집기에 비해 사용하기가 쉽고 편리하지만, 기능이 부족하고 업데이트가 잘 안됨\n",
        "\n",
        "* 단락 정의, 맞춤법 검사, 복사 및 붙여넣기 가능"
      ],
      "metadata": {
        "id": "PBksK7ME_FVT"
      }
    },
    {
      "cell_type": "markdown",
      "source": [
        "**nano**\n",
        "\n",
        "* GNU 프로젝트에서 pico의 복제 버전 에디터인 nano를 개발\n",
        "\n",
        "* 자동 들여쓰기, 정규표현식 검색, 구문 강조 등의 기능 제공\n",
        "\n",
        "* 단축키를 통한 도움말 제공"
      ],
      "metadata": {
        "id": "AjPrDxdb_FTK"
      }
    },
    {
      "cell_type": "markdown",
      "source": [
        "**emacs**\n",
        "\n",
        "* 리처드 스톨만이 매크로 기능이 있는 텍스트 교정 및 편집기로 개발\n",
        "\n",
        "* 최초의 개발자는 리처드 스톨만이며, 이후 제임스 고슬링이 LISP 언어를 기반하여 emacs에 다양한 기능 개발 추가\n",
        "\n",
        "* LISP에 기반을 둔 환경 설정 언어를 가지고 있음\n",
        "\n",
        "* 텍스트 뿐만 아니라 그래픽 모드도 지원"
      ],
      "metadata": {
        "id": "qYvAebzM_FQh"
      }
    },
    {
      "cell_type": "markdown",
      "source": [
        "**vi**\n",
        "\n",
        "* 1976년 빌 조이가 초기 BSD 릴리즈에 포함될 편집기로 개발\n",
        "\n",
        "* 리눅스 배포판과 유닉스에 기본적으로 포함되어 있음\n",
        "\n",
        "* 유닉스 환경에서 가장 많이 쓰이는 문서 편집기\n",
        "\n",
        "* 다른 편집기들과 다르게 모드형 편집기\n",
        "\n",
        "* 명령모드, 입력모드, 편집모드로 구성\n",
        "\n",
        "* 지속적인 vi 에디터 설정은 .exrc 파일에 설정"
      ],
      "metadata": {
        "id": "QBH57YJ1_FOi"
      }
    },
    {
      "cell_type": "markdown",
      "source": [
        "**vim**\n",
        "\n",
        "* 브람 무레나르가 만든 편집기\n",
        "\n",
        "* vi 편집기와 호환되면서 독자적으로 다양한 기능을 추가하여 만든 편집기\n",
        "\n",
        "* 편집 시 다양한 색상을 이용하여 가시성을 높일 수 있음\n",
        "\n",
        "* 패턴 검색 시 하이라이트 기능을 제공하여 빠른 검색을 가능하게 해줌\n",
        "\n",
        "* ex모드에서 히스토리 기능을 제공\n",
        "\n",
        "* 확장된 정규 표현식 문법과 강력한 문법 강조 기능을 가짐"
      ],
      "metadata": {
        "id": "FUzpM5u3_-zL"
      }
    },
    {
      "cell_type": "markdown",
      "source": [
        "**gedit**\n",
        "\n",
        "* GNOME 데스크톱 환경으로 개발된 자유 소프트웨어 텍스트 편집기\n",
        "\n",
        "* 마이크로소프트 윈도우, 맥 OS 등에서도 사용 가능\n",
        "\n",
        "* UTF-8과 호환하며 텍스트 문서를 편집하는 용도에 중점을 두었음\n",
        "\n",
        "* X 윈도우 시스템에 맞춰 개발되었음\n",
        "\n",
        "* GTK+와 GNOME 라이브러리를 이용하여 개발되었음\n",
        "\n",
        "* 텔넷 접속 시나 텍스트 기반 콘솔 창에서는 사용 불가"
      ],
      "metadata": {
        "id": "HAGXZRE0ABH5"
      }
    }
  ]
}