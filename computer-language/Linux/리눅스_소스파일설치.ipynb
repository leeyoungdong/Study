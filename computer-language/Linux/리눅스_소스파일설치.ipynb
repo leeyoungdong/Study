{
  "nbformat": 4,
  "nbformat_minor": 0,
  "metadata": {
    "colab": {
      "provenance": []
    },
    "kernelspec": {
      "name": "python3",
      "display_name": "Python 3"
    },
    "language_info": {
      "name": "python"
    }
  },
  "cells": [
    {
      "cell_type": "markdown",
      "source": [
        "# **소스 파일 설치**"
      ],
      "metadata": {
        "id": "OdDSKmIxK3iF"
      }
    },
    {
      "cell_type": "markdown",
      "source": [
        "# **파일 아카이브와 압축**\n",
        "\n",
        "**파일 아카이브**\n",
        "\n",
        "* 아카이브는 다수 개의 파일이나 디렉터리를 하나의 파일로 묶는 것\n",
        "\n",
        "* 아카이브 파일은 다른 시스템으로 다수 개의 파일을 한 번에 전송하거나 파일 백업용으로 사용\n",
        "\n",
        " \n",
        "\n",
        "**파일 압축과 해제**\n",
        "\n",
        "*대표적인 파일 압축명과 압축률: (압축률 낮음) compress < gzip < bzip2 < xz (압축률 높음)\n",
        "\n",
        "* compress ↔ uncompress: 유닉스에서 주로 사용. LZW 압축 알고리즘.\n",
        "* (tar 옵션: z) gzip ↔ gunzip: 가장 많이 사용. LZ77 알고리즘. 허프만 부호화 (-l 정보, -v 과정, -d 압축해제) - \n",
        "* (tar 옵션: j) bzip2 ↔ bunzip2: 가장 많이 사용. 블록정렬 알고리즘. 허프만 부호화\n",
        "* ( tar 옵션: J) xz ↔ unxz: 가장 압축률이 높음\n",
        "\n",
        "**명령어 및 옵션**\n",
        "\n",
        "* tar 명령어를 사용하여 다양한 압축명으로 압축 및 압축 해제 가능\n",
        "\n",
        "* -c: tar로 파일 묶기(압축)\n",
        "* -x: tar 압축 해제\n",
        "* -p: 파일 권한 저장\n",
        "* -v: 과정 출력\n",
        "* -f: 파일 이름 지정\n",
        "* -r: 마지막 추가\n",
        "* -t: 목록 나열\n",
        "* -C: 경로 지정\n",
        "* -z: gzip 압축/해제\n",
        "* -j: bzip2 압축/해제\n",
        "* -J: xz 압축/해제"
      ],
      "metadata": {
        "id": "nYLkh-tWK3ZS"
      }
    },
    {
      "cell_type": "markdown",
      "source": [
        "# **소스 코드 설치**\n",
        "\n",
        "**[방법 1] configure → make makefile → make install**\n",
        "\n",
        "* 환경설정(configure): /configure 프로그램 설치 과정에서 필요로 하는 환경파일 makefile 생성\n",
        "* 환경설정 파일의 역할: 어떤 프로그램을 컴파일하고 링크해야하는가를 make에게 설명해주는 역할\n",
        "* make clean: configure로 생성된 다양한 파일 제거\n",
        "컴파일(make makefile): make makefile을 기반으로 소스파일을 컴파일하여, 설치 파일(set up) 생성\n",
        "* make dep: 컴파일 전 의존성 검사\n",
        "파일 설치(make install): make install로 컴파일 된 실행파일을 지정된 속성으로 지정된 디렉터리에 설치\n",
        "* 아카이브는 다수 개의 파일이나 디렉터리를 하나의 파일로 묶는 것\n",
        "\n",
        "* 아카이브 파일은 다른 시스템으로 다수 개의 파일을 한 번에 전송하거나 파일 백업용으로 사용\n",
        "\n",
        " \n",
        "\n",
        "**[방법 2] cmake → make install**\n",
        "\n",
        "* cmake는 별도의 make 과정 없이 OS에 알맞는 makefile을 생성해줌\n",
        "* MySQL 등이 사용\n",
        "\n",
        " \n",
        "\n",
        "**정리**\n",
        "\n",
        "* 소스파일 컴파일 설치: gcc, make, tar, cmake\n",
        "* 패키지 파일 설치 (의존성 문제 有): rpm(redhat), dpkg(debian)\n",
        "* 자동 설치 도구: yum(redhat), apt-get(debian)"
      ],
      "metadata": {
        "id": "gaR8SbQkK3Vz"
      }
    }
  ]
}