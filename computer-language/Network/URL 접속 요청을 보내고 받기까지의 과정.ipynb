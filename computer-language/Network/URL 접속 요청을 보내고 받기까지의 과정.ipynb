{
  "nbformat": 4,
  "nbformat_minor": 0,
  "metadata": {
    "colab": {
      "provenance": []
    },
    "kernelspec": {
      "name": "python3",
      "display_name": "Python 3"
    },
    "language_info": {
      "name": "python"
    }
  },
  "cells": [
    {
      "cell_type": "markdown",
      "source": [
        "# **URL 접속 요청을 보내고 받기까지의 과정**"
      ],
      "metadata": {
        "id": "4uV2KREXXt43"
      }
    },
    {
      "cell_type": "markdown",
      "source": [
        "**1단계** \n",
        "\n",
        "웹 사이트에 접속하기 위해서는 노트북의 IP주소, 1-hop 라우터의 IP 주소, DNS 서버 주소가 필요하다. 이를 알아 내기 위해 DHCP query가 담긴 IP 데이터그램을 1-hop 라우터에게 전송한다. DHCP 서버가 내장된 라우터가 노트북의 IP주소, 자신의 IP주소, DNS 서버의 IP주소를 담은 DHCP ACK를 다시 노트북에게 전송한다.\n",
        "\n",
        "* DNS란 Domain Name System의 약자로 도메인 주소를 IP 주소로 바꿔주는 시스템을 말한다.\n",
        "* DHCP 서버는 보통은 라우터에 DHCP 서버가 내장되어 있으며 DHCP 서버에 연결된 클라이언트에게 자동적으로 IP주소를 할당한다. "
      ],
      "metadata": {
        "id": "cas5WKm4Xt0P"
      }
    },
    {
      "cell_type": "markdown",
      "source": [
        "**2단계** \n",
        "\n",
        "DNS 서버에 DNS query를 보내기 전에 1-hop 라우터의 MAC 주소가 필요하므로 ARP query를 브로드캐스트 방식으로 전송하여 router의 MAC주소를 알아낸다.\n",
        "* ARP란 Address Resolution Protocol의 약자로, MAC 주소와 IP 주소를 1:1 매핑하기 위해 사용된다."
      ],
      "metadata": {
        "id": "9F5Kehk8XtzO"
      }
    },
    {
      "cell_type": "markdown",
      "source": [
        "**3단계**\n",
        "\n",
        "URL에 요청을 보내기 위해서는 IP주소가 필요하므로, DNS query가 담긴 IP 데이터그램을 DNS 서버에 전송하고 IP 주소를 클라이언트인 노트북에게 전송한다"
      ],
      "metadata": {
        "id": "SdX-aewBXtyP"
      }
    },
    {
      "cell_type": "markdown",
      "source": [
        "**4단계**\n",
        "\n",
        "TCP 소켓을 생성하고 3-way handshake로 연결을 생성한다. HTTP 요청을 보내고 응답을 받아 브라우저에 렌더링을 하면 웹페이지를 브라우저에서 확인할 수 있다."
      ],
      "metadata": {
        "id": "d8m94E2mXtxH"
      }
    }
  ]
}