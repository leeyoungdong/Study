{
  "nbformat": 4,
  "nbformat_minor": 0,
  "metadata": {
    "colab": {
      "provenance": []
    },
    "kernelspec": {
      "name": "python3",
      "display_name": "Python 3"
    },
    "language_info": {
      "name": "python"
    }
  },
  "cells": [
    {
      "cell_type": "markdown",
      "source": [
        "# **DHCP란?**"
      ],
      "metadata": {
        "id": "1ABn-esT-692"
      }
    },
    {
      "cell_type": "markdown",
      "source": [
        "DHCP(Dynamic Host Configuration Protocol)는 동적으로 IP주소나 기타 정보를 관리해주는 프로토콜. 관리해야하는 컴퓨터가 많고 이들의 IP를 모두 직접 할당하고 관리하려면 상당히 복잡하고 시간이 많이들지만, DHCP를 사용하면 이런 문제점을 해결할 수있다.\n",
        "\n",
        "DHCP는 UDP를 사용하여 클라이언/서버 구조로 통신한다.\n",
        "\n",
        "1. DHCP discover: 컴퓨터가 동일 서브넷으로 브로드캐스팅하며 DHCP서버를 찾음\n",
        "2. DHCP offer: DHCP가 사용가능한 IP주소의 리스트를 컴퓨터에게 전달.\n",
        "3. DHCP request: 컴퓨터가 리스트중 하나의 IP주소를 선택하여 서버에 전달.\n",
        "4. DHCP ack: DHCP가 컴퓨터에게 해당 IP주소를 허락/거절하는 메세지를 전달한다.\n"
      ],
      "metadata": {
        "id": "YzykPMG_-67O"
      }
    },
    {
      "cell_type": "markdown",
      "source": [
        "**장점**\n",
        "\n",
        "* DHCP서버에서 자동으로 IP를 관리해주므로 편리함. IP에 변동이 있을때, DHCP에만 정보를 입력하면됨.\n",
        "* 사용중인 컴퓨터에 대해서만 할당하므로 효율적"
      ],
      "metadata": {
        "id": "1tAmkj6R-63m"
      }
    },
    {
      "cell_type": "markdown",
      "source": [
        "**단점**\n",
        "\n",
        "* DHCP 서버에 의존하기 때문에 서버가 다운되는 경우 모든 컴퓨터에서 인터넷을 할 수 없다.\n",
        "* 초기 DHCP세팅 시간 및 트래픽이 크다.\n",
        "* 단말 컴퓨터를 끌 경우, 완전히 주소가 release될 때까지 해당 IP를 사용할 수 없다."
      ],
      "metadata": {
        "id": "3atTBHJA-61e"
      }
    }
  ]
}