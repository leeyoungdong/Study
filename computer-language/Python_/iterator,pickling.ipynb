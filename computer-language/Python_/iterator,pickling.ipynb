{
  "nbformat": 4,
  "nbformat_minor": 0,
  "metadata": {
    "colab": {
      "provenance": []
    },
    "kernelspec": {
      "name": "python3",
      "display_name": "Python 3"
    },
    "language_info": {
      "name": "python"
    }
  },
  "cells": [
    {
      "cell_type": "markdown",
      "source": [
        "# **difference between iterator and iterable**"
      ],
      "metadata": {
        "id": "e3JCn-_oWm_L"
      }
    },
    {
      "cell_type": "code",
      "source": [
        "lst = [1, 2]            # iterable 객체 : 리스트\n",
        "lst_iter = iter(lst)    # iterator 객체\n",
        "\n",
        "print(next(lst_iter))   # 1\n",
        "print(next(lst_iter))   # 2\n",
        "print(next(lst_iter))   # StopIteration 예외 발생"
      ],
      "metadata": {
        "colab": {
          "base_uri": "https://localhost:8080/",
          "height": 245
        },
        "id": "uPlONBKwWoui",
        "outputId": "6149fb23-43bb-4592-8697-137d15888292"
      },
      "execution_count": 1,
      "outputs": [
        {
          "output_type": "stream",
          "name": "stdout",
          "text": [
            "1\n",
            "2\n"
          ]
        },
        {
          "output_type": "error",
          "ename": "StopIteration",
          "evalue": "ignored",
          "traceback": [
            "\u001b[0;31m---------------------------------------------------------------------------\u001b[0m",
            "\u001b[0;31mStopIteration\u001b[0m                             Traceback (most recent call last)",
            "\u001b[0;32m<ipython-input-1-f92c863708ba>\u001b[0m in \u001b[0;36m<module>\u001b[0;34m\u001b[0m\n\u001b[1;32m      4\u001b[0m \u001b[0mprint\u001b[0m\u001b[0;34m(\u001b[0m\u001b[0mnext\u001b[0m\u001b[0;34m(\u001b[0m\u001b[0mlst_iter\u001b[0m\u001b[0;34m)\u001b[0m\u001b[0;34m)\u001b[0m   \u001b[0;31m# 1\u001b[0m\u001b[0;34m\u001b[0m\u001b[0;34m\u001b[0m\u001b[0m\n\u001b[1;32m      5\u001b[0m \u001b[0mprint\u001b[0m\u001b[0;34m(\u001b[0m\u001b[0mnext\u001b[0m\u001b[0;34m(\u001b[0m\u001b[0mlst_iter\u001b[0m\u001b[0;34m)\u001b[0m\u001b[0;34m)\u001b[0m   \u001b[0;31m# 2\u001b[0m\u001b[0;34m\u001b[0m\u001b[0;34m\u001b[0m\u001b[0m\n\u001b[0;32m----> 6\u001b[0;31m \u001b[0mprint\u001b[0m\u001b[0;34m(\u001b[0m\u001b[0mnext\u001b[0m\u001b[0;34m(\u001b[0m\u001b[0mlst_iter\u001b[0m\u001b[0;34m)\u001b[0m\u001b[0;34m)\u001b[0m   \u001b[0;31m# StopIteration 예외 발생\u001b[0m\u001b[0;34m\u001b[0m\u001b[0;34m\u001b[0m\u001b[0m\n\u001b[0m",
            "\u001b[0;31mStopIteration\u001b[0m: "
          ]
        }
      ]
    },
    {
      "cell_type": "markdown",
      "source": [
        "* iterable 객체는 iter 함수에 인자로 전달 가능한, 반복 가능한 객체. \n",
        "* ex. 리스트(list), 딕셔너리(dictionary), 집합(set), 문자열(string) 등"
      ],
      "metadata": {
        "id": "NiOlzvGcWoIL"
      }
    },
    {
      "cell_type": "markdown",
      "source": [
        "* iterable 객체를 iter 함수의 인자로 넣으면 iterable 객체를 순회할 수 있는 객체를 반환하는데, 이것이 iterator 객체.\n",
        "* iterator 객체를 next 함수의 인자로 주면 iterable 객체의 요소의 값을 차례대로 반환. \n",
        "* iterable 객체를 모두 순회했다면, StopIteration 예외를 발생.\n",
        "* 다시 순회를 하고 싶다면 iter 함수로 새로운 iterator 객체를 생성해주면 됨."
      ],
      "metadata": {
        "id": "sFgLMIaEWt_T"
      }
    },
    {
      "cell_type": "markdown",
      "source": [
        "# **pickling and unpickling?**"
      ],
      "metadata": {
        "id": "rmmWZd5OZokK"
      }
    },
    {
      "cell_type": "markdown",
      "source": [
        "**직렬화(Serialization)와 역 직렬화(Deserialization)의 개념**\n",
        "\n",
        "* 직렬화란 객체를 바이트 스트림(byte stream)으로 변환하여 디스크에 저장하거나 네트워크로 보낼 수 있도록 만들어주는 것을 말한다. \n",
        "*  바이트 스트림을 파이썬 객체로 변환하는 것을 역 직렬화라고 한다.\n",
        "\n",
        "**pickle 모듈**은 파이썬 객체의 직렬화와 역 직렬화를 수행하는 모듈이다.\n",
        "*  파이썬 객체를 직렬화할 때를 pickling\n",
        "*  바이트 스트림을 역 직렬화할 때를 unpickling이라고 한다."
      ],
      "metadata": {
        "id": "ubNMis7FZqt6"
      }
    }
  ]
}