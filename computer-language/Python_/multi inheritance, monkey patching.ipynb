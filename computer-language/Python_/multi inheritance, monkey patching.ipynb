{
  "nbformat": 4,
  "nbformat_minor": 0,
  "metadata": {
    "colab": {
      "provenance": []
    },
    "kernelspec": {
      "name": "python3",
      "display_name": "Python 3"
    },
    "language_info": {
      "name": "python"
    }
  },
  "cells": [
    {
      "cell_type": "markdown",
      "source": [
        "# **monkey patching**"
      ],
      "metadata": {
        "id": "hP07yXj4fdrR"
      }
    },
    {
      "cell_type": "markdown",
      "source": [
        "* 테스트를 위해 많이 사용되는 방법으로, 어떤 클래스나 모듈의 일부 (함수나 변수 등) 를 로컬에서 런타임으로만 instance 를 통해 수정하는 방법을 말한다.\n",
        "\n",
        "*  heath.py 파일의 A 클래스에 a 라는 함수가 있는데, 다른 파일에서 A 를 import 하여 a 함수 대신 new_a 를 할당하여 사용하는 방법이 있다."
      ],
      "metadata": {
        "id": "AZ7z3WmEfdnv"
      }
    },
    {
      "cell_type": "code",
      "execution_count": null,
      "metadata": {
        "id": "qvZQ20-Zasoo"
      },
      "outputs": [],
      "source": [
        "from heath import A\n",
        "\n",
        "A.a = new_a\n",
        "my_A = A() # A 클래스 객체 할당\n",
        "my_A.a # new_a 가 동작"
      ]
    },
    {
      "cell_type": "markdown",
      "source": [
        "# **multiple inheritance**"
      ],
      "metadata": {
        "id": "QcSVTx_vfmvT"
      }
    },
    {
      "cell_type": "markdown",
      "source": [
        "파이썬은 자바와 다르게 multiple inheritance 을 지원한다"
      ],
      "metadata": {
        "id": "leYXVnBefuBb"
      }
    },
    {
      "cell_type": "code",
      "source": [
        "#예시 문\n",
        "class P_A():\n",
        "    ...\n",
        "\n",
        "class P_B():\n",
        "    ...\n",
        "\n",
        "class C(P_A, P_B): #P_A 와 P_B 클래스를 동시에 상속\n",
        "    ..."
      ],
      "metadata": {
        "id": "uFPKWSOtfrqr"
      },
      "execution_count": null,
      "outputs": []
    }
  ]
}