{
  "nbformat": 4,
  "nbformat_minor": 0,
  "metadata": {
    "colab": {
      "provenance": []
    },
    "kernelspec": {
      "name": "python3",
      "display_name": "Python 3"
    },
    "language_info": {
      "name": "python"
    }
  },
  "cells": [
    {
      "cell_type": "markdown",
      "source": [
        "# **PYTHONPATH**"
      ],
      "metadata": {
        "id": "Kgu2-cbJ7xGU"
      }
    },
    {
      "cell_type": "markdown",
      "source": [
        "모듈을 import할 때 사용되는 환경변수이다. \n",
        "\n",
        "* 모듈을 import할 때마다 PYTONPATH를 조회하여 가져온 모듈이 디렉토리에 있는지 확인한다.\n",
        "* 인터프리터는 이를 사용하여 로드할 모듈을 결정한다."
      ],
      "metadata": {
        "id": "XKPbybM27ygm"
      }
    },
    {
      "cell_type": "markdown",
      "source": [
        "* PYTHONPATH 환경 변수에 경로를 추가하면, 파이썬은 이 경로들을 sys.path에 추가. 이를 통해 파이썬 코드 내부에서 뿐만 아니라 파이썬 코드 밖에서도 sys.path를 조작가능.\n",
        "* PYTHONPATH에는 sys.path에 추가할 여러 경로들이 들어감. 리눅스에서는 /foo:/bar처럼 :로 두 경로를 구분하고, 윈도우에서는 /foo;/bar처럼 ;로 두 경로를 구분. \n",
        "* 이외에도 sys.path에는 파이썬에 포함된 여러 내장 모듈 등을 탐색하기 위한 기본 경로가 들어감."
      ],
      "metadata": {
        "id": "WBaoyeiB8XYU"
      }
    },
    {
      "cell_type": "markdown",
      "source": [
        "**sys.path의 순서**\n",
        "\n",
        "import는 sys.path 리스트에 들어있는 경로들을 탐색하며 불러올 파이썬 파일을 찾음. 리스트에 들어있는 맨 처음 경로부터 탐색을 시작하여, 특정 경로에서 불러올 파일을 찾았다면 남은 경로를 더 찾아보지 않고 탐색을 중지. sys.path의 기본값은 아래의 순서대로 추가됨.\n",
        "* .py 파일이 속한 디렉터리의 절대 경로\n",
        "* PYTHONPATH 환경 변수\n",
        "* 기타 기본 경로\n",
        "\n",
        "\n",
        "```\n",
        "# sys.path를 직접 확인할 수 있다.\n",
        "\n",
        "import sys\n",
        "print(sys.path)\n",
        "```\n",
        "\n"
      ],
      "metadata": {
        "id": "ntK05Um79g8N"
      }
    },
    {
      "cell_type": "markdown",
      "source": [
        "# **type conversion**"
      ],
      "metadata": {
        "id": "2UhLHZaS99FB"
      }
    },
    {
      "cell_type": "markdown",
      "source": [
        "type conversion은 타입 캐스팅(type casting)과 동일한 의미를 가지며, 어떤 데이터 타입을 다른 데이터 타입으로 변환하는 것을 말함.\n",
        "\n",
        "**타입 캐스팅 함수의 종류**\n",
        "* int(): 정수형으로 변환\n",
        "* float(): 실수형으로 변환\n",
        "* ord(): 문자형을 정수형으로 변환\n",
        "* hex(): 정수형을 10진수로 변환\n",
        "* oct(): 정수형을 8진수로 변환 \n",
        "* tuple(): 튜플형으로 변환 \n",
        "* set(): set으로 변환 \n",
        "* list(): list로 변환 \n",
        "* dict(): (key,value) 순서로 이뤄진 튜플을 딕셔너리형으로 변환 \n",
        "* str(): 정수형을 문자형으로 변환 \n",
        "* complex(real, image): 실수를 복소수로 변환 "
      ],
      "metadata": {
        "id": "bJ46Ju-sBhMj"
      }
    }
  ]
}