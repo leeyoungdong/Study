{
  "nbformat": 4,
  "nbformat_minor": 0,
  "metadata": {
    "colab": {
      "provenance": []
    },
    "kernelspec": {
      "name": "python3",
      "display_name": "Python 3"
    },
    "language_info": {
      "name": "python"
    }
  },
  "cells": [
    {
      "cell_type": "markdown",
      "source": [
        "# **@classmethod, @staticmethod, @property**"
      ],
      "metadata": {
        "id": "-zlj-EMgvfFD"
      }
    },
    {
      "cell_type": "markdown",
      "source": [
        "**@classmethod**\n",
        "\n",
        "클래스 내부의 함수 중에 @classmethod 로 선언된 함수에 대해서는 클래스의 객체를 만들지 않고도 바로 접근이 가능하다. 하지만 함수의 첫 인자로 클래스를 받아서, 상속되었을 때 자식 클래스의 데이터를 따르는 특징이 있다."
      ],
      "metadata": {
        "id": "EswgN3Z2vfDU"
      }
    },
    {
      "cell_type": "markdown",
      "source": [
        "**@staticmethod**\n",
        "\n",
        "@staticmethod 는 @classmethod 와 마찬가지로 클래스의 객체를 만들지 않고도 바로 접근할 수 있다. 하지만 클래스를 인자로 받지 않기 때문에, 상속되었을 때에도 자식 클래스의 데이터를 따르지 않고 처음에 클래스에서 선언한 데이터대로 함수가 사용된다."
      ],
      "metadata": {
        "id": "Gu5hphBbvfBE"
      }
    },
    {
      "cell_type": "code",
      "source": [
        "class Language:\n",
        "    default_language = \"English\"\n",
        "\n",
        "    def __init__(self):\n",
        "        self.show = '나의 언어는' + self.default_language\n",
        "\n",
        "    @classmethod\n",
        "    def class_my_language(cls):\n",
        "        return cls()\n",
        "\n",
        "    @staticmethod\n",
        "    def static_my_language():\n",
        "        return Language()\n",
        "\n",
        "    def print_language(self):\n",
        "        print(self.show)\n",
        "\n",
        "\n",
        "class KoreanLanguage(Language):\n",
        "    default_language = \"한국어\"\n",
        "\n",
        "\n",
        "a = KoreanLanguage.static_my_language()\n",
        "b = KoreanLanguage.class_my_language()\n",
        "a.print_language()\n",
        "b.print_language()\n"
      ],
      "metadata": {
        "colab": {
          "base_uri": "https://localhost:8080/"
        },
        "id": "WrdblNRHvnPb",
        "outputId": "e8f46560-5510-4cbf-cdfd-e833d07f757f"
      },
      "execution_count": 3,
      "outputs": [
        {
          "output_type": "stream",
          "name": "stdout",
          "text": [
            "나의 언어는English\n",
            "나의 언어는한국어\n"
          ]
        }
      ]
    },
    {
      "cell_type": "markdown",
      "source": [
        "**@property**\n",
        "\n",
        "객체지향 언어에서는 캡슐화를 위해 변수를 직접 지정하지 않고 객체의 함수를 통해 지정하고 받아오는 setter, getter 함수를 사용한다. 파이썬에서는 이를 편하게 사용할 수 있도록 @property 를 제공한다.\n",
        "getter 가 될 함수에 @property 를, setter 가 될 함수에 @변수.setter 를 붙이면 된다."
      ],
      "metadata": {
        "id": "Zkixgbneve-0"
      }
    },
    {
      "cell_type": "code",
      "source": [
        "class Test:\n",
        "\n",
        "    def __init__(self):\n",
        "        self.__color = \"red\"\n",
        "\n",
        "    @property\n",
        "    def color(self):\n",
        "        return self.__color\n",
        "\n",
        "    @color.setter\n",
        "    def color(self,clr):\n",
        "        self.__color = clr\n",
        "\n",
        "if __name__ == '__main__':\n",
        "\n",
        "    t = Test()\n",
        "    t.color = \"blue\"\n",
        "\n",
        "    print(t.color)"
      ],
      "metadata": {
        "colab": {
          "base_uri": "https://localhost:8080/"
        },
        "id": "4DIyF6dDv0Gr",
        "outputId": "8a210149-ce89-4cf1-cf1c-9d73fda6d2bb"
      },
      "execution_count": 4,
      "outputs": [
        {
          "output_type": "stream",
          "name": "stdout",
          "text": [
            "blue\n"
          ]
        }
      ]
    }
  ]
}