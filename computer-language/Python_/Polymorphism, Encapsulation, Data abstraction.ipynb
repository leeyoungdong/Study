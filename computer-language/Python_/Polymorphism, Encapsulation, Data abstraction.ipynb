{
  "nbformat": 4,
  "nbformat_minor": 0,
  "metadata": {
    "colab": {
      "provenance": []
    },
    "kernelspec": {
      "name": "python3",
      "display_name": "Python 3"
    },
    "language_info": {
      "name": "python"
    }
  },
  "cells": [
    {
      "cell_type": "markdown",
      "source": [
        "# **Polymorphism**"
      ],
      "metadata": {
        "id": "dz-m8--hK6E2"
      }
    },
    {
      "cell_type": "markdown",
      "source": [
        "* 다형성은 객체지향의 주요 개념으로 여러가지 형태를 가질 수 있는 능력을 말한다. 다형성은 코드의 유지보수에 도움을 준다.\n",
        "\n",
        "* 파이썬은 다형성을 지원하는데, + 연산이나 len 연산에 대해 생각해볼 수 있다. 이들은 여러 타입의 변수에 대해서도 동일한 기능을 제공하는데 overriding 과 overloading 을 통해 각기 다른 타입의 변수에도 반응하도록 다형성을 주었기 때문에 가능."
      ],
      "metadata": {
        "id": "p-JoKYZvK6Cu"
      }
    },
    {
      "cell_type": "markdown",
      "source": [
        "# **Encapsulation**"
      ],
      "metadata": {
        "id": "g6jDzm0QK58u"
      }
    },
    {
      "cell_type": "markdown",
      "source": [
        "* 캡슐화는 주요 변수나 함수를 외부로부터 보호하는 방법을 말한다. 캡슐화를 통해 코드의 안전성을 높일 수 있다.\n",
        "* 파이썬에서는 클래스를 생각해볼 수 있다. 클래스의 멤버 변수나 멤버 함수에 접근하기 위해서는 클래스에 대한 객체를 만들어야 한다. 객체를 통해 멤버에 접근하기 때문에 직접 변수를 손대는 것보다 데이터를 더 안전하게 지킬 수 있다"
      ],
      "metadata": {
        "id": "HnXAWq_mK56u"
      }
    },
    {
      "cell_type": "markdown",
      "source": [
        "# **Data abstraction**"
      ],
      "metadata": {
        "id": "nBBw5kLuK54g"
      }
    },
    {
      "cell_type": "markdown",
      "source": [
        "* 데이터 추상화는 객체지향의 주요 개념으로 사용자에게 데이터의 주요 정보만 제공하여 구체적인 구현은 몰라도 사용할 수 있게 만드는 방법.\n",
        "* 파이썬에서는 abstract class 를 통해 데이터 추상화를 할 수 있다. abstract class 를 사용하기 위해서는 abc 모듈을 import 하고 metaclass=ABCClass 와 @abstractmethod 를 사용해야 한다."
      ],
      "metadata": {
        "id": "h7CcL6x0LcE-"
      }
    },
    {
      "cell_type": "code",
      "source": [
        "from abc import *\n",
        "class 추상클래스명(metaclass=ABCMeta):\n",
        "\n",
        "     @abstractmethod\n",
        "        def 추상메소드(self):\n",
        "            pass"
      ],
      "metadata": {
        "id": "2LU3Z5O2LfQm"
      },
      "execution_count": null,
      "outputs": []
    }
  ]
}