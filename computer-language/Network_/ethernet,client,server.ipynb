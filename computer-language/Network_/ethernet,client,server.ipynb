{
  "nbformat": 4,
  "nbformat_minor": 0,
  "metadata": {
    "colab": {
      "provenance": []
    },
    "kernelspec": {
      "name": "python3",
      "display_name": "Python 3"
    },
    "language_info": {
      "name": "python"
    }
  },
  "cells": [
    {
      "cell_type": "markdown",
      "source": [
        "# **이더넷(ethernet)이란?**"
      ],
      "metadata": {
        "id": "jCyeBQaD5Ubp"
      }
    },
    {
      "cell_type": "markdown",
      "source": [
        "이더넷은 근거리 유선 통신을 위해 사용되는 네트워킹 방법으로 CSMA/CD프로토콜을 사용한다. IEEE 802.3 에 표준으로 정의되었다."
      ],
      "metadata": {
        "id": "nuBzZp5j5UZQ"
      }
    },
    {
      "cell_type": "markdown",
      "source": [
        "**장점**\n",
        "\n",
        "* 적은 용량의 데이터를 보낼 때 성능이 좋다.\n",
        "* 비용이 적고 관리가 쉽다.\n",
        "* 구조가 단순하다."
      ],
      "metadata": {
        "id": "kBDSfoFg5UWg"
      }
    },
    {
      "cell_type": "markdown",
      "source": [
        "**단점**\n",
        "\n",
        "* 캐리어 충돌이 발생할 수 있다.\n",
        "* 충돌이 발생하면 지연이 생긴다."
      ],
      "metadata": {
        "id": "RVRbCAzh5UUw"
      }
    },
    {
      "cell_type": "markdown",
      "source": [
        "CSMA/CD 방법 = 버스 구조로 통신을 하는데 캐리어라는 네트워킹 상의 신호를 감지하여 캐리어가 없으면 정보를 보내는 방식이다."
      ],
      "metadata": {
        "id": "QQ0x1JqP5fgm"
      }
    },
    {
      "cell_type": "markdown",
      "source": [
        "# **client와 server의 차이점**"
      ],
      "metadata": {
        "id": "vkFhboF15jKG"
      }
    },
    {
      "cell_type": "markdown",
      "source": [
        "* 네트워크 상에서 요청을 보내는 대상을 client, 요청에 응답하는 대상을 server 라고 한다.\n",
        "* client 와 server 는 고정되지 않고 요청에 따라 바뀐다. 전에는 요청을 보내는 client 였어도 다음 번에는 다른 노드로부터 요청을 받으면 server 가 된다."
      ],
      "metadata": {
        "id": "JYqpXisQ5kSH"
      }
    }
  ]
}