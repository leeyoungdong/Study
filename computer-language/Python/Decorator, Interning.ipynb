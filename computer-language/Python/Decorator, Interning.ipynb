{
  "nbformat": 4,
  "nbformat_minor": 0,
  "metadata": {
    "colab": {
      "provenance": []
    },
    "kernelspec": {
      "name": "python3",
      "display_name": "Python 3"
    },
    "language_info": {
      "name": "python"
    }
  },
  "cells": [
    {
      "cell_type": "markdown",
      "source": [
        "# **Decorators**"
      ],
      "metadata": {
        "id": "U3x-XJxXoglc"
      }
    },
    {
      "cell_type": "markdown",
      "source": [
        "* 함수를 인자로 받고 내부 함수에서 인자로 받은 함수를 사용하는 클래스나 함수가 있을 때, 인자로 사용할 함수를 간편하게 지정해주는 역할을 하는 것이 Decorator.\n",
        "\n",
        "* Decorator의 사용 문법은 인자가 될 함수 위에 @외부함수이름 을 붙여주면 됨.\n",
        "\n",
        "* Decorator 를 통해 big_number 와 big_number2 라는 서로 다른 함수를 make_time_checker 가 인자로 받아 내부 함수에서 사용하고 있다."
      ],
      "metadata": {
        "id": "KyNEJvnBohxM"
      }
    },
    {
      "cell_type": "code",
      "execution_count": 1,
      "metadata": {
        "id": "3GvKm647lXnX"
      },
      "outputs": [],
      "source": [
        "import time\n",
        "\n",
        "def make_time_checker(func):\n",
        "      def new_func(*args, **kwargs):\n",
        "            start_time = time.perf_counter()\n",
        "            result = func(*args, **kwargs)\n",
        "            end_time = time.perf_counter()\n",
        "            print('실행시간:', end_time - start_time)\n",
        "            return result\n",
        "      return new_func\n",
        "\n",
        "@make_time_checker\n",
        "def big_number(n):\n",
        "      return n ** n ** n\n",
        "\n",
        "@make_time_checker\n",
        "def big_number2(n):\n",
        "      return (n+1) ** (n+1) ** (n+1)"
      ]
    },
    {
      "cell_type": "code",
      "source": [
        "big_number(2)\n",
        "\n",
        "big_number2(2)"
      ],
      "metadata": {
        "colab": {
          "base_uri": "https://localhost:8080/"
        },
        "id": "M0jHIxx_pZ_r",
        "outputId": "2cb6aadd-2888-4028-a686-f4c01fdbf1d2"
      },
      "execution_count": 2,
      "outputs": [
        {
          "output_type": "stream",
          "name": "stdout",
          "text": [
            "실행시간: 1.5199999836568168e-06\n",
            "실행시간: 2.910000006295377e-06\n"
          ]
        },
        {
          "output_type": "execute_result",
          "data": {
            "text/plain": [
              "7625597484987"
            ]
          },
          "metadata": {},
          "execution_count": 2
        }
      ]
    },
    {
      "cell_type": "markdown",
      "source": [
        "# **object interning**"
      ],
      "metadata": {
        "id": "OFTSEuJzoiJz"
      }
    },
    {
      "cell_type": "markdown",
      "source": [
        "* 파이썬에서는 모든 것이 객체이므로 변수들은 값을 바로 가지지 않고 값을 가진 주소를 참조.\n",
        "\n",
        "* object interning 은 자주 사용될, 즉 재활용될 object 에 대해 매번 새로운 주소를 할당하는 것은 비효율적이므로, 하나의 주소에 값을 주고 그 주소를 재활용하는 작업.\n",
        "\n",
        "* 기본적으로 파이썬에서는 -5~256, [a-Az-Z0-9_] 에 대해 고정된 주소를 할당하여 interning함함."
      ],
      "metadata": {
        "id": "0Bm9I1D-plss"
      }
    }
  ]
}