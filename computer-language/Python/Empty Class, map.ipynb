{
  "nbformat": 4,
  "nbformat_minor": 0,
  "metadata": {
    "colab": {
      "provenance": []
    },
    "kernelspec": {
      "name": "python3",
      "display_name": "Python 3"
    },
    "language_info": {
      "name": "python"
    }
  },
  "cells": [
    {
      "cell_type": "markdown",
      "source": [
        "# **Empty class**"
      ],
      "metadata": {
        "id": "qJKwtmUHdZxL"
      }
    },
    {
      "cell_type": "markdown",
      "source": [
        "* 파이썬에서 클래스 내부에 아무 내용 없이 선언만 하기 위해서는 pass 나 ... 을 사용할 수 있다. \n",
        "* empty class 를 선언한 후, 외부에서 객체를 통해 클래스의 변수나 함수를 만들 수도 있다."
      ],
      "metadata": {
        "id": "MHbVlv-ddqcy"
      }
    },
    {
      "cell_type": "code",
      "execution_count": 7,
      "metadata": {
        "colab": {
          "base_uri": "https://localhost:8080/"
        },
        "id": "1DRrWGazZese",
        "outputId": "e4f397a3-4a39-4e83-ff72-b2a6d9921ee5"
      },
      "outputs": [
        {
          "output_type": "stream",
          "name": "stdout",
          "text": [
            "10\n",
            "-------------------------------------------\n",
            "None\n",
            "f(x) = 6\n"
          ]
        }
      ],
      "source": [
        "from multipledispatch import dispatch\n",
        "\n",
        "class empty():\n",
        "    ... # or pass\n",
        "\n",
        "e = empty()\n",
        "e.a = 10\n",
        "print(e.a) # 10\n",
        "\n",
        "print('-------------------------------------------')\n",
        "# 활용시 empty class로 dispatch가 가능할듯\n",
        "@dispatch(int, int)\n",
        "def add(x, y):\n",
        "    ...\n",
        "\n",
        "def add(x, y):\n",
        "    return x + y\n",
        "\n",
        "@dispatch(str, int)\n",
        "def add(x, y):\n",
        "    return f\"{x} = {y}\"\n",
        "\n",
        "\n",
        "print(add(3, 6))\n",
        "print(add(\"f(x)\", 6))\n",
        "\n"
      ]
    },
    {
      "cell_type": "markdown",
      "source": [
        "# **map function**"
      ],
      "metadata": {
        "id": "bOopXaKkeQHZ"
      }
    },
    {
      "cell_type": "markdown",
      "source": [
        "* map 함수는 iterable 한 객체의 모든 원소에 동일한 함수를 적용하는 기능.\n",
        "\n",
        "* 첫 인자로 적용할 함수를, 두번째 인자로 iterable 한 객체를 넣으면, iterable 한 map 객체 형태로 각 원소에 대해 함수가 적용된 묶음들이 담김."
      ],
      "metadata": {
        "id": "WXOqAvipheyK"
      }
    }
  ]
}