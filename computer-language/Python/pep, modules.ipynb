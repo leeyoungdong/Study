{
  "nbformat": 4,
  "nbformat_minor": 0,
  "metadata": {
    "colab": {
      "provenance": []
    },
    "kernelspec": {
      "name": "python3",
      "display_name": "Python 3"
    },
    "language_info": {
      "name": "python"
    }
  },
  "cells": [
    {
      "cell_type": "markdown",
      "source": [
        "# **pep 8**"
      ],
      "metadata": {
        "id": "RrO5V7E_tG47"
      }
    },
    {
      "cell_type": "markdown",
      "source": [
        "* PEP(Python Enhancement Proposal)는 Python 코드를 포맷하는 방법을 지정하는 규칙.\n",
        "\n",
        "* PEP8은 파이썬 코드를 어떻게 구성할 지 알려주는 스타일 가이드로서의 역할. Python formatting tool에는 black, flake8, autopep8, yamf 등이 있음."
      ],
      "metadata": {
        "id": "dZv52Vb0tG29"
      }
    },
    {
      "cell_type": "markdown",
      "source": [
        "**PEP8 스타일 가이드**\n",
        "\n",
        "**whitespace**\n",
        "* 한 줄의 문자 길이가 79자 이하여야 한다.\n",
        "* 함수와 클래스는 빈 줄 두개로 구분한다.\n",
        "\n",
        "**naming**\n",
        "* 함수, 변수, 속성 : lowercase_underscore\n",
        "* 보호(protected) 인스턴스 속성 : _leading_underscore\n",
        "* 비공개(private) 인스턴스 속성 : __double_leading_undersocre"
      ],
      "metadata": {
        "id": "b7Kg2LuBtG0z"
      }
    },
    {
      "cell_type": "markdown",
      "source": [
        "# **python modules**"
      ],
      "metadata": {
        "id": "1wcfJxHNtGyL"
      }
    },
    {
      "cell_type": "markdown",
      "source": [
        "* 모듈이란 Python 코드를 포함하는 파일로써, 함수나 변수 또는 클래스를 모아 놓은 파일. 모듈은 다른 파이썬 프로그램에서 불러와 사용할 수 있게끔 만든 파이썬 파일이라고도 할 수 있다. \n",
        "* 실행 가능한 코드를 포함하는, 파이썬 확장자 .py로 만든 파이썬 파일은 모두 모듈. 모듈을 사용하면, 다른 코드에 적용하기가 쉬워지므로 이식성이 좋아짐"
      ],
      "metadata": {
        "id": "4_u77strtGwC"
      }
    },
    {
      "cell_type": "markdown",
      "source": [
        "* os\n",
        "* sys\n",
        "* math\n",
        "* random\n",
        "* datetime\n",
        "* JSON"
      ],
      "metadata": {
        "id": "GyAptGvHtGvE"
      }
    }
  ]
}