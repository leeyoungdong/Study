{
  "nbformat": 4,
  "nbformat_minor": 0,
  "metadata": {
    "colab": {
      "provenance": []
    },
    "kernelspec": {
      "name": "python3",
      "display_name": "Python 3"
    },
    "language_info": {
      "name": "python"
    }
  },
  "cells": [
    {
      "cell_type": "markdown",
      "source": [
        "# **process of compilation and linking**"
      ],
      "metadata": {
        "id": "-1QihJpy-aCh"
      }
    },
    {
      "cell_type": "markdown",
      "source": [
        "파이썬 파일을 실행하면, 소스 코드는 바이트 코드(byte code)로 변환되며, .pyc, .pyo 파일 형식으로 저장됨. 소스 코드를 바이트 코드로 변환하는 과정을 컴파일(compilation) 단계라고 함."
      ],
      "metadata": {
        "id": "qf7GdONN-aV3"
      }
    },
    {
      "cell_type": "markdown",
      "source": [
        "파이썬 가상머신(Python Virtual Machine)이 바이트 코드를 기계어(machine code)로 변환하여 어떤 운영체제든 실행할 수 있도록 함. 코드와 인터프리터가 필요한 라이브러리를 연결시키는 과정이 있는데, 이를 링크(linking) 단계라고 함."
      ],
      "metadata": {
        "id": "4Pj2dyk6-aqP"
      }
    },
    {
      "cell_type": "markdown",
      "source": [
        "dis 모듈을 사용하여 소스 코드가 어떤 바이트 코드로 변환되는지 확인할 수 있다."
      ],
      "metadata": {
        "id": "OeLJvctC-a-g"
      }
    },
    {
      "cell_type": "code",
      "source": [
        "import dis\n",
        "\n",
        "def mult(a, b):\n",
        "    return a*b\n",
        "\n",
        "dis.dis(mult)\n",
        "# output:\n",
        "# 4           0 LOAD_FAST                0 (a)\n",
        "#             2 LOAD_FAST                1 (b)\n",
        "#             4 BINARY_MULTIPLY\n",
        "#             6 RETURN_VALUE"
      ],
      "metadata": {
        "colab": {
          "base_uri": "https://localhost:8080/"
        },
        "id": "_oq7HYiZ_H4u",
        "outputId": "b66f1476-bf4e-4acf-cb0e-97e51cb963cb"
      },
      "execution_count": 1,
      "outputs": [
        {
          "output_type": "stream",
          "name": "stdout",
          "text": [
            "  4           0 LOAD_FAST                0 (a)\n",
            "              2 LOAD_FAST                1 (b)\n",
            "              4 BINARY_MULTIPLY\n",
            "              6 RETURN_VALUE\n"
          ]
        }
      ]
    },
    {
      "cell_type": "markdown",
      "source": [
        "# **Inheritance**"
      ],
      "metadata": {
        "id": "9pyh5vmh-bLJ"
      }
    },
    {
      "cell_type": "markdown",
      "source": [
        "* 상속을 통해 상위 (부모) 클래스의 멤버 함수, 멤버 변수들을 모두 하위 (자식) 클래스가 가질 수 있다. \n",
        "* 상위 클래스를 상속함으로써 코드 재사용성이 더 좋아지고, 관리가 용이해진다."
      ],
      "metadata": {
        "id": "Ygf0c2gp_eMX"
      }
    },
    {
      "cell_type": "markdown",
      "source": [
        "**상속 종류**\n",
        "\n",
        "* 파이썬은 부모 클래스 A 를 자식 클래스 B 가 상속하는 Single Inheritance\n",
        "* 부모 클래스 A 를 자식 클래스 B 가 다시 B 를 자식 클래스 C 가 상속하는 Multi-level Inheritance\n",
        "* 부모 클래스 A 가 여러 자식 클래스에 상속되는 Hierarchical Inheritance\n",
        "* 하나의 자식 클래스가 여러 부모 클래스를 상속하는 Multiple Inheritance"
      ],
      "metadata": {
        "id": "zmLDLkpt_gcA"
      }
    }
  ]
}