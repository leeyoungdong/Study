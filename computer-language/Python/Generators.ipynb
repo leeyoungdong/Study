{
  "nbformat": 4,
  "nbformat_minor": 0,
  "metadata": {
    "colab": {
      "provenance": []
    },
    "kernelspec": {
      "name": "python3",
      "display_name": "Python 3"
    },
    "language_info": {
      "name": "python"
    }
  },
  "cells": [
    {
      "cell_type": "markdown",
      "source": [
        "# **Generators**"
      ],
      "metadata": {
        "id": "Y9_khCHlgTTa"
      }
    },
    {
      "cell_type": "markdown",
      "source": [
        "제너레이터(Generator)란 Iterator 객체를 간단히 만들 수 있는 함수를 말함"
      ],
      "metadata": {
        "id": "EeNGTUnrgTQ6"
      }
    },
    {
      "cell_type": "markdown",
      "source": [
        "**yield문과 함수**"
      ],
      "metadata": {
        "id": "wD-3NHP5gTO7"
      }
    },
    {
      "cell_type": "code",
      "source": [
        "# 제너레이터 함수 정의\n",
        "\n",
        "def generator_list(value):\n",
        "    for i in range(value):\n",
        "        # 값을 반환하고 여기를 기억\n",
        "        yield i\n",
        "\n",
        "# 제너레이터 객체 생성 및 next 함수로 호출\n",
        "\n",
        "gen = generator_list(2)\n",
        "print(next(gen))    # 0\n",
        "print(next(gen))    # 1\n",
        "print(next(gen))    # StopIteration 에러 발생"
      ],
      "metadata": {
        "colab": {
          "base_uri": "https://localhost:8080/",
          "height": 245
        },
        "id": "9QHWk71RgckC",
        "outputId": "3094b6a7-4b3c-444b-b9ef-4b9f3454fcb0"
      },
      "execution_count": 1,
      "outputs": [
        {
          "output_type": "stream",
          "name": "stdout",
          "text": [
            "0\n",
            "1\n"
          ]
        },
        {
          "output_type": "error",
          "ename": "StopIteration",
          "evalue": "ignored",
          "traceback": [
            "\u001b[0;31m---------------------------------------------------------------------------\u001b[0m",
            "\u001b[0;31mStopIteration\u001b[0m                             Traceback (most recent call last)",
            "\u001b[0;32m<ipython-input-1-c17fbfb45f96>\u001b[0m in \u001b[0;36m<module>\u001b[0;34m\u001b[0m\n\u001b[1;32m     11\u001b[0m \u001b[0mprint\u001b[0m\u001b[0;34m(\u001b[0m\u001b[0mnext\u001b[0m\u001b[0;34m(\u001b[0m\u001b[0mgen\u001b[0m\u001b[0;34m)\u001b[0m\u001b[0;34m)\u001b[0m    \u001b[0;31m# 0\u001b[0m\u001b[0;34m\u001b[0m\u001b[0;34m\u001b[0m\u001b[0m\n\u001b[1;32m     12\u001b[0m \u001b[0mprint\u001b[0m\u001b[0;34m(\u001b[0m\u001b[0mnext\u001b[0m\u001b[0;34m(\u001b[0m\u001b[0mgen\u001b[0m\u001b[0;34m)\u001b[0m\u001b[0;34m)\u001b[0m    \u001b[0;31m# 1\u001b[0m\u001b[0;34m\u001b[0m\u001b[0;34m\u001b[0m\u001b[0m\n\u001b[0;32m---> 13\u001b[0;31m \u001b[0mprint\u001b[0m\u001b[0;34m(\u001b[0m\u001b[0mnext\u001b[0m\u001b[0;34m(\u001b[0m\u001b[0mgen\u001b[0m\u001b[0;34m)\u001b[0m\u001b[0;34m)\u001b[0m    \u001b[0;31m# StopIteration 에러 발생\u001b[0m\u001b[0;34m\u001b[0m\u001b[0;34m\u001b[0m\u001b[0m\n\u001b[0m",
            "\u001b[0;31mStopIteration\u001b[0m: "
          ]
        }
      ]
    },
    {
      "cell_type": "markdown",
      "source": [
        "**표현문**"
      ],
      "metadata": {
        "id": "kNSNZpbQgZhj"
      }
    },
    {
      "cell_type": "code",
      "source": [
        "value = 2\n",
        "gen = (i for i in range(value))\n",
        "print(next(gen))    # 0\n",
        "print(next(gen))    # 1\n",
        "print(next(gen))    # StopIteration 에러 발생"
      ],
      "metadata": {
        "id": "RElrj1ZugmaR"
      },
      "execution_count": null,
      "outputs": []
    },
    {
      "cell_type": "markdown",
      "source": [
        "* 리스트를 사용하면 리스트의 크기만큼 메모리에 공간이 할당된다. 반면 제너레이터는 말그대로 next 함수로 호출될 때 값을 생성하고 해당 값만 메모리에 올린다.\n",
        " \n",
        "* 즉, 메모리를 절약할 수 있다. 작은 데이터라면 상관없지만 큰 데이터에서는 제너레이터 사용이 필수."
      ],
      "metadata": {
        "id": "6FA1KJSAgnt6"
      }
    }
  ]
}