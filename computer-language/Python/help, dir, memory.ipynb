{
  "nbformat": 4,
  "nbformat_minor": 0,
  "metadata": {
    "colab": {
      "provenance": []
    },
    "kernelspec": {
      "name": "python3",
      "display_name": "Python 3"
    },
    "language_info": {
      "name": "python"
    }
  },
  "cells": [
    {
      "cell_type": "markdown",
      "source": [
        "# **help() and dir() function**"
      ],
      "metadata": {
        "id": "j5dv1MO-oO46"
      }
    },
    {
      "cell_type": "markdown",
      "source": [
        "* help()는 docstrings를 작성하였다면 해당 docstrings를 출력. docstrings에는 클래스, 메서드의 사용법에 관한 내용이 담겨있으므로 해당 클래스와 메서드를 사용자에게 매우 유용\n",
        "\n",
        "* dir()은 인자로 넣은 객체의 속성과 메서드를 문자열로 변환하고 그것을 요소로 갖는 정렬된 리스트를 반환. dir은 사용할 객체의 메서드와 속성에 대한 정보를 얻고 싶을 때 유용. 다만 인자가 없다면 현재 지역 스코프에서 정의된 함수와 변수들의 리스트를 반환."
      ],
      "metadata": {
        "id": "XxI9kW5ooO23"
      }
    },
    {
      "cell_type": "code",
      "source": [
        "def func(x):\n",
        "  return x\n",
        "\n",
        "a = 3\n",
        "print(dir(a))     # 객체 a에 대한 속성, 메서드\n",
        "print(dir(func))  # 함수 func에 대한 속성, 메서드\n",
        "print(dir())      # 지역 스코프에 정의된 a와 func"
      ],
      "metadata": {
        "colab": {
          "base_uri": "https://localhost:8080/"
        },
        "id": "xNoGCOpEpkA_",
        "outputId": "aeefb078-5d65-40ef-f566-5acfb1c53437"
      },
      "execution_count": 1,
      "outputs": [
        {
          "output_type": "stream",
          "name": "stdout",
          "text": [
            "['__abs__', '__add__', '__and__', '__bool__', '__ceil__', '__class__', '__delattr__', '__dir__', '__divmod__', '__doc__', '__eq__', '__float__', '__floor__', '__floordiv__', '__format__', '__ge__', '__getattribute__', '__getnewargs__', '__gt__', '__hash__', '__index__', '__init__', '__init_subclass__', '__int__', '__invert__', '__le__', '__lshift__', '__lt__', '__mod__', '__mul__', '__ne__', '__neg__', '__new__', '__or__', '__pos__', '__pow__', '__radd__', '__rand__', '__rdivmod__', '__reduce__', '__reduce_ex__', '__repr__', '__rfloordiv__', '__rlshift__', '__rmod__', '__rmul__', '__ror__', '__round__', '__rpow__', '__rrshift__', '__rshift__', '__rsub__', '__rtruediv__', '__rxor__', '__setattr__', '__sizeof__', '__str__', '__sub__', '__subclasshook__', '__truediv__', '__trunc__', '__xor__', 'as_integer_ratio', 'bit_length', 'conjugate', 'denominator', 'from_bytes', 'imag', 'numerator', 'real', 'to_bytes']\n",
            "['__annotations__', '__call__', '__class__', '__closure__', '__code__', '__defaults__', '__delattr__', '__dict__', '__dir__', '__doc__', '__eq__', '__format__', '__ge__', '__get__', '__getattribute__', '__globals__', '__gt__', '__hash__', '__init__', '__init_subclass__', '__kwdefaults__', '__le__', '__lt__', '__module__', '__name__', '__ne__', '__new__', '__qualname__', '__reduce__', '__reduce_ex__', '__repr__', '__setattr__', '__sizeof__', '__str__', '__subclasshook__']\n",
            "['In', 'Out', '_', '__', '___', '__builtin__', '__builtins__', '__doc__', '__loader__', '__name__', '__package__', '__spec__', '_dh', '_i', '_i1', '_ih', '_ii', '_iii', '_oh', 'a', 'exit', 'func', 'get_ipython', 'quit']\n"
          ]
        }
      ]
    },
    {
      "cell_type": "markdown",
      "source": [
        "# **memory de-allocated**"
      ],
      "metadata": {
        "id": "ljLeJzDSoO1I"
      }
    },
    {
      "cell_type": "markdown",
      "source": [
        "* 다른 객체나 전역 네임스페이스에서 참조되는 객체를 순환 참조하는 파이썬 모듈은 항상 해제되지는 않음.\n",
        "\n",
        "* 또한 C 라이브러리가 예약한 메모리의 해당 부분을 해제하는 것은 불가능하. 그러므로 파이썬 종료 시, 모든 메모리가 해제되지는 않는다."
      ],
      "metadata": {
        "id": "Ny88K1_IoOyo"
      }
    },
    {
      "cell_type": "markdown",
      "source": [
        "**순환 참조(Circular Reference)**\n",
        "두 객체가 서로 참조하는 경우를 말한다."
      ],
      "metadata": {
        "id": "O727Dq9QoOwv"
      }
    },
    {
      "cell_type": "markdown",
      "source": [
        "**전역 네임스페이스(Global Namespace)**\n",
        "네임스페이스(namespace)란 프로그래밍 언어에서 특정 객체를 이름에 따라 구분할 수 있는 범위를 의미. 전역 네임스페이스는 import한 모듈들의 이름을 포함하며, 스크립트가 끝날 때까지 지속."
      ],
      "metadata": {
        "id": "NbYYVSKPoOuf"
      }
    }
  ]
}