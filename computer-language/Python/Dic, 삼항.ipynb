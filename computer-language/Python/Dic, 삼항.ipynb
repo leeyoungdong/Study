{
  "nbformat": 4,
  "nbformat_minor": 0,
  "metadata": {
    "colab": {
      "provenance": []
    },
    "kernelspec": {
      "name": "python3",
      "display_name": "Python 3"
    },
    "language_info": {
      "name": "python"
    }
  },
  "cells": [
    {
      "cell_type": "markdown",
      "source": [
        "# **dictionary**"
      ],
      "metadata": {
        "id": "RI746a3Jy55i"
      }
    },
    {
      "cell_type": "markdown",
      "source": [
        "딕셔너리는 key값과 그에 대응하는 value값을 얻을 수 있는 컬렉션. 딕셔너리는 데이터가 들어온 순서가 상관이 없고, 인덱싱이 되어 있어 key값으로 요소에 접근하여 데이터(= value) 수정이 가능. 하지만, key값은 고유 값이므로 key값 중복은 불가능하다. 주로 자체적으로 만든 key값으로 데이터에 접근하고 싶을 때 딕셔너리 컬렉션을 사용한다.\n",
        "\n",
        "**특징1** : 딕셔너리는 {, }를 사용하여 선언하며 { key1 : value1, key2 : value2, ... } 로 요소를 나타낸다.\n",
        "* key값으로 변하지 않는 값을 사용하고, value값으로 변하는 값과 변하지 않는 값 둘 다 사용할 수 있다.\n",
        "* key값으로 리스트를 사용하면, 값이 변할 가능성이 있기 때문에 인터프리터에서 type error를 발생시킨다."
      ],
      "metadata": {
        "id": "KWtltI64y7ei"
      }
    },
    {
      "cell_type": "code",
      "source": [
        "ex1 = {'name':'Groot', 'lover':'penguin', 'feature':'really cute'}\n",
        "\n",
        "# 딕셔너리 생성자로 집합을 생성하는 경우\n",
        "ex2 = dict(name='Groot', lover='penguin', feature='really cute')\n",
        "\n",
        "# key값은 변하지 않는 값, value값은 변하지 않는 값과 변하는 값 둘 다 가능\n",
        "ex3 = {[10, 3]:'birthday'}\t# type error!"
      ],
      "metadata": {
        "colab": {
          "base_uri": "https://localhost:8080/",
          "height": 209
        },
        "id": "19DIfjtM0Ws7",
        "outputId": "aa810560-1741-480e-dcec-61d0aaba5144"
      },
      "execution_count": 2,
      "outputs": [
        {
          "output_type": "error",
          "ename": "TypeError",
          "evalue": "ignored",
          "traceback": [
            "\u001b[0;31m---------------------------------------------------------------------------\u001b[0m",
            "\u001b[0;31mTypeError\u001b[0m                                 Traceback (most recent call last)",
            "\u001b[0;32m<ipython-input-2-5dbf0fb74293>\u001b[0m in \u001b[0;36m<module>\u001b[0;34m\u001b[0m\n\u001b[1;32m      5\u001b[0m \u001b[0;34m\u001b[0m\u001b[0m\n\u001b[1;32m      6\u001b[0m \u001b[0;31m# key값은 변하지 않는 값, value값은 변하지 않는 값과 변하는 값 둘 다 가능\u001b[0m\u001b[0;34m\u001b[0m\u001b[0;34m\u001b[0m\u001b[0;34m\u001b[0m\u001b[0m\n\u001b[0;32m----> 7\u001b[0;31m \u001b[0mex3\u001b[0m \u001b[0;34m=\u001b[0m \u001b[0;34m{\u001b[0m\u001b[0;34m[\u001b[0m\u001b[0;36m10\u001b[0m\u001b[0;34m,\u001b[0m \u001b[0;36m3\u001b[0m\u001b[0;34m]\u001b[0m\u001b[0;34m:\u001b[0m\u001b[0;34m'birthday'\u001b[0m\u001b[0;34m}\u001b[0m      \u001b[0;31m# type error!\u001b[0m\u001b[0;34m\u001b[0m\u001b[0;34m\u001b[0m\u001b[0m\n\u001b[0m",
            "\u001b[0;31mTypeError\u001b[0m: unhashable type: 'list'"
          ]
        }
      ]
    },
    {
      "cell_type": "markdown",
      "source": [
        "**특징2** : 딕셔너리는 딕셔너리 쌍(key : value)을 추가하거나 제거할 수 있다.\n",
        "* 추가 : dict_ex[ 새로운 key값 ] = 그에 대응하는 value값으로 추가할 수 있다.\n",
        "* 제거 : del 키워드를 이용해 특정 쌍을 제거할 수 있다.\n",
        "* 딕셔너리 앞에 del 키워드를 쓰면 딕셔너리가 완전히 제거된다."
      ],
      "metadata": {
        "id": "gK3LfFtx0X4l"
      }
    },
    {
      "cell_type": "code",
      "source": [
        "ex = {'Kevin':180, 'Anna':165, 'Penelope':175}\n",
        "\n",
        "# 새로운 딕셔너리 쌍 추가\n",
        "ex['Groot'] = 100\n",
        "print(ex)\t\t# {'Kevin': 180, 'Anna': 165, 'Penelope': 175, 'Groot': 100}\n",
        "\n",
        "# del 키워드로 딕셔너리 쌍 제거\n",
        "del ex['Penelope']\n",
        "print(ex)\t\t# {'Kevin': 180, 'Anna': 165, 'Groot': 100}\n",
        "\n",
        "# del 키워드로 딕셔너리 완전 제거\n",
        "del ex\n",
        "print(ex)       \t# name error!"
      ],
      "metadata": {
        "colab": {
          "base_uri": "https://localhost:8080/",
          "height": 245
        },
        "id": "30rg181O0hza",
        "outputId": "6be84370-9793-4b44-812d-4304d9215c44"
      },
      "execution_count": 4,
      "outputs": [
        {
          "output_type": "stream",
          "name": "stdout",
          "text": [
            "{'Kevin': 180, 'Anna': 165, 'Penelope': 175, 'Groot': 100}\n",
            "{'Kevin': 180, 'Anna': 165, 'Groot': 100}\n"
          ]
        },
        {
          "output_type": "error",
          "ename": "NameError",
          "evalue": "ignored",
          "traceback": [
            "\u001b[0;31m---------------------------------------------------------------------------\u001b[0m",
            "\u001b[0;31mNameError\u001b[0m                                 Traceback (most recent call last)",
            "\u001b[0;32m<ipython-input-4-95871b15c297>\u001b[0m in \u001b[0;36m<module>\u001b[0;34m\u001b[0m\n\u001b[1;32m     11\u001b[0m \u001b[0;31m# del 키워드로 딕셔너리 완전 제거\u001b[0m\u001b[0;34m\u001b[0m\u001b[0;34m\u001b[0m\u001b[0;34m\u001b[0m\u001b[0m\n\u001b[1;32m     12\u001b[0m \u001b[0;32mdel\u001b[0m \u001b[0mex\u001b[0m\u001b[0;34m\u001b[0m\u001b[0;34m\u001b[0m\u001b[0m\n\u001b[0;32m---> 13\u001b[0;31m \u001b[0mprint\u001b[0m\u001b[0;34m(\u001b[0m\u001b[0mex\u001b[0m\u001b[0;34m)\u001b[0m               \u001b[0;31m# name error!\u001b[0m\u001b[0;34m\u001b[0m\u001b[0;34m\u001b[0m\u001b[0m\n\u001b[0m",
            "\u001b[0;31mNameError\u001b[0m: name 'ex' is not defined"
          ]
        }
      ]
    },
    {
      "cell_type": "markdown",
      "source": [
        "**특징3** : 딕셔너리의 key값은 중복될 수 없다.\n",
        "* key값은 고유값이므로 2개 이상의 key값이 존재할 수 없다. key값에 해당하는 value값을 어떤 걸 불러야할지 모르기 때문.\n",
        "* key값이 중복될 경우 하나를 제외한 나머지 것들이 모두 무시된다.\n",
        "key값에 대입한 최근의 value값을 불러온다."
      ],
      "metadata": {
        "id": "_Yqse9Qb0c5U"
      }
    },
    {
      "cell_type": "code",
      "source": [
        "ex = {'name': 'Groot', 'lover': 'Penguin', 'feature': 'cute', 'feature': 'handsome'}\n",
        "\n",
        "print(ex)  # {'name': 'Groot', 'lover': 'Penguin', 'feature': 'handsome'}"
      ],
      "metadata": {
        "colab": {
          "base_uri": "https://localhost:8080/"
        },
        "id": "hZerqNrr0dpq",
        "outputId": "c092edfe-a97c-4838-ae05-c4a35a39dbaf"
      },
      "execution_count": 3,
      "outputs": [
        {
          "output_type": "stream",
          "name": "stdout",
          "text": [
            "{'name': 'Groot', 'lover': 'Penguin', 'feature': 'handsome'}\n"
          ]
        }
      ]
    },
    {
      "cell_type": "markdown",
      "source": [
        "# **ternary operators**"
      ],
      "metadata": {
        "id": "ooYcae-QyPJQ"
      }
    },
    {
      "cell_type": "markdown",
      "source": [
        "ternary operators(삼항 연산자)는 조건문을 표시하는 데 사용되는 연산자이며 [true_value] if [condition] else [false_value]의 형태로 표현"
      ],
      "metadata": {
        "id": "37EFIfRgyPGg"
      }
    },
    {
      "cell_type": "code",
      "source": [
        "a = 123\n",
        "print(\"a is 123\" if a==123 else \"a is not 123\") # a is 123\n",
        "\n",
        "a = 456\n",
        "print(\"a is 123\" if a==123 else \"a is not 123\") # a is not 123"
      ],
      "metadata": {
        "colab": {
          "base_uri": "https://localhost:8080/"
        },
        "id": "-AOZrXgFy2Pk",
        "outputId": "196600bf-9848-40f1-c006-abe596613293"
      },
      "execution_count": 1,
      "outputs": [
        {
          "output_type": "stream",
          "name": "stdout",
          "text": [
            "a is 123\n",
            "a is not 123\n"
          ]
        }
      ]
    }
  ]
}