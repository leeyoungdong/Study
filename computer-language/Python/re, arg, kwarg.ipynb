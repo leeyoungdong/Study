{
  "cells": [
    {
      "attachments": {},
      "cell_type": "markdown",
      "metadata": {
        "id": "dEwH7eKGocHp"
      },
      "source": [
        "# **_*args, **kwargs_**"
      ]
    },
    {
      "cell_type": "markdown",
      "metadata": {
        "id": "1tsrptMlonDB"
      },
      "source": [
        "*args는 함수에 전달되는 argument의 수를 알 수 없거나, list나 tuple의 argument들을 함수에 전달하고자 할 때 사용한다.\n",
        "\n",
        "파이썬에서는 어디서부터 어디까지 *args에 담아야 할지 알 수 없기 때문에, 일반 변수를 앞에 두고 그 뒤에 *args를 지정해 주어야 한다."
      ]
    },
    {
      "cell_type": "code",
      "execution_count": 1,
      "metadata": {
        "colab": {
          "base_uri": "https://localhost:8080/"
        },
        "id": "SFFnm-cymDFP",
        "outputId": "6aaafe84-55b5-4fed-8291-b762cf84a074"
      },
      "outputs": [
        {
          "name": "stdout",
          "output_type": "stream",
          "text": [
            "('샐리', '펭귄', '히스', '원딜')\n"
          ]
        }
      ],
      "source": [
        "def name(*args):\n",
        "    print(args)\n",
        "\n",
        "name(\"샐리\", \"펭귄\", \"히스\", \"원딜\")\n",
        "# output: ('샐리', '펭귄', '히스', '원딜')"
      ]
    },
    {
      "cell_type": "markdown",
      "metadata": {
        "id": "N7FuVtPpoq2h"
      },
      "source": [
        "**kwargs는 함수에 전달되는 keyword argument의 수를 모르거나, dictionary의 keyword argument들을 함수에 전달하고자 할 때 사용한다.\n",
        "\n",
        "*args와 **kwargs를 함께 사용하는 경우 *args를 **kwargs보다 앞에 두어야 한다."
      ]
    },
    {
      "cell_type": "code",
      "execution_count": 2,
      "metadata": {
        "colab": {
          "base_uri": "https://localhost:8080/"
        },
        "id": "6omvwuBCoru7",
        "outputId": "7a2cab40-ed11-43ba-b589-8a70478366f0"
      },
      "outputs": [
        {
          "name": "stdout",
          "output_type": "stream",
          "text": [
            "{'sally': '샐리', 'penguin': '펭귄', 'heath': '히스', 'adc': '원딜'}\n"
          ]
        }
      ],
      "source": [
        "def name(**kwargs):\n",
        "    print(kwargs)\n",
        "\n",
        "name(sally=\"샐리\", penguin=\"펭귄\", heath=\"히스\", adc=\"원딜\")\n",
        "# output: {'sally': '샐리', 'penguin': '펭귄', 'heath': '히스', 'adc': '원딜'}"
      ]
    },
    {
      "cell_type": "markdown",
      "metadata": {
        "id": "_vC3jyCmouik"
      },
      "source": [
        "일반 변수, *args, **kwargs를 모두 사용하는 경우 다음과 같은 순서를 따른다."
      ]
    },
    {
      "cell_type": "code",
      "execution_count": null,
      "metadata": {
        "id": "PGBbc5rTouXa"
      },
      "outputs": [],
      "source": [
        "def function_name(일반변수, *args, **kwargs)"
      ]
    },
    {
      "cell_type": "markdown",
      "metadata": {
        "id": "-D8eMF_jqN0d"
      },
      "source": [
        "# **methods of “re” module**"
      ]
    },
    {
      "cell_type": "markdown",
      "metadata": {
        "id": "pWHyj4zJqqv1"
      },
      "source": [
        "파이썬에서 정규표현식을 사용하기 위해 “re” 모듈을 사용한다. 문자열 수정을 위해 Python의 “re” 모듈은 3 가지 메서드를 제공"
      ]
    },
    {
      "cell_type": "markdown",
      "metadata": {
        "id": "3JVsYWWOqrY1"
      },
      "source": [
        "* re.split(pattern, string, maxplit=0): pattern을 구분자로 string을 분리하여 list로 반환"
      ]
    },
    {
      "cell_type": "code",
      "execution_count": 5,
      "metadata": {
        "colab": {
          "base_uri": "https://localhost:8080/"
        },
        "id": "kRcE5WRTquk3",
        "outputId": "516184f9-fe05-4801-c986-f185a9315793"
      },
      "outputs": [
        {
          "data": {
            "text/plain": [
              "['', ' Wow ', ' header ', ' ', ' Hey ', ' ', '']"
            ]
          },
          "execution_count": 5,
          "metadata": {},
          "output_type": "execute_result"
        }
      ],
      "source": [
        "import re\n",
        "re.split('<[^<>]*>', '<html> Wow <head> header </head> <body> Hey </body> </html>')\n",
        "# output: ['', ' Wow ', ' header ', ' ', ' Hey ', ' ', '']"
      ]
    },
    {
      "cell_type": "markdown",
      "metadata": {
        "id": "p9yudGJoqzey"
      },
      "source": [
        "* re.sub(pattern, repl, string, count=0): string에서 pattern과 일치하는 부분에 대하여 repl로 교체하여 결과 문자열을 반환"
      ]
    },
    {
      "cell_type": "code",
      "execution_count": 6,
      "metadata": {
        "colab": {
          "base_uri": "https://localhost:8080/",
          "height": 35
        },
        "id": "xM4zFY4aq0qe",
        "outputId": "af483de5-2f5a-476c-d3a6-b7d57c688f2e"
      },
      "outputs": [
        {
          "data": {
            "application/vnd.google.colaboratory.intrinsic+json": {
              "type": "string"
            },
            "text/plain": [
              "'010-XXXX-XXXX'"
            ]
          },
          "execution_count": 6,
          "metadata": {},
          "output_type": "execute_result"
        }
      ],
      "source": [
        "re.sub('\\d{4}', 'XXXX', '010-1234-5678')\n",
        "# output: '010-XXXX-XXXX'"
      ]
    },
    {
      "cell_type": "markdown",
      "metadata": {
        "id": "3NlRD-_Zq07U"
      },
      "source": [
        "* re.subn(pattern, repl, string, count=0): sub와 동일하나, 결과로 (결과문자열, 매칭횟수)를 튜플로 반환"
      ]
    },
    {
      "cell_type": "code",
      "execution_count": 7,
      "metadata": {
        "colab": {
          "base_uri": "https://localhost:8080/"
        },
        "id": "aikyulOeq1Rr",
        "outputId": "a2b4df4b-40c4-4c37-c195-a01b52f47d07"
      },
      "outputs": [
        {
          "data": {
            "text/plain": [
              "('010-XXXX-XXXX', 2)"
            ]
          },
          "execution_count": 7,
          "metadata": {},
          "output_type": "execute_result"
        }
      ],
      "source": [
        "re.subn('\\d{4}', 'XXXX', '010-1234-5678')\n",
        "# output: ('010-XXXX-XXXX', 2)"
      ]
    }
  ],
  "metadata": {
    "colab": {
      "provenance": []
    },
    "kernelspec": {
      "display_name": "Python 3",
      "name": "python3"
    },
    "language_info": {
      "name": "python"
    }
  },
  "nbformat": 4,
  "nbformat_minor": 0
}
