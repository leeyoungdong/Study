{
  "nbformat": 4,
  "nbformat_minor": 0,
  "metadata": {
    "colab": {
      "provenance": []
    },
    "kernelspec": {
      "name": "python3",
      "display_name": "Python 3"
    },
    "language_info": {
      "name": "python"
    }
  },
  "cells": [
    {
      "cell_type": "markdown",
      "source": [
        "# **add values to list**"
      ],
      "metadata": {
        "id": "OpfhTJUlp9j_"
      }
    },
    {
      "cell_type": "markdown",
      "source": [
        "append(), extend(), insert() 함수를 사용하여 list에 value를 추가."
      ],
      "metadata": {
        "id": "ugAhR6Inp9ga"
      }
    },
    {
      "cell_type": "markdown",
      "source": [
        "**append()**\n",
        "\n",
        "* list.append(x) 형태로 사용하며, O(1)의 시간복잡도를 갖음.\n",
        "* 괄호 안에 값을 입력하면 새로운 요소를 list 맨 끝에 추가. 요소를 추가할 때는 객체로 추가하게 되는데, 입력한 값이 리스트와 같은 반복 가능한 iterable 자료형이더라도 객체로 저장."
      ],
      "metadata": {
        "id": "IPuP8DMvp9ei"
      }
    },
    {
      "cell_type": "code",
      "source": [
        "nums = [1, 2, 3]\n",
        "nums.append(4)\n",
        "print(nums) # [1, 2, 3, 4]\n",
        "\n",
        "nums.append([5, 6])\n",
        "print(nums) # [1, 2, 3, 4, [5, 6]]"
      ],
      "metadata": {
        "colab": {
          "base_uri": "https://localhost:8080/"
        },
        "id": "Yr__eiXyq88N",
        "outputId": "f42effd6-1efc-43a2-8b45-4943813bf7eb"
      },
      "execution_count": 1,
      "outputs": [
        {
          "output_type": "stream",
          "name": "stdout",
          "text": [
            "[1, 2, 3, 4]\n",
            "[1, 2, 3, 4, [5, 6]]\n"
          ]
        }
      ]
    },
    {
      "cell_type": "markdown",
      "source": [
        "**extend()**\n",
        "\n",
        "* list.extend(iterable) 형태로 사용하며, $O(N)$ 시간복잡도를 갖음.\n",
        "* 입력한 iterable 자료형의 항목 각각을 list의 끝에 하나씩 추가. iterable 자료형으로 추가되는 것이 아니라 iterable 자료형 안에 있는 항목이 하나씩 떼어져서 추가된다. append와 동일하게 요소를 list의 끝에 추가하지만 append와 다른 점은 괄호 안에는 iterable 자료형만 올 수 있음.\n",
        "* iterable 자료형이 아닌 경우 TypeError가 발생한다."
      ],
      "metadata": {
        "id": "Gu_TkVnRp9cb"
      }
    },
    {
      "cell_type": "code",
      "source": [
        "nums = [1, 2, 3]\n",
        "nums.extend([4])\n",
        "print(nums) # [1, 2, 3, 4]\n",
        "\n",
        "nums.extend([5, 6])\n",
        "print(nums) # [1, 2, 3, 4, 5, 6]"
      ],
      "metadata": {
        "colab": {
          "base_uri": "https://localhost:8080/"
        },
        "id": "dRdRoF4Tr9Ke",
        "outputId": "f1e329af-43a6-4aae-ff66-0eb15c0caca3"
      },
      "execution_count": 2,
      "outputs": [
        {
          "output_type": "stream",
          "name": "stdout",
          "text": [
            "[1, 2, 3, 4]\n",
            "[1, 2, 3, 4, 5, 6]\n"
          ]
        }
      ]
    },
    {
      "cell_type": "markdown",
      "source": [
        "**insert()**\n",
        "\n",
        "* list.insert(i, x) 형태로 사용하며, O(N) 시간복잡도를 갖음.\n",
        "* list의 원하는 위치 i 앞에 추가할 값 x를 삽입할 수 있다. i는 위치를 나타내는 인덱스를 숫자를 입력한다. 음수를 입력하면 배열의 끝을 기준으로 처리된다. 추가할 값 x는 객체로 추가되며 iterable 자료형이더라도 객체로 저장된다."
      ],
      "metadata": {
        "id": "RowUOXUhp9aD"
      }
    },
    {
      "cell_type": "code",
      "source": [
        "nums = [1, 2, 3]\n",
        "nums.insert(0, 10)\n",
        "print(nums) # [10, 1, 2, 3]\n",
        "\n",
        "nums.insert(-1, 99)\n",
        "print(nums) # [10, 1, 2, 99, 3]\n",
        "\n",
        "nums.insert(len(nums), [20, 30])\n",
        "print(nums) # [10, 1, 2, 99, 3, [20, 30]]"
      ],
      "metadata": {
        "colab": {
          "base_uri": "https://localhost:8080/"
        },
        "id": "7EFsHkRPsYdN",
        "outputId": "debf7490-8d83-4e48-8866-9abceadb6032"
      },
      "execution_count": 3,
      "outputs": [
        {
          "output_type": "stream",
          "name": "stdout",
          "text": [
            "[10, 1, 2, 3]\n",
            "[10, 1, 2, 99, 3]\n",
            "[10, 1, 2, 99, 3, [20, 30]]\n"
          ]
        }
      ]
    },
    {
      "cell_type": "markdown",
      "source": [
        "**+ 연산자**\n",
        "\n",
        "list_1 + list_2 형태로 사용하며, $O(1)$ 시간복잡도를 갖는다."
      ],
      "metadata": {
        "id": "_LDEOiIssZ09"
      }
    },
    {
      "cell_type": "code",
      "source": [
        "nums = [1, 2, 4, 6, 1, 5]\n",
        "print(nums + [10, 9, 8, 7]) # [1, 2, 4, 6, 1, 5, 10, 9, 8, 7]"
      ],
      "metadata": {
        "colab": {
          "base_uri": "https://localhost:8080/"
        },
        "id": "OOp3Nblysbdc",
        "outputId": "e6cb9c80-e943-42ae-9d69-70c9637aa1d9"
      },
      "execution_count": 4,
      "outputs": [
        {
          "output_type": "stream",
          "name": "stdout",
          "text": [
            "[1, 2, 4, 6, 1, 5, 10, 9, 8, 7]\n"
          ]
        }
      ]
    },
    {
      "cell_type": "markdown",
      "source": [
        "# **remove values to list**"
      ],
      "metadata": {
        "id": "LsdSpL5HseEs"
      }
    },
    {
      "cell_type": "markdown",
      "source": [
        "remove(), pop() 함수를 사용하여 list에 value를 삭제할 수 있다."
      ],
      "metadata": {
        "id": "j8ouB4TwsgV1"
      }
    },
    {
      "cell_type": "markdown",
      "source": [
        "**remove()**\n",
        "\n",
        "remove()는 지우고자 하는 인덱스가 아닌, 값을 입력하는 방식이다. 만약 지우고자 하는 값이 리스트 내에 2개 이상이 있다면 순서상 가장 앞에 있는 값을 지우게 된다. 값을 삭제할 때 삭제된 값을 반환하지 않는다. remove()는 시간복잡도 $O(N)$를 갖는다."
      ],
      "metadata": {
        "id": "kSBDa6LYsgrd"
      }
    },
    {
      "cell_type": "code",
      "source": [
        "example = [1, 2, 3, 4, 5, 1]\n",
        "example.remove(1)\n",
        "print(example)  # [2, 3, 4, 5, 1]"
      ],
      "metadata": {
        "colab": {
          "base_uri": "https://localhost:8080/"
        },
        "id": "CbxuwG0askhu",
        "outputId": "ffb1d5ae-2679-4494-fc74-fb6bb771f42a"
      },
      "execution_count": 5,
      "outputs": [
        {
          "output_type": "stream",
          "name": "stdout",
          "text": [
            "[2, 3, 4, 5, 1]\n"
          ]
        }
      ]
    },
    {
      "cell_type": "markdown",
      "source": [
        "**pop()**\n",
        "\n",
        "pop()은 리스트에서 지우고자 하는 값의 인덱스를 받아서 지우는 방식이다. 값을 삭제할 때 삭제된 값을 반환한다. 인덱스를 지정하지 않으면 리스트의 마지막 요소가 삭제되며 반환된다. pop()은 시간복잡도 $O(N)$를 갖는다."
      ],
      "metadata": {
        "id": "04dIFhfTskxF"
      }
    },
    {
      "cell_type": "code",
      "source": [
        "example = [1, 2, 3, 4, 5, 6, 7, 8, 9, 10]\n",
        "print(example.pop())  # 10\n",
        "print(example)  # [1, 2, 3, 4, 5, 6, 7, 8, 9]\n",
        "\n",
        "example = [1, 2, 3, 4, 5, 6, 7, 8, 9, 10]\n",
        "print(example.pop(3)) # 4\n",
        "print(example)  # [1, 2, 3, 5, 6, 7, 8, 9, 10]"
      ],
      "metadata": {
        "colab": {
          "base_uri": "https://localhost:8080/"
        },
        "id": "HkZDB4zKsn9d",
        "outputId": "c1eb49f8-3e5f-4c00-a86d-c4953eeaf234"
      },
      "execution_count": 6,
      "outputs": [
        {
          "output_type": "stream",
          "name": "stdout",
          "text": [
            "10\n",
            "[1, 2, 3, 4, 5, 6, 7, 8, 9]\n",
            "4\n",
            "[1, 2, 3, 5, 6, 7, 8, 9, 10]\n"
          ]
        }
      ]
    },
    {
      "cell_type": "markdown",
      "source": [
        "**del**\n",
        "\n",
        "del list[i] 형태로 사용하며, 시간복잡도 $O(N)$을 갖는다. 값을 삭제할 때 삭제된 값을 반환하지 않는다."
      ],
      "metadata": {
        "id": "kFFVyUK2so2F"
      }
    },
    {
      "cell_type": "code",
      "source": [
        "example = [1, 2, 3, 4, 5, 6, 7, 8, 9, 10]\n",
        "del example[7]\n",
        "print(example)  # [1, 2, 3, 4, 5, 6, 7, 9, 10]\n",
        "\n",
        "example = [1, 2, 3, 4, 5, 6, 7, 8, 9, 10]\n",
        "del example[7:]\n",
        "print(example)  # [1, 2, 3, 4, 5, 6, 7]"
      ],
      "metadata": {
        "colab": {
          "base_uri": "https://localhost:8080/"
        },
        "id": "QUOvp-xyspOV",
        "outputId": "1d29e95c-c953-44f1-e83a-623623326adf"
      },
      "execution_count": 7,
      "outputs": [
        {
          "output_type": "stream",
          "name": "stdout",
          "text": [
            "[1, 2, 3, 4, 5, 6, 7, 9, 10]\n",
            "[1, 2, 3, 4, 5, 6, 7]\n"
          ]
        }
      ]
    }
  ]
}