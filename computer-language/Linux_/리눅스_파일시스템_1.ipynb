{
  "nbformat": 4,
  "nbformat_minor": 0,
  "metadata": {
    "colab": {
      "provenance": []
    },
    "kernelspec": {
      "name": "python3",
      "display_name": "Python 3"
    },
    "language_info": {
      "name": "python"
    }
  },
  "cells": [
    {
      "cell_type": "markdown",
      "source": [
        "# **파일 시스템이란?**"
      ],
      "metadata": {
        "id": "Qjpqb-5i8LRa"
      }
    },
    {
      "cell_type": "markdown",
      "source": [
        "**운영체제가 파일을 시스템의 디스크상에 구성하는 방식**\n",
        "\n",
        "* 컴퓨터에서 파일이나 자료를 쉽게 발견 및 접근할 수 있도록 보관 또는 조직하는 체제: \n",
        "\n",
        "* 하드디스크나 CD-ROM과 같은 물리적 저장소 관리"
      ],
      "metadata": {
        "id": "vjZjetyU8LNr"
      }
    },
    {
      "cell_type": "markdown",
      "source": [
        "# **리눅스 전용 디스크 기반 파일 시스템 [EXT 시리즈]**"
      ],
      "metadata": {
        "id": "_YTST2kN8LLU"
      }
    },
    {
      "cell_type": "markdown",
      "source": [
        "**EXT**\t\n",
        "\n",
        "- 리눅스 초기에 사용되던 시스템\n",
        "- 호환성 없음\n",
        "- EXT2의 원형\n",
        "- 2GB의 데이터와 파일명 255자까지 지정 가능\n",
        "\n",
        "\n",
        "**EXT2**\n",
        "\n",
        "- 고용량 디스크 사용을 염두하고 설계된 파일 시스템\n",
        "- 호환과 업그레이드가 쉬움\n",
        "- 4TB 파일 크기까지 지원\n",
        "- 설정 방법) mke2fs - t ext2\n",
        "\n",
        "\n",
        "**EXT3**\n",
        "\n",
        "- 리눅스의 대표적인 저널링을 지원하도록 확장된 파일 시스템\n",
        "- ACL (Access Control List)를 통한 접근 제어 지원\n",
        "- 16TB의 파일 크기까지 지원\n",
        "- 설정 방법 1) mke2fs -j\n",
        "- 설정 방법 2) mke2fs -t ext3 \n",
        "\n",
        "\n",
        "**EXT4**\n",
        "\n",
        "- 파일에 디스크 할당 시 물리적으로 연속적인 블록을 할당\n",
        "- 64비트 기억 공간 제한을 없앰\n",
        "- 16TB 파일 크기까지 지원\n",
        "- 설정 방법 1) mke2fs -t ext4"
      ],
      "metadata": {
        "id": "T9tPy4Ax8LI9"
      }
    },
    {
      "cell_type": "markdown",
      "source": [
        "# **저널링 파일 시스템 (JFS, XFS, ReiserFS, EXT3)**"
      ],
      "metadata": {
        "id": "2iih0MVE-P7D"
      }
    },
    {
      "cell_type": "markdown",
      "source": [
        "**JFS**\t\n",
        "\n",
        "- Journaling File System의 약자\n",
        "- IBM사의 독자적인 저널링 파일 시스템\n",
        "- GPL로 공개하여 현재 리눅스용으로 개발\n",
        "\n",
        "\n",
        "**XFS**\n",
        "\n",
        "- eXetended File System의 약자\n",
        "- 고성능 저널링 시스템 (SGI 제작)\n",
        "- 64bit 주소 지원 및 확장성 있는 자료 구조와 알고리즘 사용\n",
        "- 데이터 읽기/쓰기 트랜잭션으로 성능 저하를 최소화\n",
        "- 64bit 파일 시스템으로 8EB까지의 대용량 파일도 다룰 수 있음\n",
        "\n",
        "\n",
        "**ReiserFS**\t\n",
        "\n",
        "- 독일의 한스 라이저가 개발한 파일 시스템\n",
        "- 모든 파일 객체들을 B트리에 저장, 간결한 색인화된 디렉터리 지원"
      ],
      "metadata": {
        "id": "YN3tNNfs-NKF"
      }
    }
  ]
}