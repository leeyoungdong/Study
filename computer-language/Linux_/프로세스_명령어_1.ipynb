{
  "nbformat": 4,
  "nbformat_minor": 0,
  "metadata": {
    "colab": {
      "provenance": []
    },
    "kernelspec": {
      "name": "python3",
      "display_name": "Python 3"
    },
    "language_info": {
      "name": "python"
    }
  },
  "cells": [
    {
      "cell_type": "markdown",
      "source": [
        "# **프로세스 관련 명령어**"
      ],
      "metadata": {
        "id": "ggzNzsgrwEuV"
      }
    },
    {
      "cell_type": "markdown",
      "source": [
        "**ps**\n",
        "\n",
        "* 현재 실행중인 프로세스의 상태를 프로세스 번호와 함께 출력해주는 명령어\n",
        "\n",
        "* CPU 사용도가 낮은 순서로 출력\n",
        "\n",
        "**옵션**\n",
        "\n",
        "* a: 터미널과 연관된 모든 프로세스 출력\n",
        "* u: 프로세스 소유자를 기준으로 출력\n",
        "* x: 터미널에 종속되지 않은 프로세스도 출력 (예: 데몬)\n",
        "\n",
        "**상태코드**\n",
        "\n",
        "* Z (zombie): 작업종료, 하지만 부모 프로세스부터 회수되지 않아 메모리를 차지하고 있을 경우\n",
        "* T (stopped): 작업 정지"
      ],
      "metadata": {
        "id": "eB83wFrLwEsU"
      }
    },
    {
      "cell_type": "markdown",
      "source": [
        "![image.png](data:image/png;base64,iVBORw0KGgoAAAANSUhEUgAAARYAAABeCAIAAABpU6ytAAAE+ElEQVR4nO3dW5adIBBA0dtZPQDnP0qHkA/TxBbBgqri5dk/ydIroIAiIP35AAAAAAAAFPk6/tn3/fjPtm39EoM+yH2N7/C/0S5fyNfPeGlbzHF5zxccxUa7fJf0pJLXK9m38Y52DUtl0h92zX6OHv70jT5VFi+PnW3byDyuwJg6VyFgdt+PvzieCZk3k/zLqOZV9Ti27kVIkyp9mitCvjxkZn/9uxSb5c/3oR0saSXfBvK4N4iPurS/i14/lKkqCv+8sTrk/I8/6WtlKHNSF8LQNOc7H2EledwlL0OZwJVVyLbOjBNvdSGLi37d/agoASbXeQrPDbnlnZsQ4zQnrFKyn/pmNA1UbwMmSYgqdKP9HTG8NpiXpGFvEE7n2x5V6Gr/3aXerDpdxjdHKFtxE26PxhuqDXi+dahCvxgWkTrnRlf3UnU8K0JZ90jPUOdbZ9xxoSP/9p++Ub/rO8KL7AhpaGml81VVoct40aWg5/dKgt227TikqP5oUhXvlcerSdWSXnK+2oZcfvgsv/dT8lpZlAeaVMV7rbI/E288gymTsFnKovJ8JzPgg7ViOA8athf5PVn2/yk02h1unJQs7z3FHQAAAAAAAACAV/vSHCwcYL4d3dcMTt+OY8RfxaT2xh+uMwZVIX+dzz+TbLz9rikfsiRtj3mdibdFqbhE+fjZY8WxRQmoiLc6agTmuaDMkUxQRfEKk2E5U1uzVBXLXL2N03Te/LzhoniFZXLcjx2cvHDGNFy9rgrhbbxvkZZVaJY7engQzZLgJfXKBfN4td8LnRtFFEdYmehrIoNP7kzS0Zj3x+RQmihreBcCVKhC6KZNWyDumLaNlyoEqIxShXgzgQnDcT/hsT2XYqQ3D5l5lcJf3ob5uEiqJF7KJAAAAAAAAAAAAABYUa3gI5f6sxGPo8ip0FxHjutS1Vc+zZozmjHkTIwT5ekvt38jqHoBCteFSpyWxXCVT7PmjGYMWRiplRbTTCUribGCT19+F59sNRA+VY835rc8Bvj4cMtsqT52NKW3cOHCbuOHnLL/FoeTyv067jO1U63Py2dPpY3UXseuyu8iNL68cYZetpjnfs/vhY5adCg9k+pGIA3IlzPPfd8qlK8bx96DYTku/eiKp9DaZlpHrghPA3gITZtmMTq+C/GagS6OUtdscM+3O+G2P6RBvQp9FVRjIb8L1SsLFuwxMu/Ulmyp6LZ2GtRzpR+mlGwfLWRhdIbd5be6vQt5/4WF1COIv+xwa5lO7fZ6ruAjWWmlfby9UqXhd0bThRz3S82SiQAAAAAAAAAAAACwMPcVfFJjzLdzk4QDyd6zcqabnfCZc50dv5DXkZnhp5ne5zr7853TTFcKuTHHaaZ8VDcRv6wh0+v53VrChwy33ycKt1QfOxqT6f3CjUOFfCtfNs67Uj8o1XOm9kfR3t1ZwcfUSh87ZPI3zm59Aei5gs+uWH6EFXyQ0jh/HatQ/HFb/IPUj23jZQUfpOhz37chd/lw6lyyKbhoLxRCw+Ln/i5EVcFQzNf38e3Urt6rFG429BYIva1T22MNUHveHZeSLRXd1hMN6gX6YUrJ9tFCFkZnVepSmnYnZPoPzB8XrOBTZLFO7fP/vRPQbY6cZG8mTEnvfubyeaSqL78zmivk/WcJztSxl8fORFkMtNC+7d1zaBUAAAAAAAB4n3/jQjOOhMAKua/xF0O4Vudo3d2PAAAAAElFTkSuQmCC)"
      ],
      "metadata": {
        "id": "N_fxLNTfwEoN"
      }
    },
    {
      "cell_type": "markdown",
      "source": [
        "**pstree**\n",
        "\n",
        "* 실행 중인 프로세스들을 트리 구조로 출력\n",
        "\n",
        " \n",
        "\n",
        "**jobs**\n",
        "\n",
        "* 작업이 중지된 상태, 박그라운드로 진행 중인 상태, 변경되었지만 보고되지 않은 상태 등 표시\n",
        "\n",
        "* 백그라운드로 실행중인 프로세스를 확인\n",
        "\n",
        "* [숫자]는 작업번호\n",
        "\n",
        "* +는 실행중인 작업, -는 실행 예정 작업\n",
        "\n",
        " \n",
        "\n",
        "**bg/fg**\n",
        "\n",
        "* 포어그라운드에서 백그라운드로 전환 (bg %작업번호 또는 bg 작업번호)\n",
        "\n",
        "* 백그라운드에서 포어그라운드로 전환 (fg %작업번호 또는 fg 작업번호)\n",
        "\n",
        "* 작업 전환 전 실행중인 것은 잠시 정지 필요 (프로세스 시그널 전송 필요)\n",
        "\n",
        " \n",
        "\n",
        "**kill**\n",
        "\n",
        "* 프로세스를 번호(PID)를 사용하여 종료\n",
        "\n",
        "* 시그널 목록을 확인하는 명령어 kill -l\n",
        "\n",
        "* 특히 HUP, INT, QUIT, KILL, TERM, STOP, TSTP와 단축키에 관련해서는 매우 자주 출제됨"
      ],
      "metadata": {
        "id": "E34DUX0RwEl9"
      }
    },
    {
      "cell_type": "markdown",
      "source": [
        "**시그널명 - \t설명**\n",
        "*\t1-HUP\tHangUP. 로그아웃 등 접속 종료 시\n",
        "*\t2-INT\tInterrupt. 일시정지. 단축키 Ctrl+C\n",
        "*\t3-QUIT\t실행중지. 단축키 Ctrl+\\\n",
        "*\t4-ILL\tIllegal Instruction\n",
        "*\t5-TRAP\tTrace Breakpoint에서 중지점 발생 시\n",
        "*\t9-KILL\t프로세스 강제 종료\n",
        "*\t15-TERM\t가능한 프로세스 정상 종료 - Default\n",
        "*\t18-CONT\tSTOP으로 정지된 프로세스 실행\n",
        "*\t19-STOP\t정지 시그널\n",
        "*\t20-TSTP\t실행 정지 후 재실행을 위해 대기. 단축키 Ctrl+Z"
      ],
      "metadata": {
        "id": "6ONY-3rMwEjl"
      }
    },
    {
      "cell_type": "markdown",
      "source": [
        "**killall**\n",
        "\n",
        "* 같은 데몬의 여러 연관된 프로세스들을 프로세스 이름으로 종료\n",
        "\n",
        " "
      ],
      "metadata": {
        "id": "yq3gF2ojwEhN"
      }
    }
  ]
}