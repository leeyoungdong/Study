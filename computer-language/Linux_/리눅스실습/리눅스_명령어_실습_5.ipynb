{
  "nbformat": 4,
  "nbformat_minor": 0,
  "metadata": {
    "colab": {
      "provenance": []
    },
    "kernelspec": {
      "name": "python3",
      "display_name": "Python 3"
    },
    "language_info": {
      "name": "python"
    }
  },
  "cells": [
    {
      "cell_type": "markdown",
      "source": [
        "# **Command실습**"
      ],
      "metadata": {
        "id": "O33IYerQmPeq"
      }
    },
    {
      "cell_type": "markdown",
      "source": [
        "# ls\n",
        "\n",
        "디렉토리의 내용을 출력하는 명령어\n",
        "\n",
        "## 사용법\n",
        "\n",
        "``` shell\n",
        "ls [옵션] [파일...]\n",
        "```\n",
        "\n",
        "| 옵션 | 설명 |\n",
        "|:-----:|------|\n",
        "| -a   | 현재 디렉토리의 모든 내용 표시 (점 `.` 으로 시작하는 숨김 파일까지 표시) |\n",
        "| -l   | 상세 정보와 함께 표시 |\n",
        "| -o   | 상세 정보와 함께 표시 (그룹만 생략) |\n",
        "| -h   | `-l` 옵션 사용시 나타나는 바이트를 읽기 쉬운 단위로 표시 (B, K, M, G, T, P) | \n",
        "| -T   | `-l` 옵션 사용시 전체 시간으로 표시 |\n",
        "| -u   | 정렬 또는 상세 정보 표시할 때, `마지막 수정일` 대신에 `마지막 접근일` 사용 |\n",
        "| -U   | 정렬 또는 상세 정보 표시할 때, `마지막 수정일` 대신에 `생성일` 사용 |\n",
        "| -G   | 색깔을 사용해 내용 표시 |\n",
        "| -R   | 서브 디렉토리의 내용까지 표시 |\n",
        "| -S   | 파일 크기순으로 정렬 |\n",
        "| -t   | 마지막 수정일순으로 정렬 |\n",
        "| -r   | 정렬 결과를 역순으로 표시 |\n",
        "\n",
        "\n",
        "### 상세 내용 (Long Format)\n",
        "\n",
        "`-l` 옵션 사용시 추가로 조회되는 내용은 `파일 모드`, `하드링크 수`, `소유자`, `그룹`, `파일의 크기`, `마지막 수정일`, `파일명` 순으로 표시된다.\n",
        "\n",
        "``` shell\n",
        "$ ls -al\n",
        "\n",
        "drwxr-xr-x   3 hongsii staff    96  5 12 22:32 .\n",
        "drwxr-xr-x+ 51 hongsii staff  1632  5 12 22:32 ..\n",
        "-rw-r--r--   1 hongsii staff    32  5 12 22:32 mytext.md\n",
        "```\n"
      ],
      "metadata": {
        "id": "ayKu_MV6mPLd"
      }
    },
    {
      "cell_type": "markdown",
      "source": [
        "# pwd\n",
        "\n",
        "현재 디렉토리 경로를 출력하는 명령어\n",
        "\n",
        "## 사용법\n",
        "\n",
        "``` shell\n",
        "pwd [옵션]\n",
        "```\n",
        "\n",
        "| 옵션 \t| 설명 \t|\n",
        "|:----:\t|:------|\n",
        "| -L \t| 현재 디렉토리가 위치한 논리적 경로 표시 |\n",
        "| -P    | 심볼릭 링크 디렉토리는 참조 중인 디렉토리의 경로가 표시 |\n",
        "\n",
        "* 옵션을 지정하지 않는 경우 OS마다 정해진 옵션을 기본으로 사용\n",
        "    * ubuntu에서는 `-P` 옵션이 적용\n",
        "    * Mac에서는 `-L` 옵션이 적용됨\n",
        "\n",
        "``` shell\n",
        "# 아래와 같이 home 디렉토리 안에 'test' 디렉토리와 이 디렉토리의 심볼릭 링크인 'test-link'가 존재\n",
        "❯ ls -l\n",
        "drwxr-xr-x    3 hong  staff      96  2 18 20:21 test\n",
        "lrwxr-xr-x    1 hong  staff       4  2 18 20:21 test-link -> test\n",
        "```\n",
        "\n",
        "`-L` 옵션을 사용하면 현재 심볼릭 링크 디렉토리가 위치한 경로가 표시됨\n",
        "\n",
        "``` shell\n",
        "❯ cd test-link\n",
        "❯ pwd -L\n",
        "/home/test-link\n",
        "```\n",
        "\n",
        "`-P` 옵션을 사용하면 심볼릭 링크가 참조 중인 실제 디렉토리의 경로가 표시됨\n",
        "\n",
        "``` shell\n",
        "❯ cd test-link\n",
        "❯ pwd -P\n",
        "/home/test\n",
        "```\n"
      ],
      "metadata": {
        "id": "7HTPBfYQmPH7"
      }
    },
    {
      "cell_type": "markdown",
      "source": [
        "# touch\n",
        "\n",
        "크기가 0인 파일을 생성하거나 파일의 날짜를 변경할 수 있는 명령어\n",
        "\n",
        "## 사용법\n",
        "\n",
        "``` shell\n",
        "❯ touch [옵션] 파일...\n",
        "```\n",
        "\n",
        "| 옵션   | 설명 |\n",
        "|:------|------|\n",
        "| -A [-][[hh]mm]SS          | 파일의 시간을 특정한 값으로 더하거나 빼서 조절할 수 있음<br/> `-` : 시간을 뺄 때 사용  <br/> `hh` : 시 (00~99) <br/> `mm` : 분 (00~59) <br/> `SS` : 초 (00-59)  |\n",
        "| -c                        | 파일이 존재하면 파일의 시간을 현재시간으로 변경 (존재하지 않으면 아무런 동작X) |\n",
        "| -a                        | 파일의 Access time (atime)을 현재시간으로 변경 |\n",
        "| -m                        | 파일의 Modification time (mtime)을 현재시간으로 변경 |\n",
        "| -r src-file dst-file      | dst-file의 시간을 src-file의 시간과 동일하게 변경 |\n",
        "| -t [[CC]YY]MMDDhhmm[.SS]] | 날짜 포맷으로 Access/Modification time을 변경 <br/> `CC` : 연도의 앞의 2개 숫자 <br/> `YY` : 연도의 뒤의 2개 숫자 (CC를 생략하면 YY가 69~99 사이일 때, 19로 설정 그 외는 20으로 설정) <br/> `MM` : 월 (01~12) <br/> `DD` : 일 (01~31) </br> `hh` : 시 (00~23) </br> `mm` : 분 (00~59) </br> `SS` : 초 (00~61) |\n",
        "\n",
        "### 파일 생성\n",
        "\n",
        "``` shell\n",
        "# test.txt 파일 생성\n",
        "❯ touch test.txt\n",
        "❯ ls -l\n",
        "-rw-r--r--   1 hong  staff     0  1 31 23:20 test.txt\n",
        "```\n",
        "\n",
        "### 파일 날짜 변경\n",
        "\n",
        "``` shell\n",
        "# test.txt 파일이 존재하면 현재시간으로 시간 변경\n",
        "❯ touch -c test.txt\n",
        "❯ ls -l\n",
        "-rw-r--r--   1 hong  staff     0  1 31 23:23 test.txt\n",
        "```\n",
        "\n",
        "### 파일의 Modification 타임만 변경\n",
        "\n",
        "``` shell\n",
        "❯ touch -m test.txt\n",
        "# ls -l에 표시되는 시간은 Modification time\n",
        "❯ ls -l\n",
        "-rw-r--r--  1 hong  staff  0  1 31 23:25 test.txt\n",
        "# ls -ul에 표시되는 시간은 Access time\n",
        "❯ ls -ul\n",
        "-rw-r--r--  1 hong  staff  0  1 31 23:23 test.txt\n",
        "```\n",
        "\n",
        "### 날짜 포맷으로 파일 날짜 변경\n",
        "\n",
        "``` shell\n",
        "❯ ls -l\n",
        "-rw-r--r--  1 hong  staff  0  1 31 23:25 test.txt\n",
        "# test.txt의 시간을 1월 5일 23시 00분으로 변경\n",
        "❯ touch -t 01052300 test.txt\n",
        "❯ ls -l\n",
        "-rw-r--r--   1 hong  staff     0  1  5 23:00 test.txt\n",
        "```\n"
      ],
      "metadata": {
        "id": "K0CsS1zumPFp"
      }
    }
  ]
}